{
  "cells": [
    {
      "cell_type": "markdown",
      "metadata": {
        "id": "guE34D3Fj2R9"
      },
      "source": [
        "# **Homework 1: COVID-19 Cases Prediction (Regression)**"
      ]
    },
    {
      "cell_type": "markdown",
      "metadata": {
        "id": "V57zhcTp1Xxb"
      },
      "source": [
        "Objectives:\n",
        "* Solve a regression problem with deep neural networks (DNN).\n",
        "* Understand basic DNN training tips.\n",
        "* Familiarize yourself with PyTorch.\n",
        "\n",
        "If you have any questions, please contact the TAs via TA hours, NTU COOL, or email to mlta-2023-spring@googlegroups.com"
      ]
    },
    {
      "cell_type": "code",
      "execution_count": 1,
      "metadata": {
        "colab": {
          "base_uri": "https://localhost:8080/"
        },
        "id": "GUATI4ONArv_",
        "outputId": "388e05fc-46a9-4534-be72-d21ed4e0cb17"
      },
      "outputs": [
        {
          "name": "stdout",
          "output_type": "stream",
          "text": [
            "Tue Aug 13 11:34:05 2024       \n",
            "+---------------------------------------------------------------------------------------+\n",
            "| NVIDIA-SMI 538.18                 Driver Version: 538.18       CUDA Version: 12.2     |\n",
            "|-----------------------------------------+----------------------+----------------------+\n",
            "| GPU  Name                     TCC/WDDM  | Bus-Id        Disp.A | Volatile Uncorr. ECC |\n",
            "| Fan  Temp   Perf          Pwr:Usage/Cap |         Memory-Usage | GPU-Util  Compute M. |\n",
            "|                                         |                      |               MIG M. |\n",
            "|=========================================+======================+======================|\n",
            "|   0  NVIDIA T600 Laptop GPU       WDDM  | 00000000:01:00.0 Off |                  N/A |\n",
            "| N/A   56C    P8              N/A / ERR! |    735MiB /  4096MiB |      0%      Default |\n",
            "|                                         |                      |                  N/A |\n",
            "+-----------------------------------------+----------------------+----------------------+\n",
            "                                                                                         \n",
            "+---------------------------------------------------------------------------------------+\n",
            "| Processes:                                                                            |\n",
            "|  GPU   GI   CI        PID   Type   Process name                            GPU Memory |\n",
            "|        ID   ID                                                             Usage      |\n",
            "|=======================================================================================|\n",
            "|    0   N/A  N/A     34176      C   D:\\Anaconda\\envs\\pytorch\\python.exe       N/A      |\n",
            "+---------------------------------------------------------------------------------------+\n"
          ]
        }
      ],
      "source": [
        "# check gpu type\n",
        "!nvidia-smi"
      ]
    },
    {
      "cell_type": "markdown",
      "metadata": {
        "id": "igqIMEgu64-F"
      },
      "source": [
        "# Import packages"
      ]
    },
    {
      "cell_type": "code",
      "execution_count": 2,
      "metadata": {
        "id": "xybQNYCXYu13"
      },
      "outputs": [],
      "source": [
        "# Numerical Operations\n",
        "import math\n",
        "import numpy as np\n",
        "\n",
        "# Reading/Writing Data\n",
        "import pandas as pd\n",
        "import os\n",
        "import csv\n",
        "\n",
        "# For Progress Bar\n",
        "from tqdm.notebook import tqdm\n",
        "\n",
        "# Pytorch\n",
        "import torch \n",
        "import torch.nn as nn\n",
        "from torch.utils.data import Dataset, DataLoader, random_split\n",
        "\n",
        "# For plotting learning curve\n",
        "from torch.utils.tensorboard import SummaryWriter"
      ]
    },
    {
      "cell_type": "markdown",
      "metadata": {
        "id": "fTAVqRfc2KK3"
      },
      "source": [
        "# Some Utility Functions\n",
        "\n",
        "You do not need to modify this part."
      ]
    },
    {
      "cell_type": "code",
      "execution_count": 3,
      "metadata": {
        "id": "RbrcpfYN2I-H"
      },
      "outputs": [],
      "source": [
        "def same_seed(seed): \n",
        "    '''Fixes random number generator seeds for reproducibility.'''\n",
        "    torch.backends.cudnn.deterministic = True\n",
        "    torch.backends.cudnn.benchmark = False\n",
        "    np.random.seed(seed)\n",
        "    torch.manual_seed(seed)\n",
        "    if torch.cuda.is_available():\n",
        "        torch.cuda.manual_seed_all(seed)\n",
        "\n",
        "def train_valid_split(data_set, valid_ratio, seed):\n",
        "    '''Split provided training data into training set and validation set'''\n",
        "    valid_set_size = int(valid_ratio * len(data_set)) \n",
        "    train_set_size = len(data_set) - valid_set_size\n",
        "    train_set, valid_set = random_split(data_set, [train_set_size, valid_set_size], generator=torch.Generator().manual_seed(seed))\n",
        "    return np.array(train_set), np.array(valid_set)\n",
        "\n",
        "def predict(test_loader, model, device):\n",
        "    model.eval() # Set your model to evaluation mode.\n",
        "    preds = []\n",
        "    for x in tqdm(test_loader):\n",
        "        x = x.to(device)                        \n",
        "        with torch.no_grad():                   \n",
        "            pred = model(x)                     \n",
        "            preds.append(pred.detach().cpu())   \n",
        "    preds = torch.cat(preds, dim=0).numpy()  \n",
        "    return preds"
      ]
    },
    {
      "cell_type": "markdown",
      "metadata": {
        "id": "IqO3lTm78nNO"
      },
      "source": [
        "# Dataset"
      ]
    },
    {
      "cell_type": "code",
      "execution_count": 4,
      "metadata": {
        "id": "-mjaJM0wprMs"
      },
      "outputs": [],
      "source": [
        "class COVID19Dataset(Dataset):\n",
        "    '''\n",
        "    x: Features.\n",
        "    y: Targets, if none, do prediction.\n",
        "    '''\n",
        "    def __init__(self, x, y=None):\n",
        "        if y is None:\n",
        "            self.y = y\n",
        "        else:\n",
        "            self.y = torch.FloatTensor(y)\n",
        "        self.x = torch.FloatTensor(x)\n",
        "\n",
        "    def __getitem__(self, idx):\n",
        "        if self.y is None:\n",
        "            return self.x[idx]\n",
        "        else:\n",
        "            return self.x[idx], self.y[idx]\n",
        "\n",
        "    def __len__(self):\n",
        "        return len(self.x)"
      ]
    },
    {
      "cell_type": "markdown",
      "metadata": {
        "id": "m73ooU75CL_j"
      },
      "source": [
        "# Neural Network Model\n",
        "Try out different model architectures by modifying the class below."
      ]
    },
    {
      "cell_type": "code",
      "execution_count": 5,
      "metadata": {
        "id": "Qn97_WvvrEkG"
      },
      "outputs": [],
      "source": [
        "class My_Model(nn.Module):\n",
        "    def __init__(self, input_dim):\n",
        "        super(My_Model, self).__init__()\n",
        "        # TODO: modify model's structure, be aware of dimensions. \n",
        "        self.layers = nn.Sequential(\n",
        "            nn.Linear(input_dim, 16),\n",
        "            nn.LeakyReLU(),\n",
        "            nn.Linear(16, 8),\n",
        "            nn.LeakyReLU(),          \n",
        "            nn.Linear(8, 1)\n",
        "        )\n",
        "        # 使用BatchNorm和LeakyReLU\n",
        "        # self.layers = nn.Sequential(\n",
        "        #     nn.Linear(input_dim, 16),\n",
        "        #     nn.BatchNorm1d(16),\n",
        "        #     nn.LeakyReLU(),\n",
        "        #     nn.Linear(16, 16),\n",
        "        #     nn.BatchNorm1d(16),\n",
        "        #     nn.LeakyReLU(),\n",
        "        #     nn.Linear(16, 1)\n",
        "        # )\n",
        "\n",
        "    def forward(self, x):\n",
        "        x = self.layers(x)\n",
        "        x = x.squeeze(1) # (B, 1) -> (B)\n",
        "        return x"
      ]
    },
    {
      "cell_type": "code",
      "execution_count": 6,
      "metadata": {},
      "outputs": [],
      "source": [
        "class My_Model_2(nn.Module):\n",
        "    def __init__(self, input_dim):\n",
        "        super(My_Model_2, self).__init__()\n",
        "        self.layers = nn.Sequential(\n",
        "            nn.Linear(input_dim, 16),\n",
        "            nn.LeakyReLU(),\n",
        "            nn.Linear(16, 16),\n",
        "            nn.LeakyReLU(),          \n",
        "            nn.Linear(16, 1)\n",
        "        )\n",
        "\n",
        "    def forward(self, x):\n",
        "        x = self.layers(x)\n",
        "        x = x.squeeze(1) # (B, 1) -> (B)\n",
        "        return x"
      ]
    },
    {
      "cell_type": "code",
      "execution_count": 7,
      "metadata": {},
      "outputs": [],
      "source": [
        "class My_Model_3(nn.Module):\n",
        "    def __init__(self, input_dim):\n",
        "        super(My_Model_3, self).__init__()\n",
        "        # self.layers = nn.Sequential(\n",
        "        #     nn.Linear(input_dim, 16),\n",
        "        #     nn.LeakyReLU(),\n",
        "        #     nn.Linear(16, 8),\n",
        "        #     nn.LeakyReLU(),          \n",
        "        #     nn.Linear(8, 8),\n",
        "        #     nn.LeakyReLU(),          \n",
        "        #     nn.Linear(8, 1)\n",
        "        # )\n",
        "        self.layers = nn.Sequential(\n",
        "            nn.Linear(input_dim, 32),\n",
        "            #nn.BatchNorm1d(32),\n",
        "            nn.ReLU(),\n",
        "            nn.Linear(32, 16),\n",
        "            nn.ReLU(),\n",
        "            #nn.Dropout(p=0.3),\n",
        "            nn.Linear(16, 8),\n",
        "            nn.ReLU(),\n",
        "            nn.Linear(8, 1)\n",
        "        )\n",
        "\n",
        "    def forward(self, x):\n",
        "        x = self.layers(x)\n",
        "        x = x.squeeze(1) # (B, 1) -> (B)\n",
        "        return x"
      ]
    },
    {
      "cell_type": "code",
      "execution_count": 8,
      "metadata": {},
      "outputs": [],
      "source": [
        "        # self.layers = nn.Sequential(\n",
        "        #     nn.Linear(input_dim, 32),\n",
        "        #     #nn.BatchNorm1d(32),\n",
        "        #     nn.ReLU(),\n",
        "        #     nn.Linear(32, 16),\n",
        "        #     nn.ReLU(),\n",
        "        #     #nn.Dropout(p=0.3),\n",
        "        #     nn.Linear(16, 8),\n",
        "        #     nn.ReLU(),\n",
        "        #     nn.Linear(8, 1)\n",
        "        # )"
      ]
    },
    {
      "cell_type": "markdown",
      "metadata": {
        "id": "x5-LKF6R8xeq"
      },
      "source": [
        "# Feature Selection\n",
        "Choose features you deem useful by modifying the function below."
      ]
    },
    {
      "cell_type": "code",
      "execution_count": 9,
      "metadata": {
        "id": "0FEnKRaIIeKp"
      },
      "outputs": [],
      "source": [
        "from sklearn.feature_selection import SelectKBest, f_regression\n",
        "\n",
        "def select_feat(train_data, valid_data, test_data, select_all=True):\n",
        "    '''Selects useful features to perform regression'''\n",
        "    y_train, y_valid = train_data[:,-1], valid_data[:,-1]\n",
        "    raw_x_train, raw_x_valid, raw_x_test = train_data[:,:-1], valid_data[:,:-1], test_data\n",
        "\n",
        "    if select_all:\n",
        "        feat_idx = list(range(raw_x_train.shape[1]))\n",
        "    else:\n",
        "        # feat_idx = list(range(35, 88)) # TODO: Select suitable feature columns.\n",
        "        k = 24\n",
        "        selector = SelectKBest(score_func=f_regression, k=k)\n",
        "        result = selector.fit(train_data[:, :-1], train_data[:,-1])\n",
        "        idx = np.argsort(result.scores_)[::-1]\n",
        "        feat_idx = list(np.sort(idx[:k]))\n",
        "        \n",
        "    return raw_x_train[:,feat_idx], raw_x_valid[:,feat_idx], raw_x_test[:,feat_idx], y_train, y_valid"
      ]
    },
    {
      "cell_type": "markdown",
      "metadata": {
        "id": "kADIPNQ2Ih5X"
      },
      "source": [
        "# Training Loop"
      ]
    },
    {
      "cell_type": "code",
      "execution_count": 10,
      "metadata": {
        "id": "k4Rq8_TztAhq"
      },
      "outputs": [],
      "source": [
        "def trainer(train_loader, valid_loader, model, config, device):\n",
        "\n",
        "    criterion = nn.MSELoss(reduction='mean') # Define your loss function, do not modify this.\n",
        "\n",
        "    # Define your optimization algorithm. \n",
        "    # TODO: Please check https://pytorch.org/docs/stable/optim.html to get more available algorithms.\n",
        "    # TODO: L2 regularization (optimizer(weight decay...) or implement by your self).\n",
        "    # optimizer = torch.optim.SGD(model.parameters(), lr=config['learning_rate'], momentum=0.9, weight_decay=1e-5)\n",
        "    optimizer = torch.optim.Adam(model.parameters(), lr=config['learning_rate'], weight_decay=1e-5)\n",
        "    # scheduler = torch.optim.lr_scheduler.ReduceLROnPlateau(optimizer, mode='min', factor=0.99, patience=50) \n",
        "    # writer = SummaryWriter() # Writer of tensoboard.\n",
        "\n",
        "    if not os.path.isdir('./models'):\n",
        "        os.mkdir('./models') # Create directory of saving models.\n",
        "\n",
        "    n_epochs, best_loss, step, early_stop_count = config['n_epochs'], math.inf, 0, 0\n",
        "\n",
        "    for epoch in tqdm(range(n_epochs)):\n",
        "        model.train() # Set your model to train mode.\n",
        "        loss_record = []\n",
        "\n",
        "        # tqdm is a package to visualize your training progress.\n",
        "        # train_pbar = tqdm(train_loader, position=0, leave=True)\n",
        "\n",
        "        # for x, y in train_pbar:\n",
        "        for x, y in train_loader:\n",
        "            optimizer.zero_grad()               # Set gradient to zero.\n",
        "            x, y = x.to(device), y.to(device)   # Move your data to device. \n",
        "            pred = model(x)             \n",
        "            loss = criterion(pred, y)\n",
        "            loss.backward()                     # Compute gradient(backpropagation).\n",
        "            optimizer.step()                    # Update parameters.\n",
        "            step += 1\n",
        "            loss_record.append(loss.detach().item())\n",
        "            \n",
        "            # Display current epoch number and loss on tqdm progress bar.\n",
        "            # train_pbar.set_description(f'Epoch [{epoch+1}/{n_epochs}]')\n",
        "            # train_pbar.set_postfix({'loss': loss.detach().item()})\n",
        "\n",
        "        mean_train_loss = sum(loss_record)/len(loss_record)\n",
        "        # writer.add_scalar('Loss/train', mean_train_loss, step)\n",
        "\n",
        "        model.eval() # Set your model to evaluation mode.\n",
        "        loss_record = []\n",
        "        for x, y in valid_loader:\n",
        "            x, y = x.to(device), y.to(device)\n",
        "            with torch.no_grad():\n",
        "                pred = model(x)\n",
        "                loss = criterion(pred, y)\n",
        "\n",
        "            loss_record.append(loss.item())\n",
        "            \n",
        "        mean_valid_loss = sum(loss_record)/len(loss_record)\n",
        "        if epoch+1 % 100 == 0:\n",
        "            print(f'Epoch [{epoch+1}/{n_epochs}]: Train loss: {mean_train_loss:.4f}, Valid loss: {mean_valid_loss:.4f}')\n",
        "        # writer.add_scalar('Loss/valid', mean_valid_loss, step)\n",
        "\n",
        "        # # 更新学习率\n",
        "        # scheduler.step(mean_valid_loss)\n",
        "        # writer.add_scalar('Learning Rate', optimizer.param_groups[0]['lr'], step)\n",
        "        if mean_valid_loss < best_loss:\n",
        "            best_loss = mean_valid_loss\n",
        "            torch.save(model.state_dict(), config['save_path']) # Save your best model\n",
        "            # print('Saving model with loss {:.4f}...at epoch {}'.format(best_loss, epoch+1))\n",
        "            early_stop_count = 0\n",
        "        else: \n",
        "            early_stop_count += 1\n",
        "\n",
        "        if early_stop_count >= config['early_stop']:\n",
        "            print('\\nModel is not improving, so we halt the training session.')\n",
        "            return best_loss\n",
        "    \n",
        "    return best_loss"
      ]
    },
    {
      "cell_type": "code",
      "execution_count": 11,
      "metadata": {},
      "outputs": [],
      "source": [
        "def trainer_3(train_loader, valid_loader, model, config, device):\n",
        "\n",
        "    criterion = nn.MSELoss(reduction='mean') # Define your loss function, do not modify this.\n",
        "    #criterion = nn.L1Loss(size_average=None, reduce=None, reduction='mean')\n",
        "\n",
        "    # Define your optimization algorithm. \n",
        "    # TODO: Please check https://pytorch.org/docs/stable/optim.html to get more available algorithms.\n",
        "    # TODO: L2 regularization (optimizer(weight decay...) or implement by your self).\n",
        "    #optimizer = torch.optim.SGD(model.parameters(), lr=config['learning_rate'], momentum=0.7, weight_decay=1e-5) \n",
        "    optimizer = torch.optim.AdamW(model.parameters(), lr=1e-4, betas=(0.8, 0.999), weight_decay=1e-5, amsgrad=True)\n",
        "    \n",
        "    # writer = SummaryWriter() # Writer of tensoboard.\n",
        "\n",
        "    if not os.path.isdir('./models'):\n",
        "        os.mkdir('./models') # Create directory of saving models.\n",
        "\n",
        "    n_epochs, best_loss, step, early_stop_count = config['n_epochs'], math.inf, 0, 0\n",
        "\n",
        "    for epoch in tqdm(range(n_epochs)):\n",
        "        model.train() # Set your model to train mode.\n",
        "        loss_record = []\n",
        "\n",
        "        # tqdm is a package to visualize your training progress.\n",
        "        # train_pbar = tqdm(train_loader, position=0, leave=True)\n",
        "\n",
        "        for x, y in train_loader:\n",
        "            optimizer.zero_grad()               # Set gradient to zero.\n",
        "            x, y = x.to(device), y.to(device)   # Move your data to device. \n",
        "            pred = model(x)             \n",
        "            loss = criterion(pred, y)\n",
        "            loss.backward()                     # Compute gradient(backpropagation).\n",
        "            optimizer.step()                    # Update parameters.\n",
        "            step += 1\n",
        "            loss_record.append(loss.detach().item())\n",
        "            \n",
        "            # Display current epoch number and loss on tqdm progress bar.\n",
        "            # train_pbar.set_description(f'Epoch [{epoch+1}/{n_epochs}]')\n",
        "            # train_pbar.set_postfix({'loss': loss.detach().item()})\n",
        "\n",
        "        mean_train_loss = sum(loss_record)/len(loss_record)\n",
        "        # writer.add_scalar('Loss/train', mean_train_loss, step)\n",
        "\n",
        "        model.eval() # Set your model to evaluation mode.\n",
        "        loss_record = []\n",
        "        for x, y in valid_loader:\n",
        "            x, y = x.to(device), y.to(device)\n",
        "            with torch.no_grad():\n",
        "                pred = model(x)\n",
        "                loss = criterion(pred, y)\n",
        "\n",
        "            loss_record.append(loss.item())\n",
        "            \n",
        "        mean_valid_loss = sum(loss_record)/len(loss_record)\n",
        "        # print(f'Epoch [{epoch+1}/{n_epochs}]: Train loss: {mean_train_loss:.4f}, Valid loss: {mean_valid_loss:.4f}')\n",
        "        # writer.add_scalar('Loss/valid', mean_valid_loss, step)\n",
        "\n",
        "        if mean_valid_loss < best_loss:\n",
        "            best_loss = mean_valid_loss\n",
        "            torch.save(model.state_dict(), config['save_path']) # Save your best model\n",
        "            # print('Saving model with loss {:.3f}...'.format(best_loss))\n",
        "            early_stop_count = 0\n",
        "        else: \n",
        "            early_stop_count += 1\n",
        "\n",
        "        if early_stop_count >= config['early_stop']:\n",
        "            print('\\nModel is not improving, so we halt the training session.')\n",
        "            return best_loss\n",
        "        \n",
        "    return best_loss"
      ]
    },
    {
      "cell_type": "markdown",
      "metadata": {
        "id": "0pgkOh2e9UjE"
      },
      "source": [
        "# Configurations\n",
        "`config` contains hyper-parameters for training and the path to save your model."
      ]
    },
    {
      "cell_type": "code",
      "execution_count": 12,
      "metadata": {
        "id": "QoWPUahCtoT6"
      },
      "outputs": [],
      "source": [
        "device = 'cuda' if torch.cuda.is_available() else 'cpu'\n",
        "config = {\n",
        "    'seed': 5201314,      # Your seed number, you can pick your lucky number. :)\n",
        "    'select_all': False,   # Whether to use all features.\n",
        "    'valid_ratio': 0.2,   # validation_size = train_size * valid_ratio\n",
        "    'n_epochs': 10000,     # Number of epochs.            \n",
        "    'batch_size': 256, \n",
        "    'learning_rate': 1e-4,              \n",
        "    'early_stop': 2000,    # If model has not improved for this many consecutive epochs, stop training.     \n",
        "    'save_path': './models/boss.ckpt'  # Your model will be saved here.\n",
        "}\n"
      ]
    },
    {
      "cell_type": "markdown",
      "metadata": {
        "id": "lrS-aJJh9XkW"
      },
      "source": [
        "# Dataloader\n",
        "Read data from files and set up training, validation, and testing sets. You do not need to modify this part."
      ]
    },
    {
      "cell_type": "code",
      "execution_count": 13,
      "metadata": {
        "colab": {
          "base_uri": "https://localhost:8080/"
        },
        "id": "2jc7ZfDot2t9",
        "outputId": "e6f8d647-a154-4646-87b3-1faeb3b09c2b"
      },
      "outputs": [
        {
          "name": "stdout",
          "output_type": "stream",
          "text": [
            "train_data size: (2408, 89) \n",
            "valid_data size: (601, 89) \n",
            "test_data size: (997, 88)\n",
            "number of features: 24\n"
          ]
        }
      ],
      "source": [
        "same_seed(config['seed'])\n",
        "train_data, test_data = pd.read_csv('./covid_train.csv').values, pd.read_csv('./covid_test.csv').values\n",
        "train_data, valid_data = train_valid_split(train_data, config['valid_ratio'], config['seed'])\n",
        "\n",
        "# Print out the data size.\n",
        "print(f\"\"\"train_data size: {train_data.shape} \n",
        "valid_data size: {valid_data.shape} \n",
        "test_data size: {test_data.shape}\"\"\")\n",
        "\n",
        "# Normalize features.\n",
        "\n",
        "# Select features\n",
        "x_train, x_valid, x_test, y_train, y_valid = select_feat(train_data, valid_data, test_data, config['select_all'])\n",
        "\n",
        "\n",
        "# Print out the number of features.\n",
        "print(f'number of features: {x_train.shape[1]}')\n",
        "\n",
        "train_dataset, valid_dataset, test_dataset = COVID19Dataset(x_train, y_train), \\\n",
        "                                            COVID19Dataset(x_valid, y_valid), \\\n",
        "                                            COVID19Dataset(x_test)\n",
        "\n",
        "# Pytorch data loader loads pytorch dataset into batches.\n",
        "train_loader = DataLoader(train_dataset, batch_size=config['batch_size'], shuffle=True, pin_memory=True)\n",
        "valid_loader = DataLoader(valid_dataset, batch_size=config['batch_size'], shuffle=True, pin_memory=True)\n",
        "test_loader = DataLoader(test_dataset, batch_size=config['batch_size'], shuffle=False, pin_memory=True)"
      ]
    },
    {
      "cell_type": "markdown",
      "metadata": {
        "id": "0OBYgjCA-YwD"
      },
      "source": [
        "# Start training!"
      ]
    },
    {
      "cell_type": "code",
      "execution_count": 14,
      "metadata": {},
      "outputs": [],
      "source": [
        "# model_2 = My_Model_2(x_train.shape[1]).to(device)\n",
        "# config['save_path'] = './models/boss_2.ckpt'\n",
        "# best_loss_2 = trainer(train_loader, valid_loader, model_2, config, device)\n",
        "# print(f'Best validation loss of Model_2: {best_loss_2:.4f}')"
      ]
    },
    {
      "cell_type": "code",
      "execution_count": 15,
      "metadata": {},
      "outputs": [],
      "source": [
        "# model_3 = My_Model_3(x_train.shape[1]).to(device)\n",
        "# config['save_path'] = './models/boss_3.ckpt'\n",
        "# best_loss_3 = trainer_3(train_loader, valid_loader, model_3, config, device)\n",
        "# print(f'Best validation loss of Model_3: {best_loss_3:.4f}')"
      ]
    },
    {
      "cell_type": "code",
      "execution_count": 16,
      "metadata": {
        "colab": {
          "base_uri": "https://localhost:8080/"
        },
        "id": "YdttVRkAfu2t",
        "outputId": "92145ff1-e4a3-4194-bb1a-ebe94176f091"
      },
      "outputs": [
        {
          "name": "stdout",
          "output_type": "stream",
          "text": [
            "Fold 1\n",
            "number of features: 24\n"
          ]
        },
        {
          "data": {
            "application/vnd.jupyter.widget-view+json": {
              "model_id": "d68b772d8ee04e0a81facc125dc17fba",
              "version_major": 2,
              "version_minor": 0
            },
            "text/plain": [
              "  0%|          | 0/10000 [00:00<?, ?it/s]"
            ]
          },
          "metadata": {},
          "output_type": "display_data"
        },
        {
          "name": "stdout",
          "output_type": "stream",
          "text": [
            "\n",
            "Model is not improving, so we halt the training session.\n",
            "Fold 1 valid_loss: 0.7020852466424307\n",
            "Fold 2\n",
            "number of features: 24\n"
          ]
        },
        {
          "data": {
            "application/vnd.jupyter.widget-view+json": {
              "model_id": "2fb834434ca4449684999780491a4b9f",
              "version_major": 2,
              "version_minor": 0
            },
            "text/plain": [
              "  0%|          | 0/10000 [00:00<?, ?it/s]"
            ]
          },
          "metadata": {},
          "output_type": "display_data"
        },
        {
          "name": "stdout",
          "output_type": "stream",
          "text": [
            "Fold 2 valid_loss: 0.79047363003095\n",
            "Fold 3\n",
            "number of features: 24\n"
          ]
        },
        {
          "data": {
            "application/vnd.jupyter.widget-view+json": {
              "model_id": "27cb38ba878a45e1b8ec1b2fdbfb6113",
              "version_major": 2,
              "version_minor": 0
            },
            "text/plain": [
              "  0%|          | 0/10000 [00:00<?, ?it/s]"
            ]
          },
          "metadata": {},
          "output_type": "display_data"
        },
        {
          "name": "stdout",
          "output_type": "stream",
          "text": [
            "\n",
            "Model is not improving, so we halt the training session.\n",
            "Fold 3 valid_loss: 0.8514037529627482\n",
            "Fold 4\n",
            "number of features: 24\n"
          ]
        },
        {
          "data": {
            "application/vnd.jupyter.widget-view+json": {
              "model_id": "52c1d31ebdff4ca7adbaee048cb46a22",
              "version_major": 2,
              "version_minor": 0
            },
            "text/plain": [
              "  0%|          | 0/10000 [00:00<?, ?it/s]"
            ]
          },
          "metadata": {},
          "output_type": "display_data"
        },
        {
          "name": "stdout",
          "output_type": "stream",
          "text": [
            "Fold 4 valid_loss: 0.8579290310541788\n",
            "Fold 5\n",
            "number of features: 24\n"
          ]
        },
        {
          "data": {
            "application/vnd.jupyter.widget-view+json": {
              "model_id": "717d4dcdbc6b4ee58163255341cb641b",
              "version_major": 2,
              "version_minor": 0
            },
            "text/plain": [
              "  0%|          | 0/10000 [00:00<?, ?it/s]"
            ]
          },
          "metadata": {},
          "output_type": "display_data"
        },
        {
          "name": "stdout",
          "output_type": "stream",
          "text": [
            "\n",
            "Model is not improving, so we halt the training session.\n",
            "Fold 5 valid_loss: 0.7549566924571991\n",
            "Best validation loss of Model: 0.7021\n"
          ]
        }
      ],
      "source": [
        "# K折交叉验证训练模型\n",
        "K = 5 # 因为valid_ratio=0.2，所以K=5\n",
        "same_seed(config['seed'])\n",
        "training_data, test_data = pd.read_csv('./covid_train.csv').values, pd.read_csv('./covid_test.csv').values\n",
        "num_valid_samples = len(training_data) // K\n",
        "np.random.shuffle(training_data)\n",
        "valid_scores = []\n",
        "for fold in range(K):\n",
        "        print(f'Fold {fold + 1}')\n",
        "        config['save_path'] = f'./models/boss_folds/boss_{fold}fold.ckpt'\n",
        "        valid_data = training_data[num_valid_samples * fold:\n",
        "                                num_valid_samples * (fold + 1)]\n",
        "        train_data = np.concatenate((\n",
        "            training_data[:num_valid_samples * fold],\n",
        "            training_data[num_valid_samples * (fold + 1):]))\n",
        "        # Select features\n",
        "        x_train, x_valid, x_test, y_train, y_valid = select_feat(train_data, valid_data, test_data, config['select_all'])\n",
        "\n",
        "        # Print out the number of features.\n",
        "        print(f'number of features: {x_train.shape[1]}')\n",
        "\n",
        "        train_dataset, valid_dataset, test_dataset = COVID19Dataset(x_train, y_train), \\\n",
        "                                                    COVID19Dataset(x_valid, y_valid), \\\n",
        "                                                    COVID19Dataset(x_test)\n",
        "\n",
        "        # Pytorch data loader loads pytorch dataset into batches.\n",
        "        train_loader = DataLoader(train_dataset, batch_size=config['batch_size'], shuffle=True, pin_memory=True)\n",
        "        valid_loader = DataLoader(valid_dataset, batch_size=config['batch_size'], shuffle=True, pin_memory=True)\n",
        "        test_loader = DataLoader(test_dataset, batch_size=config['batch_size'], shuffle=False, pin_memory=True)\n",
        "\n",
        "        model = My_Model(input_dim=x_train.shape[1]).to(device) # put your model and data on the same computation device.\n",
        "        score = trainer(train_loader, valid_loader, model, config, device)\n",
        "        valid_scores.append(score)\n",
        "        print(f'Fold {fold + 1} valid_loss: {score}')\n",
        "\n",
        "print(f'Best validation loss of Model: {np.min(valid_scores):.4f}')"
      ]
    },
    {
      "cell_type": "code",
      "execution_count": 17,
      "metadata": {},
      "outputs": [
        {
          "name": "stdout",
          "output_type": "stream",
          "text": [
            "Fold 1\n",
            "number of features: 24\n"
          ]
        },
        {
          "data": {
            "application/vnd.jupyter.widget-view+json": {
              "model_id": "b2262edd44e046249f8453f47f5adeb5",
              "version_major": 2,
              "version_minor": 0
            },
            "text/plain": [
              "  0%|          | 0/10000 [00:00<?, ?it/s]"
            ]
          },
          "metadata": {},
          "output_type": "display_data"
        },
        {
          "name": "stdout",
          "output_type": "stream",
          "text": [
            "\n",
            "Model is not improving, so we halt the training session.\n",
            "Fold 1 valid_loss: 0.6801783243815104\n",
            "Fold 2\n",
            "number of features: 24\n"
          ]
        },
        {
          "data": {
            "application/vnd.jupyter.widget-view+json": {
              "model_id": "e2593a80623347b58bf6c09db88d8286",
              "version_major": 2,
              "version_minor": 0
            },
            "text/plain": [
              "  0%|          | 0/10000 [00:00<?, ?it/s]"
            ]
          },
          "metadata": {},
          "output_type": "display_data"
        },
        {
          "name": "stdout",
          "output_type": "stream",
          "text": [
            "\n",
            "Model is not improving, so we halt the training session.\n",
            "Fold 2 valid_loss: 0.8180224895477295\n",
            "Fold 3\n",
            "number of features: 24\n"
          ]
        },
        {
          "data": {
            "application/vnd.jupyter.widget-view+json": {
              "model_id": "8779689702cd49e2a450efe4e5bd9c8e",
              "version_major": 2,
              "version_minor": 0
            },
            "text/plain": [
              "  0%|          | 0/10000 [00:00<?, ?it/s]"
            ]
          },
          "metadata": {},
          "output_type": "display_data"
        },
        {
          "name": "stdout",
          "output_type": "stream",
          "text": [
            "\n",
            "Model is not improving, so we halt the training session.\n",
            "Fold 3 valid_loss: 0.8221958180268606\n",
            "Fold 4\n",
            "number of features: 24\n"
          ]
        },
        {
          "data": {
            "application/vnd.jupyter.widget-view+json": {
              "model_id": "6797a9b433414f7ead0ae9c0f823aa6e",
              "version_major": 2,
              "version_minor": 0
            },
            "text/plain": [
              "  0%|          | 0/10000 [00:00<?, ?it/s]"
            ]
          },
          "metadata": {},
          "output_type": "display_data"
        },
        {
          "name": "stdout",
          "output_type": "stream",
          "text": [
            "\n",
            "Model is not improving, so we halt the training session.\n",
            "Fold 4 valid_loss: 0.8600337902704874\n",
            "Fold 5\n",
            "number of features: 24\n"
          ]
        },
        {
          "data": {
            "application/vnd.jupyter.widget-view+json": {
              "model_id": "73df6d24dddf4805802ab4dbb9529f15",
              "version_major": 2,
              "version_minor": 0
            },
            "text/plain": [
              "  0%|          | 0/10000 [00:00<?, ?it/s]"
            ]
          },
          "metadata": {},
          "output_type": "display_data"
        },
        {
          "name": "stdout",
          "output_type": "stream",
          "text": [
            "\n",
            "Model is not improving, so we halt the training session.\n",
            "Fold 5 valid_loss: 0.7526910901069641\n",
            "Best validation loss of Model_2: 0.6802\n"
          ]
        }
      ],
      "source": [
        "K = 5 # 因为valid_ratio=0.2，所以K=5\n",
        "same_seed(config['seed'])\n",
        "training_data, test_data = pd.read_csv('./covid_train.csv').values, pd.read_csv('./covid_test.csv').values\n",
        "num_valid_samples = len(training_data) // K\n",
        "np.random.shuffle(training_data)\n",
        "valid_scores_2 = []\n",
        "for fold in range(K):\n",
        "        print(f'Fold {fold + 1}')\n",
        "        config['save_path'] = f'./models/boss_folds/boss2_{fold}fold.ckpt'\n",
        "        valid_data = training_data[num_valid_samples * fold:\n",
        "                                num_valid_samples * (fold + 1)]\n",
        "        train_data = np.concatenate((\n",
        "            training_data[:num_valid_samples * fold],\n",
        "            training_data[num_valid_samples * (fold + 1):]))\n",
        "        # Select features\n",
        "        x_train, x_valid, x_test, y_train, y_valid = select_feat(train_data, valid_data, test_data, config['select_all'])\n",
        "\n",
        "        # Print out the number of features.\n",
        "        print(f'number of features: {x_train.shape[1]}')\n",
        "\n",
        "        train_dataset, valid_dataset, test_dataset = COVID19Dataset(x_train, y_train), \\\n",
        "                                                    COVID19Dataset(x_valid, y_valid), \\\n",
        "                                                    COVID19Dataset(x_test)\n",
        "\n",
        "        # Pytorch data loader loads pytorch dataset into batches.\n",
        "        train_loader = DataLoader(train_dataset, batch_size=config['batch_size'], shuffle=True, pin_memory=True)\n",
        "        valid_loader = DataLoader(valid_dataset, batch_size=config['batch_size'], shuffle=True, pin_memory=True)\n",
        "        test_loader = DataLoader(test_dataset, batch_size=config['batch_size'], shuffle=False, pin_memory=True)\n",
        "\n",
        "        model = My_Model_2(input_dim=x_train.shape[1]).to(device) # put your model and data on the same computation device.\n",
        "        score = trainer(train_loader, valid_loader, model, config, device)\n",
        "        valid_scores_2.append(score)\n",
        "        print(f'Fold {fold + 1} valid_loss: {score}')\n",
        "\n",
        "print(f'Best validation loss of Model_2: {np.min(valid_scores_2):.4f}')"
      ]
    },
    {
      "cell_type": "code",
      "execution_count": 18,
      "metadata": {},
      "outputs": [
        {
          "name": "stdout",
          "output_type": "stream",
          "text": [
            "Fold 1\n",
            "number of features: 24\n"
          ]
        },
        {
          "data": {
            "application/vnd.jupyter.widget-view+json": {
              "model_id": "e544b00ffd5442d1a5d55dfa3000847f",
              "version_major": 2,
              "version_minor": 0
            },
            "text/plain": [
              "  0%|          | 0/10000 [00:00<?, ?it/s]"
            ]
          },
          "metadata": {},
          "output_type": "display_data"
        },
        {
          "name": "stdout",
          "output_type": "stream",
          "text": [
            "Fold 1 valid_loss: 0.6957943737506866\n",
            "Fold 2\n",
            "number of features: 24\n"
          ]
        },
        {
          "data": {
            "application/vnd.jupyter.widget-view+json": {
              "model_id": "40533b49fbff4ede83d134cdc9990f31",
              "version_major": 2,
              "version_minor": 0
            },
            "text/plain": [
              "  0%|          | 0/10000 [00:00<?, ?it/s]"
            ]
          },
          "metadata": {},
          "output_type": "display_data"
        },
        {
          "name": "stdout",
          "output_type": "stream",
          "text": [
            "Fold 2 valid_loss: 0.8669416705767313\n",
            "Fold 3\n",
            "number of features: 24\n"
          ]
        },
        {
          "data": {
            "application/vnd.jupyter.widget-view+json": {
              "model_id": "4323b354318e49bf8ac08b18fd117381",
              "version_major": 2,
              "version_minor": 0
            },
            "text/plain": [
              "  0%|          | 0/10000 [00:00<?, ?it/s]"
            ]
          },
          "metadata": {},
          "output_type": "display_data"
        },
        {
          "name": "stdout",
          "output_type": "stream",
          "text": [
            "Fold 3 valid_loss: 0.868886411190033\n",
            "Fold 4\n",
            "number of features: 24\n"
          ]
        },
        {
          "data": {
            "application/vnd.jupyter.widget-view+json": {
              "model_id": "e5d6710599a948aa98fef685f03d6287",
              "version_major": 2,
              "version_minor": 0
            },
            "text/plain": [
              "  0%|          | 0/10000 [00:00<?, ?it/s]"
            ]
          },
          "metadata": {},
          "output_type": "display_data"
        },
        {
          "name": "stdout",
          "output_type": "stream",
          "text": [
            "Fold 4 valid_loss: 0.8762156963348389\n",
            "Fold 5\n",
            "number of features: 24\n"
          ]
        },
        {
          "data": {
            "application/vnd.jupyter.widget-view+json": {
              "model_id": "275d4c178b934d25b94b6620b380c35a",
              "version_major": 2,
              "version_minor": 0
            },
            "text/plain": [
              "  0%|          | 0/10000 [00:00<?, ?it/s]"
            ]
          },
          "metadata": {},
          "output_type": "display_data"
        },
        {
          "name": "stdout",
          "output_type": "stream",
          "text": [
            "Fold 5 valid_loss: 0.7980795303980509\n",
            "Best validation loss of Model_3: 0.6958\n"
          ]
        }
      ],
      "source": [
        "K = 5 # 因为valid_ratio=0.2，所以K=5\n",
        "same_seed(config['seed'])\n",
        "training_data, test_data = pd.read_csv('./covid_train.csv').values, pd.read_csv('./covid_test.csv').values\n",
        "num_valid_samples = len(training_data) // K\n",
        "np.random.shuffle(training_data)\n",
        "valid_scores_3 = []\n",
        "for fold in range(K):\n",
        "        print(f'Fold {fold + 1}')\n",
        "        config['save_path'] = f'./models/boss_folds/boss3_{fold}fold.ckpt'\n",
        "        valid_data = training_data[num_valid_samples * fold:\n",
        "                                num_valid_samples * (fold + 1)]\n",
        "        train_data = np.concatenate((\n",
        "            training_data[:num_valid_samples * fold],\n",
        "            training_data[num_valid_samples * (fold + 1):]))\n",
        "        # Select features\n",
        "        x_train, x_valid, x_test, y_train, y_valid = select_feat(train_data, valid_data, test_data, config['select_all'])\n",
        "\n",
        "        # Print out the number of features.\n",
        "        print(f'number of features: {x_train.shape[1]}')\n",
        "\n",
        "        train_dataset, valid_dataset, test_dataset = COVID19Dataset(x_train, y_train), \\\n",
        "                                                    COVID19Dataset(x_valid, y_valid), \\\n",
        "                                                    COVID19Dataset(x_test)\n",
        "\n",
        "        # Pytorch data loader loads pytorch dataset into batches.\n",
        "        train_loader = DataLoader(train_dataset, batch_size=config['batch_size'], shuffle=True, pin_memory=True)\n",
        "        valid_loader = DataLoader(valid_dataset, batch_size=config['batch_size'], shuffle=True, pin_memory=True)\n",
        "        test_loader = DataLoader(test_dataset, batch_size=config['batch_size'], shuffle=False, pin_memory=True)\n",
        "\n",
        "        model = My_Model_3(input_dim=x_train.shape[1]).to(device) # put your model and data on the same computation device.\n",
        "        score = trainer_3(train_loader, valid_loader, model, config, device)\n",
        "        valid_scores_3.append(score)\n",
        "        print(f'Fold {fold + 1} valid_loss: {score}')\n",
        "\n",
        "print(f'Best validation loss of Model_3: {np.min(valid_scores_3):.4f}')"
      ]
    },
    {
      "cell_type": "code",
      "execution_count": 19,
      "metadata": {},
      "outputs": [],
      "source": [
        "# # 使用随机森林进行预测\n",
        "# from sklearn.ensemble import RandomForestRegressor\n",
        "# from sklearn.metrics import mean_squared_error\n",
        "\n",
        "# train_data, test_data = pd.read_csv('./covid_train.csv').values, pd.read_csv('./covid_test.csv').values\n",
        "# train_data, valid_data = train_valid_split(train_data, 0.8, config['seed'])\n",
        "# x_train, x_valid, x_test, y_train, y_valid = select_feat(train_data, valid_data, test_data, config['select_all'])\n",
        "\n",
        "# model_rf = RandomForestRegressor(n_estimators=1000, max_depth=100, random_state=config['seed'])\n",
        "# model_rf.fit(x_train, y_train)\n",
        "# y_pred_valid = model_rf.predict(x_valid)\n",
        "# valid_score = mean_squared_error(y_valid, y_pred_valid)\n",
        "# print(f'RandomForest valid_score: {valid_score}')\n",
        "\n",
        "# # 支持向量机\n",
        "# from sklearn.svm import SVR\n",
        "# model_svr = SVR()\n",
        "# model_svr.fit(x_train, y_train)\n",
        "# y_pred_valid = model_svr.predict(x_valid)\n",
        "# valid_score = mean_squared_error(y_valid, y_pred_valid)\n",
        "# print(f'SVR valid_score: {valid_score}')\n",
        "\n",
        "# # 梯度提升\n",
        "# from sklearn.ensemble import GradientBoostingRegressor\n",
        "# model_gbr = GradientBoostingRegressor(n_estimators=10000, random_state=config['seed'])\n",
        "# model_gbr.fit(x_train, y_train)\n",
        "# y_pred_valid = model_gbr.predict(x_valid)\n",
        "# valid_score = mean_squared_error(y_valid, y_pred_valid)\n",
        "# print(f'Gradient Boosting valid_score: {valid_score}')              "
      ]
    },
    {
      "cell_type": "markdown",
      "metadata": {
        "id": "yhAHGqC9-woK"
      },
      "source": [
        "# Testing\n",
        "The predictions of your model on testing set will be stored at `pred.csv`."
      ]
    },
    {
      "cell_type": "code",
      "execution_count": 20,
      "metadata": {
        "colab": {
          "base_uri": "https://localhost:8080/"
        },
        "id": "Q5eVdpbvAlAe",
        "outputId": "b18bdd28-69b1-47d0-b1d8-f85a12ac5f68"
      },
      "outputs": [
        {
          "data": {
            "application/vnd.jupyter.widget-view+json": {
              "model_id": "86c33765eebf44d6882b34b6ef0dc825",
              "version_major": 2,
              "version_minor": 0
            },
            "text/plain": [
              "  0%|          | 0/4 [00:00<?, ?it/s]"
            ]
          },
          "metadata": {},
          "output_type": "display_data"
        },
        {
          "data": {
            "application/vnd.jupyter.widget-view+json": {
              "model_id": "00772e62c63d46828843e049525f0b41",
              "version_major": 2,
              "version_minor": 0
            },
            "text/plain": [
              "  0%|          | 0/4 [00:00<?, ?it/s]"
            ]
          },
          "metadata": {},
          "output_type": "display_data"
        },
        {
          "data": {
            "application/vnd.jupyter.widget-view+json": {
              "model_id": "2950891faa1747d2b420fb4e5f4235fd",
              "version_major": 2,
              "version_minor": 0
            },
            "text/plain": [
              "  0%|          | 0/4 [00:00<?, ?it/s]"
            ]
          },
          "metadata": {},
          "output_type": "display_data"
        }
      ],
      "source": [
        "def save_pred(preds, file):\n",
        "    ''' Save predictions to specified file '''\n",
        "    with open(file, 'w') as fp:\n",
        "        writer = csv.writer(fp)\n",
        "        writer.writerow(['id', 'tested_positive'])\n",
        "        for i, p in enumerate(preds):\n",
        "            writer.writerow([i, p])\n",
        "\n",
        "model = My_Model(input_dim=x_train.shape[1]).to(device)\n",
        "idx = np.argmin(valid_scores)\n",
        "load_path = f'./models/boss_folds/boss_{idx}fold.ckpt'\n",
        "model.load_state_dict(torch.load(load_path))\n",
        "preds = predict(test_loader, model, device) \n",
        "\n",
        "model_2 = My_Model_2(input_dim=x_train.shape[1]).to(device)\n",
        "idx = np.argmin(valid_scores_2)\n",
        "load_path = f'./models/boss_folds/boss2_{idx}fold.ckpt'\n",
        "model_2.load_state_dict(torch.load(load_path))\n",
        "preds_2 = predict(test_loader, model_2, device)\n",
        "\n",
        "model_3 = My_Model_3(input_dim=x_train.shape[1]).to(device)\n",
        "idx = np.argmin(valid_scores_3)\n",
        "load_path = f'./models/boss_folds/boss3_{idx}fold.ckpt'\n",
        "model_3.load_state_dict(torch.load(load_path))\n",
        "preds_3 = predict(test_loader, model_3, device)\n",
        "\n",
        "# 使用集成预测\n",
        "# preds_rf = model_rf.predict(x_test)\n",
        "# preds_svm = model_svr.predict(x_test)\n",
        "# preds_gbr = model_gbr.predict(x_test)\n",
        "preds = (preds + preds_2 + preds_3) / 3\n",
        "save_pred(preds, 'boss.csv')"
      ]
    },
    {
      "cell_type": "markdown",
      "metadata": {
        "id": "IJ_k5rY0GvSV"
      },
      "source": [
        "# Reference\n",
        "This notebook uses code written by Heng-Jui Chang @ NTUEE (https://github.com/ga642381/ML2021-Spring/blob/main/HW01/HW01.ipynb)"
      ]
    }
  ],
  "metadata": {
    "accelerator": "GPU",
    "colab": {
      "provenance": []
    },
    "gpuClass": "standard",
    "kernelspec": {
      "display_name": "Python 3",
      "name": "python3"
    },
    "language_info": {
      "codemirror_mode": {
        "name": "ipython",
        "version": 3
      },
      "file_extension": ".py",
      "mimetype": "text/x-python",
      "name": "python",
      "nbconvert_exporter": "python",
      "pygments_lexer": "ipython3",
      "version": "3.9.18"
    }
  },
  "nbformat": 4,
  "nbformat_minor": 0
}
