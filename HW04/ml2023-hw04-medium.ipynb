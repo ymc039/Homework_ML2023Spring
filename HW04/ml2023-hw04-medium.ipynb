{
 "cells": [
  {
   "cell_type": "markdown",
   "id": "3133aa38",
   "metadata": {
    "id": "C_jdZ5vHJ4A9",
    "papermill": {
     "duration": 0.008288,
     "end_time": "2024-04-30T11:30:58.269622",
     "exception": false,
     "start_time": "2024-04-30T11:30:58.261334",
     "status": "completed"
    },
    "tags": []
   },
   "source": [
    "# Task description\n",
    "- Classify the speakers of given features.\n",
    "- Main goal: Learn how to use transformer.\n",
    "- Baselines:\n",
    "  - Easy: Run sample code and know how to use transformer.\n",
    "  - Medium: Know how to adjust parameters of transformer.\n",
    "  - Strong: Construct [conformer](https://arxiv.org/abs/2005.08100) which is a variety of transformer. \n",
    "  - Boss: Implement [Self-Attention Pooling](https://arxiv.org/pdf/2008.01077v1.pdf) & [Additive Margin Softmax](https://arxiv.org/pdf/1801.05599.pdf) to further boost the performance.\n",
    "\n",
    "- Other links\n",
    "  - Competiton: [link](https://www.kaggle.com/t/49ea0c385a974db5919ec67299ba2e6b)\n",
    "  - Slide: [link](https://docs.google.com/presentation/d/1LDAW0GGrC9B6D7dlNdYzQL6D60-iKgFr/edit?usp=sharing&ouid=104280564485377739218&rtpof=true&sd=true)\n",
    "  - Data: [link](https://github.com/googly-mingto/ML2023HW4/releases)\n",
    "\n",
    "# Download dataset\n",
    "- Data is [here](https://drive.google.com/drive/folders/1vI1kuLB-q1VilIftiwnPOCAeOOFfBZge?usp=sharing)"
   ]
  },
  {
   "cell_type": "code",
   "execution_count": 6,
   "id": "09edc1b2",
   "metadata": {
    "execution": {
     "iopub.execute_input": "2024-04-30T11:30:58.287209Z",
     "iopub.status.busy": "2024-04-30T11:30:58.286541Z",
     "iopub.status.idle": "2024-04-30T11:31:02.016187Z",
     "shell.execute_reply": "2024-04-30T11:31:02.015354Z"
    },
    "id": "E6burzCXIyuA",
    "papermill": {
     "duration": 3.741059,
     "end_time": "2024-04-30T11:31:02.018553",
     "exception": false,
     "start_time": "2024-04-30T11:30:58.277494",
     "status": "completed"
    },
    "tags": []
   },
   "outputs": [],
   "source": [
    "import numpy as np\n",
    "import torch\n",
    "import random\n",
    "\n",
    "def set_seed(seed):\n",
    "    np.random.seed(seed)\n",
    "    random.seed(seed)\n",
    "    torch.manual_seed(seed)\n",
    "    if torch.cuda.is_available():\n",
    "        torch.cuda.manual_seed(seed)\n",
    "        torch.cuda.manual_seed_all(seed)\n",
    "    torch.backends.cudnn.benchmark = False\n",
    "    torch.backends.cudnn.deterministic = True\n",
    "\n",
    "set_seed(87)"
   ]
  },
  {
   "cell_type": "markdown",
   "id": "f7f31f2f",
   "metadata": {
    "id": "k7dVbxW2LASN",
    "papermill": {
     "duration": 0.00768,
     "end_time": "2024-04-30T11:31:02.034520",
     "exception": false,
     "start_time": "2024-04-30T11:31:02.026840",
     "status": "completed"
    },
    "tags": []
   },
   "source": [
    "# Data\n",
    "\n",
    "## Dataset\n",
    "- Original dataset is [Voxceleb2](https://www.robots.ox.ac.uk/~vgg/data/voxceleb/vox2.html).\n",
    "- The [license](https://creativecommons.org/licenses/by/4.0/) and [complete version](https://www.robots.ox.ac.uk/~vgg/data/voxceleb/files/license.txt) of Voxceleb2.\n",
    "- We randomly select 600 speakers from Voxceleb2.\n",
    "- Then preprocess the raw waveforms into mel-spectrograms.\n",
    "\n",
    "- Args:\n",
    "  - data_dir: The path to the data directory.\n",
    "  - metadata_path: The path to the metadata.\n",
    "  - segment_len: The length of audio segment for training. \n",
    "- The architecture of data directory \\\\\n",
    "  - data directory \\\\\n",
    "  |---- metadata.json \\\\\n",
    "  |---- testdata.json \\\\\n",
    "  |---- mapping.json \\\\\n",
    "  |---- uttr-{random string}.pt \\\\\n",
    "\n",
    "- The information in metadata\n",
    "  - \"n_mels\": The dimention of mel-spectrogram.\n",
    "  - \"speakers\": A dictionary. \n",
    "    - Key: speaker ids.\n",
    "    - value: \"feature_path\" and \"mel_len\"\n",
    "\n",
    "\n",
    "For efficiency, we segment the mel-spectrograms into segments in the traing step."
   ]
  },
  {
   "cell_type": "code",
   "execution_count": 7,
   "id": "f123e9cb",
   "metadata": {
    "execution": {
     "iopub.execute_input": "2024-04-30T11:31:02.051585Z",
     "iopub.status.busy": "2024-04-30T11:31:02.051204Z",
     "iopub.status.idle": "2024-04-30T11:31:02.062774Z",
     "shell.execute_reply": "2024-04-30T11:31:02.062023Z"
    },
    "id": "KpuGxl4CI2pr",
    "papermill": {
     "duration": 0.022364,
     "end_time": "2024-04-30T11:31:02.064631",
     "exception": false,
     "start_time": "2024-04-30T11:31:02.042267",
     "status": "completed"
    },
    "tags": []
   },
   "outputs": [],
   "source": [
    "import os\n",
    "import json\n",
    "from pathlib import Path\n",
    "from torch.utils.data import Dataset\n",
    "from torch.nn.utils.rnn import pad_sequence\n",
    "\n",
    "\n",
    "class myDataset(Dataset):\n",
    "    def __init__(self, data_dir, segment_len=128):\n",
    "        self.data_dir = data_dir\n",
    "        self.segment_len = segment_len\n",
    "\n",
    "        # Load the mapping from speaker neme to their corresponding id.\n",
    "        mapping_path = Path(data_dir) / \"mapping.json\"\n",
    "        mapping = json.load(mapping_path.open())\n",
    "        self.speaker2id = mapping[\"speaker2id\"]\n",
    "\n",
    "        # Load metadata of training data.\n",
    "        metadata_path = Path(data_dir) / \"metadata.json\"\n",
    "        metadata = json.load(open(metadata_path))[\"speakers\"]\n",
    "\n",
    "        # Get the total number of speaker.\n",
    "        self.speaker_num = len(metadata.keys())\n",
    "        self.data = []\n",
    "        for speaker in metadata.keys():\n",
    "            for utterances in metadata[speaker]:\n",
    "                self.data.append([utterances[\"feature_path\"], self.speaker2id[speaker]])\n",
    "\n",
    "    def __len__(self):\n",
    "        return len(self.data)\n",
    "\n",
    "    def __getitem__(self, index):\n",
    "        feat_path, speaker = self.data[index]\n",
    "        # Load preprocessed mel-spectrogram.\n",
    "        mel = torch.load(os.path.join(self.data_dir, feat_path))\n",
    "\n",
    "        # Segmemt mel-spectrogram into \"segment_len\" frames.\n",
    "        if len(mel) > self.segment_len:\n",
    "            # Randomly get the starting point of the segment.\n",
    "            start = random.randint(0, len(mel) - self.segment_len)\n",
    "            # Get a segment with \"segment_len\" frames.\n",
    "            mel = torch.FloatTensor(mel[start : start + self.segment_len])\n",
    "        else:\n",
    "            mel = torch.FloatTensor(mel)\n",
    "        # Turn the speaker id into long for computing loss later.\n",
    "        speaker = torch.FloatTensor([speaker]).long()\n",
    "        return mel, speaker\n",
    "\n",
    "    def get_speaker_number(self):\n",
    "        return self.speaker_num"
   ]
  },
  {
   "cell_type": "markdown",
   "id": "e9111dbb",
   "metadata": {
    "id": "668hverTMlGN",
    "papermill": {
     "duration": 0.007539,
     "end_time": "2024-04-30T11:31:02.079852",
     "exception": false,
     "start_time": "2024-04-30T11:31:02.072313",
     "status": "completed"
    },
    "tags": []
   },
   "source": [
    "## Dataloader\n",
    "- Split dataset into training dataset(90%) and validation dataset(10%).\n",
    "- Create dataloader to iterate the data."
   ]
  },
  {
   "cell_type": "code",
   "execution_count": 8,
   "id": "5ae5f82d",
   "metadata": {
    "execution": {
     "iopub.execute_input": "2024-04-30T11:31:02.096667Z",
     "iopub.status.busy": "2024-04-30T11:31:02.096399Z",
     "iopub.status.idle": "2024-04-30T11:31:02.104550Z",
     "shell.execute_reply": "2024-04-30T11:31:02.103739Z"
    },
    "id": "B7c2gZYoJDRS",
    "papermill": {
     "duration": 0.018877,
     "end_time": "2024-04-30T11:31:02.106463",
     "exception": false,
     "start_time": "2024-04-30T11:31:02.087586",
     "status": "completed"
    },
    "tags": []
   },
   "outputs": [],
   "source": [
    "from torch.utils.data import DataLoader, random_split\n",
    "\n",
    "\n",
    "def collate_batch(batch):\n",
    "\t# Process features within a batch.\n",
    "\t\"\"\"Collate a batch of data.\"\"\"\n",
    "\tmel, speaker = zip(*batch)\n",
    "\t# Because we train the model batch by batch, we need to pad the features in the same batch to make their lengths the same.\n",
    "\tmel = pad_sequence(mel, batch_first=True, padding_value=-20)    # pad log 10^(-20) which is very small value.\n",
    "\t# mel: (batch size, length, 40)\n",
    "\treturn mel, torch.FloatTensor(speaker).long()\n",
    "\n",
    "\n",
    "def get_dataloader(data_dir, batch_size, n_workers):\n",
    "\t\"\"\"Generate dataloader\"\"\"\n",
    "\tdataset = myDataset(data_dir)\n",
    "\tspeaker_num = dataset.get_speaker_number()\n",
    "\t# Split dataset into training dataset and validation dataset\n",
    "\ttrainlen = int(0.9 * len(dataset))\n",
    "\tlengths = [trainlen, len(dataset) - trainlen]\n",
    "\ttrainset, validset = random_split(dataset, lengths)\n",
    "\n",
    "\ttrain_loader = DataLoader(\n",
    "\t\ttrainset,\n",
    "\t\tbatch_size=batch_size,\n",
    "\t\tshuffle=True,\n",
    "\t\tdrop_last=True,\n",
    "\t\tnum_workers=n_workers,\n",
    "\t\tpin_memory=True,\n",
    "\t\tcollate_fn=collate_batch,\n",
    "\t)\n",
    "\tvalid_loader = DataLoader(\n",
    "\t\tvalidset,\n",
    "\t\tbatch_size=batch_size,\n",
    "\t\tnum_workers=n_workers,\n",
    "\t\tdrop_last=True,\n",
    "\t\tpin_memory=True,\n",
    "\t\tcollate_fn=collate_batch,\n",
    "\t)\n",
    "\n",
    "\treturn train_loader, valid_loader, speaker_num"
   ]
  },
  {
   "cell_type": "markdown",
   "id": "73181af9",
   "metadata": {
    "id": "5FOSZYxrMqhc",
    "papermill": {
     "duration": 0.007697,
     "end_time": "2024-04-30T11:31:02.121808",
     "exception": false,
     "start_time": "2024-04-30T11:31:02.114111",
     "status": "completed"
    },
    "tags": []
   },
   "source": [
    "# Model\n",
    "- TransformerEncoderLayer:\n",
    "  - Base transformer encoder layer in [Attention Is All You Need](https://arxiv.org/abs/1706.03762)\n",
    "  - Parameters:\n",
    "    - d_model: the number of expected features of the input (required).\n",
    "\n",
    "    - nhead: the number of heads of the multiheadattention models (required).\n",
    "\n",
    "    - dim_feedforward: the dimension of the feedforward network model (default=2048).\n",
    "\n",
    "    - dropout: the dropout value (default=0.1).\n",
    "\n",
    "    - activation: the activation function of intermediate layer, relu or gelu (default=relu).\n",
    "\n",
    "- TransformerEncoder:\n",
    "  - TransformerEncoder is a stack of N transformer encoder layers\n",
    "  - Parameters:\n",
    "    - encoder_layer: an instance of the TransformerEncoderLayer() class (required).\n",
    "\n",
    "    - num_layers: the number of sub-encoder-layers in the encoder (required).\n",
    "\n",
    "    - norm: the layer normalization component (optional)."
   ]
  },
  {
   "cell_type": "code",
   "execution_count": 9,
   "id": "7e800a3b",
   "metadata": {
    "execution": {
     "iopub.execute_input": "2024-04-30T11:31:02.138924Z",
     "iopub.status.busy": "2024-04-30T11:31:02.138305Z",
     "iopub.status.idle": "2024-04-30T11:31:02.147177Z",
     "shell.execute_reply": "2024-04-30T11:31:02.146326Z"
    },
    "id": "iXZ5B0EKJGs8",
    "papermill": {
     "duration": 0.01963,
     "end_time": "2024-04-30T11:31:02.149081",
     "exception": false,
     "start_time": "2024-04-30T11:31:02.129451",
     "status": "completed"
    },
    "tags": []
   },
   "outputs": [],
   "source": [
    "import torch.nn as nn\n",
    "import torch.nn.functional as F\n",
    "\n",
    "\n",
    "class Classifier(nn.Module):\n",
    "\tdef __init__(self, d_model=512, n_spks=600, dropout=0.1):\n",
    "\t\tsuper().__init__()\n",
    "\t\t# Project the dimension of features from that of input into d_model.\n",
    "\t\tself.prenet = nn.Linear(40, d_model)\n",
    "\t\t# TODO:\n",
    "\t\t#   Change Transformer to Conformer.\n",
    "\t\t#   https://arxiv.org/abs/2005.08100\n",
    "\t\tself.encoder_layer = nn.TransformerEncoderLayer(\n",
    "\t\t\td_model=d_model, dim_feedforward=256, nhead=16\n",
    "\t\t)\n",
    "\t\t# self.encoder = nn.TransformerEncoder(self.encoder_layer, num_layers=2)\n",
    "\n",
    "\t\t# Project the the dimension of features from d_model into speaker nums.\n",
    "\t\tself.pred_layer = nn.Sequential(\n",
    "\t\t\tnn.Linear(d_model, 2*d_model),\n",
    "\t\t\tnn.Sigmoid(),\n",
    "            nn.Dropout(dropout),\n",
    "\t\t\tnn.Linear(2*d_model, n_spks),\n",
    "\t\t)\n",
    "\n",
    "\t\t# 使用conformer改写encoder_layer\n",
    "\t\t# self.encoder_layer = ConformerEncoderLayer(\n",
    "\t\t# \td_model=d_model, nhead=2, dim_feedforward=256\n",
    "\t\t# )\n",
    "\tdef forward(self, mels):\n",
    "\t\t\"\"\"\n",
    "\t\targs:\n",
    "\t\t\tmels: (batch size, length, 40)\n",
    "\t\treturn:\n",
    "\t\t\tout: (batch size, n_spks)\n",
    "\t\t\"\"\"\n",
    "\t\t# out: (batch size, length, d_model)\n",
    "\t\tout = self.prenet(mels)\n",
    "\t\t# out: (length, batch size, d_model)\n",
    "\t\tout = out.permute(1, 0, 2)\n",
    "\t\t# The encoder layer expect features in the shape of (length, batch size, d_model).\n",
    "\t\tout = self.encoder_layer(out)\n",
    "\t\t# out: (batch size, length, d_model)\n",
    "\t\tout = out.transpose(0, 1)\n",
    "\t\t# mean pooling\n",
    "\t\tstats = out.mean(dim=1)\n",
    "\n",
    "\t\t# out: (batch, n_spks)\n",
    "\t\tout = self.pred_layer(stats)\n",
    "\t\treturn out\n",
    "\t\n"
   ]
  },
  {
   "cell_type": "markdown",
   "id": "74d8c741",
   "metadata": {
    "id": "W7yX8JinM5Ly",
    "papermill": {
     "duration": 0.007598,
     "end_time": "2024-04-30T11:31:02.164594",
     "exception": false,
     "start_time": "2024-04-30T11:31:02.156996",
     "status": "completed"
    },
    "tags": []
   },
   "source": [
    "# Learning rate schedule\n",
    "- For transformer architecture, the design of learning rate schedule is different from that of CNN.\n",
    "- Previous works show that the warmup of learning rate is useful for training models with transformer architectures.\n",
    "- The warmup schedule\n",
    "  - Set learning rate to 0 in the beginning.\n",
    "  - The learning rate increases linearly from 0 to initial learning rate during warmup period."
   ]
  },
  {
   "cell_type": "code",
   "execution_count": 10,
   "id": "fd76dec5",
   "metadata": {
    "execution": {
     "iopub.execute_input": "2024-04-30T11:31:02.181583Z",
     "iopub.status.busy": "2024-04-30T11:31:02.180947Z",
     "iopub.status.idle": "2024-04-30T11:31:02.188948Z",
     "shell.execute_reply": "2024-04-30T11:31:02.188085Z"
    },
    "id": "ykt0N1nVJJi2",
    "papermill": {
     "duration": 0.018585,
     "end_time": "2024-04-30T11:31:02.190832",
     "exception": false,
     "start_time": "2024-04-30T11:31:02.172247",
     "status": "completed"
    },
    "tags": []
   },
   "outputs": [],
   "source": [
    "import math\n",
    "\n",
    "from torch.optim import Optimizer\n",
    "from torch.optim.lr_scheduler import LambdaLR\n",
    "\n",
    "\n",
    "def get_cosine_schedule_with_warmup(\n",
    "\toptimizer: Optimizer,\n",
    "\tnum_warmup_steps: int,\n",
    "\tnum_training_steps: int,\n",
    "\tnum_cycles: float = 0.5,\n",
    "\tlast_epoch: int = -1,\n",
    "):\n",
    "\t\"\"\"\n",
    "\tCreate a schedule with a learning rate that decreases following the values of the cosine function between the\n",
    "\tinitial lr set in the optimizer to 0, after a warmup period during which it increases linearly between 0 and the\n",
    "\tinitial lr set in the optimizer.\n",
    "\n",
    "\tArgs:\n",
    "\t\toptimizer (:class:`~torch.optim.Optimizer`):\n",
    "\t\tThe optimizer for which to schedule the learning rate.\n",
    "\t\tnum_warmup_steps (:obj:`int`):\n",
    "\t\tThe number of steps for the warmup phase.\n",
    "\t\tnum_training_steps (:obj:`int`):\n",
    "\t\tThe total number of training steps.\n",
    "\t\tnum_cycles (:obj:`float`, `optional`, defaults to 0.5):\n",
    "\t\tThe number of waves in the cosine schedule (the defaults is to just decrease from the max value to 0\n",
    "\t\tfollowing a half-cosine).\n",
    "\t\tlast_epoch (:obj:`int`, `optional`, defaults to -1):\n",
    "\t\tThe index of the last epoch when resuming training.\n",
    "\n",
    "\tReturn:\n",
    "\t\t:obj:`torch.optim.lr_scheduler.LambdaLR` with the appropriate schedule.\n",
    "\t\"\"\"\n",
    "\tdef lr_lambda(current_step):\n",
    "\t\t# Warmup\n",
    "\t\tif current_step < num_warmup_steps:\n",
    "\t\t\treturn float(current_step) / float(max(1, num_warmup_steps))\n",
    "\t\t# decadence\n",
    "\t\tprogress = float(current_step - num_warmup_steps) / float(\n",
    "\t\t\tmax(1, num_training_steps - num_warmup_steps)\n",
    "\t\t)\n",
    "\t\treturn max(\n",
    "\t\t\t0.0, 0.5 * (1.0 + math.cos(math.pi * float(num_cycles) * 2.0 * progress))\n",
    "\t\t)\n",
    "\n",
    "\treturn LambdaLR(optimizer, lr_lambda, last_epoch)"
   ]
  },
  {
   "cell_type": "markdown",
   "id": "aae87bd0",
   "metadata": {
    "id": "-LN2XkteM_uH",
    "papermill": {
     "duration": 0.007476,
     "end_time": "2024-04-30T11:31:02.205985",
     "exception": false,
     "start_time": "2024-04-30T11:31:02.198509",
     "status": "completed"
    },
    "tags": []
   },
   "source": [
    "# Model Function\n",
    "- Model forward function."
   ]
  },
  {
   "cell_type": "code",
   "execution_count": 11,
   "id": "2ef585eb",
   "metadata": {
    "execution": {
     "iopub.execute_input": "2024-04-30T11:31:02.223503Z",
     "iopub.status.busy": "2024-04-30T11:31:02.222680Z",
     "iopub.status.idle": "2024-04-30T11:31:02.228516Z",
     "shell.execute_reply": "2024-04-30T11:31:02.227708Z"
    },
    "id": "N-rr8529JMz0",
    "papermill": {
     "duration": 0.016788,
     "end_time": "2024-04-30T11:31:02.230546",
     "exception": false,
     "start_time": "2024-04-30T11:31:02.213758",
     "status": "completed"
    },
    "tags": []
   },
   "outputs": [],
   "source": [
    "\n",
    "\n",
    "def model_fn(batch, model, criterion, device):\n",
    "\t\"\"\"Forward a batch through the model.\"\"\"\n",
    "\n",
    "\tmels, labels = batch\n",
    "\tmels = mels.to(device)\n",
    "\tlabels = labels.to(device)\n",
    "\n",
    "\touts = model(mels)\n",
    "\n",
    "\tloss = criterion(outs, labels)\n",
    "\n",
    "\t# Get the speaker id with highest probability.\n",
    "\tpreds = outs.argmax(1)\n",
    "\t# Compute accuracy.\n",
    "\taccuracy = torch.mean((preds == labels).float())\n",
    "\n",
    "\treturn loss, accuracy"
   ]
  },
  {
   "cell_type": "markdown",
   "id": "527bdce3",
   "metadata": {
    "id": "cwM_xyOtNCI2",
    "papermill": {
     "duration": 0.007658,
     "end_time": "2024-04-30T11:31:02.246845",
     "exception": false,
     "start_time": "2024-04-30T11:31:02.239187",
     "status": "completed"
    },
    "tags": []
   },
   "source": [
    "# Validate\n",
    "- Calculate accuracy of the validation set."
   ]
  },
  {
   "cell_type": "code",
   "execution_count": 12,
   "id": "143bdba9",
   "metadata": {
    "execution": {
     "iopub.execute_input": "2024-04-30T11:31:02.264310Z",
     "iopub.status.busy": "2024-04-30T11:31:02.263679Z",
     "iopub.status.idle": "2024-04-30T11:31:02.271164Z",
     "shell.execute_reply": "2024-04-30T11:31:02.270254Z"
    },
    "id": "YAiv6kpdJRTJ",
    "papermill": {
     "duration": 0.018388,
     "end_time": "2024-04-30T11:31:02.273179",
     "exception": false,
     "start_time": "2024-04-30T11:31:02.254791",
     "status": "completed"
    },
    "tags": []
   },
   "outputs": [],
   "source": [
    "from tqdm import tqdm\n",
    "\n",
    "\n",
    "def valid(dataloader, model, criterion, device):\n",
    "    \"\"\"Validate on validation set.\"\"\"\n",
    "\n",
    "    model.eval()\n",
    "    running_loss = 0.0\n",
    "    running_accuracy = 0.0\n",
    "    pbar = tqdm(total=len(dataloader.dataset), ncols=0, desc=\"Valid\", unit=\" uttr\")\n",
    "\n",
    "    for i, batch in enumerate(dataloader):\n",
    "        with torch.no_grad():\n",
    "            loss, accuracy = model_fn(batch, model, criterion, device)\n",
    "            running_loss += loss.item()\n",
    "            running_accuracy += accuracy.item()\n",
    "\n",
    "        pbar.update(dataloader.batch_size)\n",
    "        pbar.set_postfix(\n",
    "            loss=f\"{running_loss / (i+1):.2f}\",\n",
    "            accuracy=f\"{running_accuracy / (i+1):.2f}\",\n",
    "        )\n",
    "\n",
    "    pbar.close()\n",
    "    model.train()\n",
    "\n",
    "    return running_accuracy / len(dataloader)"
   ]
  },
  {
   "cell_type": "markdown",
   "id": "3c973a7a",
   "metadata": {
    "id": "g6ne9G-eNEdG",
    "papermill": {
     "duration": 0.007898,
     "end_time": "2024-04-30T11:31:02.288930",
     "exception": false,
     "start_time": "2024-04-30T11:31:02.281032",
     "status": "completed"
    },
    "tags": []
   },
   "source": [
    "# Main function"
   ]
  },
  {
   "cell_type": "code",
   "execution_count": 8,
   "id": "cf38605d",
   "metadata": {
    "execution": {
     "iopub.execute_input": "2024-04-30T11:31:02.306395Z",
     "iopub.status.busy": "2024-04-30T11:31:02.305762Z",
     "iopub.status.idle": "2024-04-30T11:48:27.904611Z",
     "shell.execute_reply": "2024-04-30T11:48:27.903552Z"
    },
    "id": "Usv9s-CuJSG7",
    "outputId": "f4f6a983-3559-4f36-efae-402bbf790473",
    "papermill": {
     "duration": 1051.266054,
     "end_time": "2024-04-30T11:48:33.562815",
     "exception": false,
     "start_time": "2024-04-30T11:31:02.296761",
     "status": "completed"
    },
    "tags": []
   },
   "outputs": [
    {
     "name": "stdout",
     "output_type": "stream",
     "text": [
      "[Info]: Use cuda now!\n",
      "[Info]: Finish loading data!\n",
      "[Info]: Finish creating model!\n"
     ]
    },
    {
     "name": "stderr",
     "output_type": "stream",
     "text": [
      "Train: 100% 2000/2000 [01:33<00:00, 21.33 step/s, accuracy=0.16, loss=3.65, step=2000]\n",
      "Valid: 100% 5664/5667 [00:07<00:00, 764.31 uttr/s, accuracy=0.15, loss=4.04]\n",
      "Train: 100% 2000/2000 [01:29<00:00, 22.37 step/s, accuracy=0.12, loss=3.65, step=4000]\n",
      "Valid: 100% 5664/5667 [00:05<00:00, 1091.30 uttr/s, accuracy=0.27, loss=3.34]\n",
      "Train: 100% 2000/2000 [01:29<00:00, 22.23 step/s, accuracy=0.41, loss=2.52, step=6000]\n",
      "Valid: 100% 5664/5667 [00:05<00:00, 1116.84 uttr/s, accuracy=0.35, loss=2.91]\n",
      "Train: 100% 2000/2000 [01:33<00:00, 21.28 step/s, accuracy=0.44, loss=2.18, step=8000]\n",
      "Valid: 100% 5664/5667 [00:05<00:00, 1073.58 uttr/s, accuracy=0.41, loss=2.65]\n",
      "Train: 100% 2000/2000 [01:30<00:00, 21.99 step/s, accuracy=0.47, loss=2.30, step=1e+4]\n",
      "Valid: 100% 5664/5667 [00:05<00:00, 1107.38 uttr/s, accuracy=0.46, loss=2.43]\n",
      "Train:   0% 4/2000 [00:00<01:31, 21.74 step/s, accuracy=0.56, loss=1.84, step=1e+4]"
     ]
    },
    {
     "name": "stdout",
     "output_type": "stream",
     "text": [
      "Step 10000, best model saved. (accuracy=0.4562)\n"
     ]
    },
    {
     "name": "stderr",
     "output_type": "stream",
     "text": [
      "Train: 100% 2000/2000 [01:35<00:00, 20.85 step/s, accuracy=0.50, loss=1.98, step=12000]\n",
      "Valid: 100% 5664/5667 [00:05<00:00, 1082.89 uttr/s, accuracy=0.48, loss=2.29]\n",
      "Train: 100% 2000/2000 [01:41<00:00, 19.63 step/s, accuracy=0.47, loss=1.96, step=14000]\n",
      "Valid: 100% 5664/5667 [00:05<00:00, 1099.77 uttr/s, accuracy=0.49, loss=2.25]\n",
      "Train: 100% 2000/2000 [01:44<00:00, 19.10 step/s, accuracy=0.59, loss=1.74, step=16000]\n",
      "Valid: 100% 5664/5667 [00:05<00:00, 1130.45 uttr/s, accuracy=0.53, loss=2.11]\n",
      "Train: 100% 2000/2000 [01:45<00:00, 18.89 step/s, accuracy=0.56, loss=1.80, step=18000]\n",
      "Valid: 100% 5664/5667 [00:05<00:00, 1082.09 uttr/s, accuracy=0.54, loss=2.06]\n",
      "Train: 100% 2000/2000 [01:45<00:00, 18.95 step/s, accuracy=0.78, loss=1.06, step=2e+4] \n",
      "Valid: 100% 5664/5667 [00:05<00:00, 1119.13 uttr/s, accuracy=0.55, loss=2.00]\n",
      "Train:   0% 4/2000 [00:00<01:37, 20.55 step/s, accuracy=0.47, loss=2.01, step=2e+4]"
     ]
    },
    {
     "name": "stdout",
     "output_type": "stream",
     "text": [
      "Step 20000, best model saved. (accuracy=0.5549)\n"
     ]
    },
    {
     "name": "stderr",
     "output_type": "stream",
     "text": [
      "Train: 100% 2000/2000 [01:46<00:00, 18.81 step/s, accuracy=0.66, loss=1.53, step=22000]\n",
      "Valid: 100% 5664/5667 [00:05<00:00, 1095.76 uttr/s, accuracy=0.57, loss=1.92]\n",
      "Train: 100% 2000/2000 [01:47<00:00, 18.68 step/s, accuracy=0.78, loss=0.88, step=24000]\n",
      "Valid: 100% 5664/5667 [00:05<00:00, 1088.52 uttr/s, accuracy=0.59, loss=1.81]\n",
      "Train: 100% 2000/2000 [01:47<00:00, 18.64 step/s, accuracy=0.75, loss=1.10, step=26000]\n",
      "Valid: 100% 5664/5667 [00:05<00:00, 1094.31 uttr/s, accuracy=0.60, loss=1.77]\n",
      "Train: 100% 2000/2000 [01:47<00:00, 18.60 step/s, accuracy=0.72, loss=1.29, step=28000]\n",
      "Valid: 100% 5664/5667 [00:05<00:00, 1103.93 uttr/s, accuracy=0.61, loss=1.77]\n",
      "Train: 100% 2000/2000 [01:49<00:00, 18.30 step/s, accuracy=0.59, loss=1.77, step=3e+4] \n",
      "Valid: 100% 5664/5667 [00:05<00:00, 1119.08 uttr/s, accuracy=0.61, loss=1.77]\n",
      "Train:   0% 4/2000 [00:00<01:39, 20.13 step/s, accuracy=0.72, loss=1.30, step=3e+4]"
     ]
    },
    {
     "name": "stdout",
     "output_type": "stream",
     "text": [
      "Step 30000, best model saved. (accuracy=0.6109)\n"
     ]
    },
    {
     "name": "stderr",
     "output_type": "stream",
     "text": [
      "Train: 100% 2000/2000 [01:47<00:00, 18.56 step/s, accuracy=0.75, loss=0.89, step=32000]\n",
      "Valid: 100% 5664/5667 [00:05<00:00, 1093.16 uttr/s, accuracy=0.63, loss=1.65]\n",
      "Train: 100% 2000/2000 [01:47<00:00, 18.63 step/s, accuracy=0.69, loss=1.27, step=34000]\n",
      "Valid: 100% 5664/5667 [00:05<00:00, 1125.06 uttr/s, accuracy=0.63, loss=1.65]\n",
      "Train: 100% 2000/2000 [01:47<00:00, 18.59 step/s, accuracy=0.75, loss=0.92, step=36000]\n",
      "Valid: 100% 5664/5667 [00:05<00:00, 1061.51 uttr/s, accuracy=0.64, loss=1.59]\n",
      "Train: 100% 2000/2000 [01:50<00:00, 18.03 step/s, accuracy=0.78, loss=0.84, step=38000]\n",
      "Valid: 100% 5664/5667 [00:05<00:00, 1057.50 uttr/s, accuracy=0.66, loss=1.49]\n",
      "Train: 100% 2000/2000 [01:51<00:00, 17.87 step/s, accuracy=0.78, loss=0.63, step=4e+4] \n",
      "Valid: 100% 5664/5667 [00:05<00:00, 1071.52 uttr/s, accuracy=0.66, loss=1.56]\n",
      "Train:   0% 3/2000 [00:00<01:37, 20.41 step/s, accuracy=0.84, loss=0.66, step=4e+4]"
     ]
    },
    {
     "name": "stdout",
     "output_type": "stream",
     "text": [
      "Step 40000, best model saved. (accuracy=0.6605)\n"
     ]
    },
    {
     "name": "stderr",
     "output_type": "stream",
     "text": [
      "Train: 100% 2000/2000 [01:50<00:00, 18.18 step/s, accuracy=0.75, loss=0.85, step=42000]\n",
      "Valid: 100% 5664/5667 [00:05<00:00, 1113.58 uttr/s, accuracy=0.67, loss=1.52]\n",
      "Train: 100% 2000/2000 [01:51<00:00, 17.93 step/s, accuracy=0.72, loss=0.89, step=44000]\n",
      "Valid: 100% 5664/5667 [00:05<00:00, 1126.70 uttr/s, accuracy=0.68, loss=1.46]\n",
      "Train: 100% 2000/2000 [01:48<00:00, 18.42 step/s, accuracy=0.72, loss=0.92, step=46000]\n",
      "Valid: 100% 5664/5667 [00:05<00:00, 1095.85 uttr/s, accuracy=0.68, loss=1.45]\n",
      "Train: 100% 2000/2000 [01:49<00:00, 18.21 step/s, accuracy=0.88, loss=0.62, step=48000]\n",
      "Valid: 100% 5664/5667 [00:05<00:00, 1117.91 uttr/s, accuracy=0.68, loss=1.42]\n",
      "Train: 100% 2000/2000 [01:50<00:00, 18.07 step/s, accuracy=0.81, loss=0.74, step=5e+4] \n",
      "Valid: 100% 5664/5667 [00:05<00:00, 1088.49 uttr/s, accuracy=0.69, loss=1.39]\n",
      "Train:   0% 3/2000 [00:00<01:40, 19.87 step/s, accuracy=0.88, loss=0.41, step=5e+4]"
     ]
    },
    {
     "name": "stdout",
     "output_type": "stream",
     "text": [
      "Step 50000, best model saved. (accuracy=0.6886)\n"
     ]
    },
    {
     "name": "stderr",
     "output_type": "stream",
     "text": [
      "Train: 100% 2000/2000 [01:50<00:00, 18.13 step/s, accuracy=0.78, loss=0.69, step=52000]\n",
      "Valid: 100% 5664/5667 [00:05<00:00, 1073.56 uttr/s, accuracy=0.70, loss=1.39]\n",
      "Train: 100% 2000/2000 [01:51<00:00, 17.98 step/s, accuracy=0.84, loss=0.51, step=54000]\n",
      "Valid: 100% 5664/5667 [00:05<00:00, 1051.46 uttr/s, accuracy=0.70, loss=1.36]\n",
      "Train: 100% 2000/2000 [01:50<00:00, 18.17 step/s, accuracy=0.81, loss=0.64, step=56000]\n",
      "Valid: 100% 5664/5667 [00:05<00:00, 1058.83 uttr/s, accuracy=0.71, loss=1.34]\n",
      "Train: 100% 2000/2000 [01:51<00:00, 17.98 step/s, accuracy=0.84, loss=1.01, step=58000]\n",
      "Valid: 100% 5664/5667 [00:05<00:00, 1056.08 uttr/s, accuracy=0.71, loss=1.33]\n",
      "Train: 100% 2000/2000 [01:51<00:00, 18.01 step/s, accuracy=0.88, loss=0.44, step=6e+4] \n",
      "Valid: 100% 5664/5667 [00:05<00:00, 1082.81 uttr/s, accuracy=0.71, loss=1.30]\n",
      "Train:   0% 3/2000 [00:00<01:41, 19.74 step/s, accuracy=0.88, loss=0.63, step=6e+4]"
     ]
    },
    {
     "name": "stdout",
     "output_type": "stream",
     "text": [
      "Step 60000, best model saved. (accuracy=0.7147)\n"
     ]
    },
    {
     "name": "stderr",
     "output_type": "stream",
     "text": [
      "Train: 100% 2000/2000 [01:50<00:00, 18.04 step/s, accuracy=0.88, loss=0.68, step=62000]\n",
      "Valid: 100% 5664/5667 [00:05<00:00, 1102.09 uttr/s, accuracy=0.72, loss=1.33]\n",
      "Train: 100% 2000/2000 [01:52<00:00, 17.71 step/s, accuracy=0.88, loss=0.52, step=64000]\n",
      "Valid: 100% 5664/5667 [00:05<00:00, 1027.18 uttr/s, accuracy=0.71, loss=1.34]\n",
      "Train: 100% 2000/2000 [01:53<00:00, 17.67 step/s, accuracy=0.94, loss=0.37, step=66000]\n",
      "Valid: 100% 5664/5667 [00:05<00:00, 1040.36 uttr/s, accuracy=0.72, loss=1.29]\n",
      "Train: 100% 2000/2000 [01:50<00:00, 18.05 step/s, accuracy=0.84, loss=0.53, step=68000]\n",
      "Valid: 100% 5664/5667 [00:05<00:00, 1009.26 uttr/s, accuracy=0.72, loss=1.29]\n",
      "Train: 100% 2000/2000 [01:48<00:00, 18.45 step/s, accuracy=0.88, loss=0.47, step=7e+4] \n",
      "Valid: 100% 5664/5667 [00:05<00:00, 1055.22 uttr/s, accuracy=0.72, loss=1.28]\n",
      "Train:   0% 0/2000 [00:00<?, ? step/s]"
     ]
    },
    {
     "name": "stdout",
     "output_type": "stream",
     "text": [
      "Step 70000, best model saved. (accuracy=0.7216)\n"
     ]
    },
    {
     "name": "stderr",
     "output_type": "stream",
     "text": [
      "\n"
     ]
    }
   ],
   "source": [
    "import torch.nn as nn\n",
    "from torch.optim import AdamW\n",
    "from torch.utils.data import DataLoader, random_split\n",
    "from torch.utils.tensorboard import SummaryWriter\n",
    "\n",
    "global exp_name\n",
    "exp_name = \"512dmodel_16head_0.5drop_widefc\"  \n",
    "\n",
    "writer = SummaryWriter(\"./runs/\"+exp_name)\n",
    "\n",
    "def parse_args():\n",
    "\t\"\"\"arguments\"\"\"\n",
    "\tconfig = {\n",
    "\t\t\"data_dir\": \"./Dataset\",\n",
    "\t\t\"save_path\": exp_name+\".ckpt\",\n",
    "\t\t\"batch_size\": 32,\n",
    "\t\t\"n_workers\": 0,\n",
    "\t\t\"valid_steps\": 2000,\n",
    "\t\t\"warmup_steps\": 1000,\n",
    "\t\t\"save_steps\": 10000,\n",
    "\t\t\"total_steps\": 70000,\n",
    "\t}\n",
    "\n",
    "\treturn config\n",
    "\n",
    "\n",
    "def main(\n",
    "\tdata_dir,\n",
    "\tsave_path,\n",
    "\tbatch_size,\n",
    "\tn_workers,\n",
    "\tvalid_steps,\n",
    "\twarmup_steps,\n",
    "\ttotal_steps,\n",
    "\tsave_steps,\n",
    "):\n",
    "\t\"\"\"Main function.\"\"\"\n",
    "\tdevice = torch.device(\"cuda\" if torch.cuda.is_available() else \"cpu\")# Use GPU if available\n",
    "\tprint(f\"[Info]: Use {device} now!\")# Print device used\n",
    "\n",
    "\ttrain_loader, valid_loader, speaker_num = get_dataloader(data_dir, batch_size, n_workers)# Get data\n",
    "\ttrain_iterator = iter(train_loader)# Get data iterator\n",
    "\tprint(f\"[Info]: Finish loading data!\",flush = True)# Print finish loading data\n",
    "\n",
    "\tmodel = Classifier(n_spks=speaker_num).to(device)# Create model\n",
    "\tcriterion = nn.CrossEntropyLoss()# Define loss function\n",
    "\toptimizer = AdamW(model.parameters(), lr=1e-3)# Define optimizer\n",
    "\tscheduler = get_cosine_schedule_with_warmup(optimizer, warmup_steps, total_steps)\n",
    "\tprint(f\"[Info]: Finish creating model!\",flush = True)\n",
    "\n",
    "\tbest_accuracy = -1.0\n",
    "\tbest_state_dict = None\n",
    "\n",
    "\tpbar = tqdm(total=valid_steps, ncols=0, desc=\"Train\", unit=\" step\", position=0)# Create progress bar\n",
    "\n",
    "\tfor step in range(total_steps):\n",
    "\t\t# Get data\n",
    "\t\ttry:\n",
    "\t\t\tbatch = next(train_iterator)\n",
    "\t\texcept StopIteration:\n",
    "\t\t\ttrain_iterator = iter(train_loader)\n",
    "\t\t\tbatch = next(train_iterator)\n",
    "\n",
    "\t\tloss, accuracy = model_fn(batch, model, criterion, device)\n",
    "\t\tbatch_loss = loss.item()\n",
    "\t\tbatch_accuracy = accuracy.item()\n",
    "\n",
    "\t\t# Updata model\n",
    "\t\tloss.backward()\n",
    "\t\toptimizer.step()\n",
    "\t\tscheduler.step()\n",
    "\t\toptimizer.zero_grad()\n",
    "\n",
    "\t\t# Log\n",
    "\t\tpbar.update()\n",
    "\t\tpbar.set_postfix(\n",
    "\t\t\tloss=f\"{batch_loss:.2f}\",\n",
    "\t\t\taccuracy=f\"{batch_accuracy:.2f}\",\n",
    "\t\t\tstep=step + 1,\n",
    "\t\t)\n",
    "\n",
    "\t\t# Do validation\n",
    "\t\tif (step + 1) % valid_steps == 0:\n",
    "\t\t\tpbar.close()\n",
    "\n",
    "\t\t\tvalid_accuracy = valid(valid_loader, model, criterion, device)\n",
    "\n",
    "\t\t\t# keep the best model\n",
    "\t\t\tif valid_accuracy > best_accuracy:\n",
    "\t\t\t\tbest_accuracy = valid_accuracy\n",
    "\t\t\t\tbest_state_dict = model.state_dict()\n",
    "\n",
    "\t\t\tpbar = tqdm(total=valid_steps, ncols=0, desc=\"Train\", unit=\" step\", position=0)\n",
    "\t\t\twriter.add_scalar(\"Acc/valid\", valid_accuracy, step+1)\n",
    "\t\t\t\n",
    "\t\twriter.add_scalar(\"Acc/train\", batch_accuracy, step+1)\n",
    "\t\t\n",
    "\n",
    "\t\t# Save the best model so far.\n",
    "\t\tif (step + 1) % save_steps == 0 and best_state_dict is not None:\n",
    "\t\t\ttorch.save(best_state_dict, save_path)\n",
    "\t\t\tpbar.write(f\"Step {step + 1}, best model saved. (accuracy={best_accuracy:.4f})\")\n",
    "\n",
    "\tpbar.close()\n",
    "\n",
    "\n",
    "if __name__ == \"__main__\":\n",
    "\tmain(**parse_args())"
   ]
  },
  {
   "cell_type": "markdown",
   "id": "25ebc5d8",
   "metadata": {
    "id": "NLatBYAhNNMx",
    "papermill": {
     "duration": 7.024452,
     "end_time": "2024-04-30T11:48:47.565634",
     "exception": false,
     "start_time": "2024-04-30T11:48:40.541182",
     "status": "completed"
    },
    "tags": []
   },
   "source": [
    "# Inference\n",
    "\n",
    "## Dataset of inference"
   ]
  },
  {
   "cell_type": "code",
   "execution_count": 2,
   "id": "34e83b1e",
   "metadata": {
    "execution": {
     "iopub.execute_input": "2024-04-30T11:49:01.566816Z",
     "iopub.status.busy": "2024-04-30T11:49:01.565367Z",
     "iopub.status.idle": "2024-04-30T11:49:01.574133Z",
     "shell.execute_reply": "2024-04-30T11:49:01.573085Z"
    },
    "id": "efS4pCmAJXJH",
    "papermill": {
     "duration": 6.946717,
     "end_time": "2024-04-30T11:49:01.576213",
     "exception": false,
     "start_time": "2024-04-30T11:48:54.629496",
     "status": "completed"
    },
    "tags": []
   },
   "outputs": [],
   "source": [
    "from torch.utils.data import Dataset\n",
    "\n",
    "\n",
    "class InferenceDataset(Dataset):\n",
    "\tdef __init__(self, data_dir):\n",
    "\t\ttestdata_path = Path(data_dir) / \"testdata.json\"\n",
    "\t\tmetadata = json.load(testdata_path.open())\n",
    "\t\tself.data_dir = data_dir\n",
    "\t\tself.data = metadata[\"utterances\"]\n",
    "\n",
    "\tdef __len__(self):\n",
    "\t\treturn len(self.data)\n",
    "\n",
    "\tdef __getitem__(self, index):\n",
    "\t\tutterance = self.data[index]\n",
    "\t\tfeat_path = utterance[\"feature_path\"]\n",
    "\t\tmel = torch.load(os.path.join(self.data_dir, feat_path))\n",
    "\n",
    "\t\treturn feat_path, mel\n",
    "\n",
    "\n",
    "def inference_collate_batch(batch):\n",
    "\t\"\"\"Collate a batch of data.\"\"\"\n",
    "\tfeat_paths, mels = zip(*batch)\n",
    "\n",
    "\treturn feat_paths, torch.stack(mels)"
   ]
  },
  {
   "cell_type": "markdown",
   "id": "4c833728",
   "metadata": {
    "id": "tl0WnYwxNK_S",
    "papermill": {
     "duration": 6.96178,
     "end_time": "2024-04-30T11:49:15.527385",
     "exception": false,
     "start_time": "2024-04-30T11:49:08.565605",
     "status": "completed"
    },
    "tags": []
   },
   "source": [
    "## Main funcrion of Inference"
   ]
  },
  {
   "cell_type": "code",
   "execution_count": 13,
   "id": "0600712e",
   "metadata": {
    "execution": {
     "iopub.execute_input": "2024-04-30T11:49:29.484216Z",
     "iopub.status.busy": "2024-04-30T11:49:29.483862Z",
     "iopub.status.idle": "2024-04-30T11:49:50.427417Z",
     "shell.execute_reply": "2024-04-30T11:49:50.426308Z"
    },
    "id": "i8SAbuXEJb2A",
    "outputId": "3808f409-19c9-426c-dc15-1b88b0c21645",
    "papermill": {
     "duration": 27.979186,
     "end_time": "2024-04-30T11:49:50.429504",
     "exception": false,
     "start_time": "2024-04-30T11:49:22.450318",
     "status": "completed"
    },
    "tags": []
   },
   "outputs": [
    {
     "name": "stdout",
     "output_type": "stream",
     "text": [
      "[Info]: Use cuda now!\n",
      "[Info]: Finish loading data!\n"
     ]
    },
    {
     "name": "stdout",
     "output_type": "stream",
     "text": [
      "[Info]: Finish creating model!\n"
     ]
    },
    {
     "data": {
      "application/vnd.jupyter.widget-view+json": {
       "model_id": "7cb70063b2dd4435905b806cae435d8a",
       "version_major": 2,
       "version_minor": 0
      },
      "text/plain": [
       "  0%|          | 0/8000 [00:00<?, ?it/s]"
      ]
     },
     "metadata": {},
     "output_type": "display_data"
    }
   ],
   "source": [
    "import csv\n",
    "from tqdm.notebook import tqdm\n",
    "import torch\n",
    "\n",
    "def parse_args():\n",
    "\t\"\"\"arguments\"\"\"\n",
    "\tconfig = {\n",
    "\t\t\"data_dir\": \"./Dataset\",\n",
    "\t\t\"model_path\": \"./\"+exp_name+\".ckpt\",\n",
    "\t\t\"output_path\": \"./\"+exp_name+\".csv\",\n",
    "\t}\n",
    "\n",
    "\treturn config\n",
    "\n",
    "\n",
    "def main(\n",
    "\tdata_dir,\n",
    "\tmodel_path,\n",
    "\toutput_path,\n",
    "):\n",
    "\t\"\"\"Main function.\"\"\"\n",
    "\tdevice = torch.device(\"cuda\" if torch.cuda.is_available() else \"cpu\")\n",
    "\tprint(f\"[Info]: Use {device} now!\")\n",
    "\n",
    "\tmapping_path = Path(data_dir) / \"mapping.json\"\n",
    "\tmapping = json.load(mapping_path.open())\n",
    "\n",
    "\tdataset = InferenceDataset(data_dir)\n",
    "\tdataloader = DataLoader(\n",
    "\t\tdataset,\n",
    "\t\tbatch_size=1,\n",
    "\t\tshuffle=False,\n",
    "\t\tdrop_last=False,\n",
    "\t\tnum_workers=0,\n",
    "\t\tcollate_fn=inference_collate_batch,\n",
    "\t)\n",
    "\tprint(f\"[Info]: Finish loading data!\",flush = True)\n",
    "\n",
    "\tspeaker_num = len(mapping[\"id2speaker\"])\n",
    "\tmodel = Classifier(n_spks=speaker_num).to(device)\n",
    "\tmodel.load_state_dict(torch.load(model_path))\n",
    "\tmodel.eval()\n",
    "\tprint(f\"[Info]: Finish creating model!\",flush = True)\n",
    "\n",
    "\tresults = [[\"Id\", \"Category\"]]\n",
    "\tfor feat_paths, mels in tqdm(dataloader):\n",
    "\t\twith torch.no_grad():\n",
    "\t\t\tmels = mels.to(device)\n",
    "\t\t\touts = model(mels)\n",
    "\t\t\tpreds = outs.argmax(1).cpu().numpy()\n",
    "\t\t\tfor feat_path, pred in zip(feat_paths, preds):\n",
    "\t\t\t\tresults.append([feat_path, mapping[\"id2speaker\"][str(pred)]])\n",
    "\n",
    "\twith open(output_path, 'w', newline='') as csvfile:\n",
    "\t\twriter = csv.writer(csvfile)\n",
    "\t\twriter.writerows(results)\n",
    "\n",
    "\n",
    "if __name__ == \"__main__\":\n",
    "\tmain(**parse_args())"
   ]
  }
 ],
 "metadata": {
  "accelerator": "GPU",
  "colab": {
   "provenance": []
  },
  "gpuClass": "standard",
  "kaggle": {
   "accelerator": "gpu",
   "dataSources": [
    {
     "databundleVersionId": 5149531,
     "sourceId": 48666,
     "sourceType": "competition"
    }
   ],
   "dockerImageVersionId": 30699,
   "isGpuEnabled": true,
   "isInternetEnabled": false,
   "language": "python",
   "sourceType": "notebook"
  },
  "kernelspec": {
   "display_name": "Python 3",
   "language": "python",
   "name": "python3"
  },
  "language_info": {
   "codemirror_mode": {
    "name": "ipython",
    "version": 3
   },
   "file_extension": ".py",
   "mimetype": "text/x-python",
   "name": "python",
   "nbconvert_exporter": "python",
   "pygments_lexer": "ipython3",
   "version": "3.9.18"
  },
  "papermill": {
   "default_parameters": {},
   "duration": 1145.610954,
   "end_time": "2024-04-30T11:50:01.003496",
   "environment_variables": {},
   "exception": null,
   "input_path": "__notebook__.ipynb",
   "output_path": "__notebook__.ipynb",
   "parameters": {},
   "start_time": "2024-04-30T11:30:55.392542",
   "version": "2.5.0"
  },
  "widgets": {
   "application/vnd.jupyter.widget-state+json": {
    "state": {
     "117269446cf14c03bca055dfa732f5cd": {
      "model_module": "@jupyter-widgets/controls",
      "model_module_version": "1.5.0",
      "model_name": "DescriptionStyleModel",
      "state": {
       "_model_module": "@jupyter-widgets/controls",
       "_model_module_version": "1.5.0",
       "_model_name": "DescriptionStyleModel",
       "_view_count": null,
       "_view_module": "@jupyter-widgets/base",
       "_view_module_version": "1.2.0",
       "_view_name": "StyleView",
       "description_width": ""
      }
     },
     "21884d88f2b84c74b555d94760b50f79": {
      "model_module": "@jupyter-widgets/controls",
      "model_module_version": "1.5.0",
      "model_name": "HBoxModel",
      "state": {
       "_dom_classes": [],
       "_model_module": "@jupyter-widgets/controls",
       "_model_module_version": "1.5.0",
       "_model_name": "HBoxModel",
       "_view_count": null,
       "_view_module": "@jupyter-widgets/controls",
       "_view_module_version": "1.5.0",
       "_view_name": "HBoxView",
       "box_style": "",
       "children": [
        "IPY_MODEL_4e788bc6cf234fb78b9499c19ed22464",
        "IPY_MODEL_320c4eac9c7a45fca7b18a22de45e52c",
        "IPY_MODEL_a3207bb82d6a4fab9498b54909ee61d3"
       ],
       "layout": "IPY_MODEL_d448bb450bbb47af98c31a72b52103b6"
      }
     },
     "2ceef38dbf584500a45d9a6ef368f921": {
      "model_module": "@jupyter-widgets/controls",
      "model_module_version": "1.5.0",
      "model_name": "ProgressStyleModel",
      "state": {
       "_model_module": "@jupyter-widgets/controls",
       "_model_module_version": "1.5.0",
       "_model_name": "ProgressStyleModel",
       "_view_count": null,
       "_view_module": "@jupyter-widgets/base",
       "_view_module_version": "1.2.0",
       "_view_name": "StyleView",
       "bar_color": null,
       "description_width": ""
      }
     },
     "320c4eac9c7a45fca7b18a22de45e52c": {
      "model_module": "@jupyter-widgets/controls",
      "model_module_version": "1.5.0",
      "model_name": "FloatProgressModel",
      "state": {
       "_dom_classes": [],
       "_model_module": "@jupyter-widgets/controls",
       "_model_module_version": "1.5.0",
       "_model_name": "FloatProgressModel",
       "_view_count": null,
       "_view_module": "@jupyter-widgets/controls",
       "_view_module_version": "1.5.0",
       "_view_name": "ProgressView",
       "bar_style": "success",
       "description": "",
       "description_tooltip": null,
       "layout": "IPY_MODEL_b6bf27fd940e49c2a75f7fb1373764ae",
       "max": 8000,
       "min": 0,
       "orientation": "horizontal",
       "style": "IPY_MODEL_2ceef38dbf584500a45d9a6ef368f921",
       "value": 8000
      }
     },
     "4e788bc6cf234fb78b9499c19ed22464": {
      "model_module": "@jupyter-widgets/controls",
      "model_module_version": "1.5.0",
      "model_name": "HTMLModel",
      "state": {
       "_dom_classes": [],
       "_model_module": "@jupyter-widgets/controls",
       "_model_module_version": "1.5.0",
       "_model_name": "HTMLModel",
       "_view_count": null,
       "_view_module": "@jupyter-widgets/controls",
       "_view_module_version": "1.5.0",
       "_view_name": "HTMLView",
       "description": "",
       "description_tooltip": null,
       "layout": "IPY_MODEL_9068e052c3a44aedaa73ad291e9f878a",
       "placeholder": "​",
       "style": "IPY_MODEL_ed2f09ca10984a5980fe110828ff41db",
       "value": "100%"
      }
     },
     "9068e052c3a44aedaa73ad291e9f878a": {
      "model_module": "@jupyter-widgets/base",
      "model_module_version": "1.2.0",
      "model_name": "LayoutModel",
      "state": {
       "_model_module": "@jupyter-widgets/base",
       "_model_module_version": "1.2.0",
       "_model_name": "LayoutModel",
       "_view_count": null,
       "_view_module": "@jupyter-widgets/base",
       "_view_module_version": "1.2.0",
       "_view_name": "LayoutView",
       "align_content": null,
       "align_items": null,
       "align_self": null,
       "border": null,
       "bottom": null,
       "display": null,
       "flex": null,
       "flex_flow": null,
       "grid_area": null,
       "grid_auto_columns": null,
       "grid_auto_flow": null,
       "grid_auto_rows": null,
       "grid_column": null,
       "grid_gap": null,
       "grid_row": null,
       "grid_template_areas": null,
       "grid_template_columns": null,
       "grid_template_rows": null,
       "height": null,
       "justify_content": null,
       "justify_items": null,
       "left": null,
       "margin": null,
       "max_height": null,
       "max_width": null,
       "min_height": null,
       "min_width": null,
       "object_fit": null,
       "object_position": null,
       "order": null,
       "overflow": null,
       "overflow_x": null,
       "overflow_y": null,
       "padding": null,
       "right": null,
       "top": null,
       "visibility": null,
       "width": null
      }
     },
     "a3207bb82d6a4fab9498b54909ee61d3": {
      "model_module": "@jupyter-widgets/controls",
      "model_module_version": "1.5.0",
      "model_name": "HTMLModel",
      "state": {
       "_dom_classes": [],
       "_model_module": "@jupyter-widgets/controls",
       "_model_module_version": "1.5.0",
       "_model_name": "HTMLModel",
       "_view_count": null,
       "_view_module": "@jupyter-widgets/controls",
       "_view_module_version": "1.5.0",
       "_view_name": "HTMLView",
       "description": "",
       "description_tooltip": null,
       "layout": "IPY_MODEL_ef6572f5819043b98a9b1efcbb8b7ffb",
       "placeholder": "​",
       "style": "IPY_MODEL_117269446cf14c03bca055dfa732f5cd",
       "value": " 8000/8000 [00:20&lt;00:00, 396.70it/s]"
      }
     },
     "b6bf27fd940e49c2a75f7fb1373764ae": {
      "model_module": "@jupyter-widgets/base",
      "model_module_version": "1.2.0",
      "model_name": "LayoutModel",
      "state": {
       "_model_module": "@jupyter-widgets/base",
       "_model_module_version": "1.2.0",
       "_model_name": "LayoutModel",
       "_view_count": null,
       "_view_module": "@jupyter-widgets/base",
       "_view_module_version": "1.2.0",
       "_view_name": "LayoutView",
       "align_content": null,
       "align_items": null,
       "align_self": null,
       "border": null,
       "bottom": null,
       "display": null,
       "flex": null,
       "flex_flow": null,
       "grid_area": null,
       "grid_auto_columns": null,
       "grid_auto_flow": null,
       "grid_auto_rows": null,
       "grid_column": null,
       "grid_gap": null,
       "grid_row": null,
       "grid_template_areas": null,
       "grid_template_columns": null,
       "grid_template_rows": null,
       "height": null,
       "justify_content": null,
       "justify_items": null,
       "left": null,
       "margin": null,
       "max_height": null,
       "max_width": null,
       "min_height": null,
       "min_width": null,
       "object_fit": null,
       "object_position": null,
       "order": null,
       "overflow": null,
       "overflow_x": null,
       "overflow_y": null,
       "padding": null,
       "right": null,
       "top": null,
       "visibility": null,
       "width": null
      }
     },
     "d448bb450bbb47af98c31a72b52103b6": {
      "model_module": "@jupyter-widgets/base",
      "model_module_version": "1.2.0",
      "model_name": "LayoutModel",
      "state": {
       "_model_module": "@jupyter-widgets/base",
       "_model_module_version": "1.2.0",
       "_model_name": "LayoutModel",
       "_view_count": null,
       "_view_module": "@jupyter-widgets/base",
       "_view_module_version": "1.2.0",
       "_view_name": "LayoutView",
       "align_content": null,
       "align_items": null,
       "align_self": null,
       "border": null,
       "bottom": null,
       "display": null,
       "flex": null,
       "flex_flow": null,
       "grid_area": null,
       "grid_auto_columns": null,
       "grid_auto_flow": null,
       "grid_auto_rows": null,
       "grid_column": null,
       "grid_gap": null,
       "grid_row": null,
       "grid_template_areas": null,
       "grid_template_columns": null,
       "grid_template_rows": null,
       "height": null,
       "justify_content": null,
       "justify_items": null,
       "left": null,
       "margin": null,
       "max_height": null,
       "max_width": null,
       "min_height": null,
       "min_width": null,
       "object_fit": null,
       "object_position": null,
       "order": null,
       "overflow": null,
       "overflow_x": null,
       "overflow_y": null,
       "padding": null,
       "right": null,
       "top": null,
       "visibility": null,
       "width": null
      }
     },
     "ed2f09ca10984a5980fe110828ff41db": {
      "model_module": "@jupyter-widgets/controls",
      "model_module_version": "1.5.0",
      "model_name": "DescriptionStyleModel",
      "state": {
       "_model_module": "@jupyter-widgets/controls",
       "_model_module_version": "1.5.0",
       "_model_name": "DescriptionStyleModel",
       "_view_count": null,
       "_view_module": "@jupyter-widgets/base",
       "_view_module_version": "1.2.0",
       "_view_name": "StyleView",
       "description_width": ""
      }
     },
     "ef6572f5819043b98a9b1efcbb8b7ffb": {
      "model_module": "@jupyter-widgets/base",
      "model_module_version": "1.2.0",
      "model_name": "LayoutModel",
      "state": {
       "_model_module": "@jupyter-widgets/base",
       "_model_module_version": "1.2.0",
       "_model_name": "LayoutModel",
       "_view_count": null,
       "_view_module": "@jupyter-widgets/base",
       "_view_module_version": "1.2.0",
       "_view_name": "LayoutView",
       "align_content": null,
       "align_items": null,
       "align_self": null,
       "border": null,
       "bottom": null,
       "display": null,
       "flex": null,
       "flex_flow": null,
       "grid_area": null,
       "grid_auto_columns": null,
       "grid_auto_flow": null,
       "grid_auto_rows": null,
       "grid_column": null,
       "grid_gap": null,
       "grid_row": null,
       "grid_template_areas": null,
       "grid_template_columns": null,
       "grid_template_rows": null,
       "height": null,
       "justify_content": null,
       "justify_items": null,
       "left": null,
       "margin": null,
       "max_height": null,
       "max_width": null,
       "min_height": null,
       "min_width": null,
       "object_fit": null,
       "object_position": null,
       "order": null,
       "overflow": null,
       "overflow_x": null,
       "overflow_y": null,
       "padding": null,
       "right": null,
       "top": null,
       "visibility": null,
       "width": null
      }
     }
    },
    "version_major": 2,
    "version_minor": 0
   }
  }
 },
 "nbformat": 4,
 "nbformat_minor": 5
}
