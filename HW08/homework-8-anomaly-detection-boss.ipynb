{
 "cells": [
  {
   "cell_type": "markdown",
   "id": "f96ffa79",
   "metadata": {
    "id": "YiVfKn-6tXz8",
    "papermill": {
     "duration": 0.009123,
     "end_time": "2024-06-10T13:27:24.504077",
     "exception": false,
     "start_time": "2024-06-10T13:27:24.494954",
     "status": "completed"
    },
    "tags": []
   },
   "source": [
    "# **Homework 8 - Anomaly Detection**\n",
    "\n",
    "If there are any questions, please contact mlta-2023-spring@googlegroups.com\n",
    "\n",
    "Slide:    [Link](https://docs.google.com/presentation/d/18LkR8qulwSbi3SVoLl1XNNGjQQ_qczs_35lrJWOmHCk/edit?usp=sharing)　Kaggle: [Link](https://www.kaggle.com/t/c76950cc460140eba30a576ca7668d28)"
   ]
  },
  {
   "cell_type": "markdown",
   "id": "6d80397f",
   "metadata": {
    "id": "bDk9r2YOcDc9",
    "papermill": {
     "duration": 0.007622,
     "end_time": "2024-06-10T13:27:24.519808",
     "exception": false,
     "start_time": "2024-06-10T13:27:24.512186",
     "status": "completed"
    },
    "tags": []
   },
   "source": [
    "# Set up the environment\n"
   ]
  },
  {
   "cell_type": "markdown",
   "id": "9011cb19",
   "metadata": {
    "id": "Oi12tJMYWi0Q",
    "papermill": {
     "duration": 0.007514,
     "end_time": "2024-06-10T13:27:24.535172",
     "exception": false,
     "start_time": "2024-06-10T13:27:24.527658",
     "status": "completed"
    },
    "tags": []
   },
   "source": [
    "## Package installation"
   ]
  },
  {
   "cell_type": "code",
   "execution_count": 1,
   "id": "d31c8ed5",
   "metadata": {
    "execution": {
     "iopub.execute_input": "2024-06-10T13:27:24.553358Z",
     "iopub.status.busy": "2024-06-10T13:27:24.552415Z",
     "iopub.status.idle": "2024-06-10T13:27:39.254073Z",
     "shell.execute_reply": "2024-06-10T13:27:39.252938Z"
    },
    "id": "7LexxyPWWjJB",
    "outputId": "426da937-cac2-46d2-cb20-c517a0e867ba",
    "papermill": {
     "duration": 14.713737,
     "end_time": "2024-06-10T13:27:39.256783",
     "exception": false,
     "start_time": "2024-06-10T13:27:24.543046",
     "status": "completed"
    },
    "tags": []
   },
   "outputs": [
    {
     "name": "stdout",
     "output_type": "stream",
     "text": [
      "\u001b[33mWARNING: Running pip as the 'root' user can result in broken permissions and conflicting behaviour with the system package manager. It is recommended to use a virtual environment instead: https://pip.pypa.io/warnings/venv\u001b[0m\u001b[33m\r\n",
      "\u001b[0m"
     ]
    }
   ],
   "source": [
    "# Training progress bar\n",
    "!pip install -q qqdm"
   ]
  },
  {
   "cell_type": "markdown",
   "id": "04dbe95c",
   "metadata": {
    "id": "DCgNXSsEWuY7",
    "papermill": {
     "duration": 0.00777,
     "end_time": "2024-06-10T13:27:39.273174",
     "exception": false,
     "start_time": "2024-06-10T13:27:39.265404",
     "status": "completed"
    },
    "tags": []
   },
   "source": [
    "## Downloading data"
   ]
  },
  {
   "cell_type": "code",
   "execution_count": 2,
   "id": "d4a549c2",
   "metadata": {
    "execution": {
     "iopub.execute_input": "2024-06-10T13:27:39.291126Z",
     "iopub.status.busy": "2024-06-10T13:27:39.290477Z",
     "iopub.status.idle": "2024-06-10T13:27:57.809470Z",
     "shell.execute_reply": "2024-06-10T13:27:57.808367Z"
    },
    "id": "e-yCMrIl4L60",
    "outputId": "a32513e3-27f5-4cfb-811a-35321e4a219b",
    "papermill": {
     "duration": 18.530928,
     "end_time": "2024-06-10T13:27:57.812159",
     "exception": false,
     "start_time": "2024-06-10T13:27:39.281231",
     "status": "completed"
    },
    "tags": []
   },
   "outputs": [
    {
     "name": "stdout",
     "output_type": "stream",
     "text": [
      "Detected operating system as Ubuntu/focal.\r\n",
      "Checking for curl...\r\n",
      "Detected curl...\r\n",
      "Checking for gpg...\r\n",
      "Detected gpg...\r\n",
      "Detected apt version as 2.0.9\r\n",
      "Running apt-get update... done.\r\n",
      "Installing apt-transport-https... done.\r\n",
      "Installing /etc/apt/sources.list.d/github_git-lfs.list...done.\r\n",
      "Importing packagecloud gpg key... Packagecloud gpg key imported to /etc/apt/keyrings/github_git-lfs-archive-keyring.gpg\r\n",
      "done.\r\n",
      "Running apt-get update... done.\r\n",
      "\r\n",
      "The repository is setup! You can now install packages.\r\n",
      "\r\n",
      "\r\n",
      "\r\n",
      "The following packages will be upgraded:\r\n",
      "  git-lfs\r\n",
      "1 upgraded, 0 newly installed, 0 to remove and 190 not upgraded.\r\n",
      "Need to get 7932 kB of archives.\r\n",
      "After this operation, 5852 kB of additional disk space will be used.\r\n",
      "Get:1 https://packagecloud.io/github/git-lfs/ubuntu focal/main amd64 git-lfs amd64 3.5.1 [7932 kB]\r\n",
      "Fetched 7932 kB in 0s (24.1 MB/s)\r\n",
      "(Reading database ... 111522 files and directories currently installed.)\r\n",
      "Preparing to unpack .../git-lfs_3.5.1_amd64.deb ...\r\n",
      "Unpacking git-lfs (3.5.1) over (2.9.2-1) ...\r\n",
      "Setting up git-lfs (3.5.1) ...\r\n",
      "Git LFS initialized.\r\n",
      "Processing triggers for man-db (2.9.1-1) ...\r\n"
     ]
    }
   ],
   "source": [
    "!curl -s https://packagecloud.io/install/repositories/github/git-lfs/script.deb.sh |  bash\n",
    "!apt-get install -y --allow-unauthenticated git-lfs"
   ]
  },
  {
   "cell_type": "code",
   "execution_count": 3,
   "id": "b9aeeebb",
   "metadata": {
    "execution": {
     "iopub.execute_input": "2024-06-10T13:27:57.836127Z",
     "iopub.status.busy": "2024-06-10T13:27:57.835392Z",
     "iopub.status.idle": "2024-06-10T13:27:59.218258Z",
     "shell.execute_reply": "2024-06-10T13:27:59.217025Z"
    },
    "papermill": {
     "duration": 1.397874,
     "end_time": "2024-06-10T13:27:59.221034",
     "exception": false,
     "start_time": "2024-06-10T13:27:57.823160",
     "status": "completed"
    },
    "tags": []
   },
   "outputs": [
    {
     "name": "stdout",
     "output_type": "stream",
     "text": [
      "Cloning into 'ml2023spring-hw8'...\r\n",
      "remote: Enumerating objects: 11, done.\u001b[K\r\n",
      "remote: Counting objects: 100% (11/11), done.\u001b[K\r\n",
      "remote: Compressing objects: 100% (10/10), done.\u001b[K\r\n",
      "remote: Total 11 (delta 2), reused 8 (delta 0), pack-reused 0\u001b[K\r\n",
      "Receiving objects: 100% (11/11), done.\r\n",
      "Resolving deltas: 100% (2/2), done.\r\n"
     ]
    }
   ],
   "source": [
    "!git clone https://github.com/chiyuanhsiao/ml2023spring-hw8"
   ]
  },
  {
   "cell_type": "code",
   "execution_count": 4,
   "id": "052b08a7",
   "metadata": {
    "execution": {
     "iopub.execute_input": "2024-06-10T13:27:59.246518Z",
     "iopub.status.busy": "2024-06-10T13:27:59.245641Z",
     "iopub.status.idle": "2024-06-10T13:28:35.385230Z",
     "shell.execute_reply": "2024-06-10T13:28:35.384101Z"
    },
    "papermill": {
     "duration": 36.15451,
     "end_time": "2024-06-10T13:28:35.387955",
     "exception": false,
     "start_time": "2024-06-10T13:27:59.233445",
     "status": "completed"
    },
    "tags": []
   },
   "outputs": [
    {
     "name": "stdout",
     "output_type": "stream",
     "text": [
      "/kaggle/working/ml2023spring-hw8\n",
      "Updated Git hooks.\r\n",
      "Git LFS initialized.\r\n",
      "Downloading LFS objects: 100% (2/2), 1.5 GB | 68 MB/s                           \r"
     ]
    }
   ],
   "source": [
    "%cd /kaggle/working/ml2023spring-hw8\n",
    "!git lfs install\n",
    "!git lfs pull"
   ]
  },
  {
   "cell_type": "markdown",
   "id": "a6b7f6e4",
   "metadata": {
    "id": "HNe7QU7n7cqh",
    "papermill": {
     "duration": 0.017958,
     "end_time": "2024-06-10T13:28:35.424550",
     "exception": false,
     "start_time": "2024-06-10T13:28:35.406592",
     "status": "completed"
    },
    "tags": []
   },
   "source": [
    "# Import packages"
   ]
  },
  {
   "cell_type": "code",
   "execution_count": 5,
   "id": "709c9b9b",
   "metadata": {
    "execution": {
     "iopub.execute_input": "2024-06-10T13:28:35.463034Z",
     "iopub.status.busy": "2024-06-10T13:28:35.462167Z",
     "iopub.status.idle": "2024-06-10T13:28:38.161490Z",
     "shell.execute_reply": "2024-06-10T13:28:38.160603Z"
    },
    "id": "Jk3qFK_a7k8P",
    "papermill": {
     "duration": 2.721611,
     "end_time": "2024-06-10T13:28:38.164206",
     "exception": false,
     "start_time": "2024-06-10T13:28:35.442595",
     "status": "completed"
    },
    "tags": []
   },
   "outputs": [],
   "source": [
    "import random\n",
    "import numpy as np\n",
    "import torch\n",
    "from torch import nn\n",
    "from torch.utils.data import DataLoader, RandomSampler, SequentialSampler, TensorDataset\n",
    "import torchvision.transforms as transforms\n",
    "import torch.nn.functional as F\n",
    "from torch.autograd import Variable\n",
    "import torchvision.models as models\n",
    "from torch.optim import Adam, AdamW\n",
    "from qqdm import qqdm, format_str\n",
    "import pandas as pd"
   ]
  },
  {
   "cell_type": "markdown",
   "id": "842af456",
   "metadata": {
    "id": "6X6fkGPnYyaF",
    "papermill": {
     "duration": 0.018151,
     "end_time": "2024-06-10T13:28:38.200851",
     "exception": false,
     "start_time": "2024-06-10T13:28:38.182700",
     "status": "completed"
    },
    "tags": []
   },
   "source": [
    "# Loading data"
   ]
  },
  {
   "cell_type": "code",
   "execution_count": 6,
   "id": "ed2db4ff",
   "metadata": {
    "execution": {
     "iopub.execute_input": "2024-06-10T13:28:38.240059Z",
     "iopub.status.busy": "2024-06-10T13:28:38.238965Z",
     "iopub.status.idle": "2024-06-10T13:28:38.755375Z",
     "shell.execute_reply": "2024-06-10T13:28:38.754189Z"
    },
    "id": "k7Wd4yiUYzAm",
    "outputId": "a96fb489-0499-4cf8-a792-1a4feda6d5f1",
    "papermill": {
     "duration": 0.538507,
     "end_time": "2024-06-10T13:28:38.757774",
     "exception": false,
     "start_time": "2024-06-10T13:28:38.219267",
     "status": "completed"
    },
    "tags": []
   },
   "outputs": [
    {
     "name": "stdout",
     "output_type": "stream",
     "text": [
      "(100000, 64, 64, 3)\n",
      "(19636, 64, 64, 3)\n"
     ]
    }
   ],
   "source": [
    "train = np.load('/kaggle/working/ml2023spring-hw8/trainingset.npy', allow_pickle=True)\n",
    "test = np.load('/kaggle/working/ml2023spring-hw8/testingset.npy', allow_pickle=True)\n",
    "\n",
    "print(train.shape)\n",
    "print(test.shape)"
   ]
  },
  {
   "cell_type": "markdown",
   "id": "406e0683",
   "metadata": {
    "id": "_flpmj6OYIa6",
    "papermill": {
     "duration": 0.019548,
     "end_time": "2024-06-10T13:28:38.795746",
     "exception": false,
     "start_time": "2024-06-10T13:28:38.776198",
     "status": "completed"
    },
    "tags": []
   },
   "source": [
    "## Random seed\n",
    "Set the random seed to a certain value for reproducibility."
   ]
  },
  {
   "cell_type": "code",
   "execution_count": 7,
   "id": "f692a014",
   "metadata": {
    "execution": {
     "iopub.execute_input": "2024-06-10T13:28:38.833741Z",
     "iopub.status.busy": "2024-06-10T13:28:38.832940Z",
     "iopub.status.idle": "2024-06-10T13:28:38.889865Z",
     "shell.execute_reply": "2024-06-10T13:28:38.888796Z"
    },
    "id": "Gb-dgXQYYI2Q",
    "papermill": {
     "duration": 0.078359,
     "end_time": "2024-06-10T13:28:38.892210",
     "exception": false,
     "start_time": "2024-06-10T13:28:38.813851",
     "status": "completed"
    },
    "tags": []
   },
   "outputs": [],
   "source": [
    "def same_seeds(seed):\n",
    "    random.seed(seed)\n",
    "    np.random.seed(seed)\n",
    "    torch.manual_seed(seed)\n",
    "    if torch.cuda.is_available():\n",
    "        torch.cuda.manual_seed(seed)\n",
    "        torch.cuda.manual_seed_all(seed)\n",
    "    torch.backends.cudnn.benchmark = False\n",
    "    torch.backends.cudnn.deterministic = True\n",
    "\n",
    "same_seeds(42)"
   ]
  },
  {
   "cell_type": "markdown",
   "id": "199b74b9",
   "metadata": {
    "id": "zR9zC0_Df-CR",
    "papermill": {
     "duration": 0.018218,
     "end_time": "2024-06-10T13:28:38.928703",
     "exception": false,
     "start_time": "2024-06-10T13:28:38.910485",
     "status": "completed"
    },
    "tags": []
   },
   "source": [
    "# Autoencoder"
   ]
  },
  {
   "cell_type": "markdown",
   "id": "91861e58",
   "metadata": {
    "id": "1EbfwRREhA7c",
    "papermill": {
     "duration": 0.017885,
     "end_time": "2024-06-10T13:28:38.965296",
     "exception": false,
     "start_time": "2024-06-10T13:28:38.947411",
     "status": "completed"
    },
    "tags": []
   },
   "source": [
    "# Models & loss"
   ]
  },
  {
   "cell_type": "code",
   "execution_count": 8,
   "id": "4a65d8cc",
   "metadata": {
    "execution": {
     "iopub.execute_input": "2024-06-10T13:28:39.003475Z",
     "iopub.status.busy": "2024-06-10T13:28:39.003119Z",
     "iopub.status.idle": "2024-06-10T13:28:39.036527Z",
     "shell.execute_reply": "2024-06-10T13:28:39.035553Z"
    },
    "id": "Wi8ds1fugCkR",
    "papermill": {
     "duration": 0.055107,
     "end_time": "2024-06-10T13:28:39.038614",
     "exception": false,
     "start_time": "2024-06-10T13:28:38.983507",
     "status": "completed"
    },
    "tags": []
   },
   "outputs": [],
   "source": [
    "class fcn_autoencoder(nn.Module):\n",
    "    def __init__(self):\n",
    "        super(fcn_autoencoder, self).__init__()\n",
    "        self.encoder = nn.Sequential(\n",
    "            nn.Linear(64 * 64 * 3, 4096),\n",
    "            nn.ReLU(),\n",
    "            nn.Linear(4096, 2048),\n",
    "            nn.ReLU(), \n",
    "            nn.Linear(2048, 1024), \n",
    "            nn.ReLU(), \n",
    "            nn.Linear(1024, 256),\n",
    "            nn.ReLU(),\n",
    "            nn.Linear(256, 128)\n",
    "        )    # Hint: dimension of latent space can be adjusted\n",
    "        \n",
    "        self.decoder = nn.Sequential(\n",
    "            nn.Linear(128, 256),\n",
    "            nn.ReLU(),\n",
    "            nn.Linear(256, 1024),\n",
    "            nn.ReLU(),\n",
    "            nn.Linear(1024, 2048),\n",
    "            nn.ReLU(),\n",
    "            nn.Linear(2048, 4096),\n",
    "            nn.ReLU(),\n",
    "            nn.Linear(4096, 64 * 64 * 3), \n",
    "            nn.Tanh()\n",
    "        )\n",
    "\n",
    "    def forward(self, x):\n",
    "        x = self.encoder(x)\n",
    "        x = self.decoder(x)\n",
    "        return x\n",
    "\n",
    "\n",
    "class conv_autoencoder(nn.Module):\n",
    "    def __init__(self):\n",
    "        super(conv_autoencoder, self).__init__()\n",
    "        self.encoder = nn.Sequential(\n",
    "            nn.Conv2d(3, 32, 4, stride=2, padding=1),\n",
    "            nn.BatchNorm2d(32),         \n",
    "            nn.ReLU(),\n",
    "            nn.Conv2d(32, 32, 4, stride=2, padding=1),\n",
    "            nn.BatchNorm2d(32),        \n",
    "            nn.ReLU(),\n",
    "            nn.Conv2d(32, 64, 4, stride=2, padding=1),\n",
    "            nn.BatchNorm2d(64),        \n",
    "            nn.ReLU(),\n",
    "            nn.Conv2d(64, 128, 4, stride=2, padding=1),\n",
    "            nn.BatchNorm2d(128),        \n",
    "            nn.ReLU(),\n",
    "\t\t\tnn.Flatten(),\n",
    "            nn.Linear(128*4*4, 128),\n",
    "            nn.BatchNorm1d(128),\n",
    "            nn.ReLU(),\n",
    "            nn.Linear(128, 30),\n",
    "        )   # Hint:  dimension of latent space can be adjusted\n",
    "        self.decoder = nn.Sequential(\n",
    "            nn.Linear(30, 128),\n",
    "            nn.BatchNorm1d(128),\n",
    "            nn.ReLU(),\n",
    "            nn.Linear(128, 128*4*4),\n",
    "            nn.BatchNorm1d(128*4*4),\n",
    "            nn.ReLU(),\n",
    "            nn.Unflatten(1, (128, 4, 4)),\n",
    "            nn.ConvTranspose2d(128, 64, 4, stride=2, padding=1),\n",
    "            nn.BatchNorm2d(64),         \n",
    "            nn.ReLU(),\n",
    "\t\t\tnn.ConvTranspose2d(64, 32, 4, stride=2, padding=1),\n",
    "            nn.BatchNorm2d(32),\n",
    "            nn.ReLU(),\n",
    "            nn.ConvTranspose2d(32, 32, 4, stride=2, padding=1),\n",
    "            nn.BatchNorm2d(32),\n",
    "            nn.ReLU(),\n",
    "\t\t\tnn.ConvTranspose2d(32, 3, 4, stride=2, padding=1),\n",
    "            nn.Tanh(),\n",
    "        )\n",
    "\n",
    "    def forward(self, x):\n",
    "        x = self.encoder(x)\n",
    "        x = self.decoder(x)\n",
    "        return x\n",
    "\n",
    "\n",
    "class VAE(nn.Module):\n",
    "    def __init__(self):\n",
    "        super(VAE, self).__init__()\n",
    "        self.encoder = nn.Sequential(\n",
    "            nn.Conv2d(3, 12, 4, stride=2, padding=1),            \n",
    "            nn.ReLU(),\n",
    "            nn.Conv2d(12, 24, 4, stride=2, padding=1),    \n",
    "            nn.ReLU(),\n",
    "        )\n",
    "        self.enc_out_1 = nn.Sequential(\n",
    "            nn.Conv2d(24, 48, 4, stride=2, padding=1),  \n",
    "            nn.ReLU(),\n",
    "        )\n",
    "        self.enc_out_2 = nn.Sequential(\n",
    "            nn.Conv2d(24, 48, 4, stride=2, padding=1),\n",
    "            nn.ReLU(),\n",
    "        )\n",
    "        # Hint: can add more layers to encoder and decoder\n",
    "        self.decoder = nn.Sequential(\n",
    "\t\t\t      nn.ConvTranspose2d(48, 24, 4, stride=2, padding=1), \n",
    "            nn.ReLU(),\n",
    "\t\t\t      nn.ConvTranspose2d(24, 12, 4, stride=2, padding=1), \n",
    "            nn.ReLU(),\n",
    "            nn.ConvTranspose2d(12, 3, 4, stride=2, padding=1), \n",
    "            nn.Tanh(),\n",
    "        )\n",
    "\n",
    "    def encode(self, x):\n",
    "        h1 = self.encoder(x)\n",
    "        return self.enc_out_1(h1), self.enc_out_2(h1)\n",
    "\n",
    "    def reparametrize(self, mu, logvar):\n",
    "        std = logvar.mul(0.5).exp_()\n",
    "        if torch.cuda.is_available():\n",
    "            eps = torch.cuda.FloatTensor(std.size()).normal_()\n",
    "        else:\n",
    "            eps = torch.FloatTensor(std.size()).normal_()\n",
    "        eps = Variable(eps)\n",
    "        return eps.mul(std).add_(mu)\n",
    "\n",
    "    def decode(self, z):\n",
    "        return self.decoder(z)\n",
    "\n",
    "    def forward(self, x):\n",
    "        mu, logvar = self.encode(x)\n",
    "        z = self.reparametrize(mu, logvar)\n",
    "        return self.decode(z), mu, logvar\n",
    "\n",
    "\n",
    "def loss_vae(recon_x, x, mu, logvar, criterion):\n",
    "    \"\"\"\n",
    "    recon_x: generating images\n",
    "    x: origin images\n",
    "    mu: latent mean\n",
    "    logvar: latent log variance\n",
    "    \"\"\"\n",
    "    mse = criterion(recon_x, x)\n",
    "    KLD_element = mu.pow(2).add_(logvar.exp()).mul_(-1).add_(1).add_(logvar)\n",
    "    KLD = torch.sum(KLD_element).mul_(-0.5)\n",
    "    return mse + KLD"
   ]
  },
  {
   "cell_type": "code",
   "execution_count": 9,
   "id": "14d2949f",
   "metadata": {
    "execution": {
     "iopub.execute_input": "2024-06-10T13:28:39.076864Z",
     "iopub.status.busy": "2024-06-10T13:28:39.076054Z",
     "iopub.status.idle": "2024-06-10T13:28:57.039841Z",
     "shell.execute_reply": "2024-06-10T13:28:57.038112Z"
    },
    "papermill": {
     "duration": 17.98552,
     "end_time": "2024-06-10T13:28:57.042545",
     "exception": false,
     "start_time": "2024-06-10T13:28:39.057025",
     "status": "completed"
    },
    "tags": []
   },
   "outputs": [
    {
     "name": "stdout",
     "output_type": "stream",
     "text": [
      "Collecting torchsummary\r\n",
      "  Downloading torchsummary-1.5.1-py3-none-any.whl (2.8 kB)\r\n",
      "Installing collected packages: torchsummary\r\n",
      "Successfully installed torchsummary-1.5.1\r\n",
      "\u001b[33mWARNING: Running pip as the 'root' user can result in broken permissions and conflicting behaviour with the system package manager. It is recommended to use a virtual environment instead: https://pip.pypa.io/warnings/venv\u001b[0m\u001b[33m\r\n",
      "\u001b[0m----------------------------------------------------------------\n",
      "        Layer (type)               Output Shape         Param #\n",
      "================================================================\n",
      "            Linear-1              [-1, 1, 4096]      50,335,744\n",
      "              ReLU-2              [-1, 1, 4096]               0\n",
      "            Linear-3              [-1, 1, 2048]       8,390,656\n",
      "              ReLU-4              [-1, 1, 2048]               0\n",
      "            Linear-5              [-1, 1, 1024]       2,098,176\n",
      "              ReLU-6              [-1, 1, 1024]               0\n",
      "            Linear-7               [-1, 1, 256]         262,400\n",
      "              ReLU-8               [-1, 1, 256]               0\n",
      "            Linear-9               [-1, 1, 128]          32,896\n",
      "           Linear-10               [-1, 1, 256]          33,024\n",
      "             ReLU-11               [-1, 1, 256]               0\n",
      "           Linear-12              [-1, 1, 1024]         263,168\n",
      "             ReLU-13              [-1, 1, 1024]               0\n",
      "           Linear-14              [-1, 1, 2048]       2,099,200\n",
      "             ReLU-15              [-1, 1, 2048]               0\n",
      "           Linear-16              [-1, 1, 4096]       8,392,704\n",
      "             ReLU-17              [-1, 1, 4096]               0\n",
      "           Linear-18             [-1, 1, 12288]      50,343,936\n",
      "             Tanh-19             [-1, 1, 12288]               0\n",
      "================================================================\n",
      "Total params: 122,251,904\n",
      "Trainable params: 122,251,904\n",
      "Non-trainable params: 0\n",
      "----------------------------------------------------------------\n",
      "Input size (MB): 0.05\n",
      "Forward/backward pass size (MB): 0.42\n",
      "Params size (MB): 466.35\n",
      "Estimated Total Size (MB): 466.82\n",
      "----------------------------------------------------------------\n"
     ]
    }
   ],
   "source": [
    "!pip install torchsummary\n",
    "from torchsummary import summary\n",
    "summary(fcn_autoencoder().cuda(), (1, 3*64*64))"
   ]
  },
  {
   "cell_type": "code",
   "execution_count": 10,
   "id": "76956653",
   "metadata": {
    "execution": {
     "iopub.execute_input": "2024-06-10T13:28:57.084397Z",
     "iopub.status.busy": "2024-06-10T13:28:57.083192Z",
     "iopub.status.idle": "2024-06-10T13:28:57.102339Z",
     "shell.execute_reply": "2024-06-10T13:28:57.101322Z"
    },
    "papermill": {
     "duration": 0.042486,
     "end_time": "2024-06-10T13:28:57.104848",
     "exception": false,
     "start_time": "2024-06-10T13:28:57.062362",
     "status": "completed"
    },
    "tags": []
   },
   "outputs": [],
   "source": [
    "class multi_encoder_autoencoder(nn.Module):\n",
    "    def __init__(self):\n",
    "        super().__init__()\n",
    "        self.encoder1 = nn.Sequential(\n",
    "            nn.Flatten(),\n",
    "            nn.Linear(64 * 64 * 3, 2048),\n",
    "            nn.BatchNorm1d(2048),\n",
    "            nn.ReLU(),\n",
    "            # nn.Dropout(0.2),\n",
    "            nn.Linear(2048, 1024),\n",
    "            nn.BatchNorm1d(1024),\n",
    "            nn.ReLU(),\n",
    "            nn.Linear(1024, 256),\n",
    "            nn.BatchNorm1d(256),\n",
    "            nn.ReLU(),\n",
    "            # nn.Dropout(0.2),\n",
    "            nn.Linear(256, 30),\n",
    "        )\n",
    "        \n",
    "        self.encoder2 = nn.Sequential(\n",
    "            nn.Conv2d(3, 32, 4, stride=2, padding=1),\n",
    "            nn.BatchNorm2d(32),         \n",
    "            nn.ReLU(),\n",
    "            nn.Conv2d(32, 32, 4, stride=2, padding=1),\n",
    "            nn.BatchNorm2d(32),        \n",
    "            nn.ReLU(),\n",
    "            nn.Conv2d(32, 64, 4, stride=2, padding=1),\n",
    "            nn.BatchNorm2d(64),        \n",
    "            nn.ReLU(),\n",
    "            nn.Conv2d(64, 128, 4, stride=2, padding=1),\n",
    "            nn.BatchNorm2d(128),        \n",
    "            nn.ReLU(),\n",
    "\t\t\tnn.Flatten(),\n",
    "            nn.Linear(128*4*4, 128),\n",
    "            nn.BatchNorm1d(128),\n",
    "            nn.ReLU(),\n",
    "            nn.Linear(128, 98),\n",
    "        )\n",
    "\n",
    "        self.decoder = nn.Sequential(\n",
    "            nn.Linear(128, 64),\n",
    "            nn.BatchNorm1d(64),\n",
    "            nn.ReLU(),\n",
    "            nn.Linear(64, 64*4*4),\n",
    "            nn.BatchNorm1d(64*4*4),\n",
    "            nn.ReLU(),\n",
    "            nn.Unflatten(1, (64, 4, 4)),\n",
    "            nn.ConvTranspose2d(64, 64, 4, stride=2, padding=1),\n",
    "            nn.BatchNorm2d(64),         \n",
    "            nn.ReLU(),\n",
    "\t\t\tnn.ConvTranspose2d(64, 32, 4, stride=2, padding=1),\n",
    "            nn.BatchNorm2d(32),\n",
    "            nn.ReLU(),\n",
    "            nn.ConvTranspose2d(32, 32, 4, stride=2, padding=1),\n",
    "            nn.BatchNorm2d(32),\n",
    "            nn.ReLU(),\n",
    "\t\t\tnn.ConvTranspose2d(32, 3, 4, stride=2, padding=1),\n",
    "            nn.Tanh(), \n",
    "        )\n",
    "\n",
    "    def forward(self, x):\n",
    "        x1 = self.encoder1(x)\n",
    "        x2 = self.encoder2(x)\n",
    "        x = torch.cat((x1, x2), 1)\n",
    "        x = self.decoder(x)\n",
    "        return x"
   ]
  },
  {
   "cell_type": "code",
   "execution_count": 11,
   "id": "1510a74a",
   "metadata": {
    "execution": {
     "iopub.execute_input": "2024-06-10T13:28:57.145322Z",
     "iopub.status.busy": "2024-06-10T13:28:57.144478Z",
     "iopub.status.idle": "2024-06-10T13:28:57.169764Z",
     "shell.execute_reply": "2024-06-10T13:28:57.168735Z"
    },
    "papermill": {
     "duration": 0.047894,
     "end_time": "2024-06-10T13:28:57.172133",
     "exception": false,
     "start_time": "2024-06-10T13:28:57.124239",
     "status": "completed"
    },
    "tags": []
   },
   "outputs": [],
   "source": [
    "# Reference of ResNet architecture: https://blog.csdn.net/weixin_42369818/article/details/125292835\n",
    "class BasicBlock(nn.Module):\n",
    "    def __init__(self, in_channel, out_channel, stride=1):\n",
    "        super().__init__()\n",
    "        self.conv1 = nn.Sequential(\n",
    "            nn.Conv2d(in_channel, out_channel, kernel_size=3, stride=stride, padding=1),\n",
    "            nn.BatchNorm2d(out_channel),\n",
    "            nn.ReLU(inplace=True),\n",
    "        )\n",
    "\n",
    "        self.conv2 = nn.Sequential(\n",
    "            nn.Conv2d(out_channel, out_channel, kernel_size=3, stride=1, padding=1),\n",
    "            nn.BatchNorm2d(out_channel),\n",
    "        )\n",
    "\n",
    "        self.relu = nn.ReLU(inplace=True)\n",
    "\n",
    "        self.downsample = None\n",
    "        if stride != 1 or in_channel != out_channel:\n",
    "            self.downsample = nn.Sequential(\n",
    "                nn.Conv2d(in_channel, out_channel, kernel_size=1, stride=stride),\n",
    "                nn.BatchNorm2d(out_channel),\n",
    "            )\n",
    "\n",
    "    def forward(self, x):\n",
    "        residual = x\n",
    "        out = self.conv1(x)\n",
    "        out = self.conv2(out)\n",
    "        \n",
    "        if self.downsample:\n",
    "            residual = self.downsample(x)\n",
    "            \n",
    "        out += residual\n",
    "        return self.relu(out)\n",
    "\n",
    "class resnet(nn.Module):\n",
    "    def __init__(self, block=BasicBlock, num_layers=[2, 1, 1, 1]):\n",
    "        super(resnet, self).__init__()\n",
    "\n",
    "        self.preconv = nn.Sequential(\n",
    "            nn.Conv2d(3, 32, kernel_size=3, stride=1, padding=1, bias=False),\n",
    "            nn.BatchNorm2d(32),\n",
    "            nn.ReLU(inplace=True),\n",
    "        )\n",
    "\n",
    "        self.layer0 = self.Residual(block, 32, 64, num_layers[0], stride=2)\n",
    "        self.layer1 = self.Residual(block, 64, 128, num_layers[1], stride=2)\n",
    "        self.layer2 = self.Residual(block, 128, 128, num_layers[2], stride=2)\n",
    "        self.layer3 = self.Residual(block, 128, 64, num_layers[3], stride=2)\n",
    "\n",
    "        self.fc = nn.Sequential(\n",
    "            nn.Flatten(),\n",
    "            nn.Dropout(0.2),\n",
    "            nn.Linear(64*4*4, 64),\n",
    "            nn.BatchNorm1d(64),\n",
    "            nn.ReLU(inplace=True),\n",
    "        )\n",
    "\n",
    "        self.decoder = nn.Sequential(\n",
    "            nn.Linear(64, 64 * 4 * 4),\n",
    "            nn.BatchNorm1d(64 * 4 * 4),\n",
    "            nn.ReLU(),\n",
    "            nn.Unflatten(1, (64, 4, 4)),\n",
    "            nn.ConvTranspose2d(64, 128, 4, stride=2, padding=1),\n",
    "            nn.BatchNorm2d(128),\n",
    "            nn.ReLU(),\n",
    "            nn.ConvTranspose2d(128, 128, 4, stride=2, padding=1),\n",
    "            nn.BatchNorm2d(128),\n",
    "            nn.ReLU(),\n",
    "            nn.ConvTranspose2d(128, 128, 4, stride=2, padding=1),\n",
    "            nn.BatchNorm2d(128),\n",
    "            nn.ReLU(),\n",
    "            nn.ConvTranspose2d(128, 3, 4, stride=2, padding=1),\n",
    "            nn.Tanh(), \n",
    "        )\n",
    "\n",
    "    def Residual(self, block, in_channel, out_channel, num_layer, stride=1):\n",
    "        layers = []\n",
    "        layers.append(block(in_channel, out_channel, stride))\n",
    "        for _ in range(1, num_layer):\n",
    "            layers.append(block(out_channel, out_channel))\n",
    "        return nn.Sequential(*layers)\n",
    "    \n",
    "    def encoder(self, x):\n",
    "        x = self.preconv(x)\n",
    "        x = self.layer0(x) #64*64 --> 32*32\n",
    "        x = self.layer1(x) #32*32 --> 16*16\n",
    "        x = self.layer2(x) #16*16 --> 8*8\n",
    "        x = self.layer3(x) #8*8 --> 4*4\n",
    "        x = self.fc(x)\n",
    "        return x\n",
    "    \n",
    "    def forward(self, x):\n",
    "        x = self.encoder(x)\n",
    "        x = self.decoder(x)\n",
    "        return x"
   ]
  },
  {
   "cell_type": "markdown",
   "id": "ef94458d",
   "metadata": {
    "id": "vrJ9bScg9AgO",
    "papermill": {
     "duration": 0.019055,
     "end_time": "2024-06-10T13:28:57.210423",
     "exception": false,
     "start_time": "2024-06-10T13:28:57.191368",
     "status": "completed"
    },
    "tags": []
   },
   "source": [
    "# Dataset module\n",
    "\n",
    "Module for obtaining and processing data. The transform function here normalizes image's pixels from [0, 255] to [-1.0, 1.0].\n"
   ]
  },
  {
   "cell_type": "code",
   "execution_count": 12,
   "id": "927aa825",
   "metadata": {
    "execution": {
     "iopub.execute_input": "2024-06-10T13:28:57.251155Z",
     "iopub.status.busy": "2024-06-10T13:28:57.250240Z",
     "iopub.status.idle": "2024-06-10T13:28:57.260162Z",
     "shell.execute_reply": "2024-06-10T13:28:57.259152Z"
    },
    "id": "33fWhE-h9LPq",
    "papermill": {
     "duration": 0.033126,
     "end_time": "2024-06-10T13:28:57.262636",
     "exception": false,
     "start_time": "2024-06-10T13:28:57.229510",
     "status": "completed"
    },
    "tags": []
   },
   "outputs": [],
   "source": [
    "# Reference of data transformation: https://github.com/ncku-yee/ML2022/blob/master/HW08/ML2022Spring_HW8.ipynb\n",
    "class CustomTensorDataset(TensorDataset):\n",
    "    \"\"\"TensorDataset with support of transforms.\n",
    "    \"\"\"\n",
    "    def __init__(self, tensors):\n",
    "        self.tensors = tensors\n",
    "        if tensors.shape[-1] == 3:\n",
    "            self.tensors = tensors.permute(0, 3, 1, 2)\n",
    "        \n",
    "        self.transform = transforms.Compose([\n",
    "          transforms.Lambda(lambda x: x.to(torch.float32)),\n",
    "          transforms.Resize((256, 256)),\n",
    "          transforms.CenterCrop((196, 196)),\n",
    "          transforms.Resize((64, 64)),\n",
    "          transforms.Lambda(lambda x: 2. * x/255. - 1.),\n",
    "        ])\n",
    "        \n",
    "    def __getitem__(self, index):\n",
    "        x = self.tensors[index]\n",
    "        \n",
    "        if self.transform:\n",
    "            # mapping images to [-1.0, 1.0]\n",
    "            x = self.transform(x)\n",
    "\n",
    "        return x\n",
    "\n",
    "    def __len__(self):\n",
    "        return len(self.tensors)"
   ]
  },
  {
   "cell_type": "markdown",
   "id": "f9bb6a97",
   "metadata": {
    "id": "XKNUImqUhIeq",
    "papermill": {
     "duration": 0.019042,
     "end_time": "2024-06-10T13:28:57.301006",
     "exception": false,
     "start_time": "2024-06-10T13:28:57.281964",
     "status": "completed"
    },
    "tags": []
   },
   "source": [
    "# Training"
   ]
  },
  {
   "cell_type": "markdown",
   "id": "c67e2028",
   "metadata": {
    "id": "7ebAJdjFmS08",
    "papermill": {
     "duration": 0.019272,
     "end_time": "2024-06-10T13:28:57.339200",
     "exception": false,
     "start_time": "2024-06-10T13:28:57.319928",
     "status": "completed"
    },
    "tags": []
   },
   "source": [
    "## Configuration\n"
   ]
  },
  {
   "cell_type": "code",
   "execution_count": 13,
   "id": "aa258f39",
   "metadata": {
    "execution": {
     "iopub.execute_input": "2024-06-10T13:28:57.379575Z",
     "iopub.status.busy": "2024-06-10T13:28:57.378940Z",
     "iopub.status.idle": "2024-06-10T13:28:58.965894Z",
     "shell.execute_reply": "2024-06-10T13:28:58.964618Z"
    },
    "id": "in7yLfmqtZTk",
    "papermill": {
     "duration": 1.610159,
     "end_time": "2024-06-10T13:28:58.968581",
     "exception": false,
     "start_time": "2024-06-10T13:28:57.358422",
     "status": "completed"
    },
    "tags": []
   },
   "outputs": [],
   "source": [
    "# Training hyperparameters\n",
    "num_epochs = 100\n",
    "batch_size = 128 # Hint: batch size may be lower\n",
    "learning_rate = 1e-4\n",
    "\n",
    "# Build training dataloader\n",
    "x = torch.from_numpy(train)\n",
    "train_dataset = CustomTensorDataset(x)\n",
    "\n",
    "train_sampler = RandomSampler(train_dataset)\n",
    "train_dataloader = DataLoader(train_dataset, sampler=train_sampler, batch_size=batch_size)\n",
    "\n",
    "# Model\n",
    "model_type = 'fcn'   # selecting a model type from {'cnn', 'fcn', 'vae', 'resnet'}\n",
    "model_classes = {'fcn': fcn_autoencoder(), 'cnn': conv_autoencoder(), 'vae': VAE(),\n",
    "                  'multi': multi_encoder_autoencoder(), 'resnet': resnet()}\n",
    "model = model_classes[model_type].cuda()\n",
    "\n",
    "# Loss and optimizer\n",
    "criterion = nn.MSELoss()\n",
    "optimizer = torch.optim.Adam(model.parameters(), lr=learning_rate)"
   ]
  },
  {
   "cell_type": "markdown",
   "id": "823505c5",
   "metadata": {
    "id": "wyooN-JPm8sS",
    "papermill": {
     "duration": 0.019037,
     "end_time": "2024-06-10T13:28:59.007801",
     "exception": false,
     "start_time": "2024-06-10T13:28:58.988764",
     "status": "completed"
    },
    "tags": []
   },
   "source": [
    "## Training loop"
   ]
  },
  {
   "cell_type": "code",
   "execution_count": 14,
   "id": "490304a3",
   "metadata": {
    "execution": {
     "iopub.execute_input": "2024-06-10T13:28:59.049059Z",
     "iopub.status.busy": "2024-06-10T13:28:59.048185Z",
     "iopub.status.idle": "2024-06-10T19:11:50.796453Z",
     "shell.execute_reply": "2024-06-10T19:11:50.795358Z"
    },
    "id": "JoW1UrrxgI_U",
    "outputId": "75d23921-3e47-4306-f82b-8b4a8f063026",
    "papermill": {
     "duration": 20571.799251,
     "end_time": "2024-06-10T19:11:50.826451",
     "exception": false,
     "start_time": "2024-06-10T13:28:59.027200",
     "status": "completed"
    },
    "tags": []
   },
   "outputs": [
    {
     "name": "stderr",
     "output_type": "stream",
     "text": [
      " \u001b[1mIters\u001b[0m    \u001b[1mElapsed Time\u001b[0m      \u001b[1mSpeed\u001b[0m                                               \n",
      " \u001b[99m0/\u001b[93m100\u001b[0m\u001b[0m  \u001b[99m        -        \u001b[0m  \u001b[99m   -    \u001b[0m                                             \n",
      "\u001b[1mDescription\u001b[0m   0.0% |                                                           |\u001b[K\u001b[F\u001b[K\u001b[F \u001b[1mIters\u001b[0m    \u001b[1mElapsed Time\u001b[0m      \u001b[1mSpeed\u001b[0m    \u001b[1mepoch\u001b[0m   \u001b[1mloss\u001b[0m                               \n",
      " \u001b[99m1/\u001b[93m100\u001b[0m\u001b[0m  \u001b[99m00:03:27<\u001b[93m05:42:27\u001b[0m\u001b[0m  \u001b[99m0.00it/s\u001b[0m  \u001b[99m1/100\u001b[0m  \u001b[99m0.1036\u001b[0m                              \n",
      "\u001b[1mDescription\u001b[0m   1.0% |                                                           |\u001b[K\u001b[F\u001b[K\u001b[F \u001b[1mIters\u001b[0m    \u001b[1mElapsed Time\u001b[0m      \u001b[1mSpeed\u001b[0m    \u001b[1mepoch\u001b[0m   \u001b[1mloss\u001b[0m                               \n",
      " \u001b[99m2/\u001b[93m100\u001b[0m\u001b[0m  \u001b[99m00:06:54<\u001b[93m05:38:19\u001b[0m\u001b[0m  \u001b[99m0.00it/s\u001b[0m  \u001b[99m2/100\u001b[0m  \u001b[99m0.0559\u001b[0m                              \n",
      "\u001b[1mDescription\u001b[0m   2.0% |\u001b[97m█\u001b[0m                                                          |\u001b[K\u001b[F\u001b[K\u001b[F \u001b[1mIters\u001b[0m    \u001b[1mElapsed Time\u001b[0m      \u001b[1mSpeed\u001b[0m    \u001b[1mepoch\u001b[0m   \u001b[1mloss\u001b[0m                               \n",
      " \u001b[99m3/\u001b[93m100\u001b[0m\u001b[0m  \u001b[99m00:10:18<\u001b[93m05:33:18\u001b[0m\u001b[0m  \u001b[99m0.00it/s\u001b[0m  \u001b[99m3/100\u001b[0m  \u001b[99m0.0454\u001b[0m                              \n",
      "\u001b[1mDescription\u001b[0m   3.0% |\u001b[97m█\u001b[0m                                                          |\u001b[K\u001b[F\u001b[K\u001b[F \u001b[1mIters\u001b[0m    \u001b[1mElapsed Time\u001b[0m      \u001b[1mSpeed\u001b[0m    \u001b[1mepoch\u001b[0m   \u001b[1mloss\u001b[0m                               \n",
      " \u001b[99m4/\u001b[93m100\u001b[0m\u001b[0m  \u001b[99m00:13:43<\u001b[93m05:29:14\u001b[0m\u001b[0m  \u001b[99m0.00it/s\u001b[0m  \u001b[99m4/100\u001b[0m  \u001b[99m0.0398\u001b[0m                              \n",
      "\u001b[1mDescription\u001b[0m   4.0% |\u001b[97m█\u001b[0m\u001b[97m█\u001b[0m                                                         |\u001b[K\u001b[F\u001b[K\u001b[F \u001b[1mIters\u001b[0m    \u001b[1mElapsed Time\u001b[0m      \u001b[1mSpeed\u001b[0m    \u001b[1mepoch\u001b[0m   \u001b[1mloss\u001b[0m                               \n",
      " \u001b[99m5/\u001b[93m100\u001b[0m\u001b[0m  \u001b[99m00:17:07<\u001b[93m05:25:15\u001b[0m\u001b[0m  \u001b[99m0.00it/s\u001b[0m  \u001b[99m5/100\u001b[0m  \u001b[99m0.0361\u001b[0m                              \n",
      "\u001b[1mDescription\u001b[0m   5.0% |\u001b[97m█\u001b[0m\u001b[97m█\u001b[0m                                                         |\u001b[K\u001b[F\u001b[K\u001b[F \u001b[1mIters\u001b[0m    \u001b[1mElapsed Time\u001b[0m      \u001b[1mSpeed\u001b[0m    \u001b[1mepoch\u001b[0m   \u001b[1mloss\u001b[0m                               \n",
      " \u001b[99m6/\u001b[93m100\u001b[0m\u001b[0m  \u001b[99m00:20:32<\u001b[93m05:21:43\u001b[0m\u001b[0m  \u001b[99m0.00it/s\u001b[0m  \u001b[99m6/100\u001b[0m  \u001b[99m0.0332\u001b[0m                              \n",
      "\u001b[1mDescription\u001b[0m   6.0% |\u001b[97m█\u001b[0m\u001b[97m█\u001b[0m\u001b[97m█\u001b[0m                                                        |\u001b[K\u001b[F\u001b[K\u001b[F \u001b[1mIters\u001b[0m    \u001b[1mElapsed Time\u001b[0m      \u001b[1mSpeed\u001b[0m    \u001b[1mepoch\u001b[0m   \u001b[1mloss\u001b[0m                               \n",
      " \u001b[99m7/\u001b[93m100\u001b[0m\u001b[0m  \u001b[99m00:23:55<\u001b[93m05:17:49\u001b[0m\u001b[0m  \u001b[99m0.00it/s\u001b[0m  \u001b[99m7/100\u001b[0m  \u001b[99m0.0309\u001b[0m                              \n",
      "\u001b[1mDescription\u001b[0m   7.0% |\u001b[97m█\u001b[0m\u001b[97m█\u001b[0m\u001b[97m█\u001b[0m\u001b[97m█\u001b[0m                                                       |\u001b[K\u001b[F\u001b[K\u001b[F \u001b[1mIters\u001b[0m    \u001b[1mElapsed Time\u001b[0m      \u001b[1mSpeed\u001b[0m    \u001b[1mepoch\u001b[0m   \u001b[1mloss\u001b[0m                               \n",
      " \u001b[99m8/\u001b[93m100\u001b[0m\u001b[0m  \u001b[99m00:27:19<\u001b[93m05:14:19\u001b[0m\u001b[0m  \u001b[99m0.00it/s\u001b[0m  \u001b[99m8/100\u001b[0m  \u001b[99m0.0292\u001b[0m                              \n",
      "\u001b[1mDescription\u001b[0m   8.0% |\u001b[97m█\u001b[0m\u001b[97m█\u001b[0m\u001b[97m█\u001b[0m\u001b[97m█\u001b[0m                                                       |\u001b[K\u001b[F\u001b[K\u001b[F \u001b[1mIters\u001b[0m    \u001b[1mElapsed Time\u001b[0m      \u001b[1mSpeed\u001b[0m    \u001b[1mepoch\u001b[0m   \u001b[1mloss\u001b[0m                               \n",
      " \u001b[99m9/\u001b[93m100\u001b[0m\u001b[0m  \u001b[99m00:30:44<\u001b[93m05:10:48\u001b[0m\u001b[0m  \u001b[99m0.00it/s\u001b[0m  \u001b[99m9/100\u001b[0m  \u001b[99m0.0280\u001b[0m                              \n",
      "\u001b[1mDescription\u001b[0m   9.0% |\u001b[97m█\u001b[0m\u001b[97m█\u001b[0m\u001b[97m█\u001b[0m\u001b[97m█\u001b[0m\u001b[97m█\u001b[0m                                                      |\u001b[K\u001b[F\u001b[K\u001b[F \u001b[1mIters\u001b[0m     \u001b[1mElapsed Time\u001b[0m      \u001b[1mSpeed\u001b[0m    \u001b[1mepoch\u001b[0m    \u001b[1mloss\u001b[0m                             \n",
      " \u001b[99m10/\u001b[93m100\u001b[0m\u001b[0m  \u001b[99m00:34:09<\u001b[93m05:07:26\u001b[0m\u001b[0m  \u001b[99m0.00it/s\u001b[0m  \u001b[99m10/100\u001b[0m  \u001b[99m0.0269\u001b[0m                            \n",
      "\u001b[1mDescription\u001b[0m  10.0% |\u001b[97m█\u001b[0m\u001b[97m█\u001b[0m\u001b[97m█\u001b[0m\u001b[97m█\u001b[0m\u001b[97m█\u001b[0m                                                      |\u001b[K\u001b[F\u001b[K\u001b[F \u001b[1mIters\u001b[0m     \u001b[1mElapsed Time\u001b[0m      \u001b[1mSpeed\u001b[0m    \u001b[1mepoch\u001b[0m    \u001b[1mloss\u001b[0m                             \n",
      " \u001b[99m11/\u001b[93m100\u001b[0m\u001b[0m  \u001b[99m00:37:35<\u001b[93m05:04:05\u001b[0m\u001b[0m  \u001b[99m0.00it/s\u001b[0m  \u001b[99m11/100\u001b[0m  \u001b[99m0.0260\u001b[0m                            \n",
      "\u001b[1mDescription\u001b[0m  11.0% |\u001b[97m█\u001b[0m\u001b[97m█\u001b[0m\u001b[97m█\u001b[0m\u001b[97m█\u001b[0m\u001b[97m█\u001b[0m\u001b[97m█\u001b[0m                                                     |\u001b[K\u001b[F\u001b[K\u001b[F \u001b[1mIters\u001b[0m     \u001b[1mElapsed Time\u001b[0m      \u001b[1mSpeed\u001b[0m    \u001b[1mepoch\u001b[0m    \u001b[1mloss\u001b[0m                             \n",
      " \u001b[99m12/\u001b[93m100\u001b[0m\u001b[0m  \u001b[99m00:40:58<\u001b[93m05:00:32\u001b[0m\u001b[0m  \u001b[99m0.00it/s\u001b[0m  \u001b[99m12/100\u001b[0m  \u001b[99m0.0251\u001b[0m                            \n",
      "\u001b[1mDescription\u001b[0m  12.0% |\u001b[97m█\u001b[0m\u001b[97m█\u001b[0m\u001b[97m█\u001b[0m\u001b[97m█\u001b[0m\u001b[97m█\u001b[0m\u001b[97m█\u001b[0m\u001b[97m█\u001b[0m                                                    |\u001b[K\u001b[F\u001b[K\u001b[F \u001b[1mIters\u001b[0m     \u001b[1mElapsed Time\u001b[0m      \u001b[1mSpeed\u001b[0m    \u001b[1mepoch\u001b[0m    \u001b[1mloss\u001b[0m                             \n",
      " \u001b[99m13/\u001b[93m100\u001b[0m\u001b[0m  \u001b[99m00:44:23<\u001b[93m04:57:01\u001b[0m\u001b[0m  \u001b[99m0.00it/s\u001b[0m  \u001b[99m13/100\u001b[0m  \u001b[99m0.0245\u001b[0m                            \n",
      "\u001b[1mDescription\u001b[0m  13.0% |\u001b[97m█\u001b[0m\u001b[97m█\u001b[0m\u001b[97m█\u001b[0m\u001b[97m█\u001b[0m\u001b[97m█\u001b[0m\u001b[97m█\u001b[0m\u001b[97m█\u001b[0m                                                    |\u001b[K\u001b[F\u001b[K\u001b[F \u001b[1mIters\u001b[0m     \u001b[1mElapsed Time\u001b[0m      \u001b[1mSpeed\u001b[0m    \u001b[1mepoch\u001b[0m    \u001b[1mloss\u001b[0m                             \n",
      " \u001b[99m14/\u001b[93m100\u001b[0m\u001b[0m  \u001b[99m00:47:46<\u001b[93m04:53:28\u001b[0m\u001b[0m  \u001b[99m0.00it/s\u001b[0m  \u001b[99m14/100\u001b[0m  \u001b[99m0.0238\u001b[0m                            \n",
      "\u001b[1mDescription\u001b[0m  14.0% |\u001b[97m█\u001b[0m\u001b[97m█\u001b[0m\u001b[97m█\u001b[0m\u001b[97m█\u001b[0m\u001b[97m█\u001b[0m\u001b[97m█\u001b[0m\u001b[97m█\u001b[0m\u001b[97m█\u001b[0m                                                   |\u001b[K\u001b[F\u001b[K\u001b[F \u001b[1mIters\u001b[0m     \u001b[1mElapsed Time\u001b[0m      \u001b[1mSpeed\u001b[0m    \u001b[1mepoch\u001b[0m    \u001b[1mloss\u001b[0m                             \n",
      " \u001b[99m15/\u001b[93m100\u001b[0m\u001b[0m  \u001b[99m00:51:10<\u001b[93m04:49:58\u001b[0m\u001b[0m  \u001b[99m0.00it/s\u001b[0m  \u001b[99m15/100\u001b[0m  \u001b[99m0.0232\u001b[0m                            \n",
      "\u001b[1mDescription\u001b[0m  15.0% |\u001b[97m█\u001b[0m\u001b[97m█\u001b[0m\u001b[97m█\u001b[0m\u001b[97m█\u001b[0m\u001b[97m█\u001b[0m\u001b[97m█\u001b[0m\u001b[97m█\u001b[0m\u001b[97m█\u001b[0m                                                   |\u001b[K\u001b[F\u001b[K\u001b[F \u001b[1mIters\u001b[0m     \u001b[1mElapsed Time\u001b[0m      \u001b[1mSpeed\u001b[0m    \u001b[1mepoch\u001b[0m    \u001b[1mloss\u001b[0m                             \n",
      " \u001b[99m16/\u001b[93m100\u001b[0m\u001b[0m  \u001b[99m00:54:33<\u001b[93m04:46:25\u001b[0m\u001b[0m  \u001b[99m0.00it/s\u001b[0m  \u001b[99m16/100\u001b[0m  \u001b[99m0.0227\u001b[0m                            \n",
      "\u001b[1mDescription\u001b[0m  16.0% |\u001b[97m█\u001b[0m\u001b[97m█\u001b[0m\u001b[97m█\u001b[0m\u001b[97m█\u001b[0m\u001b[97m█\u001b[0m\u001b[97m█\u001b[0m\u001b[97m█\u001b[0m\u001b[97m█\u001b[0m\u001b[97m█\u001b[0m                                                  |\u001b[K\u001b[F\u001b[K\u001b[F \u001b[1mIters\u001b[0m     \u001b[1mElapsed Time\u001b[0m      \u001b[1mSpeed\u001b[0m    \u001b[1mepoch\u001b[0m    \u001b[1mloss\u001b[0m                             \n",
      " \u001b[99m17/\u001b[93m100\u001b[0m\u001b[0m  \u001b[99m00:57:57<\u001b[93m04:42:57\u001b[0m\u001b[0m  \u001b[99m0.00it/s\u001b[0m  \u001b[99m17/100\u001b[0m  \u001b[99m0.0222\u001b[0m                            \n",
      "\u001b[1mDescription\u001b[0m  17.0% |\u001b[97m█\u001b[0m\u001b[97m█\u001b[0m\u001b[97m█\u001b[0m\u001b[97m█\u001b[0m\u001b[97m█\u001b[0m\u001b[97m█\u001b[0m\u001b[97m█\u001b[0m\u001b[97m█\u001b[0m\u001b[97m█\u001b[0m\u001b[97m█\u001b[0m                                                 |\u001b[K\u001b[F\u001b[K\u001b[F \u001b[1mIters\u001b[0m     \u001b[1mElapsed Time\u001b[0m      \u001b[1mSpeed\u001b[0m    \u001b[1mepoch\u001b[0m    \u001b[1mloss\u001b[0m                             \n",
      " \u001b[99m18/\u001b[93m100\u001b[0m\u001b[0m  \u001b[99m01:01:22<\u001b[93m04:39:34\u001b[0m\u001b[0m  \u001b[99m0.00it/s\u001b[0m  \u001b[99m18/100\u001b[0m  \u001b[99m0.0217\u001b[0m                            \n",
      "\u001b[1mDescription\u001b[0m  18.0% |\u001b[97m█\u001b[0m\u001b[97m█\u001b[0m\u001b[97m█\u001b[0m\u001b[97m█\u001b[0m\u001b[97m█\u001b[0m\u001b[97m█\u001b[0m\u001b[97m█\u001b[0m\u001b[97m█\u001b[0m\u001b[97m█\u001b[0m\u001b[97m█\u001b[0m                                                 |\u001b[K\u001b[F\u001b[K\u001b[F \u001b[1mIters\u001b[0m     \u001b[1mElapsed Time\u001b[0m      \u001b[1mSpeed\u001b[0m    \u001b[1mepoch\u001b[0m    \u001b[1mloss\u001b[0m                             \n",
      " \u001b[99m19/\u001b[93m100\u001b[0m\u001b[0m  \u001b[99m01:04:47<\u001b[93m04:36:12\u001b[0m\u001b[0m  \u001b[99m0.00it/s\u001b[0m  \u001b[99m19/100\u001b[0m  \u001b[99m0.0213\u001b[0m                            \n",
      "\u001b[1mDescription\u001b[0m  19.0% |\u001b[97m█\u001b[0m\u001b[97m█\u001b[0m\u001b[97m█\u001b[0m\u001b[97m█\u001b[0m\u001b[97m█\u001b[0m\u001b[97m█\u001b[0m\u001b[97m█\u001b[0m\u001b[97m█\u001b[0m\u001b[97m█\u001b[0m\u001b[97m█\u001b[0m\u001b[97m█\u001b[0m                                                |\u001b[K\u001b[F\u001b[K\u001b[F \u001b[1mIters\u001b[0m     \u001b[1mElapsed Time\u001b[0m      \u001b[1mSpeed\u001b[0m    \u001b[1mepoch\u001b[0m    \u001b[1mloss\u001b[0m                             \n",
      " \u001b[99m20/\u001b[93m100\u001b[0m\u001b[0m  \u001b[99m01:08:10<\u001b[93m04:32:43\u001b[0m\u001b[0m  \u001b[99m0.00it/s\u001b[0m  \u001b[99m20/100\u001b[0m  \u001b[99m0.0209\u001b[0m                            \n",
      "\u001b[1mDescription\u001b[0m  20.0% |\u001b[97m█\u001b[0m\u001b[97m█\u001b[0m\u001b[97m█\u001b[0m\u001b[97m█\u001b[0m\u001b[97m█\u001b[0m\u001b[97m█\u001b[0m\u001b[97m█\u001b[0m\u001b[97m█\u001b[0m\u001b[97m█\u001b[0m\u001b[97m█\u001b[0m\u001b[97m█\u001b[0m                                                |\u001b[K\u001b[F\u001b[K\u001b[F \u001b[1mIters\u001b[0m     \u001b[1mElapsed Time\u001b[0m      \u001b[1mSpeed\u001b[0m    \u001b[1mepoch\u001b[0m    \u001b[1mloss\u001b[0m                             \n",
      " \u001b[99m21/\u001b[93m100\u001b[0m\u001b[0m  \u001b[99m01:11:37<\u001b[93m04:29:28\u001b[0m\u001b[0m  \u001b[99m0.00it/s\u001b[0m  \u001b[99m21/100\u001b[0m  \u001b[99m0.0205\u001b[0m                            \n",
      "\u001b[1mDescription\u001b[0m  21.0% |\u001b[97m█\u001b[0m\u001b[97m█\u001b[0m\u001b[97m█\u001b[0m\u001b[97m█\u001b[0m\u001b[97m█\u001b[0m\u001b[97m█\u001b[0m\u001b[97m█\u001b[0m\u001b[97m█\u001b[0m\u001b[97m█\u001b[0m\u001b[97m█\u001b[0m\u001b[97m█\u001b[0m\u001b[97m█\u001b[0m                                               |\u001b[K\u001b[F\u001b[K\u001b[F \u001b[1mIters\u001b[0m     \u001b[1mElapsed Time\u001b[0m      \u001b[1mSpeed\u001b[0m    \u001b[1mepoch\u001b[0m    \u001b[1mloss\u001b[0m                             \n",
      " \u001b[99m22/\u001b[93m100\u001b[0m\u001b[0m  \u001b[99m01:15:03<\u001b[93m04:26:06\u001b[0m\u001b[0m  \u001b[99m0.00it/s\u001b[0m  \u001b[99m22/100\u001b[0m  \u001b[99m0.0201\u001b[0m                            \n",
      "\u001b[1mDescription\u001b[0m  22.0% |\u001b[97m█\u001b[0m\u001b[97m█\u001b[0m\u001b[97m█\u001b[0m\u001b[97m█\u001b[0m\u001b[97m█\u001b[0m\u001b[97m█\u001b[0m\u001b[97m█\u001b[0m\u001b[97m█\u001b[0m\u001b[97m█\u001b[0m\u001b[97m█\u001b[0m\u001b[97m█\u001b[0m\u001b[97m█\u001b[0m                                               |\u001b[K\u001b[F\u001b[K\u001b[F \u001b[1mIters\u001b[0m     \u001b[1mElapsed Time\u001b[0m      \u001b[1mSpeed\u001b[0m    \u001b[1mepoch\u001b[0m    \u001b[1mloss\u001b[0m                             \n",
      " \u001b[99m23/\u001b[93m100\u001b[0m\u001b[0m  \u001b[99m01:18:28<\u001b[93m04:22:43\u001b[0m\u001b[0m  \u001b[99m0.00it/s\u001b[0m  \u001b[99m23/100\u001b[0m  \u001b[99m0.0198\u001b[0m                            \n",
      "\u001b[1mDescription\u001b[0m  23.0% |\u001b[97m█\u001b[0m\u001b[97m█\u001b[0m\u001b[97m█\u001b[0m\u001b[97m█\u001b[0m\u001b[97m█\u001b[0m\u001b[97m█\u001b[0m\u001b[97m█\u001b[0m\u001b[97m█\u001b[0m\u001b[97m█\u001b[0m\u001b[97m█\u001b[0m\u001b[97m█\u001b[0m\u001b[97m█\u001b[0m\u001b[97m█\u001b[0m                                              |\u001b[K\u001b[F\u001b[K\u001b[F \u001b[1mIters\u001b[0m     \u001b[1mElapsed Time\u001b[0m      \u001b[1mSpeed\u001b[0m    \u001b[1mepoch\u001b[0m    \u001b[1mloss\u001b[0m                             \n",
      " \u001b[99m24/\u001b[93m100\u001b[0m\u001b[0m  \u001b[99m01:21:55<\u001b[93m04:19:25\u001b[0m\u001b[0m  \u001b[99m0.00it/s\u001b[0m  \u001b[99m24/100\u001b[0m  \u001b[99m0.0194\u001b[0m                            \n",
      "\u001b[1mDescription\u001b[0m  24.0% |\u001b[97m█\u001b[0m\u001b[97m█\u001b[0m\u001b[97m█\u001b[0m\u001b[97m█\u001b[0m\u001b[97m█\u001b[0m\u001b[97m█\u001b[0m\u001b[97m█\u001b[0m\u001b[97m█\u001b[0m\u001b[97m█\u001b[0m\u001b[97m█\u001b[0m\u001b[97m█\u001b[0m\u001b[97m█\u001b[0m\u001b[97m█\u001b[0m\u001b[97m█\u001b[0m                                             |\u001b[K\u001b[F\u001b[K\u001b[F \u001b[1mIters\u001b[0m     \u001b[1mElapsed Time\u001b[0m      \u001b[1mSpeed\u001b[0m    \u001b[1mepoch\u001b[0m    \u001b[1mloss\u001b[0m                             \n",
      " \u001b[99m25/\u001b[93m100\u001b[0m\u001b[0m  \u001b[99m01:25:21<\u001b[93m04:16:03\u001b[0m\u001b[0m  \u001b[99m0.00it/s\u001b[0m  \u001b[99m25/100\u001b[0m  \u001b[99m0.0192\u001b[0m                            \n",
      "\u001b[1mDescription\u001b[0m  25.0% |\u001b[97m█\u001b[0m\u001b[97m█\u001b[0m\u001b[97m█\u001b[0m\u001b[97m█\u001b[0m\u001b[97m█\u001b[0m\u001b[97m█\u001b[0m\u001b[97m█\u001b[0m\u001b[97m█\u001b[0m\u001b[97m█\u001b[0m\u001b[97m█\u001b[0m\u001b[97m█\u001b[0m\u001b[97m█\u001b[0m\u001b[97m█\u001b[0m\u001b[97m█\u001b[0m                                             |\u001b[K\u001b[F\u001b[K\u001b[F \u001b[1mIters\u001b[0m     \u001b[1mElapsed Time\u001b[0m      \u001b[1mSpeed\u001b[0m    \u001b[1mepoch\u001b[0m    \u001b[1mloss\u001b[0m                             \n",
      " \u001b[99m26/\u001b[93m100\u001b[0m\u001b[0m  \u001b[99m01:28:46<\u001b[93m04:12:38\u001b[0m\u001b[0m  \u001b[99m0.00it/s\u001b[0m  \u001b[99m26/100\u001b[0m  \u001b[99m0.0189\u001b[0m                            \n",
      "\u001b[1mDescription\u001b[0m  26.0% |\u001b[97m█\u001b[0m\u001b[97m█\u001b[0m\u001b[97m█\u001b[0m\u001b[97m█\u001b[0m\u001b[97m█\u001b[0m\u001b[97m█\u001b[0m\u001b[97m█\u001b[0m\u001b[97m█\u001b[0m\u001b[97m█\u001b[0m\u001b[97m█\u001b[0m\u001b[97m█\u001b[0m\u001b[97m█\u001b[0m\u001b[97m█\u001b[0m\u001b[97m█\u001b[0m\u001b[97m█\u001b[0m                                            |\u001b[K\u001b[F\u001b[K\u001b[F \u001b[1mIters\u001b[0m     \u001b[1mElapsed Time\u001b[0m      \u001b[1mSpeed\u001b[0m    \u001b[1mepoch\u001b[0m    \u001b[1mloss\u001b[0m                             \n",
      " \u001b[99m27/\u001b[93m100\u001b[0m\u001b[0m  \u001b[99m01:32:12<\u001b[93m04:09:17\u001b[0m\u001b[0m  \u001b[99m0.00it/s\u001b[0m  \u001b[99m27/100\u001b[0m  \u001b[99m0.0186\u001b[0m                            \n",
      "\u001b[1mDescription\u001b[0m  27.0% |\u001b[97m█\u001b[0m\u001b[97m█\u001b[0m\u001b[97m█\u001b[0m\u001b[97m█\u001b[0m\u001b[97m█\u001b[0m\u001b[97m█\u001b[0m\u001b[97m█\u001b[0m\u001b[97m█\u001b[0m\u001b[97m█\u001b[0m\u001b[97m█\u001b[0m\u001b[97m█\u001b[0m\u001b[97m█\u001b[0m\u001b[97m█\u001b[0m\u001b[97m█\u001b[0m\u001b[97m█\u001b[0m                                            |\u001b[K\u001b[F\u001b[K\u001b[F \u001b[1mIters\u001b[0m     \u001b[1mElapsed Time\u001b[0m      \u001b[1mSpeed\u001b[0m    \u001b[1mepoch\u001b[0m    \u001b[1mloss\u001b[0m                             \n",
      " \u001b[99m28/\u001b[93m100\u001b[0m\u001b[0m  \u001b[99m01:35:38<\u001b[93m04:05:57\u001b[0m\u001b[0m  \u001b[99m0.00it/s\u001b[0m  \u001b[99m28/100\u001b[0m  \u001b[99m0.0184\u001b[0m                            \n",
      "\u001b[1mDescription\u001b[0m  28.0% |\u001b[97m█\u001b[0m\u001b[97m█\u001b[0m\u001b[97m█\u001b[0m\u001b[97m█\u001b[0m\u001b[97m█\u001b[0m\u001b[97m█\u001b[0m\u001b[97m█\u001b[0m\u001b[97m█\u001b[0m\u001b[97m█\u001b[0m\u001b[97m█\u001b[0m\u001b[97m█\u001b[0m\u001b[97m█\u001b[0m\u001b[97m█\u001b[0m\u001b[97m█\u001b[0m\u001b[97m█\u001b[0m\u001b[97m█\u001b[0m                                           |\u001b[K\u001b[F\u001b[K\u001b[F \u001b[1mIters\u001b[0m     \u001b[1mElapsed Time\u001b[0m      \u001b[1mSpeed\u001b[0m    \u001b[1mepoch\u001b[0m    \u001b[1mloss\u001b[0m                             \n",
      " \u001b[99m29/\u001b[93m100\u001b[0m\u001b[0m  \u001b[99m01:39:09<\u001b[93m04:02:45\u001b[0m\u001b[0m  \u001b[99m0.00it/s\u001b[0m  \u001b[99m29/100\u001b[0m  \u001b[99m0.0181\u001b[0m                            \n",
      "\u001b[1mDescription\u001b[0m  29.0% |\u001b[97m█\u001b[0m\u001b[97m█\u001b[0m\u001b[97m█\u001b[0m\u001b[97m█\u001b[0m\u001b[97m█\u001b[0m\u001b[97m█\u001b[0m\u001b[97m█\u001b[0m\u001b[97m█\u001b[0m\u001b[97m█\u001b[0m\u001b[97m█\u001b[0m\u001b[97m█\u001b[0m\u001b[97m█\u001b[0m\u001b[97m█\u001b[0m\u001b[97m█\u001b[0m\u001b[97m█\u001b[0m\u001b[97m█\u001b[0m\u001b[97m█\u001b[0m                                          |\u001b[K\u001b[F\u001b[K\u001b[F \u001b[1mIters\u001b[0m     \u001b[1mElapsed Time\u001b[0m      \u001b[1mSpeed\u001b[0m    \u001b[1mepoch\u001b[0m    \u001b[1mloss\u001b[0m                             \n",
      " \u001b[99m30/\u001b[93m100\u001b[0m\u001b[0m  \u001b[99m01:42:35<\u001b[93m03:59:22\u001b[0m\u001b[0m  \u001b[99m0.00it/s\u001b[0m  \u001b[99m30/100\u001b[0m  \u001b[99m0.0179\u001b[0m                            \n",
      "\u001b[1mDescription\u001b[0m  30.0% |\u001b[97m█\u001b[0m\u001b[97m█\u001b[0m\u001b[97m█\u001b[0m\u001b[97m█\u001b[0m\u001b[97m█\u001b[0m\u001b[97m█\u001b[0m\u001b[97m█\u001b[0m\u001b[97m█\u001b[0m\u001b[97m█\u001b[0m\u001b[97m█\u001b[0m\u001b[97m█\u001b[0m\u001b[97m█\u001b[0m\u001b[97m█\u001b[0m\u001b[97m█\u001b[0m\u001b[97m█\u001b[0m\u001b[97m█\u001b[0m\u001b[97m█\u001b[0m                                          |\u001b[K\u001b[F\u001b[K\u001b[F \u001b[1mIters\u001b[0m     \u001b[1mElapsed Time\u001b[0m      \u001b[1mSpeed\u001b[0m    \u001b[1mepoch\u001b[0m    \u001b[1mloss\u001b[0m                             \n",
      " \u001b[99m31/\u001b[93m100\u001b[0m\u001b[0m  \u001b[99m01:46:00<\u001b[93m03:55:57\u001b[0m\u001b[0m  \u001b[99m0.00it/s\u001b[0m  \u001b[99m31/100\u001b[0m  \u001b[99m0.0177\u001b[0m                            \n",
      "\u001b[1mDescription\u001b[0m  31.0% |\u001b[97m█\u001b[0m\u001b[97m█\u001b[0m\u001b[97m█\u001b[0m\u001b[97m█\u001b[0m\u001b[97m█\u001b[0m\u001b[97m█\u001b[0m\u001b[97m█\u001b[0m\u001b[97m█\u001b[0m\u001b[97m█\u001b[0m\u001b[97m█\u001b[0m\u001b[97m█\u001b[0m\u001b[97m█\u001b[0m\u001b[97m█\u001b[0m\u001b[97m█\u001b[0m\u001b[97m█\u001b[0m\u001b[97m█\u001b[0m\u001b[97m█\u001b[0m\u001b[97m█\u001b[0m                                         |\u001b[K\u001b[F\u001b[K\u001b[F \u001b[1mIters\u001b[0m     \u001b[1mElapsed Time\u001b[0m      \u001b[1mSpeed\u001b[0m    \u001b[1mepoch\u001b[0m    \u001b[1mloss\u001b[0m                             \n",
      " \u001b[99m32/\u001b[93m100\u001b[0m\u001b[0m  \u001b[99m01:49:30<\u001b[93m03:52:42\u001b[0m\u001b[0m  \u001b[99m0.00it/s\u001b[0m  \u001b[99m32/100\u001b[0m  \u001b[99m0.0175\u001b[0m                            \n",
      "\u001b[1mDescription\u001b[0m  32.0% |\u001b[97m█\u001b[0m\u001b[97m█\u001b[0m\u001b[97m█\u001b[0m\u001b[97m█\u001b[0m\u001b[97m█\u001b[0m\u001b[97m█\u001b[0m\u001b[97m█\u001b[0m\u001b[97m█\u001b[0m\u001b[97m█\u001b[0m\u001b[97m█\u001b[0m\u001b[97m█\u001b[0m\u001b[97m█\u001b[0m\u001b[97m█\u001b[0m\u001b[97m█\u001b[0m\u001b[97m█\u001b[0m\u001b[97m█\u001b[0m\u001b[97m█\u001b[0m\u001b[97m█\u001b[0m                                         |\u001b[K\u001b[F\u001b[K\u001b[F \u001b[1mIters\u001b[0m     \u001b[1mElapsed Time\u001b[0m      \u001b[1mSpeed\u001b[0m    \u001b[1mepoch\u001b[0m    \u001b[1mloss\u001b[0m                             \n",
      " \u001b[99m33/\u001b[93m100\u001b[0m\u001b[0m  \u001b[99m01:52:56<\u001b[93m03:49:18\u001b[0m\u001b[0m  \u001b[99m0.00it/s\u001b[0m  \u001b[99m33/100\u001b[0m  \u001b[99m0.0173\u001b[0m                            \n",
      "\u001b[1mDescription\u001b[0m  33.0% |\u001b[97m█\u001b[0m\u001b[97m█\u001b[0m\u001b[97m█\u001b[0m\u001b[97m█\u001b[0m\u001b[97m█\u001b[0m\u001b[97m█\u001b[0m\u001b[97m█\u001b[0m\u001b[97m█\u001b[0m\u001b[97m█\u001b[0m\u001b[97m█\u001b[0m\u001b[97m█\u001b[0m\u001b[97m█\u001b[0m\u001b[97m█\u001b[0m\u001b[97m█\u001b[0m\u001b[97m█\u001b[0m\u001b[97m█\u001b[0m\u001b[97m█\u001b[0m\u001b[97m█\u001b[0m\u001b[97m█\u001b[0m                                        |\u001b[K\u001b[F\u001b[K\u001b[F \u001b[1mIters\u001b[0m     \u001b[1mElapsed Time\u001b[0m      \u001b[1mSpeed\u001b[0m    \u001b[1mepoch\u001b[0m    \u001b[1mloss\u001b[0m                             \n",
      " \u001b[99m34/\u001b[93m100\u001b[0m\u001b[0m  \u001b[99m01:56:23<\u001b[93m03:45:55\u001b[0m\u001b[0m  \u001b[99m0.00it/s\u001b[0m  \u001b[99m34/100\u001b[0m  \u001b[99m0.0171\u001b[0m                            \n",
      "\u001b[1mDescription\u001b[0m  34.0% |\u001b[97m█\u001b[0m\u001b[97m█\u001b[0m\u001b[97m█\u001b[0m\u001b[97m█\u001b[0m\u001b[97m█\u001b[0m\u001b[97m█\u001b[0m\u001b[97m█\u001b[0m\u001b[97m█\u001b[0m\u001b[97m█\u001b[0m\u001b[97m█\u001b[0m\u001b[97m█\u001b[0m\u001b[97m█\u001b[0m\u001b[97m█\u001b[0m\u001b[97m█\u001b[0m\u001b[97m█\u001b[0m\u001b[97m█\u001b[0m\u001b[97m█\u001b[0m\u001b[97m█\u001b[0m\u001b[97m█\u001b[0m\u001b[97m█\u001b[0m                                       |\u001b[K\u001b[F\u001b[K\u001b[F \u001b[1mIters\u001b[0m     \u001b[1mElapsed Time\u001b[0m      \u001b[1mSpeed\u001b[0m    \u001b[1mepoch\u001b[0m    \u001b[1mloss\u001b[0m                             \n",
      " \u001b[99m35/\u001b[93m100\u001b[0m\u001b[0m  \u001b[99m01:59:50<\u001b[93m03:42:32\u001b[0m\u001b[0m  \u001b[99m0.00it/s\u001b[0m  \u001b[99m35/100\u001b[0m  \u001b[99m0.0170\u001b[0m                            \n",
      "\u001b[1mDescription\u001b[0m  35.0% |\u001b[97m█\u001b[0m\u001b[97m█\u001b[0m\u001b[97m█\u001b[0m\u001b[97m█\u001b[0m\u001b[97m█\u001b[0m\u001b[97m█\u001b[0m\u001b[97m█\u001b[0m\u001b[97m█\u001b[0m\u001b[97m█\u001b[0m\u001b[97m█\u001b[0m\u001b[97m█\u001b[0m\u001b[97m█\u001b[0m\u001b[97m█\u001b[0m\u001b[97m█\u001b[0m\u001b[97m█\u001b[0m\u001b[97m█\u001b[0m\u001b[97m█\u001b[0m\u001b[97m█\u001b[0m\u001b[97m█\u001b[0m\u001b[97m█\u001b[0m                                       |\u001b[K\u001b[F\u001b[K\u001b[F \u001b[1mIters\u001b[0m     \u001b[1mElapsed Time\u001b[0m      \u001b[1mSpeed\u001b[0m    \u001b[1mepoch\u001b[0m    \u001b[1mloss\u001b[0m                             \n",
      " \u001b[99m36/\u001b[93m100\u001b[0m\u001b[0m  \u001b[99m02:03:17<\u001b[93m03:39:11\u001b[0m\u001b[0m  \u001b[99m0.00it/s\u001b[0m  \u001b[99m36/100\u001b[0m  \u001b[99m0.0168\u001b[0m                            \n",
      "\u001b[1mDescription\u001b[0m  36.0% |\u001b[97m█\u001b[0m\u001b[97m█\u001b[0m\u001b[97m█\u001b[0m\u001b[97m█\u001b[0m\u001b[97m█\u001b[0m\u001b[97m█\u001b[0m\u001b[97m█\u001b[0m\u001b[97m█\u001b[0m\u001b[97m█\u001b[0m\u001b[97m█\u001b[0m\u001b[97m█\u001b[0m\u001b[97m█\u001b[0m\u001b[97m█\u001b[0m\u001b[97m█\u001b[0m\u001b[97m█\u001b[0m\u001b[97m█\u001b[0m\u001b[97m█\u001b[0m\u001b[97m█\u001b[0m\u001b[97m█\u001b[0m\u001b[97m█\u001b[0m\u001b[97m█\u001b[0m                                      |\u001b[K\u001b[F\u001b[K\u001b[F \u001b[1mIters\u001b[0m     \u001b[1mElapsed Time\u001b[0m      \u001b[1mSpeed\u001b[0m    \u001b[1mepoch\u001b[0m    \u001b[1mloss\u001b[0m                             \n",
      " \u001b[99m37/\u001b[93m100\u001b[0m\u001b[0m  \u001b[99m02:06:47<\u001b[93m03:35:52\u001b[0m\u001b[0m  \u001b[99m0.00it/s\u001b[0m  \u001b[99m37/100\u001b[0m  \u001b[99m0.0166\u001b[0m                            \n",
      "\u001b[1mDescription\u001b[0m  37.0% |\u001b[97m█\u001b[0m\u001b[97m█\u001b[0m\u001b[97m█\u001b[0m\u001b[97m█\u001b[0m\u001b[97m█\u001b[0m\u001b[97m█\u001b[0m\u001b[97m█\u001b[0m\u001b[97m█\u001b[0m\u001b[97m█\u001b[0m\u001b[97m█\u001b[0m\u001b[97m█\u001b[0m\u001b[97m█\u001b[0m\u001b[97m█\u001b[0m\u001b[97m█\u001b[0m\u001b[97m█\u001b[0m\u001b[97m█\u001b[0m\u001b[97m█\u001b[0m\u001b[97m█\u001b[0m\u001b[97m█\u001b[0m\u001b[97m█\u001b[0m\u001b[97m█\u001b[0m                                      |\u001b[K\u001b[F\u001b[K\u001b[F \u001b[1mIters\u001b[0m     \u001b[1mElapsed Time\u001b[0m      \u001b[1mSpeed\u001b[0m    \u001b[1mepoch\u001b[0m    \u001b[1mloss\u001b[0m                             \n",
      " \u001b[99m38/\u001b[93m100\u001b[0m\u001b[0m  \u001b[99m02:10:14<\u001b[93m03:32:29\u001b[0m\u001b[0m  \u001b[99m0.00it/s\u001b[0m  \u001b[99m38/100\u001b[0m  \u001b[99m0.0165\u001b[0m                            \n",
      "\u001b[1mDescription\u001b[0m  38.0% |\u001b[97m█\u001b[0m\u001b[97m█\u001b[0m\u001b[97m█\u001b[0m\u001b[97m█\u001b[0m\u001b[97m█\u001b[0m\u001b[97m█\u001b[0m\u001b[97m█\u001b[0m\u001b[97m█\u001b[0m\u001b[97m█\u001b[0m\u001b[97m█\u001b[0m\u001b[97m█\u001b[0m\u001b[97m█\u001b[0m\u001b[97m█\u001b[0m\u001b[97m█\u001b[0m\u001b[97m█\u001b[0m\u001b[97m█\u001b[0m\u001b[97m█\u001b[0m\u001b[97m█\u001b[0m\u001b[97m█\u001b[0m\u001b[97m█\u001b[0m\u001b[97m█\u001b[0m\u001b[97m█\u001b[0m                                     |\u001b[K\u001b[F\u001b[K\u001b[F \u001b[1mIters\u001b[0m     \u001b[1mElapsed Time\u001b[0m      \u001b[1mSpeed\u001b[0m    \u001b[1mepoch\u001b[0m    \u001b[1mloss\u001b[0m                             \n",
      " \u001b[99m39/\u001b[93m100\u001b[0m\u001b[0m  \u001b[99m02:13:41<\u001b[93m03:29:05\u001b[0m\u001b[0m  \u001b[99m0.00it/s\u001b[0m  \u001b[99m39/100\u001b[0m  \u001b[99m0.0163\u001b[0m                            \n",
      "\u001b[1mDescription\u001b[0m  39.0% |\u001b[97m█\u001b[0m\u001b[97m█\u001b[0m\u001b[97m█\u001b[0m\u001b[97m█\u001b[0m\u001b[97m█\u001b[0m\u001b[97m█\u001b[0m\u001b[97m█\u001b[0m\u001b[97m█\u001b[0m\u001b[97m█\u001b[0m\u001b[97m█\u001b[0m\u001b[97m█\u001b[0m\u001b[97m█\u001b[0m\u001b[97m█\u001b[0m\u001b[97m█\u001b[0m\u001b[97m█\u001b[0m\u001b[97m█\u001b[0m\u001b[97m█\u001b[0m\u001b[97m█\u001b[0m\u001b[97m█\u001b[0m\u001b[97m█\u001b[0m\u001b[97m█\u001b[0m\u001b[97m█\u001b[0m\u001b[97m█\u001b[0m                                    |\u001b[K\u001b[F\u001b[K\u001b[F \u001b[1mIters\u001b[0m     \u001b[1mElapsed Time\u001b[0m      \u001b[1mSpeed\u001b[0m    \u001b[1mepoch\u001b[0m    \u001b[1mloss\u001b[0m                             \n",
      " \u001b[99m40/\u001b[93m100\u001b[0m\u001b[0m  \u001b[99m02:17:07<\u001b[93m03:25:40\u001b[0m\u001b[0m  \u001b[99m0.00it/s\u001b[0m  \u001b[99m40/100\u001b[0m  \u001b[99m0.0161\u001b[0m                            \n",
      "\u001b[1mDescription\u001b[0m  40.0% |\u001b[97m█\u001b[0m\u001b[97m█\u001b[0m\u001b[97m█\u001b[0m\u001b[97m█\u001b[0m\u001b[97m█\u001b[0m\u001b[97m█\u001b[0m\u001b[97m█\u001b[0m\u001b[97m█\u001b[0m\u001b[97m█\u001b[0m\u001b[97m█\u001b[0m\u001b[97m█\u001b[0m\u001b[97m█\u001b[0m\u001b[97m█\u001b[0m\u001b[97m█\u001b[0m\u001b[97m█\u001b[0m\u001b[97m█\u001b[0m\u001b[97m█\u001b[0m\u001b[97m█\u001b[0m\u001b[97m█\u001b[0m\u001b[97m█\u001b[0m\u001b[97m█\u001b[0m\u001b[97m█\u001b[0m\u001b[97m█\u001b[0m                                    |\u001b[K\u001b[F\u001b[K\u001b[F \u001b[1mIters\u001b[0m     \u001b[1mElapsed Time\u001b[0m      \u001b[1mSpeed\u001b[0m    \u001b[1mepoch\u001b[0m    \u001b[1mloss\u001b[0m                             \n",
      " \u001b[99m41/\u001b[93m100\u001b[0m\u001b[0m  \u001b[99m02:20:34<\u001b[93m03:22:17\u001b[0m\u001b[0m  \u001b[99m0.00it/s\u001b[0m  \u001b[99m41/100\u001b[0m  \u001b[99m0.0160\u001b[0m                            \n",
      "\u001b[1mDescription\u001b[0m  41.0% |\u001b[97m█\u001b[0m\u001b[97m█\u001b[0m\u001b[97m█\u001b[0m\u001b[97m█\u001b[0m\u001b[97m█\u001b[0m\u001b[97m█\u001b[0m\u001b[97m█\u001b[0m\u001b[97m█\u001b[0m\u001b[97m█\u001b[0m\u001b[97m█\u001b[0m\u001b[97m█\u001b[0m\u001b[97m█\u001b[0m\u001b[97m█\u001b[0m\u001b[97m█\u001b[0m\u001b[97m█\u001b[0m\u001b[97m█\u001b[0m\u001b[97m█\u001b[0m\u001b[97m█\u001b[0m\u001b[97m█\u001b[0m\u001b[97m█\u001b[0m\u001b[97m█\u001b[0m\u001b[97m█\u001b[0m\u001b[97m█\u001b[0m\u001b[97m█\u001b[0m                                   |\u001b[K\u001b[F\u001b[K\u001b[F \u001b[1mIters\u001b[0m     \u001b[1mElapsed Time\u001b[0m      \u001b[1mSpeed\u001b[0m    \u001b[1mepoch\u001b[0m    \u001b[1mloss\u001b[0m                             \n",
      " \u001b[99m42/\u001b[93m100\u001b[0m\u001b[0m  \u001b[99m02:24:01<\u001b[93m03:18:53\u001b[0m\u001b[0m  \u001b[99m0.00it/s\u001b[0m  \u001b[99m42/100\u001b[0m  \u001b[99m0.0158\u001b[0m                            \n",
      "\u001b[1mDescription\u001b[0m  42.0% |\u001b[97m█\u001b[0m\u001b[97m█\u001b[0m\u001b[97m█\u001b[0m\u001b[97m█\u001b[0m\u001b[97m█\u001b[0m\u001b[97m█\u001b[0m\u001b[97m█\u001b[0m\u001b[97m█\u001b[0m\u001b[97m█\u001b[0m\u001b[97m█\u001b[0m\u001b[97m█\u001b[0m\u001b[97m█\u001b[0m\u001b[97m█\u001b[0m\u001b[97m█\u001b[0m\u001b[97m█\u001b[0m\u001b[97m█\u001b[0m\u001b[97m█\u001b[0m\u001b[97m█\u001b[0m\u001b[97m█\u001b[0m\u001b[97m█\u001b[0m\u001b[97m█\u001b[0m\u001b[97m█\u001b[0m\u001b[97m█\u001b[0m\u001b[97m█\u001b[0m                                   |\u001b[K\u001b[F\u001b[K\u001b[F \u001b[1mIters\u001b[0m     \u001b[1mElapsed Time\u001b[0m      \u001b[1mSpeed\u001b[0m    \u001b[1mepoch\u001b[0m    \u001b[1mloss\u001b[0m                             \n",
      " \u001b[99m43/\u001b[93m100\u001b[0m\u001b[0m  \u001b[99m02:27:29<\u001b[93m03:15:30\u001b[0m\u001b[0m  \u001b[99m0.00it/s\u001b[0m  \u001b[99m43/100\u001b[0m  \u001b[99m0.0157\u001b[0m                            \n",
      "\u001b[1mDescription\u001b[0m  43.0% |\u001b[97m█\u001b[0m\u001b[97m█\u001b[0m\u001b[97m█\u001b[0m\u001b[97m█\u001b[0m\u001b[97m█\u001b[0m\u001b[97m█\u001b[0m\u001b[97m█\u001b[0m\u001b[97m█\u001b[0m\u001b[97m█\u001b[0m\u001b[97m█\u001b[0m\u001b[97m█\u001b[0m\u001b[97m█\u001b[0m\u001b[97m█\u001b[0m\u001b[97m█\u001b[0m\u001b[97m█\u001b[0m\u001b[97m█\u001b[0m\u001b[97m█\u001b[0m\u001b[97m█\u001b[0m\u001b[97m█\u001b[0m\u001b[97m█\u001b[0m\u001b[97m█\u001b[0m\u001b[97m█\u001b[0m\u001b[97m█\u001b[0m\u001b[97m█\u001b[0m\u001b[97m█\u001b[0m                                  |\u001b[K\u001b[F\u001b[K\u001b[F \u001b[1mIters\u001b[0m     \u001b[1mElapsed Time\u001b[0m      \u001b[1mSpeed\u001b[0m    \u001b[1mepoch\u001b[0m    \u001b[1mloss\u001b[0m                             \n",
      " \u001b[99m44/\u001b[93m100\u001b[0m\u001b[0m  \u001b[99m02:30:55<\u001b[93m03:12:05\u001b[0m\u001b[0m  \u001b[99m0.00it/s\u001b[0m  \u001b[99m44/100\u001b[0m  \u001b[99m0.0156\u001b[0m                            \n",
      "\u001b[1mDescription\u001b[0m  44.0% |\u001b[97m█\u001b[0m\u001b[97m█\u001b[0m\u001b[97m█\u001b[0m\u001b[97m█\u001b[0m\u001b[97m█\u001b[0m\u001b[97m█\u001b[0m\u001b[97m█\u001b[0m\u001b[97m█\u001b[0m\u001b[97m█\u001b[0m\u001b[97m█\u001b[0m\u001b[97m█\u001b[0m\u001b[97m█\u001b[0m\u001b[97m█\u001b[0m\u001b[97m█\u001b[0m\u001b[97m█\u001b[0m\u001b[97m█\u001b[0m\u001b[97m█\u001b[0m\u001b[97m█\u001b[0m\u001b[97m█\u001b[0m\u001b[97m█\u001b[0m\u001b[97m█\u001b[0m\u001b[97m█\u001b[0m\u001b[97m█\u001b[0m\u001b[97m█\u001b[0m\u001b[97m█\u001b[0m                                  |\u001b[K\u001b[F\u001b[K\u001b[F \u001b[1mIters\u001b[0m     \u001b[1mElapsed Time\u001b[0m      \u001b[1mSpeed\u001b[0m    \u001b[1mepoch\u001b[0m    \u001b[1mloss\u001b[0m                             \n",
      " \u001b[99m45/\u001b[93m100\u001b[0m\u001b[0m  \u001b[99m02:34:23<\u001b[93m03:08:41\u001b[0m\u001b[0m  \u001b[99m0.00it/s\u001b[0m  \u001b[99m45/100\u001b[0m  \u001b[99m0.0154\u001b[0m                            \n",
      "\u001b[1mDescription\u001b[0m  45.0% |\u001b[97m█\u001b[0m\u001b[97m█\u001b[0m\u001b[97m█\u001b[0m\u001b[97m█\u001b[0m\u001b[97m█\u001b[0m\u001b[97m█\u001b[0m\u001b[97m█\u001b[0m\u001b[97m█\u001b[0m\u001b[97m█\u001b[0m\u001b[97m█\u001b[0m\u001b[97m█\u001b[0m\u001b[97m█\u001b[0m\u001b[97m█\u001b[0m\u001b[97m█\u001b[0m\u001b[97m█\u001b[0m\u001b[97m█\u001b[0m\u001b[97m█\u001b[0m\u001b[97m█\u001b[0m\u001b[97m█\u001b[0m\u001b[97m█\u001b[0m\u001b[97m█\u001b[0m\u001b[97m█\u001b[0m\u001b[97m█\u001b[0m\u001b[97m█\u001b[0m\u001b[97m█\u001b[0m\u001b[97m█\u001b[0m                                 |\u001b[K\u001b[F\u001b[K\u001b[F \u001b[1mIters\u001b[0m     \u001b[1mElapsed Time\u001b[0m      \u001b[1mSpeed\u001b[0m    \u001b[1mepoch\u001b[0m    \u001b[1mloss\u001b[0m                             \n",
      " \u001b[99m46/\u001b[93m100\u001b[0m\u001b[0m  \u001b[99m02:37:52<\u001b[93m03:05:19\u001b[0m\u001b[0m  \u001b[99m0.00it/s\u001b[0m  \u001b[99m46/100\u001b[0m  \u001b[99m0.0153\u001b[0m                            \n",
      "\u001b[1mDescription\u001b[0m  46.0% |\u001b[97m█\u001b[0m\u001b[97m█\u001b[0m\u001b[97m█\u001b[0m\u001b[97m█\u001b[0m\u001b[97m█\u001b[0m\u001b[97m█\u001b[0m\u001b[97m█\u001b[0m\u001b[97m█\u001b[0m\u001b[97m█\u001b[0m\u001b[97m█\u001b[0m\u001b[97m█\u001b[0m\u001b[97m█\u001b[0m\u001b[97m█\u001b[0m\u001b[97m█\u001b[0m\u001b[97m█\u001b[0m\u001b[97m█\u001b[0m\u001b[97m█\u001b[0m\u001b[97m█\u001b[0m\u001b[97m█\u001b[0m\u001b[97m█\u001b[0m\u001b[97m█\u001b[0m\u001b[97m█\u001b[0m\u001b[97m█\u001b[0m\u001b[97m█\u001b[0m\u001b[97m█\u001b[0m\u001b[97m█\u001b[0m\u001b[97m█\u001b[0m                                |\u001b[K\u001b[F\u001b[K\u001b[F \u001b[1mIters\u001b[0m     \u001b[1mElapsed Time\u001b[0m      \u001b[1mSpeed\u001b[0m    \u001b[1mepoch\u001b[0m    \u001b[1mloss\u001b[0m                             \n",
      " \u001b[99m47/\u001b[93m100\u001b[0m\u001b[0m  \u001b[99m02:41:20<\u001b[93m03:01:55\u001b[0m\u001b[0m  \u001b[99m0.00it/s\u001b[0m  \u001b[99m47/100\u001b[0m  \u001b[99m0.0152\u001b[0m                            \n",
      "\u001b[1mDescription\u001b[0m  47.0% |\u001b[97m█\u001b[0m\u001b[97m█\u001b[0m\u001b[97m█\u001b[0m\u001b[97m█\u001b[0m\u001b[97m█\u001b[0m\u001b[97m█\u001b[0m\u001b[97m█\u001b[0m\u001b[97m█\u001b[0m\u001b[97m█\u001b[0m\u001b[97m█\u001b[0m\u001b[97m█\u001b[0m\u001b[97m█\u001b[0m\u001b[97m█\u001b[0m\u001b[97m█\u001b[0m\u001b[97m█\u001b[0m\u001b[97m█\u001b[0m\u001b[97m█\u001b[0m\u001b[97m█\u001b[0m\u001b[97m█\u001b[0m\u001b[97m█\u001b[0m\u001b[97m█\u001b[0m\u001b[97m█\u001b[0m\u001b[97m█\u001b[0m\u001b[97m█\u001b[0m\u001b[97m█\u001b[0m\u001b[97m█\u001b[0m\u001b[97m█\u001b[0m                                |\u001b[K\u001b[F\u001b[K\u001b[F \u001b[1mIters\u001b[0m     \u001b[1mElapsed Time\u001b[0m      \u001b[1mSpeed\u001b[0m    \u001b[1mepoch\u001b[0m    \u001b[1mloss\u001b[0m                             \n",
      " \u001b[99m48/\u001b[93m100\u001b[0m\u001b[0m  \u001b[99m02:44:49<\u001b[93m02:58:33\u001b[0m\u001b[0m  \u001b[99m0.00it/s\u001b[0m  \u001b[99m48/100\u001b[0m  \u001b[99m0.0151\u001b[0m                            \n",
      "\u001b[1mDescription\u001b[0m  48.0% |\u001b[97m█\u001b[0m\u001b[97m█\u001b[0m\u001b[97m█\u001b[0m\u001b[97m█\u001b[0m\u001b[97m█\u001b[0m\u001b[97m█\u001b[0m\u001b[97m█\u001b[0m\u001b[97m█\u001b[0m\u001b[97m█\u001b[0m\u001b[97m█\u001b[0m\u001b[97m█\u001b[0m\u001b[97m█\u001b[0m\u001b[97m█\u001b[0m\u001b[97m█\u001b[0m\u001b[97m█\u001b[0m\u001b[97m█\u001b[0m\u001b[97m█\u001b[0m\u001b[97m█\u001b[0m\u001b[97m█\u001b[0m\u001b[97m█\u001b[0m\u001b[97m█\u001b[0m\u001b[97m█\u001b[0m\u001b[97m█\u001b[0m\u001b[97m█\u001b[0m\u001b[97m█\u001b[0m\u001b[97m█\u001b[0m\u001b[97m█\u001b[0m\u001b[97m█\u001b[0m                               |\u001b[K\u001b[F\u001b[K\u001b[F \u001b[1mIters\u001b[0m     \u001b[1mElapsed Time\u001b[0m      \u001b[1mSpeed\u001b[0m    \u001b[1mepoch\u001b[0m    \u001b[1mloss\u001b[0m                             \n",
      " \u001b[99m49/\u001b[93m100\u001b[0m\u001b[0m  \u001b[99m02:48:18<\u001b[93m02:55:10\u001b[0m\u001b[0m  \u001b[99m0.00it/s\u001b[0m  \u001b[99m49/100\u001b[0m  \u001b[99m0.0150\u001b[0m                            \n",
      "\u001b[1mDescription\u001b[0m  49.0% |\u001b[97m█\u001b[0m\u001b[97m█\u001b[0m\u001b[97m█\u001b[0m\u001b[97m█\u001b[0m\u001b[97m█\u001b[0m\u001b[97m█\u001b[0m\u001b[97m█\u001b[0m\u001b[97m█\u001b[0m\u001b[97m█\u001b[0m\u001b[97m█\u001b[0m\u001b[97m█\u001b[0m\u001b[97m█\u001b[0m\u001b[97m█\u001b[0m\u001b[97m█\u001b[0m\u001b[97m█\u001b[0m\u001b[97m█\u001b[0m\u001b[97m█\u001b[0m\u001b[97m█\u001b[0m\u001b[97m█\u001b[0m\u001b[97m█\u001b[0m\u001b[97m█\u001b[0m\u001b[97m█\u001b[0m\u001b[97m█\u001b[0m\u001b[97m█\u001b[0m\u001b[97m█\u001b[0m\u001b[97m█\u001b[0m\u001b[97m█\u001b[0m\u001b[97m█\u001b[0m                               |\u001b[K\u001b[F\u001b[K\u001b[F \u001b[1mIters\u001b[0m     \u001b[1mElapsed Time\u001b[0m      \u001b[1mSpeed\u001b[0m    \u001b[1mepoch\u001b[0m    \u001b[1mloss\u001b[0m                             \n",
      " \u001b[99m50/\u001b[93m100\u001b[0m\u001b[0m  \u001b[99m02:51:47<\u001b[93m02:51:47\u001b[0m\u001b[0m  \u001b[99m0.00it/s\u001b[0m  \u001b[99m50/100\u001b[0m  \u001b[99m0.0148\u001b[0m                            \n",
      "\u001b[1mDescription\u001b[0m  50.0% |\u001b[97m█\u001b[0m\u001b[97m█\u001b[0m\u001b[97m█\u001b[0m\u001b[97m█\u001b[0m\u001b[97m█\u001b[0m\u001b[97m█\u001b[0m\u001b[97m█\u001b[0m\u001b[97m█\u001b[0m\u001b[97m█\u001b[0m\u001b[97m█\u001b[0m\u001b[97m█\u001b[0m\u001b[97m█\u001b[0m\u001b[97m█\u001b[0m\u001b[97m█\u001b[0m\u001b[97m█\u001b[0m\u001b[97m█\u001b[0m\u001b[97m█\u001b[0m\u001b[97m█\u001b[0m\u001b[97m█\u001b[0m\u001b[97m█\u001b[0m\u001b[97m█\u001b[0m\u001b[97m█\u001b[0m\u001b[97m█\u001b[0m\u001b[97m█\u001b[0m\u001b[97m█\u001b[0m\u001b[97m█\u001b[0m\u001b[97m█\u001b[0m\u001b[97m█\u001b[0m\u001b[97m█\u001b[0m                              |\u001b[K\u001b[F\u001b[K\u001b[F \u001b[1mIters\u001b[0m     \u001b[1mElapsed Time\u001b[0m      \u001b[1mSpeed\u001b[0m    \u001b[1mepoch\u001b[0m    \u001b[1mloss\u001b[0m                             \n",
      " \u001b[99m51/\u001b[93m100\u001b[0m\u001b[0m  \u001b[99m02:55:14<\u001b[93m02:48:22\u001b[0m\u001b[0m  \u001b[99m0.00it/s\u001b[0m  \u001b[99m51/100\u001b[0m  \u001b[99m0.0148\u001b[0m                            \n",
      "\u001b[1mDescription\u001b[0m  51.0% |\u001b[97m█\u001b[0m\u001b[97m█\u001b[0m\u001b[97m█\u001b[0m\u001b[97m█\u001b[0m\u001b[97m█\u001b[0m\u001b[97m█\u001b[0m\u001b[97m█\u001b[0m\u001b[97m█\u001b[0m\u001b[97m█\u001b[0m\u001b[97m█\u001b[0m\u001b[97m█\u001b[0m\u001b[97m█\u001b[0m\u001b[97m█\u001b[0m\u001b[97m█\u001b[0m\u001b[97m█\u001b[0m\u001b[97m█\u001b[0m\u001b[97m█\u001b[0m\u001b[97m█\u001b[0m\u001b[97m█\u001b[0m\u001b[97m█\u001b[0m\u001b[97m█\u001b[0m\u001b[97m█\u001b[0m\u001b[97m█\u001b[0m\u001b[97m█\u001b[0m\u001b[97m█\u001b[0m\u001b[97m█\u001b[0m\u001b[97m█\u001b[0m\u001b[97m█\u001b[0m\u001b[97m█\u001b[0m\u001b[97m█\u001b[0m                             |\u001b[K\u001b[F\u001b[K\u001b[F \u001b[1mIters\u001b[0m     \u001b[1mElapsed Time\u001b[0m      \u001b[1mSpeed\u001b[0m    \u001b[1mepoch\u001b[0m    \u001b[1mloss\u001b[0m                             \n",
      " \u001b[99m52/\u001b[93m100\u001b[0m\u001b[0m  \u001b[99m02:58:42<\u001b[93m02:44:58\u001b[0m\u001b[0m  \u001b[99m0.00it/s\u001b[0m  \u001b[99m52/100\u001b[0m  \u001b[99m0.0147\u001b[0m                            \n",
      "\u001b[1mDescription\u001b[0m  52.0% |\u001b[97m█\u001b[0m\u001b[97m█\u001b[0m\u001b[97m█\u001b[0m\u001b[97m█\u001b[0m\u001b[97m█\u001b[0m\u001b[97m█\u001b[0m\u001b[97m█\u001b[0m\u001b[97m█\u001b[0m\u001b[97m█\u001b[0m\u001b[97m█\u001b[0m\u001b[97m█\u001b[0m\u001b[97m█\u001b[0m\u001b[97m█\u001b[0m\u001b[97m█\u001b[0m\u001b[97m█\u001b[0m\u001b[97m█\u001b[0m\u001b[97m█\u001b[0m\u001b[97m█\u001b[0m\u001b[97m█\u001b[0m\u001b[97m█\u001b[0m\u001b[97m█\u001b[0m\u001b[97m█\u001b[0m\u001b[97m█\u001b[0m\u001b[97m█\u001b[0m\u001b[97m█\u001b[0m\u001b[97m█\u001b[0m\u001b[97m█\u001b[0m\u001b[97m█\u001b[0m\u001b[97m█\u001b[0m\u001b[97m█\u001b[0m                             |\u001b[K\u001b[F\u001b[K\u001b[F \u001b[1mIters\u001b[0m     \u001b[1mElapsed Time\u001b[0m      \u001b[1mSpeed\u001b[0m    \u001b[1mepoch\u001b[0m    \u001b[1mloss\u001b[0m                             \n",
      " \u001b[99m53/\u001b[93m100\u001b[0m\u001b[0m  \u001b[99m03:02:12<\u001b[93m02:41:34\u001b[0m\u001b[0m  \u001b[99m0.00it/s\u001b[0m  \u001b[99m53/100\u001b[0m  \u001b[99m0.0146\u001b[0m                            \n",
      "\u001b[1mDescription\u001b[0m  53.0% |\u001b[97m█\u001b[0m\u001b[97m█\u001b[0m\u001b[97m█\u001b[0m\u001b[97m█\u001b[0m\u001b[97m█\u001b[0m\u001b[97m█\u001b[0m\u001b[97m█\u001b[0m\u001b[97m█\u001b[0m\u001b[97m█\u001b[0m\u001b[97m█\u001b[0m\u001b[97m█\u001b[0m\u001b[97m█\u001b[0m\u001b[97m█\u001b[0m\u001b[97m█\u001b[0m\u001b[97m█\u001b[0m\u001b[97m█\u001b[0m\u001b[97m█\u001b[0m\u001b[97m█\u001b[0m\u001b[97m█\u001b[0m\u001b[97m█\u001b[0m\u001b[97m█\u001b[0m\u001b[97m█\u001b[0m\u001b[97m█\u001b[0m\u001b[97m█\u001b[0m\u001b[97m█\u001b[0m\u001b[97m█\u001b[0m\u001b[97m█\u001b[0m\u001b[97m█\u001b[0m\u001b[97m█\u001b[0m\u001b[97m█\u001b[0m\u001b[97m█\u001b[0m                            |\u001b[K\u001b[F\u001b[K\u001b[F \u001b[1mIters\u001b[0m     \u001b[1mElapsed Time\u001b[0m      \u001b[1mSpeed\u001b[0m    \u001b[1mepoch\u001b[0m    \u001b[1mloss\u001b[0m                             \n",
      " \u001b[99m54/\u001b[93m100\u001b[0m\u001b[0m  \u001b[99m03:05:40<\u001b[93m02:38:10\u001b[0m\u001b[0m  \u001b[99m0.00it/s\u001b[0m  \u001b[99m54/100\u001b[0m  \u001b[99m0.0145\u001b[0m                            \n",
      "\u001b[1mDescription\u001b[0m  54.0% |\u001b[97m█\u001b[0m\u001b[97m█\u001b[0m\u001b[97m█\u001b[0m\u001b[97m█\u001b[0m\u001b[97m█\u001b[0m\u001b[97m█\u001b[0m\u001b[97m█\u001b[0m\u001b[97m█\u001b[0m\u001b[97m█\u001b[0m\u001b[97m█\u001b[0m\u001b[97m█\u001b[0m\u001b[97m█\u001b[0m\u001b[97m█\u001b[0m\u001b[97m█\u001b[0m\u001b[97m█\u001b[0m\u001b[97m█\u001b[0m\u001b[97m█\u001b[0m\u001b[97m█\u001b[0m\u001b[97m█\u001b[0m\u001b[97m█\u001b[0m\u001b[97m█\u001b[0m\u001b[97m█\u001b[0m\u001b[97m█\u001b[0m\u001b[97m█\u001b[0m\u001b[97m█\u001b[0m\u001b[97m█\u001b[0m\u001b[97m█\u001b[0m\u001b[97m█\u001b[0m\u001b[97m█\u001b[0m\u001b[97m█\u001b[0m\u001b[97m█\u001b[0m                            |\u001b[K\u001b[F\u001b[K\u001b[F \u001b[1mIters\u001b[0m     \u001b[1mElapsed Time\u001b[0m      \u001b[1mSpeed\u001b[0m    \u001b[1mepoch\u001b[0m    \u001b[1mloss\u001b[0m                             \n",
      " \u001b[99m55/\u001b[93m100\u001b[0m\u001b[0m  \u001b[99m03:09:08<\u001b[93m02:34:44\u001b[0m\u001b[0m  \u001b[99m0.00it/s\u001b[0m  \u001b[99m55/100\u001b[0m  \u001b[99m0.0144\u001b[0m                            \n",
      "\u001b[1mDescription\u001b[0m  55.0% |\u001b[97m█\u001b[0m\u001b[97m█\u001b[0m\u001b[97m█\u001b[0m\u001b[97m█\u001b[0m\u001b[97m█\u001b[0m\u001b[97m█\u001b[0m\u001b[97m█\u001b[0m\u001b[97m█\u001b[0m\u001b[97m█\u001b[0m\u001b[97m█\u001b[0m\u001b[97m█\u001b[0m\u001b[97m█\u001b[0m\u001b[97m█\u001b[0m\u001b[97m█\u001b[0m\u001b[97m█\u001b[0m\u001b[97m█\u001b[0m\u001b[97m█\u001b[0m\u001b[97m█\u001b[0m\u001b[97m█\u001b[0m\u001b[97m█\u001b[0m\u001b[97m█\u001b[0m\u001b[97m█\u001b[0m\u001b[97m█\u001b[0m\u001b[97m█\u001b[0m\u001b[97m█\u001b[0m\u001b[97m█\u001b[0m\u001b[97m█\u001b[0m\u001b[97m█\u001b[0m\u001b[97m█\u001b[0m\u001b[97m█\u001b[0m\u001b[97m█\u001b[0m\u001b[97m█\u001b[0m                           |\u001b[K\u001b[F\u001b[K\u001b[F \u001b[1mIters\u001b[0m     \u001b[1mElapsed Time\u001b[0m      \u001b[1mSpeed\u001b[0m    \u001b[1mepoch\u001b[0m    \u001b[1mloss\u001b[0m                             \n",
      " \u001b[99m56/\u001b[93m100\u001b[0m\u001b[0m  \u001b[99m03:12:34<\u001b[93m02:31:18\u001b[0m\u001b[0m  \u001b[99m0.00it/s\u001b[0m  \u001b[99m56/100\u001b[0m  \u001b[99m0.0143\u001b[0m                            \n",
      "\u001b[1mDescription\u001b[0m  56.0% |\u001b[97m█\u001b[0m\u001b[97m█\u001b[0m\u001b[97m█\u001b[0m\u001b[97m█\u001b[0m\u001b[97m█\u001b[0m\u001b[97m█\u001b[0m\u001b[97m█\u001b[0m\u001b[97m█\u001b[0m\u001b[97m█\u001b[0m\u001b[97m█\u001b[0m\u001b[97m█\u001b[0m\u001b[97m█\u001b[0m\u001b[97m█\u001b[0m\u001b[97m█\u001b[0m\u001b[97m█\u001b[0m\u001b[97m█\u001b[0m\u001b[97m█\u001b[0m\u001b[97m█\u001b[0m\u001b[97m█\u001b[0m\u001b[97m█\u001b[0m\u001b[97m█\u001b[0m\u001b[97m█\u001b[0m\u001b[97m█\u001b[0m\u001b[97m█\u001b[0m\u001b[97m█\u001b[0m\u001b[97m█\u001b[0m\u001b[97m█\u001b[0m\u001b[97m█\u001b[0m\u001b[97m█\u001b[0m\u001b[97m█\u001b[0m\u001b[97m█\u001b[0m\u001b[97m█\u001b[0m\u001b[97m█\u001b[0m                          |\u001b[K\u001b[F\u001b[K\u001b[F \u001b[1mIters\u001b[0m     \u001b[1mElapsed Time\u001b[0m      \u001b[1mSpeed\u001b[0m    \u001b[1mepoch\u001b[0m    \u001b[1mloss\u001b[0m                             \n",
      " \u001b[99m57/\u001b[93m100\u001b[0m\u001b[0m  \u001b[99m03:16:03<\u001b[93m02:27:54\u001b[0m\u001b[0m  \u001b[99m0.00it/s\u001b[0m  \u001b[99m57/100\u001b[0m  \u001b[99m0.0142\u001b[0m                            \n",
      "\u001b[1mDescription\u001b[0m  57.0% |\u001b[97m█\u001b[0m\u001b[97m█\u001b[0m\u001b[97m█\u001b[0m\u001b[97m█\u001b[0m\u001b[97m█\u001b[0m\u001b[97m█\u001b[0m\u001b[97m█\u001b[0m\u001b[97m█\u001b[0m\u001b[97m█\u001b[0m\u001b[97m█\u001b[0m\u001b[97m█\u001b[0m\u001b[97m█\u001b[0m\u001b[97m█\u001b[0m\u001b[97m█\u001b[0m\u001b[97m█\u001b[0m\u001b[97m█\u001b[0m\u001b[97m█\u001b[0m\u001b[97m█\u001b[0m\u001b[97m█\u001b[0m\u001b[97m█\u001b[0m\u001b[97m█\u001b[0m\u001b[97m█\u001b[0m\u001b[97m█\u001b[0m\u001b[97m█\u001b[0m\u001b[97m█\u001b[0m\u001b[97m█\u001b[0m\u001b[97m█\u001b[0m\u001b[97m█\u001b[0m\u001b[97m█\u001b[0m\u001b[97m█\u001b[0m\u001b[97m█\u001b[0m\u001b[97m█\u001b[0m\u001b[97m█\u001b[0m                          |\u001b[K\u001b[F\u001b[K\u001b[F \u001b[1mIters\u001b[0m     \u001b[1mElapsed Time\u001b[0m      \u001b[1mSpeed\u001b[0m    \u001b[1mepoch\u001b[0m    \u001b[1mloss\u001b[0m                             \n",
      " \u001b[99m58/\u001b[93m100\u001b[0m\u001b[0m  \u001b[99m03:19:32<\u001b[93m02:24:29\u001b[0m\u001b[0m  \u001b[99m0.00it/s\u001b[0m  \u001b[99m58/100\u001b[0m  \u001b[99m0.0141\u001b[0m                            \n",
      "\u001b[1mDescription\u001b[0m  58.0% |\u001b[97m█\u001b[0m\u001b[97m█\u001b[0m\u001b[97m█\u001b[0m\u001b[97m█\u001b[0m\u001b[97m█\u001b[0m\u001b[97m█\u001b[0m\u001b[97m█\u001b[0m\u001b[97m█\u001b[0m\u001b[97m█\u001b[0m\u001b[97m█\u001b[0m\u001b[97m█\u001b[0m\u001b[97m█\u001b[0m\u001b[97m█\u001b[0m\u001b[97m█\u001b[0m\u001b[97m█\u001b[0m\u001b[97m█\u001b[0m\u001b[97m█\u001b[0m\u001b[97m█\u001b[0m\u001b[97m█\u001b[0m\u001b[97m█\u001b[0m\u001b[97m█\u001b[0m\u001b[97m█\u001b[0m\u001b[97m█\u001b[0m\u001b[97m█\u001b[0m\u001b[97m█\u001b[0m\u001b[97m█\u001b[0m\u001b[97m█\u001b[0m\u001b[97m█\u001b[0m\u001b[97m█\u001b[0m\u001b[97m█\u001b[0m\u001b[97m█\u001b[0m\u001b[97m█\u001b[0m\u001b[97m█\u001b[0m\u001b[97m█\u001b[0m                         |\u001b[K\u001b[F\u001b[K\u001b[F \u001b[1mIters\u001b[0m     \u001b[1mElapsed Time\u001b[0m      \u001b[1mSpeed\u001b[0m    \u001b[1mepoch\u001b[0m    \u001b[1mloss\u001b[0m                             \n",
      " \u001b[99m59/\u001b[93m100\u001b[0m\u001b[0m  \u001b[99m03:22:59<\u001b[93m02:21:03\u001b[0m\u001b[0m  \u001b[99m0.00it/s\u001b[0m  \u001b[99m59/100\u001b[0m  \u001b[99m0.0140\u001b[0m                            \n",
      "\u001b[1mDescription\u001b[0m  59.0% |\u001b[97m█\u001b[0m\u001b[97m█\u001b[0m\u001b[97m█\u001b[0m\u001b[97m█\u001b[0m\u001b[97m█\u001b[0m\u001b[97m█\u001b[0m\u001b[97m█\u001b[0m\u001b[97m█\u001b[0m\u001b[97m█\u001b[0m\u001b[97m█\u001b[0m\u001b[97m█\u001b[0m\u001b[97m█\u001b[0m\u001b[97m█\u001b[0m\u001b[97m█\u001b[0m\u001b[97m█\u001b[0m\u001b[97m█\u001b[0m\u001b[97m█\u001b[0m\u001b[97m█\u001b[0m\u001b[97m█\u001b[0m\u001b[97m█\u001b[0m\u001b[97m█\u001b[0m\u001b[97m█\u001b[0m\u001b[97m█\u001b[0m\u001b[97m█\u001b[0m\u001b[97m█\u001b[0m\u001b[97m█\u001b[0m\u001b[97m█\u001b[0m\u001b[97m█\u001b[0m\u001b[97m█\u001b[0m\u001b[97m█\u001b[0m\u001b[97m█\u001b[0m\u001b[97m█\u001b[0m\u001b[97m█\u001b[0m\u001b[97m█\u001b[0m                         |\u001b[K\u001b[F\u001b[K\u001b[F \u001b[1mIters\u001b[0m     \u001b[1mElapsed Time\u001b[0m      \u001b[1mSpeed\u001b[0m    \u001b[1mepoch\u001b[0m    \u001b[1mloss\u001b[0m                             \n",
      " \u001b[99m60/\u001b[93m100\u001b[0m\u001b[0m  \u001b[99m03:26:26<\u001b[93m02:17:37\u001b[0m\u001b[0m  \u001b[99m0.00it/s\u001b[0m  \u001b[99m60/100\u001b[0m  \u001b[99m0.0139\u001b[0m                            \n",
      "\u001b[1mDescription\u001b[0m  60.0% |\u001b[97m█\u001b[0m\u001b[97m█\u001b[0m\u001b[97m█\u001b[0m\u001b[97m█\u001b[0m\u001b[97m█\u001b[0m\u001b[97m█\u001b[0m\u001b[97m█\u001b[0m\u001b[97m█\u001b[0m\u001b[97m█\u001b[0m\u001b[97m█\u001b[0m\u001b[97m█\u001b[0m\u001b[97m█\u001b[0m\u001b[97m█\u001b[0m\u001b[97m█\u001b[0m\u001b[97m█\u001b[0m\u001b[97m█\u001b[0m\u001b[97m█\u001b[0m\u001b[97m█\u001b[0m\u001b[97m█\u001b[0m\u001b[97m█\u001b[0m\u001b[97m█\u001b[0m\u001b[97m█\u001b[0m\u001b[97m█\u001b[0m\u001b[97m█\u001b[0m\u001b[97m█\u001b[0m\u001b[97m█\u001b[0m\u001b[97m█\u001b[0m\u001b[97m█\u001b[0m\u001b[97m█\u001b[0m\u001b[97m█\u001b[0m\u001b[97m█\u001b[0m\u001b[97m█\u001b[0m\u001b[97m█\u001b[0m\u001b[97m█\u001b[0m\u001b[97m█\u001b[0m                        |\u001b[K\u001b[F\u001b[K\u001b[F \u001b[1mIters\u001b[0m     \u001b[1mElapsed Time\u001b[0m      \u001b[1mSpeed\u001b[0m    \u001b[1mepoch\u001b[0m    \u001b[1mloss\u001b[0m                             \n",
      " \u001b[99m61/\u001b[93m100\u001b[0m\u001b[0m  \u001b[99m03:29:52<\u001b[93m02:14:10\u001b[0m\u001b[0m  \u001b[99m0.00it/s\u001b[0m  \u001b[99m61/100\u001b[0m  \u001b[99m0.0138\u001b[0m                            \n",
      "\u001b[1mDescription\u001b[0m  61.0% |\u001b[97m█\u001b[0m\u001b[97m█\u001b[0m\u001b[97m█\u001b[0m\u001b[97m█\u001b[0m\u001b[97m█\u001b[0m\u001b[97m█\u001b[0m\u001b[97m█\u001b[0m\u001b[97m█\u001b[0m\u001b[97m█\u001b[0m\u001b[97m█\u001b[0m\u001b[97m█\u001b[0m\u001b[97m█\u001b[0m\u001b[97m█\u001b[0m\u001b[97m█\u001b[0m\u001b[97m█\u001b[0m\u001b[97m█\u001b[0m\u001b[97m█\u001b[0m\u001b[97m█\u001b[0m\u001b[97m█\u001b[0m\u001b[97m█\u001b[0m\u001b[97m█\u001b[0m\u001b[97m█\u001b[0m\u001b[97m█\u001b[0m\u001b[97m█\u001b[0m\u001b[97m█\u001b[0m\u001b[97m█\u001b[0m\u001b[97m█\u001b[0m\u001b[97m█\u001b[0m\u001b[97m█\u001b[0m\u001b[97m█\u001b[0m\u001b[97m█\u001b[0m\u001b[97m█\u001b[0m\u001b[97m█\u001b[0m\u001b[97m█\u001b[0m\u001b[97m█\u001b[0m                        |\u001b[K\u001b[F\u001b[K\u001b[F \u001b[1mIters\u001b[0m     \u001b[1mElapsed Time\u001b[0m      \u001b[1mSpeed\u001b[0m    \u001b[1mepoch\u001b[0m    \u001b[1mloss\u001b[0m                             \n",
      " \u001b[99m62/\u001b[93m100\u001b[0m\u001b[0m  \u001b[99m03:33:20<\u001b[93m02:10:45\u001b[0m\u001b[0m  \u001b[99m0.00it/s\u001b[0m  \u001b[99m62/100\u001b[0m  \u001b[99m0.0138\u001b[0m                            \n",
      "\u001b[1mDescription\u001b[0m  62.0% |\u001b[97m█\u001b[0m\u001b[97m█\u001b[0m\u001b[97m█\u001b[0m\u001b[97m█\u001b[0m\u001b[97m█\u001b[0m\u001b[97m█\u001b[0m\u001b[97m█\u001b[0m\u001b[97m█\u001b[0m\u001b[97m█\u001b[0m\u001b[97m█\u001b[0m\u001b[97m█\u001b[0m\u001b[97m█\u001b[0m\u001b[97m█\u001b[0m\u001b[97m█\u001b[0m\u001b[97m█\u001b[0m\u001b[97m█\u001b[0m\u001b[97m█\u001b[0m\u001b[97m█\u001b[0m\u001b[97m█\u001b[0m\u001b[97m█\u001b[0m\u001b[97m█\u001b[0m\u001b[97m█\u001b[0m\u001b[97m█\u001b[0m\u001b[97m█\u001b[0m\u001b[97m█\u001b[0m\u001b[97m█\u001b[0m\u001b[97m█\u001b[0m\u001b[97m█\u001b[0m\u001b[97m█\u001b[0m\u001b[97m█\u001b[0m\u001b[97m█\u001b[0m\u001b[97m█\u001b[0m\u001b[97m█\u001b[0m\u001b[97m█\u001b[0m\u001b[97m█\u001b[0m\u001b[97m█\u001b[0m                       |\u001b[K\u001b[F\u001b[K\u001b[F \u001b[1mIters\u001b[0m     \u001b[1mElapsed Time\u001b[0m      \u001b[1mSpeed\u001b[0m    \u001b[1mepoch\u001b[0m    \u001b[1mloss\u001b[0m                             \n",
      " \u001b[99m63/\u001b[93m100\u001b[0m\u001b[0m  \u001b[99m03:36:47<\u001b[93m02:07:19\u001b[0m\u001b[0m  \u001b[99m0.00it/s\u001b[0m  \u001b[99m63/100\u001b[0m  \u001b[99m0.0137\u001b[0m                            \n",
      "\u001b[1mDescription\u001b[0m  63.0% |\u001b[97m█\u001b[0m\u001b[97m█\u001b[0m\u001b[97m█\u001b[0m\u001b[97m█\u001b[0m\u001b[97m█\u001b[0m\u001b[97m█\u001b[0m\u001b[97m█\u001b[0m\u001b[97m█\u001b[0m\u001b[97m█\u001b[0m\u001b[97m█\u001b[0m\u001b[97m█\u001b[0m\u001b[97m█\u001b[0m\u001b[97m█\u001b[0m\u001b[97m█\u001b[0m\u001b[97m█\u001b[0m\u001b[97m█\u001b[0m\u001b[97m█\u001b[0m\u001b[97m█\u001b[0m\u001b[97m█\u001b[0m\u001b[97m█\u001b[0m\u001b[97m█\u001b[0m\u001b[97m█\u001b[0m\u001b[97m█\u001b[0m\u001b[97m█\u001b[0m\u001b[97m█\u001b[0m\u001b[97m█\u001b[0m\u001b[97m█\u001b[0m\u001b[97m█\u001b[0m\u001b[97m█\u001b[0m\u001b[97m█\u001b[0m\u001b[97m█\u001b[0m\u001b[97m█\u001b[0m\u001b[97m█\u001b[0m\u001b[97m█\u001b[0m\u001b[97m█\u001b[0m\u001b[97m█\u001b[0m\u001b[97m█\u001b[0m                      |\u001b[K\u001b[F\u001b[K\u001b[F \u001b[1mIters\u001b[0m     \u001b[1mElapsed Time\u001b[0m      \u001b[1mSpeed\u001b[0m    \u001b[1mepoch\u001b[0m    \u001b[1mloss\u001b[0m                             \n",
      " \u001b[99m64/\u001b[93m100\u001b[0m\u001b[0m  \u001b[99m03:40:14<\u001b[93m02:03:53\u001b[0m\u001b[0m  \u001b[99m0.00it/s\u001b[0m  \u001b[99m64/100\u001b[0m  \u001b[99m0.0136\u001b[0m                            \n",
      "\u001b[1mDescription\u001b[0m  64.0% |\u001b[97m█\u001b[0m\u001b[97m█\u001b[0m\u001b[97m█\u001b[0m\u001b[97m█\u001b[0m\u001b[97m█\u001b[0m\u001b[97m█\u001b[0m\u001b[97m█\u001b[0m\u001b[97m█\u001b[0m\u001b[97m█\u001b[0m\u001b[97m█\u001b[0m\u001b[97m█\u001b[0m\u001b[97m█\u001b[0m\u001b[97m█\u001b[0m\u001b[97m█\u001b[0m\u001b[97m█\u001b[0m\u001b[97m█\u001b[0m\u001b[97m█\u001b[0m\u001b[97m█\u001b[0m\u001b[97m█\u001b[0m\u001b[97m█\u001b[0m\u001b[97m█\u001b[0m\u001b[97m█\u001b[0m\u001b[97m█\u001b[0m\u001b[97m█\u001b[0m\u001b[97m█\u001b[0m\u001b[97m█\u001b[0m\u001b[97m█\u001b[0m\u001b[97m█\u001b[0m\u001b[97m█\u001b[0m\u001b[97m█\u001b[0m\u001b[97m█\u001b[0m\u001b[97m█\u001b[0m\u001b[97m█\u001b[0m\u001b[97m█\u001b[0m\u001b[97m█\u001b[0m\u001b[97m█\u001b[0m\u001b[97m█\u001b[0m                      |\u001b[K\u001b[F\u001b[K\u001b[F \u001b[1mIters\u001b[0m     \u001b[1mElapsed Time\u001b[0m      \u001b[1mSpeed\u001b[0m    \u001b[1mepoch\u001b[0m    \u001b[1mloss\u001b[0m                             \n",
      " \u001b[99m65/\u001b[93m100\u001b[0m\u001b[0m  \u001b[99m03:43:43<\u001b[93m02:00:28\u001b[0m\u001b[0m  \u001b[99m0.00it/s\u001b[0m  \u001b[99m65/100\u001b[0m  \u001b[99m0.0135\u001b[0m                            \n",
      "\u001b[1mDescription\u001b[0m  65.0% |\u001b[97m█\u001b[0m\u001b[97m█\u001b[0m\u001b[97m█\u001b[0m\u001b[97m█\u001b[0m\u001b[97m█\u001b[0m\u001b[97m█\u001b[0m\u001b[97m█\u001b[0m\u001b[97m█\u001b[0m\u001b[97m█\u001b[0m\u001b[97m█\u001b[0m\u001b[97m█\u001b[0m\u001b[97m█\u001b[0m\u001b[97m█\u001b[0m\u001b[97m█\u001b[0m\u001b[97m█\u001b[0m\u001b[97m█\u001b[0m\u001b[97m█\u001b[0m\u001b[97m█\u001b[0m\u001b[97m█\u001b[0m\u001b[97m█\u001b[0m\u001b[97m█\u001b[0m\u001b[97m█\u001b[0m\u001b[97m█\u001b[0m\u001b[97m█\u001b[0m\u001b[97m█\u001b[0m\u001b[97m█\u001b[0m\u001b[97m█\u001b[0m\u001b[97m█\u001b[0m\u001b[97m█\u001b[0m\u001b[97m█\u001b[0m\u001b[97m█\u001b[0m\u001b[97m█\u001b[0m\u001b[97m█\u001b[0m\u001b[97m█\u001b[0m\u001b[97m█\u001b[0m\u001b[97m█\u001b[0m\u001b[97m█\u001b[0m\u001b[97m█\u001b[0m                     |\u001b[K\u001b[F\u001b[K\u001b[F \u001b[1mIters\u001b[0m     \u001b[1mElapsed Time\u001b[0m      \u001b[1mSpeed\u001b[0m    \u001b[1mepoch\u001b[0m    \u001b[1mloss\u001b[0m                             \n",
      " \u001b[99m66/\u001b[93m100\u001b[0m\u001b[0m  \u001b[99m03:47:10<\u001b[93m01:57:01\u001b[0m\u001b[0m  \u001b[99m0.00it/s\u001b[0m  \u001b[99m66/100\u001b[0m  \u001b[99m0.0135\u001b[0m                            \n",
      "\u001b[1mDescription\u001b[0m  66.0% |\u001b[97m█\u001b[0m\u001b[97m█\u001b[0m\u001b[97m█\u001b[0m\u001b[97m█\u001b[0m\u001b[97m█\u001b[0m\u001b[97m█\u001b[0m\u001b[97m█\u001b[0m\u001b[97m█\u001b[0m\u001b[97m█\u001b[0m\u001b[97m█\u001b[0m\u001b[97m█\u001b[0m\u001b[97m█\u001b[0m\u001b[97m█\u001b[0m\u001b[97m█\u001b[0m\u001b[97m█\u001b[0m\u001b[97m█\u001b[0m\u001b[97m█\u001b[0m\u001b[97m█\u001b[0m\u001b[97m█\u001b[0m\u001b[97m█\u001b[0m\u001b[97m█\u001b[0m\u001b[97m█\u001b[0m\u001b[97m█\u001b[0m\u001b[97m█\u001b[0m\u001b[97m█\u001b[0m\u001b[97m█\u001b[0m\u001b[97m█\u001b[0m\u001b[97m█\u001b[0m\u001b[97m█\u001b[0m\u001b[97m█\u001b[0m\u001b[97m█\u001b[0m\u001b[97m█\u001b[0m\u001b[97m█\u001b[0m\u001b[97m█\u001b[0m\u001b[97m█\u001b[0m\u001b[97m█\u001b[0m\u001b[97m█\u001b[0m\u001b[97m█\u001b[0m                     |\u001b[K\u001b[F\u001b[K\u001b[F \u001b[1mIters\u001b[0m     \u001b[1mElapsed Time\u001b[0m      \u001b[1mSpeed\u001b[0m    \u001b[1mepoch\u001b[0m    \u001b[1mloss\u001b[0m                             \n",
      " \u001b[99m67/\u001b[93m100\u001b[0m\u001b[0m  \u001b[99m03:50:39<\u001b[93m01:53:36\u001b[0m\u001b[0m  \u001b[99m0.00it/s\u001b[0m  \u001b[99m67/100\u001b[0m  \u001b[99m0.0134\u001b[0m                            \n",
      "\u001b[1mDescription\u001b[0m  67.0% |\u001b[97m█\u001b[0m\u001b[97m█\u001b[0m\u001b[97m█\u001b[0m\u001b[97m█\u001b[0m\u001b[97m█\u001b[0m\u001b[97m█\u001b[0m\u001b[97m█\u001b[0m\u001b[97m█\u001b[0m\u001b[97m█\u001b[0m\u001b[97m█\u001b[0m\u001b[97m█\u001b[0m\u001b[97m█\u001b[0m\u001b[97m█\u001b[0m\u001b[97m█\u001b[0m\u001b[97m█\u001b[0m\u001b[97m█\u001b[0m\u001b[97m█\u001b[0m\u001b[97m█\u001b[0m\u001b[97m█\u001b[0m\u001b[97m█\u001b[0m\u001b[97m█\u001b[0m\u001b[97m█\u001b[0m\u001b[97m█\u001b[0m\u001b[97m█\u001b[0m\u001b[97m█\u001b[0m\u001b[97m█\u001b[0m\u001b[97m█\u001b[0m\u001b[97m█\u001b[0m\u001b[97m█\u001b[0m\u001b[97m█\u001b[0m\u001b[97m█\u001b[0m\u001b[97m█\u001b[0m\u001b[97m█\u001b[0m\u001b[97m█\u001b[0m\u001b[97m█\u001b[0m\u001b[97m█\u001b[0m\u001b[97m█\u001b[0m\u001b[97m█\u001b[0m\u001b[97m█\u001b[0m                    |\u001b[K\u001b[F\u001b[K\u001b[F \u001b[1mIters\u001b[0m     \u001b[1mElapsed Time\u001b[0m      \u001b[1mSpeed\u001b[0m    \u001b[1mepoch\u001b[0m    \u001b[1mloss\u001b[0m                             \n",
      " \u001b[99m68/\u001b[93m100\u001b[0m\u001b[0m  \u001b[99m03:54:07<\u001b[93m01:50:10\u001b[0m\u001b[0m  \u001b[99m0.00it/s\u001b[0m  \u001b[99m68/100\u001b[0m  \u001b[99m0.0133\u001b[0m                            \n",
      "\u001b[1mDescription\u001b[0m  68.0% |\u001b[97m█\u001b[0m\u001b[97m█\u001b[0m\u001b[97m█\u001b[0m\u001b[97m█\u001b[0m\u001b[97m█\u001b[0m\u001b[97m█\u001b[0m\u001b[97m█\u001b[0m\u001b[97m█\u001b[0m\u001b[97m█\u001b[0m\u001b[97m█\u001b[0m\u001b[97m█\u001b[0m\u001b[97m█\u001b[0m\u001b[97m█\u001b[0m\u001b[97m█\u001b[0m\u001b[97m█\u001b[0m\u001b[97m█\u001b[0m\u001b[97m█\u001b[0m\u001b[97m█\u001b[0m\u001b[97m█\u001b[0m\u001b[97m█\u001b[0m\u001b[97m█\u001b[0m\u001b[97m█\u001b[0m\u001b[97m█\u001b[0m\u001b[97m█\u001b[0m\u001b[97m█\u001b[0m\u001b[97m█\u001b[0m\u001b[97m█\u001b[0m\u001b[97m█\u001b[0m\u001b[97m█\u001b[0m\u001b[97m█\u001b[0m\u001b[97m█\u001b[0m\u001b[97m█\u001b[0m\u001b[97m█\u001b[0m\u001b[97m█\u001b[0m\u001b[97m█\u001b[0m\u001b[97m█\u001b[0m\u001b[97m█\u001b[0m\u001b[97m█\u001b[0m\u001b[97m█\u001b[0m\u001b[97m█\u001b[0m                   |\u001b[K\u001b[F\u001b[K\u001b[F \u001b[1mIters\u001b[0m     \u001b[1mElapsed Time\u001b[0m      \u001b[1mSpeed\u001b[0m    \u001b[1mepoch\u001b[0m    \u001b[1mloss\u001b[0m                             \n",
      " \u001b[99m69/\u001b[93m100\u001b[0m\u001b[0m  \u001b[99m03:57:35<\u001b[93m01:46:44\u001b[0m\u001b[0m  \u001b[99m0.00it/s\u001b[0m  \u001b[99m69/100\u001b[0m  \u001b[99m0.0133\u001b[0m                            \n",
      "\u001b[1mDescription\u001b[0m  69.0% |\u001b[97m█\u001b[0m\u001b[97m█\u001b[0m\u001b[97m█\u001b[0m\u001b[97m█\u001b[0m\u001b[97m█\u001b[0m\u001b[97m█\u001b[0m\u001b[97m█\u001b[0m\u001b[97m█\u001b[0m\u001b[97m█\u001b[0m\u001b[97m█\u001b[0m\u001b[97m█\u001b[0m\u001b[97m█\u001b[0m\u001b[97m█\u001b[0m\u001b[97m█\u001b[0m\u001b[97m█\u001b[0m\u001b[97m█\u001b[0m\u001b[97m█\u001b[0m\u001b[97m█\u001b[0m\u001b[97m█\u001b[0m\u001b[97m█\u001b[0m\u001b[97m█\u001b[0m\u001b[97m█\u001b[0m\u001b[97m█\u001b[0m\u001b[97m█\u001b[0m\u001b[97m█\u001b[0m\u001b[97m█\u001b[0m\u001b[97m█\u001b[0m\u001b[97m█\u001b[0m\u001b[97m█\u001b[0m\u001b[97m█\u001b[0m\u001b[97m█\u001b[0m\u001b[97m█\u001b[0m\u001b[97m█\u001b[0m\u001b[97m█\u001b[0m\u001b[97m█\u001b[0m\u001b[97m█\u001b[0m\u001b[97m█\u001b[0m\u001b[97m█\u001b[0m\u001b[97m█\u001b[0m\u001b[97m█\u001b[0m                   |\u001b[K\u001b[F\u001b[K\u001b[F \u001b[1mIters\u001b[0m     \u001b[1mElapsed Time\u001b[0m      \u001b[1mSpeed\u001b[0m    \u001b[1mepoch\u001b[0m    \u001b[1mloss\u001b[0m                             \n",
      " \u001b[99m70/\u001b[93m100\u001b[0m\u001b[0m  \u001b[99m04:01:02<\u001b[93m01:43:18\u001b[0m\u001b[0m  \u001b[99m0.00it/s\u001b[0m  \u001b[99m70/100\u001b[0m  \u001b[99m0.0132\u001b[0m                            \n",
      "\u001b[1mDescription\u001b[0m  70.0% |\u001b[97m█\u001b[0m\u001b[97m█\u001b[0m\u001b[97m█\u001b[0m\u001b[97m█\u001b[0m\u001b[97m█\u001b[0m\u001b[97m█\u001b[0m\u001b[97m█\u001b[0m\u001b[97m█\u001b[0m\u001b[97m█\u001b[0m\u001b[97m█\u001b[0m\u001b[97m█\u001b[0m\u001b[97m█\u001b[0m\u001b[97m█\u001b[0m\u001b[97m█\u001b[0m\u001b[97m█\u001b[0m\u001b[97m█\u001b[0m\u001b[97m█\u001b[0m\u001b[97m█\u001b[0m\u001b[97m█\u001b[0m\u001b[97m█\u001b[0m\u001b[97m█\u001b[0m\u001b[97m█\u001b[0m\u001b[97m█\u001b[0m\u001b[97m█\u001b[0m\u001b[97m█\u001b[0m\u001b[97m█\u001b[0m\u001b[97m█\u001b[0m\u001b[97m█\u001b[0m\u001b[97m█\u001b[0m\u001b[97m█\u001b[0m\u001b[97m█\u001b[0m\u001b[97m█\u001b[0m\u001b[97m█\u001b[0m\u001b[97m█\u001b[0m\u001b[97m█\u001b[0m\u001b[97m█\u001b[0m\u001b[97m█\u001b[0m\u001b[97m█\u001b[0m\u001b[97m█\u001b[0m\u001b[97m█\u001b[0m\u001b[97m█\u001b[0m                  |\u001b[K\u001b[F\u001b[K\u001b[F \u001b[1mIters\u001b[0m     \u001b[1mElapsed Time\u001b[0m      \u001b[1mSpeed\u001b[0m    \u001b[1mepoch\u001b[0m    \u001b[1mloss\u001b[0m                             \n",
      " \u001b[99m71/\u001b[93m100\u001b[0m\u001b[0m  \u001b[99m04:04:28<\u001b[93m01:39:51\u001b[0m\u001b[0m  \u001b[99m0.00it/s\u001b[0m  \u001b[99m71/100\u001b[0m  \u001b[99m0.0131\u001b[0m                            \n",
      "\u001b[1mDescription\u001b[0m  71.0% |\u001b[97m█\u001b[0m\u001b[97m█\u001b[0m\u001b[97m█\u001b[0m\u001b[97m█\u001b[0m\u001b[97m█\u001b[0m\u001b[97m█\u001b[0m\u001b[97m█\u001b[0m\u001b[97m█\u001b[0m\u001b[97m█\u001b[0m\u001b[97m█\u001b[0m\u001b[97m█\u001b[0m\u001b[97m█\u001b[0m\u001b[97m█\u001b[0m\u001b[97m█\u001b[0m\u001b[97m█\u001b[0m\u001b[97m█\u001b[0m\u001b[97m█\u001b[0m\u001b[97m█\u001b[0m\u001b[97m█\u001b[0m\u001b[97m█\u001b[0m\u001b[97m█\u001b[0m\u001b[97m█\u001b[0m\u001b[97m█\u001b[0m\u001b[97m█\u001b[0m\u001b[97m█\u001b[0m\u001b[97m█\u001b[0m\u001b[97m█\u001b[0m\u001b[97m█\u001b[0m\u001b[97m█\u001b[0m\u001b[97m█\u001b[0m\u001b[97m█\u001b[0m\u001b[97m█\u001b[0m\u001b[97m█\u001b[0m\u001b[97m█\u001b[0m\u001b[97m█\u001b[0m\u001b[97m█\u001b[0m\u001b[97m█\u001b[0m\u001b[97m█\u001b[0m\u001b[97m█\u001b[0m\u001b[97m█\u001b[0m\u001b[97m█\u001b[0m                  |\u001b[K\u001b[F\u001b[K\u001b[F \u001b[1mIters\u001b[0m     \u001b[1mElapsed Time\u001b[0m      \u001b[1mSpeed\u001b[0m    \u001b[1mepoch\u001b[0m    \u001b[1mloss\u001b[0m                             \n",
      " \u001b[99m72/\u001b[93m100\u001b[0m\u001b[0m  \u001b[99m04:07:55<\u001b[93m01:36:24\u001b[0m\u001b[0m  \u001b[99m0.00it/s\u001b[0m  \u001b[99m72/100\u001b[0m  \u001b[99m0.0130\u001b[0m                            \n",
      "\u001b[1mDescription\u001b[0m  72.0% |\u001b[97m█\u001b[0m\u001b[97m█\u001b[0m\u001b[97m█\u001b[0m\u001b[97m█\u001b[0m\u001b[97m█\u001b[0m\u001b[97m█\u001b[0m\u001b[97m█\u001b[0m\u001b[97m█\u001b[0m\u001b[97m█\u001b[0m\u001b[97m█\u001b[0m\u001b[97m█\u001b[0m\u001b[97m█\u001b[0m\u001b[97m█\u001b[0m\u001b[97m█\u001b[0m\u001b[97m█\u001b[0m\u001b[97m█\u001b[0m\u001b[97m█\u001b[0m\u001b[97m█\u001b[0m\u001b[97m█\u001b[0m\u001b[97m█\u001b[0m\u001b[97m█\u001b[0m\u001b[97m█\u001b[0m\u001b[97m█\u001b[0m\u001b[97m█\u001b[0m\u001b[97m█\u001b[0m\u001b[97m█\u001b[0m\u001b[97m█\u001b[0m\u001b[97m█\u001b[0m\u001b[97m█\u001b[0m\u001b[97m█\u001b[0m\u001b[97m█\u001b[0m\u001b[97m█\u001b[0m\u001b[97m█\u001b[0m\u001b[97m█\u001b[0m\u001b[97m█\u001b[0m\u001b[97m█\u001b[0m\u001b[97m█\u001b[0m\u001b[97m█\u001b[0m\u001b[97m█\u001b[0m\u001b[97m█\u001b[0m\u001b[97m█\u001b[0m\u001b[97m█\u001b[0m                 |\u001b[K\u001b[F\u001b[K\u001b[F \u001b[1mIters\u001b[0m     \u001b[1mElapsed Time\u001b[0m      \u001b[1mSpeed\u001b[0m    \u001b[1mepoch\u001b[0m    \u001b[1mloss\u001b[0m                             \n",
      " \u001b[99m73/\u001b[93m100\u001b[0m\u001b[0m  \u001b[99m04:11:18<\u001b[93m01:32:57\u001b[0m\u001b[0m  \u001b[99m0.00it/s\u001b[0m  \u001b[99m73/100\u001b[0m  \u001b[99m0.0130\u001b[0m                            \n",
      "\u001b[1mDescription\u001b[0m  73.0% |\u001b[97m█\u001b[0m\u001b[97m█\u001b[0m\u001b[97m█\u001b[0m\u001b[97m█\u001b[0m\u001b[97m█\u001b[0m\u001b[97m█\u001b[0m\u001b[97m█\u001b[0m\u001b[97m█\u001b[0m\u001b[97m█\u001b[0m\u001b[97m█\u001b[0m\u001b[97m█\u001b[0m\u001b[97m█\u001b[0m\u001b[97m█\u001b[0m\u001b[97m█\u001b[0m\u001b[97m█\u001b[0m\u001b[97m█\u001b[0m\u001b[97m█\u001b[0m\u001b[97m█\u001b[0m\u001b[97m█\u001b[0m\u001b[97m█\u001b[0m\u001b[97m█\u001b[0m\u001b[97m█\u001b[0m\u001b[97m█\u001b[0m\u001b[97m█\u001b[0m\u001b[97m█\u001b[0m\u001b[97m█\u001b[0m\u001b[97m█\u001b[0m\u001b[97m█\u001b[0m\u001b[97m█\u001b[0m\u001b[97m█\u001b[0m\u001b[97m█\u001b[0m\u001b[97m█\u001b[0m\u001b[97m█\u001b[0m\u001b[97m█\u001b[0m\u001b[97m█\u001b[0m\u001b[97m█\u001b[0m\u001b[97m█\u001b[0m\u001b[97m█\u001b[0m\u001b[97m█\u001b[0m\u001b[97m█\u001b[0m\u001b[97m█\u001b[0m\u001b[97m█\u001b[0m\u001b[97m█\u001b[0m                |\u001b[K\u001b[F\u001b[K\u001b[F \u001b[1mIters\u001b[0m     \u001b[1mElapsed Time\u001b[0m      \u001b[1mSpeed\u001b[0m    \u001b[1mepoch\u001b[0m    \u001b[1mloss\u001b[0m                             \n",
      " \u001b[99m74/\u001b[93m100\u001b[0m\u001b[0m  \u001b[99m04:14:42<\u001b[93m01:29:29\u001b[0m\u001b[0m  \u001b[99m0.00it/s\u001b[0m  \u001b[99m74/100\u001b[0m  \u001b[99m0.0129\u001b[0m                            \n",
      "\u001b[1mDescription\u001b[0m  74.0% |\u001b[97m█\u001b[0m\u001b[97m█\u001b[0m\u001b[97m█\u001b[0m\u001b[97m█\u001b[0m\u001b[97m█\u001b[0m\u001b[97m█\u001b[0m\u001b[97m█\u001b[0m\u001b[97m█\u001b[0m\u001b[97m█\u001b[0m\u001b[97m█\u001b[0m\u001b[97m█\u001b[0m\u001b[97m█\u001b[0m\u001b[97m█\u001b[0m\u001b[97m█\u001b[0m\u001b[97m█\u001b[0m\u001b[97m█\u001b[0m\u001b[97m█\u001b[0m\u001b[97m█\u001b[0m\u001b[97m█\u001b[0m\u001b[97m█\u001b[0m\u001b[97m█\u001b[0m\u001b[97m█\u001b[0m\u001b[97m█\u001b[0m\u001b[97m█\u001b[0m\u001b[97m█\u001b[0m\u001b[97m█\u001b[0m\u001b[97m█\u001b[0m\u001b[97m█\u001b[0m\u001b[97m█\u001b[0m\u001b[97m█\u001b[0m\u001b[97m█\u001b[0m\u001b[97m█\u001b[0m\u001b[97m█\u001b[0m\u001b[97m█\u001b[0m\u001b[97m█\u001b[0m\u001b[97m█\u001b[0m\u001b[97m█\u001b[0m\u001b[97m█\u001b[0m\u001b[97m█\u001b[0m\u001b[97m█\u001b[0m\u001b[97m█\u001b[0m\u001b[97m█\u001b[0m\u001b[97m█\u001b[0m                |\u001b[K\u001b[F\u001b[K\u001b[F \u001b[1mIters\u001b[0m     \u001b[1mElapsed Time\u001b[0m      \u001b[1mSpeed\u001b[0m    \u001b[1mepoch\u001b[0m    \u001b[1mloss\u001b[0m                             \n",
      " \u001b[99m75/\u001b[93m100\u001b[0m\u001b[0m  \u001b[99m04:18:10<\u001b[93m01:26:03\u001b[0m\u001b[0m  \u001b[99m0.00it/s\u001b[0m  \u001b[99m75/100\u001b[0m  \u001b[99m0.0128\u001b[0m                            \n",
      "\u001b[1mDescription\u001b[0m  75.0% |\u001b[97m█\u001b[0m\u001b[97m█\u001b[0m\u001b[97m█\u001b[0m\u001b[97m█\u001b[0m\u001b[97m█\u001b[0m\u001b[97m█\u001b[0m\u001b[97m█\u001b[0m\u001b[97m█\u001b[0m\u001b[97m█\u001b[0m\u001b[97m█\u001b[0m\u001b[97m█\u001b[0m\u001b[97m█\u001b[0m\u001b[97m█\u001b[0m\u001b[97m█\u001b[0m\u001b[97m█\u001b[0m\u001b[97m█\u001b[0m\u001b[97m█\u001b[0m\u001b[97m█\u001b[0m\u001b[97m█\u001b[0m\u001b[97m█\u001b[0m\u001b[97m█\u001b[0m\u001b[97m█\u001b[0m\u001b[97m█\u001b[0m\u001b[97m█\u001b[0m\u001b[97m█\u001b[0m\u001b[97m█\u001b[0m\u001b[97m█\u001b[0m\u001b[97m█\u001b[0m\u001b[97m█\u001b[0m\u001b[97m█\u001b[0m\u001b[97m█\u001b[0m\u001b[97m█\u001b[0m\u001b[97m█\u001b[0m\u001b[97m█\u001b[0m\u001b[97m█\u001b[0m\u001b[97m█\u001b[0m\u001b[97m█\u001b[0m\u001b[97m█\u001b[0m\u001b[97m█\u001b[0m\u001b[97m█\u001b[0m\u001b[97m█\u001b[0m\u001b[97m█\u001b[0m\u001b[97m█\u001b[0m\u001b[97m█\u001b[0m               |\u001b[K\u001b[F\u001b[K\u001b[F \u001b[1mIters\u001b[0m     \u001b[1mElapsed Time\u001b[0m      \u001b[1mSpeed\u001b[0m    \u001b[1mepoch\u001b[0m    \u001b[1mloss\u001b[0m                             \n",
      " \u001b[99m76/\u001b[93m100\u001b[0m\u001b[0m  \u001b[99m04:21:35<\u001b[93m01:22:36\u001b[0m\u001b[0m  \u001b[99m0.00it/s\u001b[0m  \u001b[99m76/100\u001b[0m  \u001b[99m0.0128\u001b[0m                            \n",
      "\u001b[1mDescription\u001b[0m  76.0% |\u001b[97m█\u001b[0m\u001b[97m█\u001b[0m\u001b[97m█\u001b[0m\u001b[97m█\u001b[0m\u001b[97m█\u001b[0m\u001b[97m█\u001b[0m\u001b[97m█\u001b[0m\u001b[97m█\u001b[0m\u001b[97m█\u001b[0m\u001b[97m█\u001b[0m\u001b[97m█\u001b[0m\u001b[97m█\u001b[0m\u001b[97m█\u001b[0m\u001b[97m█\u001b[0m\u001b[97m█\u001b[0m\u001b[97m█\u001b[0m\u001b[97m█\u001b[0m\u001b[97m█\u001b[0m\u001b[97m█\u001b[0m\u001b[97m█\u001b[0m\u001b[97m█\u001b[0m\u001b[97m█\u001b[0m\u001b[97m█\u001b[0m\u001b[97m█\u001b[0m\u001b[97m█\u001b[0m\u001b[97m█\u001b[0m\u001b[97m█\u001b[0m\u001b[97m█\u001b[0m\u001b[97m█\u001b[0m\u001b[97m█\u001b[0m\u001b[97m█\u001b[0m\u001b[97m█\u001b[0m\u001b[97m█\u001b[0m\u001b[97m█\u001b[0m\u001b[97m█\u001b[0m\u001b[97m█\u001b[0m\u001b[97m█\u001b[0m\u001b[97m█\u001b[0m\u001b[97m█\u001b[0m\u001b[97m█\u001b[0m\u001b[97m█\u001b[0m\u001b[97m█\u001b[0m\u001b[97m█\u001b[0m\u001b[97m█\u001b[0m               |\u001b[K\u001b[F\u001b[K\u001b[F \u001b[1mIters\u001b[0m     \u001b[1mElapsed Time\u001b[0m      \u001b[1mSpeed\u001b[0m    \u001b[1mepoch\u001b[0m    \u001b[1mloss\u001b[0m                             \n",
      " \u001b[99m77/\u001b[93m100\u001b[0m\u001b[0m  \u001b[99m04:24:59<\u001b[93m01:19:09\u001b[0m\u001b[0m  \u001b[99m0.00it/s\u001b[0m  \u001b[99m77/100\u001b[0m  \u001b[99m0.0127\u001b[0m                            \n",
      "\u001b[1mDescription\u001b[0m  77.0% |\u001b[97m█\u001b[0m\u001b[97m█\u001b[0m\u001b[97m█\u001b[0m\u001b[97m█\u001b[0m\u001b[97m█\u001b[0m\u001b[97m█\u001b[0m\u001b[97m█\u001b[0m\u001b[97m█\u001b[0m\u001b[97m█\u001b[0m\u001b[97m█\u001b[0m\u001b[97m█\u001b[0m\u001b[97m█\u001b[0m\u001b[97m█\u001b[0m\u001b[97m█\u001b[0m\u001b[97m█\u001b[0m\u001b[97m█\u001b[0m\u001b[97m█\u001b[0m\u001b[97m█\u001b[0m\u001b[97m█\u001b[0m\u001b[97m█\u001b[0m\u001b[97m█\u001b[0m\u001b[97m█\u001b[0m\u001b[97m█\u001b[0m\u001b[97m█\u001b[0m\u001b[97m█\u001b[0m\u001b[97m█\u001b[0m\u001b[97m█\u001b[0m\u001b[97m█\u001b[0m\u001b[97m█\u001b[0m\u001b[97m█\u001b[0m\u001b[97m█\u001b[0m\u001b[97m█\u001b[0m\u001b[97m█\u001b[0m\u001b[97m█\u001b[0m\u001b[97m█\u001b[0m\u001b[97m█\u001b[0m\u001b[97m█\u001b[0m\u001b[97m█\u001b[0m\u001b[97m█\u001b[0m\u001b[97m█\u001b[0m\u001b[97m█\u001b[0m\u001b[97m█\u001b[0m\u001b[97m█\u001b[0m\u001b[97m█\u001b[0m\u001b[97m█\u001b[0m              |\u001b[K\u001b[F\u001b[K\u001b[F \u001b[1mIters\u001b[0m     \u001b[1mElapsed Time\u001b[0m      \u001b[1mSpeed\u001b[0m    \u001b[1mepoch\u001b[0m    \u001b[1mloss\u001b[0m                             \n",
      " \u001b[99m78/\u001b[93m100\u001b[0m\u001b[0m  \u001b[99m04:28:24<\u001b[93m01:15:42\u001b[0m\u001b[0m  \u001b[99m0.00it/s\u001b[0m  \u001b[99m78/100\u001b[0m  \u001b[99m0.0127\u001b[0m                            \n",
      "\u001b[1mDescription\u001b[0m  78.0% |\u001b[97m█\u001b[0m\u001b[97m█\u001b[0m\u001b[97m█\u001b[0m\u001b[97m█\u001b[0m\u001b[97m█\u001b[0m\u001b[97m█\u001b[0m\u001b[97m█\u001b[0m\u001b[97m█\u001b[0m\u001b[97m█\u001b[0m\u001b[97m█\u001b[0m\u001b[97m█\u001b[0m\u001b[97m█\u001b[0m\u001b[97m█\u001b[0m\u001b[97m█\u001b[0m\u001b[97m█\u001b[0m\u001b[97m█\u001b[0m\u001b[97m█\u001b[0m\u001b[97m█\u001b[0m\u001b[97m█\u001b[0m\u001b[97m█\u001b[0m\u001b[97m█\u001b[0m\u001b[97m█\u001b[0m\u001b[97m█\u001b[0m\u001b[97m█\u001b[0m\u001b[97m█\u001b[0m\u001b[97m█\u001b[0m\u001b[97m█\u001b[0m\u001b[97m█\u001b[0m\u001b[97m█\u001b[0m\u001b[97m█\u001b[0m\u001b[97m█\u001b[0m\u001b[97m█\u001b[0m\u001b[97m█\u001b[0m\u001b[97m█\u001b[0m\u001b[97m█\u001b[0m\u001b[97m█\u001b[0m\u001b[97m█\u001b[0m\u001b[97m█\u001b[0m\u001b[97m█\u001b[0m\u001b[97m█\u001b[0m\u001b[97m█\u001b[0m\u001b[97m█\u001b[0m\u001b[97m█\u001b[0m\u001b[97m█\u001b[0m\u001b[97m█\u001b[0m\u001b[97m█\u001b[0m             |\u001b[K\u001b[F\u001b[K\u001b[F \u001b[1mIters\u001b[0m     \u001b[1mElapsed Time\u001b[0m      \u001b[1mSpeed\u001b[0m    \u001b[1mepoch\u001b[0m    \u001b[1mloss\u001b[0m                             \n",
      " \u001b[99m79/\u001b[93m100\u001b[0m\u001b[0m  \u001b[99m04:31:49<\u001b[93m01:12:15\u001b[0m\u001b[0m  \u001b[99m0.00it/s\u001b[0m  \u001b[99m79/100\u001b[0m  \u001b[99m0.0126\u001b[0m                            \n",
      "\u001b[1mDescription\u001b[0m  79.0% |\u001b[97m█\u001b[0m\u001b[97m█\u001b[0m\u001b[97m█\u001b[0m\u001b[97m█\u001b[0m\u001b[97m█\u001b[0m\u001b[97m█\u001b[0m\u001b[97m█\u001b[0m\u001b[97m█\u001b[0m\u001b[97m█\u001b[0m\u001b[97m█\u001b[0m\u001b[97m█\u001b[0m\u001b[97m█\u001b[0m\u001b[97m█\u001b[0m\u001b[97m█\u001b[0m\u001b[97m█\u001b[0m\u001b[97m█\u001b[0m\u001b[97m█\u001b[0m\u001b[97m█\u001b[0m\u001b[97m█\u001b[0m\u001b[97m█\u001b[0m\u001b[97m█\u001b[0m\u001b[97m█\u001b[0m\u001b[97m█\u001b[0m\u001b[97m█\u001b[0m\u001b[97m█\u001b[0m\u001b[97m█\u001b[0m\u001b[97m█\u001b[0m\u001b[97m█\u001b[0m\u001b[97m█\u001b[0m\u001b[97m█\u001b[0m\u001b[97m█\u001b[0m\u001b[97m█\u001b[0m\u001b[97m█\u001b[0m\u001b[97m█\u001b[0m\u001b[97m█\u001b[0m\u001b[97m█\u001b[0m\u001b[97m█\u001b[0m\u001b[97m█\u001b[0m\u001b[97m█\u001b[0m\u001b[97m█\u001b[0m\u001b[97m█\u001b[0m\u001b[97m█\u001b[0m\u001b[97m█\u001b[0m\u001b[97m█\u001b[0m\u001b[97m█\u001b[0m\u001b[97m█\u001b[0m             |\u001b[K\u001b[F\u001b[K\u001b[F \u001b[1mIters\u001b[0m     \u001b[1mElapsed Time\u001b[0m      \u001b[1mSpeed\u001b[0m    \u001b[1mepoch\u001b[0m    \u001b[1mloss\u001b[0m                             \n",
      " \u001b[99m80/\u001b[93m100\u001b[0m\u001b[0m  \u001b[99m04:35:15<\u001b[93m01:08:48\u001b[0m\u001b[0m  \u001b[99m0.00it/s\u001b[0m  \u001b[99m80/100\u001b[0m  \u001b[99m0.0125\u001b[0m                            \n",
      "\u001b[1mDescription\u001b[0m  80.0% |\u001b[97m█\u001b[0m\u001b[97m█\u001b[0m\u001b[97m█\u001b[0m\u001b[97m█\u001b[0m\u001b[97m█\u001b[0m\u001b[97m█\u001b[0m\u001b[97m█\u001b[0m\u001b[97m█\u001b[0m\u001b[97m█\u001b[0m\u001b[97m█\u001b[0m\u001b[97m█\u001b[0m\u001b[97m█\u001b[0m\u001b[97m█\u001b[0m\u001b[97m█\u001b[0m\u001b[97m█\u001b[0m\u001b[97m█\u001b[0m\u001b[97m█\u001b[0m\u001b[97m█\u001b[0m\u001b[97m█\u001b[0m\u001b[97m█\u001b[0m\u001b[97m█\u001b[0m\u001b[97m█\u001b[0m\u001b[97m█\u001b[0m\u001b[97m█\u001b[0m\u001b[97m█\u001b[0m\u001b[97m█\u001b[0m\u001b[97m█\u001b[0m\u001b[97m█\u001b[0m\u001b[97m█\u001b[0m\u001b[97m█\u001b[0m\u001b[97m█\u001b[0m\u001b[97m█\u001b[0m\u001b[97m█\u001b[0m\u001b[97m█\u001b[0m\u001b[97m█\u001b[0m\u001b[97m█\u001b[0m\u001b[97m█\u001b[0m\u001b[97m█\u001b[0m\u001b[97m█\u001b[0m\u001b[97m█\u001b[0m\u001b[97m█\u001b[0m\u001b[97m█\u001b[0m\u001b[97m█\u001b[0m\u001b[97m█\u001b[0m\u001b[97m█\u001b[0m\u001b[97m█\u001b[0m\u001b[97m█\u001b[0m            |\u001b[K\u001b[F\u001b[K\u001b[F \u001b[1mIters\u001b[0m     \u001b[1mElapsed Time\u001b[0m      \u001b[1mSpeed\u001b[0m    \u001b[1mepoch\u001b[0m    \u001b[1mloss\u001b[0m                             \n",
      " \u001b[99m81/\u001b[93m100\u001b[0m\u001b[0m  \u001b[99m04:38:39<\u001b[93m01:05:21\u001b[0m\u001b[0m  \u001b[99m0.00it/s\u001b[0m  \u001b[99m81/100\u001b[0m  \u001b[99m0.0125\u001b[0m                            \n",
      "\u001b[1mDescription\u001b[0m  81.0% |\u001b[97m█\u001b[0m\u001b[97m█\u001b[0m\u001b[97m█\u001b[0m\u001b[97m█\u001b[0m\u001b[97m█\u001b[0m\u001b[97m█\u001b[0m\u001b[97m█\u001b[0m\u001b[97m█\u001b[0m\u001b[97m█\u001b[0m\u001b[97m█\u001b[0m\u001b[97m█\u001b[0m\u001b[97m█\u001b[0m\u001b[97m█\u001b[0m\u001b[97m█\u001b[0m\u001b[97m█\u001b[0m\u001b[97m█\u001b[0m\u001b[97m█\u001b[0m\u001b[97m█\u001b[0m\u001b[97m█\u001b[0m\u001b[97m█\u001b[0m\u001b[97m█\u001b[0m\u001b[97m█\u001b[0m\u001b[97m█\u001b[0m\u001b[97m█\u001b[0m\u001b[97m█\u001b[0m\u001b[97m█\u001b[0m\u001b[97m█\u001b[0m\u001b[97m█\u001b[0m\u001b[97m█\u001b[0m\u001b[97m█\u001b[0m\u001b[97m█\u001b[0m\u001b[97m█\u001b[0m\u001b[97m█\u001b[0m\u001b[97m█\u001b[0m\u001b[97m█\u001b[0m\u001b[97m█\u001b[0m\u001b[97m█\u001b[0m\u001b[97m█\u001b[0m\u001b[97m█\u001b[0m\u001b[97m█\u001b[0m\u001b[97m█\u001b[0m\u001b[97m█\u001b[0m\u001b[97m█\u001b[0m\u001b[97m█\u001b[0m\u001b[97m█\u001b[0m\u001b[97m█\u001b[0m\u001b[97m█\u001b[0m            |\u001b[K\u001b[F\u001b[K\u001b[F \u001b[1mIters\u001b[0m     \u001b[1mElapsed Time\u001b[0m      \u001b[1mSpeed\u001b[0m    \u001b[1mepoch\u001b[0m    \u001b[1mloss\u001b[0m                             \n",
      " \u001b[99m82/\u001b[93m100\u001b[0m\u001b[0m  \u001b[99m04:42:02<\u001b[93m01:01:54\u001b[0m\u001b[0m  \u001b[99m0.00it/s\u001b[0m  \u001b[99m82/100\u001b[0m  \u001b[99m0.0124\u001b[0m                            \n",
      "\u001b[1mDescription\u001b[0m  82.0% |\u001b[97m█\u001b[0m\u001b[97m█\u001b[0m\u001b[97m█\u001b[0m\u001b[97m█\u001b[0m\u001b[97m█\u001b[0m\u001b[97m█\u001b[0m\u001b[97m█\u001b[0m\u001b[97m█\u001b[0m\u001b[97m█\u001b[0m\u001b[97m█\u001b[0m\u001b[97m█\u001b[0m\u001b[97m█\u001b[0m\u001b[97m█\u001b[0m\u001b[97m█\u001b[0m\u001b[97m█\u001b[0m\u001b[97m█\u001b[0m\u001b[97m█\u001b[0m\u001b[97m█\u001b[0m\u001b[97m█\u001b[0m\u001b[97m█\u001b[0m\u001b[97m█\u001b[0m\u001b[97m█\u001b[0m\u001b[97m█\u001b[0m\u001b[97m█\u001b[0m\u001b[97m█\u001b[0m\u001b[97m█\u001b[0m\u001b[97m█\u001b[0m\u001b[97m█\u001b[0m\u001b[97m█\u001b[0m\u001b[97m█\u001b[0m\u001b[97m█\u001b[0m\u001b[97m█\u001b[0m\u001b[97m█\u001b[0m\u001b[97m█\u001b[0m\u001b[97m█\u001b[0m\u001b[97m█\u001b[0m\u001b[97m█\u001b[0m\u001b[97m█\u001b[0m\u001b[97m█\u001b[0m\u001b[97m█\u001b[0m\u001b[97m█\u001b[0m\u001b[97m█\u001b[0m\u001b[97m█\u001b[0m\u001b[97m█\u001b[0m\u001b[97m█\u001b[0m\u001b[97m█\u001b[0m\u001b[97m█\u001b[0m\u001b[97m█\u001b[0m           |\u001b[K\u001b[F\u001b[K\u001b[F \u001b[1mIters\u001b[0m     \u001b[1mElapsed Time\u001b[0m      \u001b[1mSpeed\u001b[0m    \u001b[1mepoch\u001b[0m    \u001b[1mloss\u001b[0m                             \n",
      " \u001b[99m83/\u001b[93m100\u001b[0m\u001b[0m  \u001b[99m04:45:26<\u001b[93m00:58:27\u001b[0m\u001b[0m  \u001b[99m0.00it/s\u001b[0m  \u001b[99m83/100\u001b[0m  \u001b[99m0.0124\u001b[0m                            \n",
      "\u001b[1mDescription\u001b[0m  83.0% |\u001b[97m█\u001b[0m\u001b[97m█\u001b[0m\u001b[97m█\u001b[0m\u001b[97m█\u001b[0m\u001b[97m█\u001b[0m\u001b[97m█\u001b[0m\u001b[97m█\u001b[0m\u001b[97m█\u001b[0m\u001b[97m█\u001b[0m\u001b[97m█\u001b[0m\u001b[97m█\u001b[0m\u001b[97m█\u001b[0m\u001b[97m█\u001b[0m\u001b[97m█\u001b[0m\u001b[97m█\u001b[0m\u001b[97m█\u001b[0m\u001b[97m█\u001b[0m\u001b[97m█\u001b[0m\u001b[97m█\u001b[0m\u001b[97m█\u001b[0m\u001b[97m█\u001b[0m\u001b[97m█\u001b[0m\u001b[97m█\u001b[0m\u001b[97m█\u001b[0m\u001b[97m█\u001b[0m\u001b[97m█\u001b[0m\u001b[97m█\u001b[0m\u001b[97m█\u001b[0m\u001b[97m█\u001b[0m\u001b[97m█\u001b[0m\u001b[97m█\u001b[0m\u001b[97m█\u001b[0m\u001b[97m█\u001b[0m\u001b[97m█\u001b[0m\u001b[97m█\u001b[0m\u001b[97m█\u001b[0m\u001b[97m█\u001b[0m\u001b[97m█\u001b[0m\u001b[97m█\u001b[0m\u001b[97m█\u001b[0m\u001b[97m█\u001b[0m\u001b[97m█\u001b[0m\u001b[97m█\u001b[0m\u001b[97m█\u001b[0m\u001b[97m█\u001b[0m\u001b[97m█\u001b[0m\u001b[97m█\u001b[0m\u001b[97m█\u001b[0m           |\u001b[K\u001b[F\u001b[K\u001b[F \u001b[1mIters\u001b[0m     \u001b[1mElapsed Time\u001b[0m      \u001b[1mSpeed\u001b[0m    \u001b[1mepoch\u001b[0m    \u001b[1mloss\u001b[0m                             \n",
      " \u001b[99m84/\u001b[93m100\u001b[0m\u001b[0m  \u001b[99m04:48:50<\u001b[93m00:55:00\u001b[0m\u001b[0m  \u001b[99m0.00it/s\u001b[0m  \u001b[99m84/100\u001b[0m  \u001b[99m0.0123\u001b[0m                            \n",
      "\u001b[1mDescription\u001b[0m  84.0% |\u001b[97m█\u001b[0m\u001b[97m█\u001b[0m\u001b[97m█\u001b[0m\u001b[97m█\u001b[0m\u001b[97m█\u001b[0m\u001b[97m█\u001b[0m\u001b[97m█\u001b[0m\u001b[97m█\u001b[0m\u001b[97m█\u001b[0m\u001b[97m█\u001b[0m\u001b[97m█\u001b[0m\u001b[97m█\u001b[0m\u001b[97m█\u001b[0m\u001b[97m█\u001b[0m\u001b[97m█\u001b[0m\u001b[97m█\u001b[0m\u001b[97m█\u001b[0m\u001b[97m█\u001b[0m\u001b[97m█\u001b[0m\u001b[97m█\u001b[0m\u001b[97m█\u001b[0m\u001b[97m█\u001b[0m\u001b[97m█\u001b[0m\u001b[97m█\u001b[0m\u001b[97m█\u001b[0m\u001b[97m█\u001b[0m\u001b[97m█\u001b[0m\u001b[97m█\u001b[0m\u001b[97m█\u001b[0m\u001b[97m█\u001b[0m\u001b[97m█\u001b[0m\u001b[97m█\u001b[0m\u001b[97m█\u001b[0m\u001b[97m█\u001b[0m\u001b[97m█\u001b[0m\u001b[97m█\u001b[0m\u001b[97m█\u001b[0m\u001b[97m█\u001b[0m\u001b[97m█\u001b[0m\u001b[97m█\u001b[0m\u001b[97m█\u001b[0m\u001b[97m█\u001b[0m\u001b[97m█\u001b[0m\u001b[97m█\u001b[0m\u001b[97m█\u001b[0m\u001b[97m█\u001b[0m\u001b[97m█\u001b[0m\u001b[97m█\u001b[0m\u001b[97m█\u001b[0m          |\u001b[K\u001b[F\u001b[K\u001b[F \u001b[1mIters\u001b[0m     \u001b[1mElapsed Time\u001b[0m      \u001b[1mSpeed\u001b[0m    \u001b[1mepoch\u001b[0m    \u001b[1mloss\u001b[0m                             \n",
      " \u001b[99m85/\u001b[93m100\u001b[0m\u001b[0m  \u001b[99m04:52:13<\u001b[93m00:51:34\u001b[0m\u001b[0m  \u001b[99m0.00it/s\u001b[0m  \u001b[99m85/100\u001b[0m  \u001b[99m0.0123\u001b[0m                            \n",
      "\u001b[1mDescription\u001b[0m  85.0% |\u001b[97m█\u001b[0m\u001b[97m█\u001b[0m\u001b[97m█\u001b[0m\u001b[97m█\u001b[0m\u001b[97m█\u001b[0m\u001b[97m█\u001b[0m\u001b[97m█\u001b[0m\u001b[97m█\u001b[0m\u001b[97m█\u001b[0m\u001b[97m█\u001b[0m\u001b[97m█\u001b[0m\u001b[97m█\u001b[0m\u001b[97m█\u001b[0m\u001b[97m█\u001b[0m\u001b[97m█\u001b[0m\u001b[97m█\u001b[0m\u001b[97m█\u001b[0m\u001b[97m█\u001b[0m\u001b[97m█\u001b[0m\u001b[97m█\u001b[0m\u001b[97m█\u001b[0m\u001b[97m█\u001b[0m\u001b[97m█\u001b[0m\u001b[97m█\u001b[0m\u001b[97m█\u001b[0m\u001b[97m█\u001b[0m\u001b[97m█\u001b[0m\u001b[97m█\u001b[0m\u001b[97m█\u001b[0m\u001b[97m█\u001b[0m\u001b[97m█\u001b[0m\u001b[97m█\u001b[0m\u001b[97m█\u001b[0m\u001b[97m█\u001b[0m\u001b[97m█\u001b[0m\u001b[97m█\u001b[0m\u001b[97m█\u001b[0m\u001b[97m█\u001b[0m\u001b[97m█\u001b[0m\u001b[97m█\u001b[0m\u001b[97m█\u001b[0m\u001b[97m█\u001b[0m\u001b[97m█\u001b[0m\u001b[97m█\u001b[0m\u001b[97m█\u001b[0m\u001b[97m█\u001b[0m\u001b[97m█\u001b[0m\u001b[97m█\u001b[0m\u001b[97m█\u001b[0m\u001b[97m█\u001b[0m         |\u001b[K\u001b[F\u001b[K\u001b[F \u001b[1mIters\u001b[0m     \u001b[1mElapsed Time\u001b[0m      \u001b[1mSpeed\u001b[0m    \u001b[1mepoch\u001b[0m    \u001b[1mloss\u001b[0m                             \n",
      " \u001b[99m86/\u001b[93m100\u001b[0m\u001b[0m  \u001b[99m04:55:38<\u001b[93m00:48:07\u001b[0m\u001b[0m  \u001b[99m0.00it/s\u001b[0m  \u001b[99m86/100\u001b[0m  \u001b[99m0.0122\u001b[0m                            \n",
      "\u001b[1mDescription\u001b[0m  86.0% |\u001b[97m█\u001b[0m\u001b[97m█\u001b[0m\u001b[97m█\u001b[0m\u001b[97m█\u001b[0m\u001b[97m█\u001b[0m\u001b[97m█\u001b[0m\u001b[97m█\u001b[0m\u001b[97m█\u001b[0m\u001b[97m█\u001b[0m\u001b[97m█\u001b[0m\u001b[97m█\u001b[0m\u001b[97m█\u001b[0m\u001b[97m█\u001b[0m\u001b[97m█\u001b[0m\u001b[97m█\u001b[0m\u001b[97m█\u001b[0m\u001b[97m█\u001b[0m\u001b[97m█\u001b[0m\u001b[97m█\u001b[0m\u001b[97m█\u001b[0m\u001b[97m█\u001b[0m\u001b[97m█\u001b[0m\u001b[97m█\u001b[0m\u001b[97m█\u001b[0m\u001b[97m█\u001b[0m\u001b[97m█\u001b[0m\u001b[97m█\u001b[0m\u001b[97m█\u001b[0m\u001b[97m█\u001b[0m\u001b[97m█\u001b[0m\u001b[97m█\u001b[0m\u001b[97m█\u001b[0m\u001b[97m█\u001b[0m\u001b[97m█\u001b[0m\u001b[97m█\u001b[0m\u001b[97m█\u001b[0m\u001b[97m█\u001b[0m\u001b[97m█\u001b[0m\u001b[97m█\u001b[0m\u001b[97m█\u001b[0m\u001b[97m█\u001b[0m\u001b[97m█\u001b[0m\u001b[97m█\u001b[0m\u001b[97m█\u001b[0m\u001b[97m█\u001b[0m\u001b[97m█\u001b[0m\u001b[97m█\u001b[0m\u001b[97m█\u001b[0m\u001b[97m█\u001b[0m\u001b[97m█\u001b[0m         |\u001b[K\u001b[F\u001b[K\u001b[F \u001b[1mIters\u001b[0m     \u001b[1mElapsed Time\u001b[0m      \u001b[1mSpeed\u001b[0m    \u001b[1mepoch\u001b[0m    \u001b[1mloss\u001b[0m                             \n",
      " \u001b[99m87/\u001b[93m100\u001b[0m\u001b[0m  \u001b[99m04:59:02<\u001b[93m00:44:41\u001b[0m\u001b[0m  \u001b[99m0.00it/s\u001b[0m  \u001b[99m87/100\u001b[0m  \u001b[99m0.0122\u001b[0m                            \n",
      "\u001b[1mDescription\u001b[0m  87.0% |\u001b[97m█\u001b[0m\u001b[97m█\u001b[0m\u001b[97m█\u001b[0m\u001b[97m█\u001b[0m\u001b[97m█\u001b[0m\u001b[97m█\u001b[0m\u001b[97m█\u001b[0m\u001b[97m█\u001b[0m\u001b[97m█\u001b[0m\u001b[97m█\u001b[0m\u001b[97m█\u001b[0m\u001b[97m█\u001b[0m\u001b[97m█\u001b[0m\u001b[97m█\u001b[0m\u001b[97m█\u001b[0m\u001b[97m█\u001b[0m\u001b[97m█\u001b[0m\u001b[97m█\u001b[0m\u001b[97m█\u001b[0m\u001b[97m█\u001b[0m\u001b[97m█\u001b[0m\u001b[97m█\u001b[0m\u001b[97m█\u001b[0m\u001b[97m█\u001b[0m\u001b[97m█\u001b[0m\u001b[97m█\u001b[0m\u001b[97m█\u001b[0m\u001b[97m█\u001b[0m\u001b[97m█\u001b[0m\u001b[97m█\u001b[0m\u001b[97m█\u001b[0m\u001b[97m█\u001b[0m\u001b[97m█\u001b[0m\u001b[97m█\u001b[0m\u001b[97m█\u001b[0m\u001b[97m█\u001b[0m\u001b[97m█\u001b[0m\u001b[97m█\u001b[0m\u001b[97m█\u001b[0m\u001b[97m█\u001b[0m\u001b[97m█\u001b[0m\u001b[97m█\u001b[0m\u001b[97m█\u001b[0m\u001b[97m█\u001b[0m\u001b[97m█\u001b[0m\u001b[97m█\u001b[0m\u001b[97m█\u001b[0m\u001b[97m█\u001b[0m\u001b[97m█\u001b[0m\u001b[97m█\u001b[0m\u001b[97m█\u001b[0m        |\u001b[K\u001b[F\u001b[K\u001b[F \u001b[1mIters\u001b[0m     \u001b[1mElapsed Time\u001b[0m      \u001b[1mSpeed\u001b[0m    \u001b[1mepoch\u001b[0m    \u001b[1mloss\u001b[0m                             \n",
      " \u001b[99m88/\u001b[93m100\u001b[0m\u001b[0m  \u001b[99m05:02:25<\u001b[93m00:41:14\u001b[0m\u001b[0m  \u001b[99m0.00it/s\u001b[0m  \u001b[99m88/100\u001b[0m  \u001b[99m0.0121\u001b[0m                            \n",
      "\u001b[1mDescription\u001b[0m  88.0% |\u001b[97m█\u001b[0m\u001b[97m█\u001b[0m\u001b[97m█\u001b[0m\u001b[97m█\u001b[0m\u001b[97m█\u001b[0m\u001b[97m█\u001b[0m\u001b[97m█\u001b[0m\u001b[97m█\u001b[0m\u001b[97m█\u001b[0m\u001b[97m█\u001b[0m\u001b[97m█\u001b[0m\u001b[97m█\u001b[0m\u001b[97m█\u001b[0m\u001b[97m█\u001b[0m\u001b[97m█\u001b[0m\u001b[97m█\u001b[0m\u001b[97m█\u001b[0m\u001b[97m█\u001b[0m\u001b[97m█\u001b[0m\u001b[97m█\u001b[0m\u001b[97m█\u001b[0m\u001b[97m█\u001b[0m\u001b[97m█\u001b[0m\u001b[97m█\u001b[0m\u001b[97m█\u001b[0m\u001b[97m█\u001b[0m\u001b[97m█\u001b[0m\u001b[97m█\u001b[0m\u001b[97m█\u001b[0m\u001b[97m█\u001b[0m\u001b[97m█\u001b[0m\u001b[97m█\u001b[0m\u001b[97m█\u001b[0m\u001b[97m█\u001b[0m\u001b[97m█\u001b[0m\u001b[97m█\u001b[0m\u001b[97m█\u001b[0m\u001b[97m█\u001b[0m\u001b[97m█\u001b[0m\u001b[97m█\u001b[0m\u001b[97m█\u001b[0m\u001b[97m█\u001b[0m\u001b[97m█\u001b[0m\u001b[97m█\u001b[0m\u001b[97m█\u001b[0m\u001b[97m█\u001b[0m\u001b[97m█\u001b[0m\u001b[97m█\u001b[0m\u001b[97m█\u001b[0m\u001b[97m█\u001b[0m\u001b[97m█\u001b[0m        |\u001b[K\u001b[F\u001b[K\u001b[F \u001b[1mIters\u001b[0m     \u001b[1mElapsed Time\u001b[0m      \u001b[1mSpeed\u001b[0m    \u001b[1mepoch\u001b[0m    \u001b[1mloss\u001b[0m                             \n",
      " \u001b[99m89/\u001b[93m100\u001b[0m\u001b[0m  \u001b[99m05:05:48<\u001b[93m00:37:47\u001b[0m\u001b[0m  \u001b[99m0.00it/s\u001b[0m  \u001b[99m89/100\u001b[0m  \u001b[99m0.0121\u001b[0m                            \n",
      "\u001b[1mDescription\u001b[0m  89.0% |\u001b[97m█\u001b[0m\u001b[97m█\u001b[0m\u001b[97m█\u001b[0m\u001b[97m█\u001b[0m\u001b[97m█\u001b[0m\u001b[97m█\u001b[0m\u001b[97m█\u001b[0m\u001b[97m█\u001b[0m\u001b[97m█\u001b[0m\u001b[97m█\u001b[0m\u001b[97m█\u001b[0m\u001b[97m█\u001b[0m\u001b[97m█\u001b[0m\u001b[97m█\u001b[0m\u001b[97m█\u001b[0m\u001b[97m█\u001b[0m\u001b[97m█\u001b[0m\u001b[97m█\u001b[0m\u001b[97m█\u001b[0m\u001b[97m█\u001b[0m\u001b[97m█\u001b[0m\u001b[97m█\u001b[0m\u001b[97m█\u001b[0m\u001b[97m█\u001b[0m\u001b[97m█\u001b[0m\u001b[97m█\u001b[0m\u001b[97m█\u001b[0m\u001b[97m█\u001b[0m\u001b[97m█\u001b[0m\u001b[97m█\u001b[0m\u001b[97m█\u001b[0m\u001b[97m█\u001b[0m\u001b[97m█\u001b[0m\u001b[97m█\u001b[0m\u001b[97m█\u001b[0m\u001b[97m█\u001b[0m\u001b[97m█\u001b[0m\u001b[97m█\u001b[0m\u001b[97m█\u001b[0m\u001b[97m█\u001b[0m\u001b[97m█\u001b[0m\u001b[97m█\u001b[0m\u001b[97m█\u001b[0m\u001b[97m█\u001b[0m\u001b[97m█\u001b[0m\u001b[97m█\u001b[0m\u001b[97m█\u001b[0m\u001b[97m█\u001b[0m\u001b[97m█\u001b[0m\u001b[97m█\u001b[0m\u001b[97m█\u001b[0m\u001b[97m█\u001b[0m       |\u001b[K\u001b[F\u001b[K\u001b[F \u001b[1mIters\u001b[0m     \u001b[1mElapsed Time\u001b[0m      \u001b[1mSpeed\u001b[0m    \u001b[1mepoch\u001b[0m    \u001b[1mloss\u001b[0m                             \n",
      " \u001b[99m90/\u001b[93m100\u001b[0m\u001b[0m  \u001b[99m05:09:13<\u001b[93m00:34:21\u001b[0m\u001b[0m  \u001b[99m0.00it/s\u001b[0m  \u001b[99m90/100\u001b[0m  \u001b[99m0.0120\u001b[0m                            \n",
      "\u001b[1mDescription\u001b[0m  90.0% |\u001b[97m█\u001b[0m\u001b[97m█\u001b[0m\u001b[97m█\u001b[0m\u001b[97m█\u001b[0m\u001b[97m█\u001b[0m\u001b[97m█\u001b[0m\u001b[97m█\u001b[0m\u001b[97m█\u001b[0m\u001b[97m█\u001b[0m\u001b[97m█\u001b[0m\u001b[97m█\u001b[0m\u001b[97m█\u001b[0m\u001b[97m█\u001b[0m\u001b[97m█\u001b[0m\u001b[97m█\u001b[0m\u001b[97m█\u001b[0m\u001b[97m█\u001b[0m\u001b[97m█\u001b[0m\u001b[97m█\u001b[0m\u001b[97m█\u001b[0m\u001b[97m█\u001b[0m\u001b[97m█\u001b[0m\u001b[97m█\u001b[0m\u001b[97m█\u001b[0m\u001b[97m█\u001b[0m\u001b[97m█\u001b[0m\u001b[97m█\u001b[0m\u001b[97m█\u001b[0m\u001b[97m█\u001b[0m\u001b[97m█\u001b[0m\u001b[97m█\u001b[0m\u001b[97m█\u001b[0m\u001b[97m█\u001b[0m\u001b[97m█\u001b[0m\u001b[97m█\u001b[0m\u001b[97m█\u001b[0m\u001b[97m█\u001b[0m\u001b[97m█\u001b[0m\u001b[97m█\u001b[0m\u001b[97m█\u001b[0m\u001b[97m█\u001b[0m\u001b[97m█\u001b[0m\u001b[97m█\u001b[0m\u001b[97m█\u001b[0m\u001b[97m█\u001b[0m\u001b[97m█\u001b[0m\u001b[97m█\u001b[0m\u001b[97m█\u001b[0m\u001b[97m█\u001b[0m\u001b[97m█\u001b[0m\u001b[97m█\u001b[0m\u001b[97m█\u001b[0m\u001b[97m█\u001b[0m      |\u001b[K\u001b[F\u001b[K\u001b[F \u001b[1mIters\u001b[0m     \u001b[1mElapsed Time\u001b[0m      \u001b[1mSpeed\u001b[0m    \u001b[1mepoch\u001b[0m    \u001b[1mloss\u001b[0m                             \n",
      " \u001b[99m91/\u001b[93m100\u001b[0m\u001b[0m  \u001b[99m05:12:37<\u001b[93m00:30:55\u001b[0m\u001b[0m  \u001b[99m0.00it/s\u001b[0m  \u001b[99m91/100\u001b[0m  \u001b[99m0.0120\u001b[0m                            \n",
      "\u001b[1mDescription\u001b[0m  91.0% |\u001b[97m█\u001b[0m\u001b[97m█\u001b[0m\u001b[97m█\u001b[0m\u001b[97m█\u001b[0m\u001b[97m█\u001b[0m\u001b[97m█\u001b[0m\u001b[97m█\u001b[0m\u001b[97m█\u001b[0m\u001b[97m█\u001b[0m\u001b[97m█\u001b[0m\u001b[97m█\u001b[0m\u001b[97m█\u001b[0m\u001b[97m█\u001b[0m\u001b[97m█\u001b[0m\u001b[97m█\u001b[0m\u001b[97m█\u001b[0m\u001b[97m█\u001b[0m\u001b[97m█\u001b[0m\u001b[97m█\u001b[0m\u001b[97m█\u001b[0m\u001b[97m█\u001b[0m\u001b[97m█\u001b[0m\u001b[97m█\u001b[0m\u001b[97m█\u001b[0m\u001b[97m█\u001b[0m\u001b[97m█\u001b[0m\u001b[97m█\u001b[0m\u001b[97m█\u001b[0m\u001b[97m█\u001b[0m\u001b[97m█\u001b[0m\u001b[97m█\u001b[0m\u001b[97m█\u001b[0m\u001b[97m█\u001b[0m\u001b[97m█\u001b[0m\u001b[97m█\u001b[0m\u001b[97m█\u001b[0m\u001b[97m█\u001b[0m\u001b[97m█\u001b[0m\u001b[97m█\u001b[0m\u001b[97m█\u001b[0m\u001b[97m█\u001b[0m\u001b[97m█\u001b[0m\u001b[97m█\u001b[0m\u001b[97m█\u001b[0m\u001b[97m█\u001b[0m\u001b[97m█\u001b[0m\u001b[97m█\u001b[0m\u001b[97m█\u001b[0m\u001b[97m█\u001b[0m\u001b[97m█\u001b[0m\u001b[97m█\u001b[0m\u001b[97m█\u001b[0m\u001b[97m█\u001b[0m      |\u001b[K\u001b[F\u001b[K\u001b[F \u001b[1mIters\u001b[0m     \u001b[1mElapsed Time\u001b[0m      \u001b[1mSpeed\u001b[0m    \u001b[1mepoch\u001b[0m    \u001b[1mloss\u001b[0m                             \n",
      " \u001b[99m92/\u001b[93m100\u001b[0m\u001b[0m  \u001b[99m05:15:59<\u001b[93m00:27:28\u001b[0m\u001b[0m  \u001b[99m0.00it/s\u001b[0m  \u001b[99m92/100\u001b[0m  \u001b[99m0.0119\u001b[0m                            \n",
      "\u001b[1mDescription\u001b[0m  92.0% |\u001b[97m█\u001b[0m\u001b[97m█\u001b[0m\u001b[97m█\u001b[0m\u001b[97m█\u001b[0m\u001b[97m█\u001b[0m\u001b[97m█\u001b[0m\u001b[97m█\u001b[0m\u001b[97m█\u001b[0m\u001b[97m█\u001b[0m\u001b[97m█\u001b[0m\u001b[97m█\u001b[0m\u001b[97m█\u001b[0m\u001b[97m█\u001b[0m\u001b[97m█\u001b[0m\u001b[97m█\u001b[0m\u001b[97m█\u001b[0m\u001b[97m█\u001b[0m\u001b[97m█\u001b[0m\u001b[97m█\u001b[0m\u001b[97m█\u001b[0m\u001b[97m█\u001b[0m\u001b[97m█\u001b[0m\u001b[97m█\u001b[0m\u001b[97m█\u001b[0m\u001b[97m█\u001b[0m\u001b[97m█\u001b[0m\u001b[97m█\u001b[0m\u001b[97m█\u001b[0m\u001b[97m█\u001b[0m\u001b[97m█\u001b[0m\u001b[97m█\u001b[0m\u001b[97m█\u001b[0m\u001b[97m█\u001b[0m\u001b[97m█\u001b[0m\u001b[97m█\u001b[0m\u001b[97m█\u001b[0m\u001b[97m█\u001b[0m\u001b[97m█\u001b[0m\u001b[97m█\u001b[0m\u001b[97m█\u001b[0m\u001b[97m█\u001b[0m\u001b[97m█\u001b[0m\u001b[97m█\u001b[0m\u001b[97m█\u001b[0m\u001b[97m█\u001b[0m\u001b[97m█\u001b[0m\u001b[97m█\u001b[0m\u001b[97m█\u001b[0m\u001b[97m█\u001b[0m\u001b[97m█\u001b[0m\u001b[97m█\u001b[0m\u001b[97m█\u001b[0m\u001b[97m█\u001b[0m\u001b[97m█\u001b[0m     |\u001b[K\u001b[F\u001b[K\u001b[F \u001b[1mIters\u001b[0m     \u001b[1mElapsed Time\u001b[0m      \u001b[1mSpeed\u001b[0m    \u001b[1mepoch\u001b[0m    \u001b[1mloss\u001b[0m                             \n",
      " \u001b[99m93/\u001b[93m100\u001b[0m\u001b[0m  \u001b[99m05:19:21<\u001b[93m00:24:02\u001b[0m\u001b[0m  \u001b[99m0.00it/s\u001b[0m  \u001b[99m93/100\u001b[0m  \u001b[99m0.0119\u001b[0m                            \n",
      "\u001b[1mDescription\u001b[0m  93.0% |\u001b[97m█\u001b[0m\u001b[97m█\u001b[0m\u001b[97m█\u001b[0m\u001b[97m█\u001b[0m\u001b[97m█\u001b[0m\u001b[97m█\u001b[0m\u001b[97m█\u001b[0m\u001b[97m█\u001b[0m\u001b[97m█\u001b[0m\u001b[97m█\u001b[0m\u001b[97m█\u001b[0m\u001b[97m█\u001b[0m\u001b[97m█\u001b[0m\u001b[97m█\u001b[0m\u001b[97m█\u001b[0m\u001b[97m█\u001b[0m\u001b[97m█\u001b[0m\u001b[97m█\u001b[0m\u001b[97m█\u001b[0m\u001b[97m█\u001b[0m\u001b[97m█\u001b[0m\u001b[97m█\u001b[0m\u001b[97m█\u001b[0m\u001b[97m█\u001b[0m\u001b[97m█\u001b[0m\u001b[97m█\u001b[0m\u001b[97m█\u001b[0m\u001b[97m█\u001b[0m\u001b[97m█\u001b[0m\u001b[97m█\u001b[0m\u001b[97m█\u001b[0m\u001b[97m█\u001b[0m\u001b[97m█\u001b[0m\u001b[97m█\u001b[0m\u001b[97m█\u001b[0m\u001b[97m█\u001b[0m\u001b[97m█\u001b[0m\u001b[97m█\u001b[0m\u001b[97m█\u001b[0m\u001b[97m█\u001b[0m\u001b[97m█\u001b[0m\u001b[97m█\u001b[0m\u001b[97m█\u001b[0m\u001b[97m█\u001b[0m\u001b[97m█\u001b[0m\u001b[97m█\u001b[0m\u001b[97m█\u001b[0m\u001b[97m█\u001b[0m\u001b[97m█\u001b[0m\u001b[97m█\u001b[0m\u001b[97m█\u001b[0m\u001b[97m█\u001b[0m\u001b[97m█\u001b[0m\u001b[97m█\u001b[0m     |\u001b[K\u001b[F\u001b[K\u001b[F \u001b[1mIters\u001b[0m     \u001b[1mElapsed Time\u001b[0m      \u001b[1mSpeed\u001b[0m    \u001b[1mepoch\u001b[0m    \u001b[1mloss\u001b[0m                             \n",
      " \u001b[99m94/\u001b[93m100\u001b[0m\u001b[0m  \u001b[99m05:22:42<\u001b[93m00:20:35\u001b[0m\u001b[0m  \u001b[99m0.00it/s\u001b[0m  \u001b[99m94/100\u001b[0m  \u001b[99m0.0119\u001b[0m                            \n",
      "\u001b[1mDescription\u001b[0m  94.0% |\u001b[97m█\u001b[0m\u001b[97m█\u001b[0m\u001b[97m█\u001b[0m\u001b[97m█\u001b[0m\u001b[97m█\u001b[0m\u001b[97m█\u001b[0m\u001b[97m█\u001b[0m\u001b[97m█\u001b[0m\u001b[97m█\u001b[0m\u001b[97m█\u001b[0m\u001b[97m█\u001b[0m\u001b[97m█\u001b[0m\u001b[97m█\u001b[0m\u001b[97m█\u001b[0m\u001b[97m█\u001b[0m\u001b[97m█\u001b[0m\u001b[97m█\u001b[0m\u001b[97m█\u001b[0m\u001b[97m█\u001b[0m\u001b[97m█\u001b[0m\u001b[97m█\u001b[0m\u001b[97m█\u001b[0m\u001b[97m█\u001b[0m\u001b[97m█\u001b[0m\u001b[97m█\u001b[0m\u001b[97m█\u001b[0m\u001b[97m█\u001b[0m\u001b[97m█\u001b[0m\u001b[97m█\u001b[0m\u001b[97m█\u001b[0m\u001b[97m█\u001b[0m\u001b[97m█\u001b[0m\u001b[97m█\u001b[0m\u001b[97m█\u001b[0m\u001b[97m█\u001b[0m\u001b[97m█\u001b[0m\u001b[97m█\u001b[0m\u001b[97m█\u001b[0m\u001b[97m█\u001b[0m\u001b[97m█\u001b[0m\u001b[97m█\u001b[0m\u001b[97m█\u001b[0m\u001b[97m█\u001b[0m\u001b[97m█\u001b[0m\u001b[97m█\u001b[0m\u001b[97m█\u001b[0m\u001b[97m█\u001b[0m\u001b[97m█\u001b[0m\u001b[97m█\u001b[0m\u001b[97m█\u001b[0m\u001b[97m█\u001b[0m\u001b[97m█\u001b[0m\u001b[97m█\u001b[0m\u001b[97m█\u001b[0m\u001b[97m█\u001b[0m    |\u001b[K\u001b[F\u001b[K\u001b[F \u001b[1mIters\u001b[0m     \u001b[1mElapsed Time\u001b[0m      \u001b[1mSpeed\u001b[0m    \u001b[1mepoch\u001b[0m    \u001b[1mloss\u001b[0m                             \n",
      " \u001b[99m95/\u001b[93m100\u001b[0m\u001b[0m  \u001b[99m05:26:05<\u001b[93m00:17:09\u001b[0m\u001b[0m  \u001b[99m0.00it/s\u001b[0m  \u001b[99m95/100\u001b[0m  \u001b[99m0.0118\u001b[0m                            \n",
      "\u001b[1mDescription\u001b[0m  95.0% |\u001b[97m█\u001b[0m\u001b[97m█\u001b[0m\u001b[97m█\u001b[0m\u001b[97m█\u001b[0m\u001b[97m█\u001b[0m\u001b[97m█\u001b[0m\u001b[97m█\u001b[0m\u001b[97m█\u001b[0m\u001b[97m█\u001b[0m\u001b[97m█\u001b[0m\u001b[97m█\u001b[0m\u001b[97m█\u001b[0m\u001b[97m█\u001b[0m\u001b[97m█\u001b[0m\u001b[97m█\u001b[0m\u001b[97m█\u001b[0m\u001b[97m█\u001b[0m\u001b[97m█\u001b[0m\u001b[97m█\u001b[0m\u001b[97m█\u001b[0m\u001b[97m█\u001b[0m\u001b[97m█\u001b[0m\u001b[97m█\u001b[0m\u001b[97m█\u001b[0m\u001b[97m█\u001b[0m\u001b[97m█\u001b[0m\u001b[97m█\u001b[0m\u001b[97m█\u001b[0m\u001b[97m█\u001b[0m\u001b[97m█\u001b[0m\u001b[97m█\u001b[0m\u001b[97m█\u001b[0m\u001b[97m█\u001b[0m\u001b[97m█\u001b[0m\u001b[97m█\u001b[0m\u001b[97m█\u001b[0m\u001b[97m█\u001b[0m\u001b[97m█\u001b[0m\u001b[97m█\u001b[0m\u001b[97m█\u001b[0m\u001b[97m█\u001b[0m\u001b[97m█\u001b[0m\u001b[97m█\u001b[0m\u001b[97m█\u001b[0m\u001b[97m█\u001b[0m\u001b[97m█\u001b[0m\u001b[97m█\u001b[0m\u001b[97m█\u001b[0m\u001b[97m█\u001b[0m\u001b[97m█\u001b[0m\u001b[97m█\u001b[0m\u001b[97m█\u001b[0m\u001b[97m█\u001b[0m\u001b[97m█\u001b[0m\u001b[97m█\u001b[0m\u001b[97m█\u001b[0m   |\u001b[K\u001b[F\u001b[K\u001b[F \u001b[1mIters\u001b[0m     \u001b[1mElapsed Time\u001b[0m      \u001b[1mSpeed\u001b[0m    \u001b[1mepoch\u001b[0m    \u001b[1mloss\u001b[0m                             \n",
      " \u001b[99m96/\u001b[93m100\u001b[0m\u001b[0m  \u001b[99m05:29:26<\u001b[93m00:13:43\u001b[0m\u001b[0m  \u001b[99m0.00it/s\u001b[0m  \u001b[99m96/100\u001b[0m  \u001b[99m0.0118\u001b[0m                            \n",
      "\u001b[1mDescription\u001b[0m  96.0% |\u001b[97m█\u001b[0m\u001b[97m█\u001b[0m\u001b[97m█\u001b[0m\u001b[97m█\u001b[0m\u001b[97m█\u001b[0m\u001b[97m█\u001b[0m\u001b[97m█\u001b[0m\u001b[97m█\u001b[0m\u001b[97m█\u001b[0m\u001b[97m█\u001b[0m\u001b[97m█\u001b[0m\u001b[97m█\u001b[0m\u001b[97m█\u001b[0m\u001b[97m█\u001b[0m\u001b[97m█\u001b[0m\u001b[97m█\u001b[0m\u001b[97m█\u001b[0m\u001b[97m█\u001b[0m\u001b[97m█\u001b[0m\u001b[97m█\u001b[0m\u001b[97m█\u001b[0m\u001b[97m█\u001b[0m\u001b[97m█\u001b[0m\u001b[97m█\u001b[0m\u001b[97m█\u001b[0m\u001b[97m█\u001b[0m\u001b[97m█\u001b[0m\u001b[97m█\u001b[0m\u001b[97m█\u001b[0m\u001b[97m█\u001b[0m\u001b[97m█\u001b[0m\u001b[97m█\u001b[0m\u001b[97m█\u001b[0m\u001b[97m█\u001b[0m\u001b[97m█\u001b[0m\u001b[97m█\u001b[0m\u001b[97m█\u001b[0m\u001b[97m█\u001b[0m\u001b[97m█\u001b[0m\u001b[97m█\u001b[0m\u001b[97m█\u001b[0m\u001b[97m█\u001b[0m\u001b[97m█\u001b[0m\u001b[97m█\u001b[0m\u001b[97m█\u001b[0m\u001b[97m█\u001b[0m\u001b[97m█\u001b[0m\u001b[97m█\u001b[0m\u001b[97m█\u001b[0m\u001b[97m█\u001b[0m\u001b[97m█\u001b[0m\u001b[97m█\u001b[0m\u001b[97m█\u001b[0m\u001b[97m█\u001b[0m\u001b[97m█\u001b[0m\u001b[97m█\u001b[0m   |\u001b[K\u001b[F\u001b[K\u001b[F \u001b[1mIters\u001b[0m     \u001b[1mElapsed Time\u001b[0m      \u001b[1mSpeed\u001b[0m    \u001b[1mepoch\u001b[0m    \u001b[1mloss\u001b[0m                             \n",
      " \u001b[99m97/\u001b[93m100\u001b[0m\u001b[0m  \u001b[99m05:32:47<\u001b[93m00:10:17\u001b[0m\u001b[0m  \u001b[99m0.00it/s\u001b[0m  \u001b[99m97/100\u001b[0m  \u001b[99m0.0117\u001b[0m                            \n",
      "\u001b[1mDescription\u001b[0m  97.0% |\u001b[97m█\u001b[0m\u001b[97m█\u001b[0m\u001b[97m█\u001b[0m\u001b[97m█\u001b[0m\u001b[97m█\u001b[0m\u001b[97m█\u001b[0m\u001b[97m█\u001b[0m\u001b[97m█\u001b[0m\u001b[97m█\u001b[0m\u001b[97m█\u001b[0m\u001b[97m█\u001b[0m\u001b[97m█\u001b[0m\u001b[97m█\u001b[0m\u001b[97m█\u001b[0m\u001b[97m█\u001b[0m\u001b[97m█\u001b[0m\u001b[97m█\u001b[0m\u001b[97m█\u001b[0m\u001b[97m█\u001b[0m\u001b[97m█\u001b[0m\u001b[97m█\u001b[0m\u001b[97m█\u001b[0m\u001b[97m█\u001b[0m\u001b[97m█\u001b[0m\u001b[97m█\u001b[0m\u001b[97m█\u001b[0m\u001b[97m█\u001b[0m\u001b[97m█\u001b[0m\u001b[97m█\u001b[0m\u001b[97m█\u001b[0m\u001b[97m█\u001b[0m\u001b[97m█\u001b[0m\u001b[97m█\u001b[0m\u001b[97m█\u001b[0m\u001b[97m█\u001b[0m\u001b[97m█\u001b[0m\u001b[97m█\u001b[0m\u001b[97m█\u001b[0m\u001b[97m█\u001b[0m\u001b[97m█\u001b[0m\u001b[97m█\u001b[0m\u001b[97m█\u001b[0m\u001b[97m█\u001b[0m\u001b[97m█\u001b[0m\u001b[97m█\u001b[0m\u001b[97m█\u001b[0m\u001b[97m█\u001b[0m\u001b[97m█\u001b[0m\u001b[97m█\u001b[0m\u001b[97m█\u001b[0m\u001b[97m█\u001b[0m\u001b[97m█\u001b[0m\u001b[97m█\u001b[0m\u001b[97m█\u001b[0m\u001b[97m█\u001b[0m\u001b[97m█\u001b[0m\u001b[97m█\u001b[0m  |\u001b[K\u001b[F\u001b[K\u001b[F \u001b[1mIters\u001b[0m     \u001b[1mElapsed Time\u001b[0m      \u001b[1mSpeed\u001b[0m    \u001b[1mepoch\u001b[0m    \u001b[1mloss\u001b[0m                             \n",
      " \u001b[99m98/\u001b[93m100\u001b[0m\u001b[0m  \u001b[99m05:36:08<\u001b[93m00:06:51\u001b[0m\u001b[0m  \u001b[99m0.00it/s\u001b[0m  \u001b[99m98/100\u001b[0m  \u001b[99m0.0117\u001b[0m                            \n",
      "\u001b[1mDescription\u001b[0m  98.0% |\u001b[97m█\u001b[0m\u001b[97m█\u001b[0m\u001b[97m█\u001b[0m\u001b[97m█\u001b[0m\u001b[97m█\u001b[0m\u001b[97m█\u001b[0m\u001b[97m█\u001b[0m\u001b[97m█\u001b[0m\u001b[97m█\u001b[0m\u001b[97m█\u001b[0m\u001b[97m█\u001b[0m\u001b[97m█\u001b[0m\u001b[97m█\u001b[0m\u001b[97m█\u001b[0m\u001b[97m█\u001b[0m\u001b[97m█\u001b[0m\u001b[97m█\u001b[0m\u001b[97m█\u001b[0m\u001b[97m█\u001b[0m\u001b[97m█\u001b[0m\u001b[97m█\u001b[0m\u001b[97m█\u001b[0m\u001b[97m█\u001b[0m\u001b[97m█\u001b[0m\u001b[97m█\u001b[0m\u001b[97m█\u001b[0m\u001b[97m█\u001b[0m\u001b[97m█\u001b[0m\u001b[97m█\u001b[0m\u001b[97m█\u001b[0m\u001b[97m█\u001b[0m\u001b[97m█\u001b[0m\u001b[97m█\u001b[0m\u001b[97m█\u001b[0m\u001b[97m█\u001b[0m\u001b[97m█\u001b[0m\u001b[97m█\u001b[0m\u001b[97m█\u001b[0m\u001b[97m█\u001b[0m\u001b[97m█\u001b[0m\u001b[97m█\u001b[0m\u001b[97m█\u001b[0m\u001b[97m█\u001b[0m\u001b[97m█\u001b[0m\u001b[97m█\u001b[0m\u001b[97m█\u001b[0m\u001b[97m█\u001b[0m\u001b[97m█\u001b[0m\u001b[97m█\u001b[0m\u001b[97m█\u001b[0m\u001b[97m█\u001b[0m\u001b[97m█\u001b[0m\u001b[97m█\u001b[0m\u001b[97m█\u001b[0m\u001b[97m█\u001b[0m\u001b[97m█\u001b[0m\u001b[97m█\u001b[0m  |\u001b[K\u001b[F\u001b[K\u001b[F \u001b[1mIters\u001b[0m     \u001b[1mElapsed Time\u001b[0m      \u001b[1mSpeed\u001b[0m    \u001b[1mepoch\u001b[0m    \u001b[1mloss\u001b[0m                             \n",
      " \u001b[99m99/\u001b[93m100\u001b[0m\u001b[0m  \u001b[99m05:39:30<\u001b[93m00:03:25\u001b[0m\u001b[0m  \u001b[99m0.00it/s\u001b[0m  \u001b[99m99/100\u001b[0m  \u001b[99m0.0116\u001b[0m                            \n",
      "\u001b[1mDescription\u001b[0m  99.0% |\u001b[97m█\u001b[0m\u001b[97m█\u001b[0m\u001b[97m█\u001b[0m\u001b[97m█\u001b[0m\u001b[97m█\u001b[0m\u001b[97m█\u001b[0m\u001b[97m█\u001b[0m\u001b[97m█\u001b[0m\u001b[97m█\u001b[0m\u001b[97m█\u001b[0m\u001b[97m█\u001b[0m\u001b[97m█\u001b[0m\u001b[97m█\u001b[0m\u001b[97m█\u001b[0m\u001b[97m█\u001b[0m\u001b[97m█\u001b[0m\u001b[97m█\u001b[0m\u001b[97m█\u001b[0m\u001b[97m█\u001b[0m\u001b[97m█\u001b[0m\u001b[97m█\u001b[0m\u001b[97m█\u001b[0m\u001b[97m█\u001b[0m\u001b[97m█\u001b[0m\u001b[97m█\u001b[0m\u001b[97m█\u001b[0m\u001b[97m█\u001b[0m\u001b[97m█\u001b[0m\u001b[97m█\u001b[0m\u001b[97m█\u001b[0m\u001b[97m█\u001b[0m\u001b[97m█\u001b[0m\u001b[97m█\u001b[0m\u001b[97m█\u001b[0m\u001b[97m█\u001b[0m\u001b[97m█\u001b[0m\u001b[97m█\u001b[0m\u001b[97m█\u001b[0m\u001b[97m█\u001b[0m\u001b[97m█\u001b[0m\u001b[97m█\u001b[0m\u001b[97m█\u001b[0m\u001b[97m█\u001b[0m\u001b[97m█\u001b[0m\u001b[97m█\u001b[0m\u001b[97m█\u001b[0m\u001b[97m█\u001b[0m\u001b[97m█\u001b[0m\u001b[97m█\u001b[0m\u001b[97m█\u001b[0m\u001b[97m█\u001b[0m\u001b[97m█\u001b[0m\u001b[97m█\u001b[0m\u001b[97m█\u001b[0m\u001b[97m█\u001b[0m\u001b[97m█\u001b[0m\u001b[97m█\u001b[0m\u001b[97m█\u001b[0m |\u001b[K\u001b[F\u001b[K\u001b[F  \u001b[1mIters\u001b[0m     \u001b[1mElapsed Time\u001b[0m      \u001b[1mSpeed\u001b[0m     \u001b[1mepoch\u001b[0m    \u001b[1mloss\u001b[0m                           \n",
      " \u001b[99m100/\u001b[93m100\u001b[0m\u001b[0m  \u001b[99m05:42:51<\u001b[93m00:00:00\u001b[0m\u001b[0m  \u001b[99m0.00it/s\u001b[0m  \u001b[99m100/100\u001b[0m  \u001b[99m0.0116\u001b[0m                          \n",
      "\u001b[1mDescription\u001b[0m 100.0% |\u001b[97m█\u001b[0m\u001b[97m█\u001b[0m\u001b[97m█\u001b[0m\u001b[97m█\u001b[0m\u001b[97m█\u001b[0m\u001b[97m█\u001b[0m\u001b[97m█\u001b[0m\u001b[97m█\u001b[0m\u001b[97m█\u001b[0m\u001b[97m█\u001b[0m\u001b[97m█\u001b[0m\u001b[97m█\u001b[0m\u001b[97m█\u001b[0m\u001b[97m█\u001b[0m\u001b[97m█\u001b[0m\u001b[97m█\u001b[0m\u001b[97m█\u001b[0m\u001b[97m█\u001b[0m\u001b[97m█\u001b[0m\u001b[97m█\u001b[0m\u001b[97m█\u001b[0m\u001b[97m█\u001b[0m\u001b[97m█\u001b[0m\u001b[97m█\u001b[0m\u001b[97m█\u001b[0m\u001b[97m█\u001b[0m\u001b[97m█\u001b[0m\u001b[97m█\u001b[0m\u001b[97m█\u001b[0m\u001b[97m█\u001b[0m\u001b[97m█\u001b[0m\u001b[97m█\u001b[0m\u001b[97m█\u001b[0m\u001b[97m█\u001b[0m\u001b[97m█\u001b[0m\u001b[97m█\u001b[0m\u001b[97m█\u001b[0m\u001b[97m█\u001b[0m\u001b[97m█\u001b[0m\u001b[97m█\u001b[0m\u001b[97m█\u001b[0m\u001b[97m█\u001b[0m\u001b[97m█\u001b[0m\u001b[97m█\u001b[0m\u001b[97m█\u001b[0m\u001b[97m█\u001b[0m\u001b[97m█\u001b[0m\u001b[97m█\u001b[0m\u001b[97m█\u001b[0m\u001b[97m█\u001b[0m\u001b[97m█\u001b[0m\u001b[97m█\u001b[0m\u001b[97m█\u001b[0m\u001b[97m█\u001b[0m\u001b[97m█\u001b[0m\u001b[97m█\u001b[0m\u001b[97m█\u001b[0m\u001b[97m█\u001b[0m\u001b[97m█\u001b[0m|\u001b[K\u001b[F\u001b[K\u001b[F  \u001b[1mIters\u001b[0m     \u001b[1mElapsed Time\u001b[0m      \u001b[1mSpeed\u001b[0m     \u001b[1mepoch\u001b[0m    \u001b[1mloss\u001b[0m                           \n",
      " \u001b[99m100/\u001b[93m100\u001b[0m\u001b[0m  \u001b[99m05:42:51<\u001b[93m00:00:00\u001b[0m\u001b[0m  \u001b[99m0.00it/s\u001b[0m  \u001b[99m100/100\u001b[0m  \u001b[99m0.0116\u001b[0m                          \n",
      "\u001b[1mDescription\u001b[0m 100.0% |\u001b[97m█\u001b[0m\u001b[97m█\u001b[0m\u001b[97m█\u001b[0m\u001b[97m█\u001b[0m\u001b[97m█\u001b[0m\u001b[97m█\u001b[0m\u001b[97m█\u001b[0m\u001b[97m█\u001b[0m\u001b[97m█\u001b[0m\u001b[97m█\u001b[0m\u001b[97m█\u001b[0m\u001b[97m█\u001b[0m\u001b[97m█\u001b[0m\u001b[97m█\u001b[0m\u001b[97m█\u001b[0m\u001b[97m█\u001b[0m\u001b[97m█\u001b[0m\u001b[97m█\u001b[0m\u001b[97m█\u001b[0m\u001b[97m█\u001b[0m\u001b[97m█\u001b[0m\u001b[97m█\u001b[0m\u001b[97m█\u001b[0m\u001b[97m█\u001b[0m\u001b[97m█\u001b[0m\u001b[97m█\u001b[0m\u001b[97m█\u001b[0m\u001b[97m█\u001b[0m\u001b[97m█\u001b[0m\u001b[97m█\u001b[0m\u001b[97m█\u001b[0m\u001b[97m█\u001b[0m\u001b[97m█\u001b[0m\u001b[97m█\u001b[0m\u001b[97m█\u001b[0m\u001b[97m█\u001b[0m\u001b[97m█\u001b[0m\u001b[97m█\u001b[0m\u001b[97m█\u001b[0m\u001b[97m█\u001b[0m\u001b[97m█\u001b[0m\u001b[97m█\u001b[0m\u001b[97m█\u001b[0m\u001b[97m█\u001b[0m\u001b[97m█\u001b[0m\u001b[97m█\u001b[0m\u001b[97m█\u001b[0m\u001b[97m█\u001b[0m\u001b[97m█\u001b[0m\u001b[97m█\u001b[0m\u001b[97m█\u001b[0m\u001b[97m█\u001b[0m\u001b[97m█\u001b[0m\u001b[97m█\u001b[0m\u001b[97m█\u001b[0m\u001b[97m█\u001b[0m\u001b[97m█\u001b[0m\u001b[97m█\u001b[0m\u001b[97m█\u001b[0m|"
     ]
    }
   ],
   "source": [
    "best_loss = np.inf\n",
    "model.train()\n",
    "\n",
    "qqdm_train = qqdm(range(num_epochs), desc=format_str('bold', 'Description'))\n",
    "for epoch in qqdm_train:\n",
    "    tot_loss = list()\n",
    "    for data in train_dataloader:\n",
    "\n",
    "        # ===================loading=====================\n",
    "        img = data.float().cuda()\n",
    "        if model_type in ['fcn']:\n",
    "            img = img.view(img.shape[0], -1)\n",
    "\n",
    "        # ===================forward=====================\n",
    "        output = model(img)\n",
    "        if model_type in ['vae']:\n",
    "            loss = loss_vae(output[0], img, output[1], output[2], criterion)\n",
    "        else:\n",
    "            loss = criterion(output, img)\n",
    "\n",
    "        tot_loss.append(loss.item())\n",
    "        # ===================backward====================\n",
    "        optimizer.zero_grad()\n",
    "        loss.backward()\n",
    "        optimizer.step()\n",
    "    # ===================save_best====================\n",
    "    mean_loss = np.mean(tot_loss)\n",
    "    if mean_loss < best_loss:\n",
    "        best_loss = mean_loss\n",
    "        torch.save(model, 'best_model_{}.pt'.format(model_type))\n",
    "    # ===================log========================\n",
    "    qqdm_train.set_infos({\n",
    "        'epoch': f'{epoch + 1:.0f}/{num_epochs:.0f}',\n",
    "        'loss': f'{mean_loss:.4f}',\n",
    "    })\n",
    "    # ===================save_last========================\n",
    "    torch.save(model, 'last_model_{}.pt'.format(model_type))"
   ]
  },
  {
   "cell_type": "markdown",
   "id": "bd39b914",
   "metadata": {
    "id": "Wk0UxFuchLzR",
    "papermill": {
     "duration": 0.027518,
     "end_time": "2024-06-10T19:11:50.881618",
     "exception": false,
     "start_time": "2024-06-10T19:11:50.854100",
     "status": "completed"
    },
    "tags": []
   },
   "source": [
    "# Inference\n",
    "Model is loaded and generates its anomaly score predictions."
   ]
  },
  {
   "cell_type": "markdown",
   "id": "054eb101",
   "metadata": {
    "id": "evgMW3OwoGqD",
    "papermill": {
     "duration": 0.027357,
     "end_time": "2024-06-10T19:11:50.936498",
     "exception": false,
     "start_time": "2024-06-10T19:11:50.909141",
     "status": "completed"
    },
    "tags": []
   },
   "source": [
    "## Initialize\n",
    "- dataloader\n",
    "- model\n",
    "- prediction file"
   ]
  },
  {
   "cell_type": "code",
   "execution_count": 15,
   "id": "2f9379e0",
   "metadata": {
    "execution": {
     "iopub.execute_input": "2024-06-10T19:11:50.992622Z",
     "iopub.status.busy": "2024-06-10T19:11:50.992293Z",
     "iopub.status.idle": "2024-06-10T19:11:51.671128Z",
     "shell.execute_reply": "2024-06-10T19:11:51.670221Z"
    },
    "id": "_MBnXAswoKmq",
    "papermill": {
     "duration": 0.709811,
     "end_time": "2024-06-10T19:11:51.673600",
     "exception": false,
     "start_time": "2024-06-10T19:11:50.963789",
     "status": "completed"
    },
    "tags": []
   },
   "outputs": [],
   "source": [
    "eval_batch_size = 200\n",
    "\n",
    "# build testing dataloader\n",
    "data = torch.tensor(test, dtype=torch.float32)\n",
    "test_dataset = CustomTensorDataset(data)\n",
    "test_sampler = SequentialSampler(test_dataset)\n",
    "test_dataloader = DataLoader(test_dataset, sampler=test_sampler, batch_size=eval_batch_size, num_workers=1)\n",
    "eval_loss = nn.MSELoss(reduction='none')\n",
    "\n",
    "# load trained model\n",
    "checkpoint_path = f'best_model_fcn.pt'\n",
    "model = torch.load(checkpoint_path)\n",
    "model.eval()\n",
    "\n",
    "# prediction file \n",
    "out_file = 'prediction.csv'"
   ]
  },
  {
   "cell_type": "code",
   "execution_count": 16,
   "id": "1c845f91",
   "metadata": {
    "execution": {
     "iopub.execute_input": "2024-06-10T19:11:51.733115Z",
     "iopub.status.busy": "2024-06-10T19:11:51.732102Z",
     "iopub.status.idle": "2024-06-10T19:12:31.067502Z",
     "shell.execute_reply": "2024-06-10T19:12:31.066403Z"
    },
    "id": "_1IxCX2iCW6V",
    "papermill": {
     "duration": 39.367588,
     "end_time": "2024-06-10T19:12:31.070541",
     "exception": false,
     "start_time": "2024-06-10T19:11:51.702953",
     "status": "completed"
    },
    "tags": []
   },
   "outputs": [],
   "source": [
    "anomality = list()\n",
    "with torch.no_grad():\n",
    "  for i, data in enumerate(test_dataloader):\n",
    "    img = data.float().cuda()\n",
    "    if model_type in ['fcn']:\n",
    "      img = img.view(img.shape[0], -1)\n",
    "    output = model(img)\n",
    "    if model_type in ['vae']:\n",
    "      output = output[0]\n",
    "    if model_type in ['fcn']:\n",
    "        loss = eval_loss(output, img).sum(-1)\n",
    "    else:\n",
    "        loss = eval_loss(output, img).sum([1, 2, 3])\n",
    "    anomality.append(loss)\n",
    "anomality = torch.cat(anomality, axis=0)\n",
    "anomality = torch.sqrt(anomality).reshape(len(test), 1).cpu().numpy()\n",
    "\n",
    "df = pd.DataFrame(anomality, columns=['score'])\n",
    "df.to_csv(out_file, index_label = 'ID')"
   ]
  },
  {
   "cell_type": "markdown",
   "id": "2b2d372e",
   "metadata": {
    "papermill": {
     "duration": 0.027396,
     "end_time": "2024-06-10T19:12:31.126182",
     "exception": false,
     "start_time": "2024-06-10T19:12:31.098786",
     "status": "completed"
    },
    "tags": []
   },
   "source": [
    "# Visualize result "
   ]
  },
  {
   "cell_type": "code",
   "execution_count": 17,
   "id": "c55a0896",
   "metadata": {
    "execution": {
     "iopub.execute_input": "2024-06-10T19:12:31.183001Z",
     "iopub.status.busy": "2024-06-10T19:12:31.182637Z",
     "iopub.status.idle": "2024-06-10T19:12:31.346754Z",
     "shell.execute_reply": "2024-06-10T19:12:31.345325Z"
    },
    "papermill": {
     "duration": 0.194841,
     "end_time": "2024-06-10T19:12:31.348447",
     "exception": true,
     "start_time": "2024-06-10T19:12:31.153606",
     "status": "failed"
    },
    "tags": []
   },
   "outputs": [
    {
     "ename": "IndexError",
     "evalue": "index 4253 is out of bounds for dimension 0 with size 36",
     "output_type": "error",
     "traceback": [
      "\u001b[0;31m---------------------------------------------------------------------------\u001b[0m",
      "\u001b[0;31mIndexError\u001b[0m                                Traceback (most recent call last)",
      "\u001b[0;32m/tmp/ipykernel_25/3416909595.py\u001b[0m in \u001b[0;36m<module>\u001b[0;34m\u001b[0m\n\u001b[1;32m      2\u001b[0m \u001b[0;31m# idx = random.randint(0, data.shape[0])\u001b[0m\u001b[0;34m\u001b[0m\u001b[0;34m\u001b[0m\u001b[0;34m\u001b[0m\u001b[0m\n\u001b[1;32m      3\u001b[0m \u001b[0midx\u001b[0m \u001b[0;34m=\u001b[0m \u001b[0;36m4253\u001b[0m\u001b[0;34m\u001b[0m\u001b[0;34m\u001b[0m\u001b[0m\n\u001b[0;32m----> 4\u001b[0;31m \u001b[0morig_img\u001b[0m \u001b[0;34m=\u001b[0m \u001b[0mdata\u001b[0m\u001b[0;34m[\u001b[0m\u001b[0midx\u001b[0m\u001b[0;34m]\u001b[0m\u001b[0;34m.\u001b[0m\u001b[0mcpu\u001b[0m\u001b[0;34m(\u001b[0m\u001b[0;34m)\u001b[0m\u001b[0;34m.\u001b[0m\u001b[0mint\u001b[0m\u001b[0;34m(\u001b[0m\u001b[0;34m)\u001b[0m\u001b[0;34m\u001b[0m\u001b[0;34m\u001b[0m\u001b[0m\n\u001b[0m\u001b[1;32m      5\u001b[0m \u001b[0mimg\u001b[0m \u001b[0;34m=\u001b[0m \u001b[0mtest_dataset\u001b[0m\u001b[0;34m[\u001b[0m\u001b[0midx\u001b[0m\u001b[0;34m]\u001b[0m\u001b[0;34m.\u001b[0m\u001b[0munsqueeze\u001b[0m\u001b[0;34m(\u001b[0m\u001b[0;36m0\u001b[0m\u001b[0;34m)\u001b[0m\u001b[0;34m.\u001b[0m\u001b[0mcuda\u001b[0m\u001b[0;34m(\u001b[0m\u001b[0;34m)\u001b[0m\u001b[0;34m\u001b[0m\u001b[0;34m\u001b[0m\u001b[0m\n\u001b[1;32m      6\u001b[0m \u001b[0mx\u001b[0m \u001b[0;34m=\u001b[0m \u001b[0mmodel\u001b[0m\u001b[0;34m.\u001b[0m\u001b[0mencoder\u001b[0m\u001b[0;34m(\u001b[0m\u001b[0mimg\u001b[0m\u001b[0;34m.\u001b[0m\u001b[0mview\u001b[0m\u001b[0;34m(\u001b[0m\u001b[0mimg\u001b[0m\u001b[0;34m.\u001b[0m\u001b[0msize\u001b[0m\u001b[0;34m(\u001b[0m\u001b[0;36m0\u001b[0m\u001b[0;34m)\u001b[0m\u001b[0;34m,\u001b[0m \u001b[0;34m-\u001b[0m\u001b[0;36m1\u001b[0m\u001b[0;34m)\u001b[0m\u001b[0;34m)\u001b[0m\u001b[0;34m\u001b[0m\u001b[0;34m\u001b[0m\u001b[0m\n",
      "\u001b[0;31mIndexError\u001b[0m: index 4253 is out of bounds for dimension 0 with size 36"
     ]
    }
   ],
   "source": [
    "from matplotlib import pyplot as plt\n",
    "# idx = random.randint(0, data.shape[0])\n",
    "idx = 4253\n",
    "orig_img = data[idx].cpu().int()\n",
    "img = test_dataset[idx].unsqueeze(0).cuda()\n",
    "x = model.encoder(img.view(img.size(0), -1))\n",
    "latent_idx = 0  # 0~127\n",
    "# x[:, latent_idx] = 2 * x[:, latent_idx]   # latent adjustment\n",
    "x = model.decoder(x).view(x.size(0), 3, 64, 64).squeeze(0)\n",
    "x = x.permute(1, 2, 0)\n",
    "x = (x + 1) / 2 # [-1, 1] -> [0, 1]\n",
    "\n",
    "fig, (ax1, ax2) = plt.subplots(1,2)\n",
    "ax1.imshow(orig_img)\n",
    "ax1.set_title('Original')\n",
    "ax1.axis('off')\n",
    "ax2.imshow(x.cpu().detach().numpy())\n",
    "ax2.set_title('Reconstructed')\n",
    "ax2.axis('off')\n",
    "plt.show()"
   ]
  },
  {
   "cell_type": "markdown",
   "id": "0cc13f49",
   "metadata": {
    "papermill": {
     "duration": null,
     "end_time": null,
     "exception": null,
     "start_time": null,
     "status": "pending"
    },
    "tags": []
   },
   "source": [
    "## Reference\n",
    "1. https://blog.csdn.net/weixin_42369818/article/details/125292835\n",
    "2. https://github.com/ncku-yee/ML2022/blob/master/HW08/ML2022Spring_HW8.ipynb"
   ]
  }
 ],
 "metadata": {
  "accelerator": "GPU",
  "colab": {
   "collapsed_sections": [
    "bDk9r2YOcDc9",
    "Oi12tJMYWi0Q",
    "DCgNXSsEWuY7",
    "HNe7QU7n7cqh",
    "6X6fkGPnYyaF",
    "1EbfwRREhA7c",
    "vrJ9bScg9AgO",
    "XKNUImqUhIeq"
   ],
   "provenance": []
  },
  "gpuClass": "standard",
  "kaggle": {
   "accelerator": "gpu",
   "dataSources": [
    {
     "databundleVersionId": 5521765,
     "sourceId": 51688,
     "sourceType": "competition"
    }
   ],
   "dockerImageVersionId": 30461,
   "isGpuEnabled": true,
   "isInternetEnabled": true,
   "language": "python",
   "sourceType": "notebook"
  },
  "kernelspec": {
   "display_name": "Python 3",
   "name": "python3"
  },
  "language_info": {
   "codemirror_mode": {
    "name": "ipython",
    "version": 3
   },
   "file_extension": ".py",
   "mimetype": "text/x-python",
   "name": "python",
   "nbconvert_exporter": "python",
   "pygments_lexer": "ipython3",
   "version": "3.7.12"
  },
  "papermill": {
   "default_parameters": {},
   "duration": 20719.73621,
   "end_time": "2024-06-10T19:12:33.670760",
   "environment_variables": {},
   "exception": true,
   "input_path": "__notebook__.ipynb",
   "output_path": "__notebook__.ipynb",
   "parameters": {},
   "start_time": "2024-06-10T13:27:13.934550",
   "version": "2.4.0"
  }
 },
 "nbformat": 4,
 "nbformat_minor": 5
}
