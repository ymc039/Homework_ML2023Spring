{
 "cells": [
  {
   "cell_type": "markdown",
   "id": "a293a395",
   "metadata": {
    "id": "H9m2AbpHC9vS",
    "papermill": {
     "duration": 0.010289,
     "end_time": "2024-06-15T08:00:06.643713",
     "exception": false,
     "start_time": "2024-06-15T08:00:06.633424",
     "status": "completed"
    },
    "tags": []
   },
   "source": [
    "# **Homework 10 - Adversarial Attack**"
   ]
  },
  {
   "cell_type": "markdown",
   "id": "88c2b7c8",
   "metadata": {
    "id": "k0G8g5KuDBzU",
    "papermill": {
     "duration": 0.009603,
     "end_time": "2024-06-15T08:00:06.663343",
     "exception": false,
     "start_time": "2024-06-15T08:00:06.653740",
     "status": "completed"
    },
    "tags": []
   },
   "source": [
    "## Enviroment & Download\n",
    "\n",
    "We make use of [pytorchcv](https://pypi.org/project/pytorchcv/) to obtain CIFAR-10 pretrained model, so we need to set up the enviroment first. We also need to download the data (200 images) which we want to attack."
   ]
  },
  {
   "cell_type": "code",
   "execution_count": 1,
   "id": "61067b71",
   "metadata": {
    "execution": {
     "iopub.execute_input": "2024-06-15T08:00:06.684549Z",
     "iopub.status.busy": "2024-06-15T08:00:06.684171Z",
     "iopub.status.idle": "2024-06-15T08:00:33.025340Z",
     "shell.execute_reply": "2024-06-15T08:00:33.024265Z"
    },
    "id": "yMK1RhUQCz1e",
    "outputId": "00ccab9c-0b4d-4c9a-d3f1-8b6c542e61c6",
    "papermill": {
     "duration": 26.354296,
     "end_time": "2024-06-15T08:00:33.027600",
     "exception": false,
     "start_time": "2024-06-15T08:00:06.673304",
     "status": "completed"
    },
    "tags": []
   },
   "outputs": [
    {
     "name": "stdout",
     "output_type": "stream",
     "text": [
      "Collecting pytorchcv\r\n",
      "  Downloading pytorchcv-0.0.67-py2.py3-none-any.whl.metadata (133 kB)\r\n",
      "\u001b[2K     \u001b[90m━━━━━━━━━━━━━━━━━━━━━━━━━━━━━━━━━━━━━━━\u001b[0m \u001b[32m133.7/133.7 kB\u001b[0m \u001b[31m4.6 MB/s\u001b[0m eta \u001b[36m0:00:00\u001b[0m\r\n",
      "\u001b[?25hRequirement already satisfied: numpy in /opt/conda/lib/python3.10/site-packages (from pytorchcv) (1.26.4)\r\n",
      "Requirement already satisfied: requests in /opt/conda/lib/python3.10/site-packages (from pytorchcv) (2.32.3)\r\n",
      "Requirement already satisfied: charset-normalizer<4,>=2 in /opt/conda/lib/python3.10/site-packages (from requests->pytorchcv) (3.3.2)\r\n",
      "Requirement already satisfied: idna<4,>=2.5 in /opt/conda/lib/python3.10/site-packages (from requests->pytorchcv) (3.6)\r\n",
      "Requirement already satisfied: urllib3<3,>=1.21.1 in /opt/conda/lib/python3.10/site-packages (from requests->pytorchcv) (1.26.18)\r\n",
      "Requirement already satisfied: certifi>=2017.4.17 in /opt/conda/lib/python3.10/site-packages (from requests->pytorchcv) (2024.2.2)\r\n",
      "Downloading pytorchcv-0.0.67-py2.py3-none-any.whl (532 kB)\r\n",
      "\u001b[2K   \u001b[90m━━━━━━━━━━━━━━━━━━━━━━━━━━━━━━━━━━━━━━━━\u001b[0m \u001b[32m532.4/532.4 kB\u001b[0m \u001b[31m19.1 MB/s\u001b[0m eta \u001b[36m0:00:00\u001b[0m\r\n",
      "\u001b[?25hInstalling collected packages: pytorchcv\r\n",
      "Successfully installed pytorchcv-0.0.67\r\n",
      "Requirement already satisfied: imgaug in /opt/conda/lib/python3.10/site-packages (0.4.0)\r\n",
      "Requirement already satisfied: six in /opt/conda/lib/python3.10/site-packages (from imgaug) (1.16.0)\r\n",
      "Requirement already satisfied: numpy>=1.15 in /opt/conda/lib/python3.10/site-packages (from imgaug) (1.26.4)\r\n",
      "Requirement already satisfied: scipy in /opt/conda/lib/python3.10/site-packages (from imgaug) (1.11.4)\r\n",
      "Requirement already satisfied: Pillow in /opt/conda/lib/python3.10/site-packages (from imgaug) (9.5.0)\r\n",
      "Requirement already satisfied: matplotlib in /opt/conda/lib/python3.10/site-packages (from imgaug) (3.7.5)\r\n",
      "Requirement already satisfied: scikit-image>=0.14.2 in /opt/conda/lib/python3.10/site-packages (from imgaug) (0.22.0)\r\n",
      "Requirement already satisfied: opencv-python in /opt/conda/lib/python3.10/site-packages (from imgaug) (4.10.0.82)\r\n",
      "Requirement already satisfied: imageio in /opt/conda/lib/python3.10/site-packages (from imgaug) (2.33.1)\r\n",
      "Requirement already satisfied: Shapely in /opt/conda/lib/python3.10/site-packages (from imgaug) (1.8.5.post1)\r\n",
      "Requirement already satisfied: networkx>=2.8 in /opt/conda/lib/python3.10/site-packages (from scikit-image>=0.14.2->imgaug) (3.2.1)\r\n",
      "Requirement already satisfied: tifffile>=2022.8.12 in /opt/conda/lib/python3.10/site-packages (from scikit-image>=0.14.2->imgaug) (2023.12.9)\r\n",
      "Requirement already satisfied: packaging>=21 in /opt/conda/lib/python3.10/site-packages (from scikit-image>=0.14.2->imgaug) (21.3)\r\n",
      "Requirement already satisfied: lazy_loader>=0.3 in /opt/conda/lib/python3.10/site-packages (from scikit-image>=0.14.2->imgaug) (0.3)\r\n",
      "Requirement already satisfied: contourpy>=1.0.1 in /opt/conda/lib/python3.10/site-packages (from matplotlib->imgaug) (1.2.0)\r\n",
      "Requirement already satisfied: cycler>=0.10 in /opt/conda/lib/python3.10/site-packages (from matplotlib->imgaug) (0.12.1)\r\n",
      "Requirement already satisfied: fonttools>=4.22.0 in /opt/conda/lib/python3.10/site-packages (from matplotlib->imgaug) (4.47.0)\r\n",
      "Requirement already satisfied: kiwisolver>=1.0.1 in /opt/conda/lib/python3.10/site-packages (from matplotlib->imgaug) (1.4.5)\r\n",
      "Requirement already satisfied: pyparsing>=2.3.1 in /opt/conda/lib/python3.10/site-packages (from matplotlib->imgaug) (3.1.1)\r\n",
      "Requirement already satisfied: python-dateutil>=2.7 in /opt/conda/lib/python3.10/site-packages (from matplotlib->imgaug) (2.9.0.post0)\r\n"
     ]
    }
   ],
   "source": [
    "# set up environment\n",
    "!pip install pytorchcv\n",
    "!pip install imgaug\n",
    "\n",
    "# # download\n",
    "# !gdown --id 1t2UFQXr1cr5qLMBK2oN2rY1NDypi9Nyw --output data.zip\n",
    "\n",
    "# # if the above link isn't available, try this one\n",
    "# # !wget https://www.dropbox.com/s/lbpypqamqjpt2qz/data.zip\n",
    "\n",
    "# # unzip\n",
    "# !unzip ./data.zip"
   ]
  },
  {
   "cell_type": "code",
   "execution_count": 2,
   "id": "5fa4fd6f",
   "metadata": {
    "execution": {
     "iopub.execute_input": "2024-06-15T08:00:33.050595Z",
     "iopub.status.busy": "2024-06-15T08:00:33.049819Z",
     "iopub.status.idle": "2024-06-15T08:00:33.054394Z",
     "shell.execute_reply": "2024-06-15T08:00:33.053557Z"
    },
    "id": "-a6naDouEWUZ",
    "papermill": {
     "duration": 0.018045,
     "end_time": "2024-06-15T08:00:33.056422",
     "exception": false,
     "start_time": "2024-06-15T08:00:33.038377",
     "status": "completed"
    },
    "tags": []
   },
   "outputs": [],
   "source": [
    "# !rm ./data.zip"
   ]
  },
  {
   "cell_type": "code",
   "execution_count": 3,
   "id": "9cd7b1e2",
   "metadata": {
    "execution": {
     "iopub.execute_input": "2024-06-15T08:00:33.078337Z",
     "iopub.status.busy": "2024-06-15T08:00:33.078085Z",
     "iopub.status.idle": "2024-06-15T08:00:36.612812Z",
     "shell.execute_reply": "2024-06-15T08:00:36.612055Z"
    },
    "id": "SaEEx0Y3DMdu",
    "papermill": {
     "duration": 3.548135,
     "end_time": "2024-06-15T08:00:36.615058",
     "exception": false,
     "start_time": "2024-06-15T08:00:33.066923",
     "status": "completed"
    },
    "tags": []
   },
   "outputs": [],
   "source": [
    "import torch\n",
    "import torch.nn as nn\n",
    "from pytorchcv.model_provider import get_model as ptcv_get_model\n",
    "import random\n",
    "import numpy as np\n",
    "\n",
    "device = torch.device('cuda' if torch.cuda.is_available() else 'cpu')\n",
    "batch_size = 8\n",
    "\n",
    "def same_seeds(seed):\n",
    "    torch.manual_seed(seed)\n",
    "    if torch.cuda.is_available():\n",
    "        torch.cuda.manual_seed(seed)\n",
    "        torch.cuda.manual_seed_all(seed)\n",
    "    np.random.seed(seed)\n",
    "    random.seed(seed)\n",
    "    torch.backends.cudnn.benchmark = False\n",
    "    torch.backends.cudnn.deterministic = True\n",
    "same_seeds(0) "
   ]
  },
  {
   "cell_type": "markdown",
   "id": "e7d2d8ae",
   "metadata": {
    "id": "Z8mIr7c0DPsh",
    "papermill": {
     "duration": 0.011206,
     "end_time": "2024-06-15T08:00:36.636874",
     "exception": false,
     "start_time": "2024-06-15T08:00:36.625668",
     "status": "completed"
    },
    "tags": []
   },
   "source": [
    "## Global Settings \n",
    "#### **[NOTE]**: Don't change the settings here, or your generated image might not meet the constraint.\n",
    "* $\\epsilon$ is fixed to be 8. But on **Data section**, we will first apply transforms on raw pixel value (0-255 scale) **by ToTensor (to 0-1 scale)** and then **Normalize (subtract mean divide std)**. $\\epsilon$ should be set to $\\frac{8}{255 * std}$ during attack.\n",
    "\n",
    "* Explaination (optional)\n",
    "    * Denote the first pixel of original image as $p$, and the first pixel of adversarial image as $a$.\n",
    "    * The $\\epsilon$ constraints tell us $\\left| p-a \\right| <= 8$.\n",
    "    * ToTensor() can be seen as a function where $T(x) = x/255$.\n",
    "    * Normalize() can be seen as a function where $N(x) = (x-mean)/std$ where $mean$ and $std$ are constants.\n",
    "    * After applying ToTensor() and Normalize() on $p$ and $a$, the constraint becomes $\\left| N(T(p))-N(T(a)) \\right| = \\left| \\frac{\\frac{p}{255}-mean}{std}-\\frac{\\frac{a}{255}-mean}{std} \\right| = \\frac{1}{255 * std} \\left| p-a \\right| <= \\frac{8}{255 * std}.$\n",
    "    * So, we should set $\\epsilon$ to be $\\frac{8}{255 * std}$ after ToTensor() and Normalize()."
   ]
  },
  {
   "cell_type": "code",
   "execution_count": 4,
   "id": "1e69a42e",
   "metadata": {
    "execution": {
     "iopub.execute_input": "2024-06-15T08:00:36.659087Z",
     "iopub.status.busy": "2024-06-15T08:00:36.658679Z",
     "iopub.status.idle": "2024-06-15T08:00:36.883913Z",
     "shell.execute_reply": "2024-06-15T08:00:36.883045Z"
    },
    "id": "IBdYgS2DDNL5",
    "papermill": {
     "duration": 0.23907,
     "end_time": "2024-06-15T08:00:36.886200",
     "exception": false,
     "start_time": "2024-06-15T08:00:36.647130",
     "status": "completed"
    },
    "tags": []
   },
   "outputs": [],
   "source": [
    "# the mean and std are the calculated statistics from cifar_10 dataset\n",
    "cifar_10_mean = (0.491, 0.482, 0.447) # mean for the three channels of cifar_10 images\n",
    "cifar_10_std = (0.202, 0.199, 0.201) # std for the three channels of cifar_10 images\n",
    "\n",
    "# convert mean and std to 3-dimensional tensors for future operations\n",
    "mean = torch.tensor(cifar_10_mean).to(device).view(3, 1, 1)\n",
    "std = torch.tensor(cifar_10_std).to(device).view(3, 1, 1)\n",
    "\n",
    "epsilon = 8/255/std"
   ]
  },
  {
   "cell_type": "code",
   "execution_count": 5,
   "id": "7c93e826",
   "metadata": {
    "execution": {
     "iopub.execute_input": "2024-06-15T08:00:36.908647Z",
     "iopub.status.busy": "2024-06-15T08:00:36.908354Z",
     "iopub.status.idle": "2024-06-15T08:00:36.912307Z",
     "shell.execute_reply": "2024-06-15T08:00:36.911471Z"
    },
    "id": "AjNkQLoaDWba",
    "papermill": {
     "duration": 0.017428,
     "end_time": "2024-06-15T08:00:36.914299",
     "exception": false,
     "start_time": "2024-06-15T08:00:36.896871",
     "status": "completed"
    },
    "tags": []
   },
   "outputs": [],
   "source": [
    "root = '/kaggle/input/leehw10data/data' # directory for storing benign images\n",
    "# benign images: images which do not contain adversarial perturbations\n",
    "# adversarial images: images which include adversarial perturbations"
   ]
  },
  {
   "cell_type": "markdown",
   "id": "d092575b",
   "metadata": {
    "id": "sNf-LoODDZXB",
    "papermill": {
     "duration": 0.010228,
     "end_time": "2024-06-15T08:00:36.934692",
     "exception": false,
     "start_time": "2024-06-15T08:00:36.924464",
     "status": "completed"
    },
    "tags": []
   },
   "source": [
    "## Data\n",
    "\n",
    "Construct dataset and dataloader from root directory. Note that we store the filename of each image for future usage."
   ]
  },
  {
   "cell_type": "code",
   "execution_count": 6,
   "id": "b7564a46",
   "metadata": {
    "execution": {
     "iopub.execute_input": "2024-06-15T08:00:36.956804Z",
     "iopub.status.busy": "2024-06-15T08:00:36.956555Z",
     "iopub.status.idle": "2024-06-15T08:00:38.558899Z",
     "shell.execute_reply": "2024-06-15T08:00:38.557918Z"
    },
    "id": "lV7rbnD5DarR",
    "outputId": "3610d736-4ce6-4054-9a9e-28cbe2cfad95",
    "papermill": {
     "duration": 1.615863,
     "end_time": "2024-06-15T08:00:38.561114",
     "exception": false,
     "start_time": "2024-06-15T08:00:36.945251",
     "status": "completed"
    },
    "tags": []
   },
   "outputs": [
    {
     "name": "stdout",
     "output_type": "stream",
     "text": [
      "number of images = 200\n"
     ]
    }
   ],
   "source": [
    "import os\n",
    "import glob\n",
    "import shutil\n",
    "import numpy as np\n",
    "from PIL import Image\n",
    "from torchvision.transforms import transforms\n",
    "from torch.utils.data import Dataset, DataLoader\n",
    "\n",
    "transform = transforms.Compose([\n",
    "    transforms.ToTensor(),\n",
    "    transforms.Normalize(cifar_10_mean, cifar_10_std)\n",
    "])\n",
    "\n",
    "class AdvDataset(Dataset):\n",
    "    def __init__(self, data_dir, transform):\n",
    "        self.images = []\n",
    "        self.labels = []\n",
    "        self.names = []\n",
    "        '''\n",
    "        data_dir\n",
    "        ├── class_dir\n",
    "        │   ├── class1.png\n",
    "        │   ├── ...\n",
    "        │   ├── class20.png\n",
    "        '''\n",
    "        for i, class_dir in enumerate(sorted(glob.glob(f'{data_dir}/*'))):\n",
    "            images = sorted(glob.glob(f'{class_dir}/*'))\n",
    "            self.images += images\n",
    "            self.labels += ([i] * len(images))\n",
    "            self.names += [os.path.relpath(imgs, data_dir) for imgs in images]\n",
    "        self.transform = transform\n",
    "    def __getitem__(self, idx):\n",
    "        image = self.transform(Image.open(self.images[idx]))\n",
    "        label = self.labels[idx]\n",
    "        return image, label\n",
    "    def __getname__(self):\n",
    "        return self.names\n",
    "    def __len__(self):\n",
    "        return len(self.images)\n",
    "\n",
    "adv_set = AdvDataset(root, transform=transform)\n",
    "adv_names = adv_set.__getname__()\n",
    "adv_loader = DataLoader(adv_set, batch_size=batch_size, shuffle=False)\n",
    "\n",
    "print(f'number of images = {adv_set.__len__()}')"
   ]
  },
  {
   "cell_type": "markdown",
   "id": "a928165c",
   "metadata": {
    "id": "C9D7eakEDflF",
    "papermill": {
     "duration": 0.010881,
     "end_time": "2024-06-15T08:00:38.582776",
     "exception": false,
     "start_time": "2024-06-15T08:00:38.571895",
     "status": "completed"
    },
    "tags": []
   },
   "source": [
    "## Utils -- Benign Images Evaluation"
   ]
  },
  {
   "cell_type": "code",
   "execution_count": 7,
   "id": "08179136",
   "metadata": {
    "execution": {
     "iopub.execute_input": "2024-06-15T08:00:38.605302Z",
     "iopub.status.busy": "2024-06-15T08:00:38.604863Z",
     "iopub.status.idle": "2024-06-15T08:00:38.611182Z",
     "shell.execute_reply": "2024-06-15T08:00:38.610379Z"
    },
    "id": "byE4VH3uDduA",
    "papermill": {
     "duration": 0.019904,
     "end_time": "2024-06-15T08:00:38.613123",
     "exception": false,
     "start_time": "2024-06-15T08:00:38.593219",
     "status": "completed"
    },
    "tags": []
   },
   "outputs": [],
   "source": [
    "# to evaluate the performance of model on benign images\n",
    "def epoch_benign(model, loader, loss_fn):\n",
    "    model.eval()\n",
    "    train_acc, train_loss = 0.0, 0.0\n",
    "    for x, y in loader:\n",
    "        x, y = x.to(device), y.to(device)\n",
    "        yp = model(x)\n",
    "        loss = loss_fn(yp, y)\n",
    "        train_acc += (yp.argmax(dim=1) == y).sum().item()\n",
    "        train_loss += loss.item() * x.shape[0]\n",
    "    return train_acc / len(loader.dataset), train_loss / len(loader.dataset)"
   ]
  },
  {
   "cell_type": "markdown",
   "id": "b5049f03",
   "metadata": {
    "id": "D3L_qtufDk4j",
    "papermill": {
     "duration": 0.010383,
     "end_time": "2024-06-15T08:00:38.633779",
     "exception": false,
     "start_time": "2024-06-15T08:00:38.623396",
     "status": "completed"
    },
    "tags": []
   },
   "source": [
    "## Utils -- Attack Algorithm"
   ]
  },
  {
   "cell_type": "code",
   "execution_count": 8,
   "id": "9a73a0b7",
   "metadata": {
    "execution": {
     "iopub.execute_input": "2024-06-15T08:00:38.656312Z",
     "iopub.status.busy": "2024-06-15T08:00:38.656054Z",
     "iopub.status.idle": "2024-06-15T08:00:38.672920Z",
     "shell.execute_reply": "2024-06-15T08:00:38.672225Z"
    },
    "id": "odTOhtrtDklT",
    "papermill": {
     "duration": 0.030624,
     "end_time": "2024-06-15T08:00:38.674727",
     "exception": false,
     "start_time": "2024-06-15T08:00:38.644103",
     "status": "completed"
    },
    "tags": []
   },
   "outputs": [],
   "source": [
    "# perform fgsm attack\n",
    "def fgsm(model, x, y, loss_fn, epsilon=epsilon):\n",
    "    x_adv = x.detach().clone() # initialize x_adv as original benign image x\n",
    "    x_adv.requires_grad = True # need to obtain gradient of x_adv, thus set required grad\n",
    "    loss = loss_fn(model(x_adv), y) # calculate loss\n",
    "    loss.backward() # calculate gradient\n",
    "    # fgsm: use gradient ascent on x_adv to maximize loss\n",
    "    grad = x_adv.grad.detach()\n",
    "    x_adv = x_adv + epsilon * grad.sign()\n",
    "    return x_adv\n",
    "\n",
    "# alpha and num_iter can be decided by yourself\n",
    "alpha = 0.8/255/std\n",
    "\n",
    "def ifgsm(model, x, y, loss_fn, epsilon=epsilon, alpha=alpha, num_iter=20):\n",
    "    x_adv = x.detach().clone()\n",
    "    ################ TODO: Medium baseline #######################\n",
    "    # write a loop with num_iter times\n",
    "    for i in range(num_iter):\n",
    "        # TODO: Each iteration, execute fgsm\n",
    "        x_adv = fgsm(model, x_adv, y, loss_fn, epsilon=alpha)\n",
    "#         print(epsilon)\n",
    "#         print(x_adv[1, :, :].size())\n",
    "        # x_adv和x的无穷范数距离不能超过epsilon\n",
    "        for channel in range(3):\n",
    "            x_adv[channel, :, :] = torch.clip(x_adv[channel, :, :], x[channel, :, :] - epsilon, x[channel, :, :] + epsilon)\n",
    "\n",
    "    return x_adv\n",
    "\n",
    "def mifgsm(model, x, y, loss_fn, epsilon=epsilon, alpha=alpha, num_iter=20, decay=0.3):\n",
    "    x_adv = x.detach().clone().to(device)\n",
    "    # initialze momentum tensor\n",
    "    momentum = torch.zeros_like(x).detach().to(device)\n",
    "\n",
    "    ################ TODO: Strong baseline ####################\n",
    "    for i in range(num_iter):\n",
    "      # TODO: Refer to the algorithm of MI-FGSM\n",
    "      # Calculate the momentum and update\n",
    "      pass\n",
    "    return x_adv\n",
    "\n",
    "def dim_mifgsm(model, x, y, loss_fn, epsilon=epsilon, alpha=alpha, num_iter=50, decay=1.0, p=0.5):\n",
    "    x_adv = x\n",
    "    # initialze momentum tensor\n",
    "    momentum = torch.zeros_like(x).detach().to(device)\n",
    "    # write a loop of num_iter to represent the iterative times\n",
    "    for i in range(num_iter):\n",
    "        x_adv = x_adv.detach().clone()\n",
    "        x_adv_raw = x_adv.clone()\n",
    "        if torch.rand(1).item() >= p:\n",
    "            #resize img to rnd X rnd\n",
    "            rnd = torch.randint(29, 33, (1,)).item()\n",
    "            x_adv = transforms.Resize((rnd, rnd))(x_adv)\n",
    "            #padding img to 32 X 32 with 0\n",
    "            left = torch.randint(0, 32 - rnd + 1, (1,)).item()\n",
    "            top = torch.randint(0, 32 - rnd + 1, (1,)).item()\n",
    "            right = 32 - rnd - left\n",
    "            bottom = 32 - rnd - top\n",
    "            x_adv = transforms.Pad([left, top, right, bottom])(x_adv)\n",
    "        x_adv.requires_grad = True # need to obtain gradient of x_adv, thus set required grad\n",
    "        loss = loss_fn(model(x_adv), y) # calculate loss\n",
    "        loss.backward() # calculate gradient\n",
    "        # TODO: Momentum calculation\n",
    "        # grad = .....   \n",
    "        grad = x_adv.grad.detach()\n",
    "        grad = decay * momentum + grad/(grad.abs().sum() + 1e-8)\n",
    "        momentum = grad\n",
    "        x_adv = x_adv_raw + alpha * grad.sign()\n",
    "        x_adv = torch.max(torch.min(x_adv, x+epsilon), x-epsilon) # clip new x_adv back to [x-epsilon, x+epsilon]\n",
    "    return x_adv"
   ]
  },
  {
   "cell_type": "markdown",
   "id": "e2734914",
   "metadata": {
    "id": "0o9ww4s1DrEx",
    "papermill": {
     "duration": 0.01049,
     "end_time": "2024-06-15T08:00:38.695921",
     "exception": false,
     "start_time": "2024-06-15T08:00:38.685431",
     "status": "completed"
    },
    "tags": []
   },
   "source": [
    "## Utils -- Attack\n",
    "* Recall\n",
    "  * ToTensor() can be seen as a function where $T(x) = x/255$.\n",
    "  * Normalize() can be seen as a function where $N(x) = (x-mean)/std$ where $mean$ and $std$ are constants.\n",
    "\n",
    "* Inverse function\n",
    "  * Inverse Normalize() can be seen as a function where $N^{-1}(x) = x*std+mean$ where $mean$ and $std$ are constants.\n",
    "  * Inverse ToTensor() can be seen as a function where $T^{-1}(x) = x*255$.\n",
    "\n",
    "* Special Noted\n",
    "  * ToTensor() will also convert the image from shape (height, width, channel) to shape (channel, height, width), so we also need to transpose the shape back to original shape.\n",
    "  * Since our dataloader samples a batch of data, what we need here is to transpose **(batch_size, channel, height, width)** back to **(batch_size, height, width, channel)** using np.transpose."
   ]
  },
  {
   "cell_type": "code",
   "execution_count": 9,
   "id": "27c3e480",
   "metadata": {
    "execution": {
     "iopub.execute_input": "2024-06-15T08:00:38.717710Z",
     "iopub.status.busy": "2024-06-15T08:00:38.717452Z",
     "iopub.status.idle": "2024-06-15T08:00:38.727055Z",
     "shell.execute_reply": "2024-06-15T08:00:38.726305Z"
    },
    "id": "rbtfv7rjDrvR",
    "papermill": {
     "duration": 0.02276,
     "end_time": "2024-06-15T08:00:38.728931",
     "exception": false,
     "start_time": "2024-06-15T08:00:38.706171",
     "status": "completed"
    },
    "tags": []
   },
   "outputs": [],
   "source": [
    "# perform adversarial attack and generate adversarial examples\n",
    "def gen_adv_examples(model, loader, attack, loss_fn):\n",
    "    model.eval()\n",
    "    adv_names = []\n",
    "    train_acc, train_loss = 0.0, 0.0\n",
    "    for i, (x, y) in enumerate(loader):\n",
    "        x, y = x.to(device), y.to(device)\n",
    "        x_adv = attack(model, x, y, loss_fn) # obtain adversarial examples\n",
    "        yp = model(x_adv)\n",
    "        loss = loss_fn(yp, y)\n",
    "        train_acc += (yp.argmax(dim=1) == y).sum().item()\n",
    "        train_loss += loss.item() * x.shape[0]\n",
    "        # store adversarial examples\n",
    "        adv_ex = ((x_adv) * std + mean).clamp(0, 1) # to 0-1 scale\n",
    "        adv_ex = (adv_ex * 255).clamp(0, 255) # 0-255 scale\n",
    "        adv_ex = adv_ex.detach().cpu().data.numpy().round() # round to remove decimal part\n",
    "        adv_ex = adv_ex.transpose((0, 2, 3, 1)) # transpose (bs, C, H, W) back to (bs, H, W, C)\n",
    "        adv_examples = adv_ex if i == 0 else np.r_[adv_examples, adv_ex]\n",
    "    return adv_examples, train_acc / len(loader.dataset), train_loss / len(loader.dataset)\n",
    "\n",
    "# create directory which stores adversarial examples\n",
    "def create_dir(data_dir, adv_dir, adv_examples, adv_names):\n",
    "    if os.path.exists(adv_dir) is not True:\n",
    "        _ = shutil.copytree(data_dir, adv_dir)\n",
    "    for example, name in zip(adv_examples, adv_names):\n",
    "        im = Image.fromarray(example.astype(np.uint8)) # image pixel value should be unsigned int\n",
    "        im.save(os.path.join(adv_dir, name))"
   ]
  },
  {
   "cell_type": "markdown",
   "id": "5e8fb3f8",
   "metadata": {
    "id": "rbLBR4bjDu7h",
    "papermill": {
     "duration": 0.010078,
     "end_time": "2024-06-15T08:00:38.749266",
     "exception": false,
     "start_time": "2024-06-15T08:00:38.739188",
     "status": "completed"
    },
    "tags": []
   },
   "source": [
    "## Model / Loss Function\n",
    "\n",
    "Model list is available [here](https://github.com/osmr/imgclsmob/blob/master/pytorch/pytorchcv/model_provider.py). Please select models which has _cifar10 suffix. Other kinds of models are prohibited, and it will be considered to be cheating if you use them. \n",
    "\n",
    "Note: Some of the models cannot be accessed/loaded. You can safely skip them since TA's model will not use those kinds of models."
   ]
  },
  {
   "cell_type": "code",
   "execution_count": 10,
   "id": "a9d943c9",
   "metadata": {
    "execution": {
     "iopub.execute_input": "2024-06-15T08:00:38.770889Z",
     "iopub.status.busy": "2024-06-15T08:00:38.770621Z",
     "iopub.status.idle": "2024-06-15T08:00:38.775680Z",
     "shell.execute_reply": "2024-06-15T08:00:38.774912Z"
    },
    "id": "xCKMshb08I1I",
    "papermill": {
     "duration": 0.01821,
     "end_time": "2024-06-15T08:00:38.777753",
     "exception": false,
     "start_time": "2024-06-15T08:00:38.759543",
     "status": "completed"
    },
    "tags": []
   },
   "outputs": [],
   "source": [
    "# This function is used to check whether you use models pretrained on cifar10 instead of other datasets\n",
    "def model_checker(model_name):\n",
    "    assert ('cifar10' in model_name) and ('cifar100' not in model_name), 'The model selected is not pretrained on cifar10!'"
   ]
  },
  {
   "cell_type": "code",
   "execution_count": 11,
   "id": "b34818ec",
   "metadata": {
    "execution": {
     "iopub.execute_input": "2024-06-15T08:00:38.799830Z",
     "iopub.status.busy": "2024-06-15T08:00:38.799573Z",
     "iopub.status.idle": "2024-06-15T08:00:41.528200Z",
     "shell.execute_reply": "2024-06-15T08:00:41.527150Z"
    },
    "id": "eCJU4k__DwPT",
    "outputId": "5f42b7d3-2d0a-4ba3-c29b-17242b8b62de",
    "papermill": {
     "duration": 2.742046,
     "end_time": "2024-06-15T08:00:41.530149",
     "exception": false,
     "start_time": "2024-06-15T08:00:38.788103",
     "status": "completed"
    },
    "tags": []
   },
   "outputs": [
    {
     "name": "stdout",
     "output_type": "stream",
     "text": [
      "Downloading /root/.torch/models/resnet110_cifar10-0369-4d6ca1fc.pth.zip from https://github.com/osmr/imgclsmob/releases/download/v0.0.163/resnet110_cifar10-0369-4d6ca1fc.pth.zip...\n",
      "benign_acc = 0.95000, benign_loss = 0.22678\n"
     ]
    }
   ],
   "source": [
    "from pytorchcv.model_provider import get_model as ptcv_get_model\n",
    "\n",
    "model_name = 'resnet110_cifar10'\n",
    "model_checker(model_name)\n",
    "\n",
    "model = ptcv_get_model(model_name, pretrained=True).to(device)\n",
    "loss_fn = nn.CrossEntropyLoss()\n",
    "\n",
    "benign_acc, benign_loss = epoch_benign(model, adv_loader, loss_fn)\n",
    "print(f'benign_acc = {benign_acc:.5f}, benign_loss = {benign_loss:.5f}')"
   ]
  },
  {
   "cell_type": "markdown",
   "id": "7be8107a",
   "metadata": {
    "id": "-CWEsxsUD0Mo",
    "papermill": {
     "duration": 0.012199,
     "end_time": "2024-06-15T08:00:41.554498",
     "exception": false,
     "start_time": "2024-06-15T08:00:41.542299",
     "status": "completed"
    },
    "tags": []
   },
   "source": [
    "## FGSM"
   ]
  },
  {
   "cell_type": "code",
   "execution_count": 12,
   "id": "ec3b28e6",
   "metadata": {
    "execution": {
     "iopub.execute_input": "2024-06-15T08:00:41.577455Z",
     "iopub.status.busy": "2024-06-15T08:00:41.577140Z",
     "iopub.status.idle": "2024-06-15T08:00:41.580890Z",
     "shell.execute_reply": "2024-06-15T08:00:41.580077Z"
    },
    "id": "xP6s-MCODyyh",
    "outputId": "388b1872-acb1-4f0e-a0be-31d76215d92e",
    "papermill": {
     "duration": 0.017218,
     "end_time": "2024-06-15T08:00:41.582927",
     "exception": false,
     "start_time": "2024-06-15T08:00:41.565709",
     "status": "completed"
    },
    "tags": []
   },
   "outputs": [],
   "source": [
    "# adv_examples, fgsm_acc, fgsm_loss = gen_adv_examples(model, adv_loader, fgsm, loss_fn)\n",
    "# print(f'fgsm_acc = {fgsm_acc:.5f}, fgsm_loss = {fgsm_loss:.5f}')\n",
    "\n",
    "# create_dir(root, 'fgsm', adv_examples, adv_names)"
   ]
  },
  {
   "cell_type": "code",
   "execution_count": 13,
   "id": "4567a7c8",
   "metadata": {
    "execution": {
     "iopub.execute_input": "2024-06-15T08:00:41.605109Z",
     "iopub.status.busy": "2024-06-15T08:00:41.604809Z",
     "iopub.status.idle": "2024-06-15T08:00:41.608498Z",
     "shell.execute_reply": "2024-06-15T08:00:41.607782Z"
    },
    "id": "lx-X40vrD3S7",
    "outputId": "73f3423b-d783-4432-a6ac-b02edddf9b9e",
    "papermill": {
     "duration": 0.016877,
     "end_time": "2024-06-15T08:00:41.610264",
     "exception": false,
     "start_time": "2024-06-15T08:00:41.593387",
     "status": "completed"
    },
    "tags": []
   },
   "outputs": [],
   "source": [
    "# %cd fgsm\n",
    "# !tar zcf ../fgsm.tgz *\n",
    "# %cd .."
   ]
  },
  {
   "cell_type": "code",
   "execution_count": 14,
   "id": "507ab139",
   "metadata": {
    "execution": {
     "iopub.execute_input": "2024-06-15T08:00:41.631922Z",
     "iopub.status.busy": "2024-06-15T08:00:41.631681Z",
     "iopub.status.idle": "2024-06-15T08:00:41.635146Z",
     "shell.execute_reply": "2024-06-15T08:00:41.634295Z"
    },
    "id": "--9YWbhn_Evr",
    "outputId": "3e7193f8-9dd6-47dc-c93b-cae9f56a95c0",
    "papermill": {
     "duration": 0.016534,
     "end_time": "2024-06-15T08:00:41.637131",
     "exception": false,
     "start_time": "2024-06-15T08:00:41.620597",
     "status": "completed"
    },
    "tags": []
   },
   "outputs": [],
   "source": [
    "# from google.colab import files\n",
    "# files.download('fgsm.tgz')"
   ]
  },
  {
   "cell_type": "markdown",
   "id": "72a078d3",
   "metadata": {
    "papermill": {
     "duration": 0.010755,
     "end_time": "2024-06-15T08:00:41.658280",
     "exception": false,
     "start_time": "2024-06-15T08:00:41.647525",
     "status": "completed"
    },
    "tags": []
   },
   "source": [
    "## IFGSM"
   ]
  },
  {
   "cell_type": "code",
   "execution_count": 15,
   "id": "93a369fb",
   "metadata": {
    "execution": {
     "iopub.execute_input": "2024-06-15T08:00:41.680350Z",
     "iopub.status.busy": "2024-06-15T08:00:41.680071Z",
     "iopub.status.idle": "2024-06-15T08:00:41.683546Z",
     "shell.execute_reply": "2024-06-15T08:00:41.682762Z"
    },
    "papermill": {
     "duration": 0.016654,
     "end_time": "2024-06-15T08:00:41.685448",
     "exception": false,
     "start_time": "2024-06-15T08:00:41.668794",
     "status": "completed"
    },
    "tags": []
   },
   "outputs": [],
   "source": [
    "# adv_examples, ifgsm_acc, ifgsm_loss = gen_adv_examples(model, adv_loader, ifgsm, loss_fn)\n",
    "# print(f'ifgsm_acc = {ifgsm_acc:.5f}, ifgsm_loss = {ifgsm_loss:.5f}')\n",
    "\n",
    "# create_dir(root, 'ifgsm', adv_examples, adv_names)"
   ]
  },
  {
   "cell_type": "code",
   "execution_count": 16,
   "id": "d789f85d",
   "metadata": {
    "execution": {
     "iopub.execute_input": "2024-06-15T08:00:41.707613Z",
     "iopub.status.busy": "2024-06-15T08:00:41.706894Z",
     "iopub.status.idle": "2024-06-15T08:00:41.710470Z",
     "shell.execute_reply": "2024-06-15T08:00:41.709755Z"
    },
    "papermill": {
     "duration": 0.016545,
     "end_time": "2024-06-15T08:00:41.712343",
     "exception": false,
     "start_time": "2024-06-15T08:00:41.695798",
     "status": "completed"
    },
    "tags": []
   },
   "outputs": [],
   "source": [
    "# %cd ifgsm\n",
    "# !tar zcf ../ifgsm.tgz *\n",
    "# %cd .."
   ]
  },
  {
   "cell_type": "markdown",
   "id": "50918bf0",
   "metadata": {
    "id": "7dq5LDvJD5rB",
    "papermill": {
     "duration": 0.010323,
     "end_time": "2024-06-15T08:00:41.732980",
     "exception": false,
     "start_time": "2024-06-15T08:00:41.722657",
     "status": "completed"
    },
    "tags": []
   },
   "source": [
    "## Example of Ensemble Attack\n",
    "* Ensemble multiple models as your proxy model to increase the black-box transferability ([paper](https://arxiv.org/abs/1611.02770))"
   ]
  },
  {
   "cell_type": "code",
   "execution_count": 17,
   "id": "f9df9e99",
   "metadata": {
    "execution": {
     "iopub.execute_input": "2024-06-15T08:00:41.754778Z",
     "iopub.status.busy": "2024-06-15T08:00:41.754521Z",
     "iopub.status.idle": "2024-06-15T08:00:41.760501Z",
     "shell.execute_reply": "2024-06-15T08:00:41.759697Z"
    },
    "id": "nvEX_IM8D7Rx",
    "papermill": {
     "duration": 0.019098,
     "end_time": "2024-06-15T08:00:41.762426",
     "exception": false,
     "start_time": "2024-06-15T08:00:41.743328",
     "status": "completed"
    },
    "tags": []
   },
   "outputs": [],
   "source": [
    "################ BOSS BASELINE ######################\n",
    "\n",
    "class ensembleNet(nn.Module):\n",
    "    def __init__(self, model_names):\n",
    "        super().__init__()\n",
    "        self.models = nn.ModuleList([ptcv_get_model(name, pretrained=True) for name in model_names])\n",
    "        \n",
    "    def forward(self, x):\n",
    "        ensemble_logits = None\n",
    "        #################### TODO: boss baseline ###################\n",
    "        for i, m in enumerate(self.models):\n",
    "            ensemble_logits = m(x) if i == 0 else ensemble_logits + m(x)\n",
    "        # TODO: sum up logits from multiple models  \n",
    "        return ensemble_logits/len(self.models)"
   ]
  },
  {
   "cell_type": "markdown",
   "id": "a4558df1",
   "metadata": {
    "id": "De5J9n3WD-56",
    "papermill": {
     "duration": 0.010166,
     "end_time": "2024-06-15T08:00:41.782945",
     "exception": false,
     "start_time": "2024-06-15T08:00:41.772779",
     "status": "completed"
    },
    "tags": []
   },
   "source": [
    "* Construct your ensemble model"
   ]
  },
  {
   "cell_type": "markdown",
   "id": "638c0ee1",
   "metadata": {
    "papermill": {
     "duration": 0.010166,
     "end_time": "2024-06-15T08:00:41.803479",
     "exception": false,
     "start_time": "2024-06-15T08:00:41.793313",
     "status": "completed"
    },
    "tags": []
   },
   "source": [
    "## DIM-MIFGSM + Ensemble Model"
   ]
  },
  {
   "cell_type": "code",
   "execution_count": 18,
   "id": "b25a86dd",
   "metadata": {
    "execution": {
     "iopub.execute_input": "2024-06-15T08:00:41.825292Z",
     "iopub.status.busy": "2024-06-15T08:00:41.824970Z",
     "iopub.status.idle": "2024-06-15T08:00:43.372985Z",
     "shell.execute_reply": "2024-06-15T08:00:43.372079Z"
    },
    "id": "9as1WHEiD_cp",
    "outputId": "e6ec6f50-da64-437b-d793-ac87d0baddfd",
    "papermill": {
     "duration": 1.561944,
     "end_time": "2024-06-15T08:00:43.375775",
     "exception": false,
     "start_time": "2024-06-15T08:00:41.813831",
     "status": "completed"
    },
    "tags": []
   },
   "outputs": [
    {
     "name": "stdout",
     "output_type": "stream",
     "text": [
      "Downloading /root/.torch/models/nin_cifar10-0743-795b0824.pth.zip from https://github.com/osmr/imgclsmob/releases/download/v0.0.175/nin_cifar10-0743-795b0824.pth.zip...\n",
      "Downloading /root/.torch/models/resnet20_cifar10-0597-9b0024ac.pth.zip from https://github.com/osmr/imgclsmob/releases/download/v0.0.163/resnet20_cifar10-0597-9b0024ac.pth.zip...\n",
      "Downloading /root/.torch/models/preresnet20_cifar10-0651-76cec68d.pth.zip from https://github.com/osmr/imgclsmob/releases/download/v0.0.164/preresnet20_cifar10-0651-76cec68d.pth.zip...\n"
     ]
    },
    {
     "data": {
      "text/plain": [
       "ensembleNet(\n",
       "  (models): ModuleList(\n",
       "    (0): CIFARNIN(\n",
       "      (features): Sequential(\n",
       "        (stage1): Sequential(\n",
       "          (unit1): NINConv(\n",
       "            (conv): Conv2d(3, 192, kernel_size=(5, 5), stride=(1, 1), padding=(2, 2))\n",
       "            (activ): ReLU(inplace=True)\n",
       "          )\n",
       "          (unit2): NINConv(\n",
       "            (conv): Conv2d(192, 160, kernel_size=(1, 1), stride=(1, 1))\n",
       "            (activ): ReLU(inplace=True)\n",
       "          )\n",
       "          (unit3): NINConv(\n",
       "            (conv): Conv2d(160, 96, kernel_size=(1, 1), stride=(1, 1))\n",
       "            (activ): ReLU(inplace=True)\n",
       "          )\n",
       "        )\n",
       "        (stage2): Sequential(\n",
       "          (pool2): MaxPool2d(kernel_size=3, stride=2, padding=1, dilation=1, ceil_mode=False)\n",
       "          (dropout2): Dropout(p=0.5, inplace=False)\n",
       "          (unit1): NINConv(\n",
       "            (conv): Conv2d(96, 192, kernel_size=(5, 5), stride=(1, 1), padding=(2, 2))\n",
       "            (activ): ReLU(inplace=True)\n",
       "          )\n",
       "          (unit2): NINConv(\n",
       "            (conv): Conv2d(192, 192, kernel_size=(1, 1), stride=(1, 1))\n",
       "            (activ): ReLU(inplace=True)\n",
       "          )\n",
       "          (unit3): NINConv(\n",
       "            (conv): Conv2d(192, 192, kernel_size=(1, 1), stride=(1, 1))\n",
       "            (activ): ReLU(inplace=True)\n",
       "          )\n",
       "        )\n",
       "        (stage3): Sequential(\n",
       "          (pool3): AvgPool2d(kernel_size=3, stride=2, padding=1)\n",
       "          (dropout3): Dropout(p=0.5, inplace=False)\n",
       "          (unit1): NINConv(\n",
       "            (conv): Conv2d(192, 192, kernel_size=(3, 3), stride=(1, 1), padding=(1, 1))\n",
       "            (activ): ReLU(inplace=True)\n",
       "          )\n",
       "          (unit2): NINConv(\n",
       "            (conv): Conv2d(192, 192, kernel_size=(1, 1), stride=(1, 1))\n",
       "            (activ): ReLU(inplace=True)\n",
       "          )\n",
       "        )\n",
       "      )\n",
       "      (output): Sequential(\n",
       "        (final_conv): NINConv(\n",
       "          (conv): Conv2d(192, 10, kernel_size=(1, 1), stride=(1, 1))\n",
       "          (activ): ReLU(inplace=True)\n",
       "        )\n",
       "        (final_pool): AvgPool2d(kernel_size=8, stride=1, padding=0)\n",
       "      )\n",
       "    )\n",
       "    (1): CIFARResNet(\n",
       "      (features): Sequential(\n",
       "        (init_block): ConvBlock(\n",
       "          (conv): Conv2d(3, 16, kernel_size=(3, 3), stride=(1, 1), padding=(1, 1), bias=False)\n",
       "          (bn): BatchNorm2d(16, eps=1e-05, momentum=0.1, affine=True, track_running_stats=True)\n",
       "          (activ): ReLU(inplace=True)\n",
       "        )\n",
       "        (stage1): Sequential(\n",
       "          (unit1): ResUnit(\n",
       "            (body): ResBlock(\n",
       "              (conv1): ConvBlock(\n",
       "                (conv): Conv2d(16, 16, kernel_size=(3, 3), stride=(1, 1), padding=(1, 1), bias=False)\n",
       "                (bn): BatchNorm2d(16, eps=1e-05, momentum=0.1, affine=True, track_running_stats=True)\n",
       "                (activ): ReLU(inplace=True)\n",
       "              )\n",
       "              (conv2): ConvBlock(\n",
       "                (conv): Conv2d(16, 16, kernel_size=(3, 3), stride=(1, 1), padding=(1, 1), bias=False)\n",
       "                (bn): BatchNorm2d(16, eps=1e-05, momentum=0.1, affine=True, track_running_stats=True)\n",
       "              )\n",
       "            )\n",
       "            (activ): ReLU(inplace=True)\n",
       "          )\n",
       "          (unit2): ResUnit(\n",
       "            (body): ResBlock(\n",
       "              (conv1): ConvBlock(\n",
       "                (conv): Conv2d(16, 16, kernel_size=(3, 3), stride=(1, 1), padding=(1, 1), bias=False)\n",
       "                (bn): BatchNorm2d(16, eps=1e-05, momentum=0.1, affine=True, track_running_stats=True)\n",
       "                (activ): ReLU(inplace=True)\n",
       "              )\n",
       "              (conv2): ConvBlock(\n",
       "                (conv): Conv2d(16, 16, kernel_size=(3, 3), stride=(1, 1), padding=(1, 1), bias=False)\n",
       "                (bn): BatchNorm2d(16, eps=1e-05, momentum=0.1, affine=True, track_running_stats=True)\n",
       "              )\n",
       "            )\n",
       "            (activ): ReLU(inplace=True)\n",
       "          )\n",
       "          (unit3): ResUnit(\n",
       "            (body): ResBlock(\n",
       "              (conv1): ConvBlock(\n",
       "                (conv): Conv2d(16, 16, kernel_size=(3, 3), stride=(1, 1), padding=(1, 1), bias=False)\n",
       "                (bn): BatchNorm2d(16, eps=1e-05, momentum=0.1, affine=True, track_running_stats=True)\n",
       "                (activ): ReLU(inplace=True)\n",
       "              )\n",
       "              (conv2): ConvBlock(\n",
       "                (conv): Conv2d(16, 16, kernel_size=(3, 3), stride=(1, 1), padding=(1, 1), bias=False)\n",
       "                (bn): BatchNorm2d(16, eps=1e-05, momentum=0.1, affine=True, track_running_stats=True)\n",
       "              )\n",
       "            )\n",
       "            (activ): ReLU(inplace=True)\n",
       "          )\n",
       "        )\n",
       "        (stage2): Sequential(\n",
       "          (unit1): ResUnit(\n",
       "            (body): ResBlock(\n",
       "              (conv1): ConvBlock(\n",
       "                (conv): Conv2d(16, 32, kernel_size=(3, 3), stride=(2, 2), padding=(1, 1), bias=False)\n",
       "                (bn): BatchNorm2d(32, eps=1e-05, momentum=0.1, affine=True, track_running_stats=True)\n",
       "                (activ): ReLU(inplace=True)\n",
       "              )\n",
       "              (conv2): ConvBlock(\n",
       "                (conv): Conv2d(32, 32, kernel_size=(3, 3), stride=(1, 1), padding=(1, 1), bias=False)\n",
       "                (bn): BatchNorm2d(32, eps=1e-05, momentum=0.1, affine=True, track_running_stats=True)\n",
       "              )\n",
       "            )\n",
       "            (identity_conv): ConvBlock(\n",
       "              (conv): Conv2d(16, 32, kernel_size=(1, 1), stride=(2, 2), bias=False)\n",
       "              (bn): BatchNorm2d(32, eps=1e-05, momentum=0.1, affine=True, track_running_stats=True)\n",
       "            )\n",
       "            (activ): ReLU(inplace=True)\n",
       "          )\n",
       "          (unit2): ResUnit(\n",
       "            (body): ResBlock(\n",
       "              (conv1): ConvBlock(\n",
       "                (conv): Conv2d(32, 32, kernel_size=(3, 3), stride=(1, 1), padding=(1, 1), bias=False)\n",
       "                (bn): BatchNorm2d(32, eps=1e-05, momentum=0.1, affine=True, track_running_stats=True)\n",
       "                (activ): ReLU(inplace=True)\n",
       "              )\n",
       "              (conv2): ConvBlock(\n",
       "                (conv): Conv2d(32, 32, kernel_size=(3, 3), stride=(1, 1), padding=(1, 1), bias=False)\n",
       "                (bn): BatchNorm2d(32, eps=1e-05, momentum=0.1, affine=True, track_running_stats=True)\n",
       "              )\n",
       "            )\n",
       "            (activ): ReLU(inplace=True)\n",
       "          )\n",
       "          (unit3): ResUnit(\n",
       "            (body): ResBlock(\n",
       "              (conv1): ConvBlock(\n",
       "                (conv): Conv2d(32, 32, kernel_size=(3, 3), stride=(1, 1), padding=(1, 1), bias=False)\n",
       "                (bn): BatchNorm2d(32, eps=1e-05, momentum=0.1, affine=True, track_running_stats=True)\n",
       "                (activ): ReLU(inplace=True)\n",
       "              )\n",
       "              (conv2): ConvBlock(\n",
       "                (conv): Conv2d(32, 32, kernel_size=(3, 3), stride=(1, 1), padding=(1, 1), bias=False)\n",
       "                (bn): BatchNorm2d(32, eps=1e-05, momentum=0.1, affine=True, track_running_stats=True)\n",
       "              )\n",
       "            )\n",
       "            (activ): ReLU(inplace=True)\n",
       "          )\n",
       "        )\n",
       "        (stage3): Sequential(\n",
       "          (unit1): ResUnit(\n",
       "            (body): ResBlock(\n",
       "              (conv1): ConvBlock(\n",
       "                (conv): Conv2d(32, 64, kernel_size=(3, 3), stride=(2, 2), padding=(1, 1), bias=False)\n",
       "                (bn): BatchNorm2d(64, eps=1e-05, momentum=0.1, affine=True, track_running_stats=True)\n",
       "                (activ): ReLU(inplace=True)\n",
       "              )\n",
       "              (conv2): ConvBlock(\n",
       "                (conv): Conv2d(64, 64, kernel_size=(3, 3), stride=(1, 1), padding=(1, 1), bias=False)\n",
       "                (bn): BatchNorm2d(64, eps=1e-05, momentum=0.1, affine=True, track_running_stats=True)\n",
       "              )\n",
       "            )\n",
       "            (identity_conv): ConvBlock(\n",
       "              (conv): Conv2d(32, 64, kernel_size=(1, 1), stride=(2, 2), bias=False)\n",
       "              (bn): BatchNorm2d(64, eps=1e-05, momentum=0.1, affine=True, track_running_stats=True)\n",
       "            )\n",
       "            (activ): ReLU(inplace=True)\n",
       "          )\n",
       "          (unit2): ResUnit(\n",
       "            (body): ResBlock(\n",
       "              (conv1): ConvBlock(\n",
       "                (conv): Conv2d(64, 64, kernel_size=(3, 3), stride=(1, 1), padding=(1, 1), bias=False)\n",
       "                (bn): BatchNorm2d(64, eps=1e-05, momentum=0.1, affine=True, track_running_stats=True)\n",
       "                (activ): ReLU(inplace=True)\n",
       "              )\n",
       "              (conv2): ConvBlock(\n",
       "                (conv): Conv2d(64, 64, kernel_size=(3, 3), stride=(1, 1), padding=(1, 1), bias=False)\n",
       "                (bn): BatchNorm2d(64, eps=1e-05, momentum=0.1, affine=True, track_running_stats=True)\n",
       "              )\n",
       "            )\n",
       "            (activ): ReLU(inplace=True)\n",
       "          )\n",
       "          (unit3): ResUnit(\n",
       "            (body): ResBlock(\n",
       "              (conv1): ConvBlock(\n",
       "                (conv): Conv2d(64, 64, kernel_size=(3, 3), stride=(1, 1), padding=(1, 1), bias=False)\n",
       "                (bn): BatchNorm2d(64, eps=1e-05, momentum=0.1, affine=True, track_running_stats=True)\n",
       "                (activ): ReLU(inplace=True)\n",
       "              )\n",
       "              (conv2): ConvBlock(\n",
       "                (conv): Conv2d(64, 64, kernel_size=(3, 3), stride=(1, 1), padding=(1, 1), bias=False)\n",
       "                (bn): BatchNorm2d(64, eps=1e-05, momentum=0.1, affine=True, track_running_stats=True)\n",
       "              )\n",
       "            )\n",
       "            (activ): ReLU(inplace=True)\n",
       "          )\n",
       "        )\n",
       "        (final_pool): AvgPool2d(kernel_size=8, stride=1, padding=0)\n",
       "      )\n",
       "      (output): Linear(in_features=64, out_features=10, bias=True)\n",
       "    )\n",
       "    (2): CIFARPreResNet(\n",
       "      (features): Sequential(\n",
       "        (init_block): Conv2d(3, 16, kernel_size=(3, 3), stride=(1, 1), padding=(1, 1), bias=False)\n",
       "        (stage1): Sequential(\n",
       "          (unit1): PreResUnit(\n",
       "            (body): PreResBlock(\n",
       "              (conv1): PreConvBlock(\n",
       "                (bn): BatchNorm2d(16, eps=1e-05, momentum=0.1, affine=True, track_running_stats=True)\n",
       "                (activ): ReLU(inplace=True)\n",
       "                (conv): Conv2d(16, 16, kernel_size=(3, 3), stride=(1, 1), padding=(1, 1), bias=False)\n",
       "              )\n",
       "              (conv2): PreConvBlock(\n",
       "                (bn): BatchNorm2d(16, eps=1e-05, momentum=0.1, affine=True, track_running_stats=True)\n",
       "                (activ): ReLU(inplace=True)\n",
       "                (conv): Conv2d(16, 16, kernel_size=(3, 3), stride=(1, 1), padding=(1, 1), bias=False)\n",
       "              )\n",
       "            )\n",
       "          )\n",
       "          (unit2): PreResUnit(\n",
       "            (body): PreResBlock(\n",
       "              (conv1): PreConvBlock(\n",
       "                (bn): BatchNorm2d(16, eps=1e-05, momentum=0.1, affine=True, track_running_stats=True)\n",
       "                (activ): ReLU(inplace=True)\n",
       "                (conv): Conv2d(16, 16, kernel_size=(3, 3), stride=(1, 1), padding=(1, 1), bias=False)\n",
       "              )\n",
       "              (conv2): PreConvBlock(\n",
       "                (bn): BatchNorm2d(16, eps=1e-05, momentum=0.1, affine=True, track_running_stats=True)\n",
       "                (activ): ReLU(inplace=True)\n",
       "                (conv): Conv2d(16, 16, kernel_size=(3, 3), stride=(1, 1), padding=(1, 1), bias=False)\n",
       "              )\n",
       "            )\n",
       "          )\n",
       "          (unit3): PreResUnit(\n",
       "            (body): PreResBlock(\n",
       "              (conv1): PreConvBlock(\n",
       "                (bn): BatchNorm2d(16, eps=1e-05, momentum=0.1, affine=True, track_running_stats=True)\n",
       "                (activ): ReLU(inplace=True)\n",
       "                (conv): Conv2d(16, 16, kernel_size=(3, 3), stride=(1, 1), padding=(1, 1), bias=False)\n",
       "              )\n",
       "              (conv2): PreConvBlock(\n",
       "                (bn): BatchNorm2d(16, eps=1e-05, momentum=0.1, affine=True, track_running_stats=True)\n",
       "                (activ): ReLU(inplace=True)\n",
       "                (conv): Conv2d(16, 16, kernel_size=(3, 3), stride=(1, 1), padding=(1, 1), bias=False)\n",
       "              )\n",
       "            )\n",
       "          )\n",
       "        )\n",
       "        (stage2): Sequential(\n",
       "          (unit1): PreResUnit(\n",
       "            (body): PreResBlock(\n",
       "              (conv1): PreConvBlock(\n",
       "                (bn): BatchNorm2d(16, eps=1e-05, momentum=0.1, affine=True, track_running_stats=True)\n",
       "                (activ): ReLU(inplace=True)\n",
       "                (conv): Conv2d(16, 32, kernel_size=(3, 3), stride=(2, 2), padding=(1, 1), bias=False)\n",
       "              )\n",
       "              (conv2): PreConvBlock(\n",
       "                (bn): BatchNorm2d(32, eps=1e-05, momentum=0.1, affine=True, track_running_stats=True)\n",
       "                (activ): ReLU(inplace=True)\n",
       "                (conv): Conv2d(32, 32, kernel_size=(3, 3), stride=(1, 1), padding=(1, 1), bias=False)\n",
       "              )\n",
       "            )\n",
       "            (identity_conv): Conv2d(16, 32, kernel_size=(1, 1), stride=(2, 2), bias=False)\n",
       "          )\n",
       "          (unit2): PreResUnit(\n",
       "            (body): PreResBlock(\n",
       "              (conv1): PreConvBlock(\n",
       "                (bn): BatchNorm2d(32, eps=1e-05, momentum=0.1, affine=True, track_running_stats=True)\n",
       "                (activ): ReLU(inplace=True)\n",
       "                (conv): Conv2d(32, 32, kernel_size=(3, 3), stride=(1, 1), padding=(1, 1), bias=False)\n",
       "              )\n",
       "              (conv2): PreConvBlock(\n",
       "                (bn): BatchNorm2d(32, eps=1e-05, momentum=0.1, affine=True, track_running_stats=True)\n",
       "                (activ): ReLU(inplace=True)\n",
       "                (conv): Conv2d(32, 32, kernel_size=(3, 3), stride=(1, 1), padding=(1, 1), bias=False)\n",
       "              )\n",
       "            )\n",
       "          )\n",
       "          (unit3): PreResUnit(\n",
       "            (body): PreResBlock(\n",
       "              (conv1): PreConvBlock(\n",
       "                (bn): BatchNorm2d(32, eps=1e-05, momentum=0.1, affine=True, track_running_stats=True)\n",
       "                (activ): ReLU(inplace=True)\n",
       "                (conv): Conv2d(32, 32, kernel_size=(3, 3), stride=(1, 1), padding=(1, 1), bias=False)\n",
       "              )\n",
       "              (conv2): PreConvBlock(\n",
       "                (bn): BatchNorm2d(32, eps=1e-05, momentum=0.1, affine=True, track_running_stats=True)\n",
       "                (activ): ReLU(inplace=True)\n",
       "                (conv): Conv2d(32, 32, kernel_size=(3, 3), stride=(1, 1), padding=(1, 1), bias=False)\n",
       "              )\n",
       "            )\n",
       "          )\n",
       "        )\n",
       "        (stage3): Sequential(\n",
       "          (unit1): PreResUnit(\n",
       "            (body): PreResBlock(\n",
       "              (conv1): PreConvBlock(\n",
       "                (bn): BatchNorm2d(32, eps=1e-05, momentum=0.1, affine=True, track_running_stats=True)\n",
       "                (activ): ReLU(inplace=True)\n",
       "                (conv): Conv2d(32, 64, kernel_size=(3, 3), stride=(2, 2), padding=(1, 1), bias=False)\n",
       "              )\n",
       "              (conv2): PreConvBlock(\n",
       "                (bn): BatchNorm2d(64, eps=1e-05, momentum=0.1, affine=True, track_running_stats=True)\n",
       "                (activ): ReLU(inplace=True)\n",
       "                (conv): Conv2d(64, 64, kernel_size=(3, 3), stride=(1, 1), padding=(1, 1), bias=False)\n",
       "              )\n",
       "            )\n",
       "            (identity_conv): Conv2d(32, 64, kernel_size=(1, 1), stride=(2, 2), bias=False)\n",
       "          )\n",
       "          (unit2): PreResUnit(\n",
       "            (body): PreResBlock(\n",
       "              (conv1): PreConvBlock(\n",
       "                (bn): BatchNorm2d(64, eps=1e-05, momentum=0.1, affine=True, track_running_stats=True)\n",
       "                (activ): ReLU(inplace=True)\n",
       "                (conv): Conv2d(64, 64, kernel_size=(3, 3), stride=(1, 1), padding=(1, 1), bias=False)\n",
       "              )\n",
       "              (conv2): PreConvBlock(\n",
       "                (bn): BatchNorm2d(64, eps=1e-05, momentum=0.1, affine=True, track_running_stats=True)\n",
       "                (activ): ReLU(inplace=True)\n",
       "                (conv): Conv2d(64, 64, kernel_size=(3, 3), stride=(1, 1), padding=(1, 1), bias=False)\n",
       "              )\n",
       "            )\n",
       "          )\n",
       "          (unit3): PreResUnit(\n",
       "            (body): PreResBlock(\n",
       "              (conv1): PreConvBlock(\n",
       "                (bn): BatchNorm2d(64, eps=1e-05, momentum=0.1, affine=True, track_running_stats=True)\n",
       "                (activ): ReLU(inplace=True)\n",
       "                (conv): Conv2d(64, 64, kernel_size=(3, 3), stride=(1, 1), padding=(1, 1), bias=False)\n",
       "              )\n",
       "              (conv2): PreConvBlock(\n",
       "                (bn): BatchNorm2d(64, eps=1e-05, momentum=0.1, affine=True, track_running_stats=True)\n",
       "                (activ): ReLU(inplace=True)\n",
       "                (conv): Conv2d(64, 64, kernel_size=(3, 3), stride=(1, 1), padding=(1, 1), bias=False)\n",
       "              )\n",
       "            )\n",
       "          )\n",
       "        )\n",
       "        (post_activ): PreResActivation(\n",
       "          (bn): BatchNorm2d(64, eps=1e-05, momentum=0.1, affine=True, track_running_stats=True)\n",
       "          (activ): ReLU(inplace=True)\n",
       "        )\n",
       "        (final_pool): AvgPool2d(kernel_size=8, stride=1, padding=0)\n",
       "      )\n",
       "      (output): Linear(in_features=64, out_features=10, bias=True)\n",
       "    )\n",
       "  )\n",
       ")"
      ]
     },
     "execution_count": 18,
     "metadata": {},
     "output_type": "execute_result"
    }
   ],
   "source": [
    "model_names = [\n",
    "    'nin_cifar10',\n",
    "    'resnet20_cifar10',\n",
    "    'preresnet20_cifar10'\n",
    "]\n",
    "\n",
    "for model_name in model_names:\n",
    "    model_checker(model_name)\n",
    "\n",
    "ensemble_model = ensembleNet(model_names).to(device)\n",
    "ensemble_model.eval()"
   ]
  },
  {
   "cell_type": "code",
   "execution_count": 19,
   "id": "99304f84",
   "metadata": {
    "execution": {
     "iopub.execute_input": "2024-06-15T08:00:43.400431Z",
     "iopub.status.busy": "2024-06-15T08:00:43.400143Z",
     "iopub.status.idle": "2024-06-15T08:01:05.713183Z",
     "shell.execute_reply": "2024-06-15T08:01:05.712166Z"
    },
    "papermill": {
     "duration": 22.32805,
     "end_time": "2024-06-15T08:01:05.715666",
     "exception": false,
     "start_time": "2024-06-15T08:00:43.387616",
     "status": "completed"
    },
    "tags": []
   },
   "outputs": [
    {
     "name": "stderr",
     "output_type": "stream",
     "text": [
      "/opt/conda/lib/python3.10/site-packages/torchvision/transforms/functional.py:1603: UserWarning: The default value of the antialias parameter of all the resizing transforms (Resize(), RandomResizedCrop(), etc.) will change from None to True in v0.17, in order to be consistent across the PIL and Tensor backends. To suppress this warning, directly pass antialias=True (recommended, future default), antialias=None (current default, which means False for Tensors and True for PIL), or antialias=False (only works on Tensors - PIL will still use antialiasing). This also applies if you are using the inference transforms from the models weights: update the call to weights.transforms(antialias=True).\n",
      "  warnings.warn(\n"
     ]
    },
    {
     "name": "stdout",
     "output_type": "stream",
     "text": [
      "dim-mifgsm_acc = 0.0000000000, dim-mifgsm_loss = 13.62724\n"
     ]
    }
   ],
   "source": [
    "adv_examples, dim_mifgsm_acc, dim_mifgsm_loss = gen_adv_examples(ensemble_model, adv_loader, dim_mifgsm, loss_fn)\n",
    "print(f'dim-mifgsm_acc = {dim_mifgsm_acc:.10f}, dim-mifgsm_loss = {dim_mifgsm_loss:.5f}')\n",
    "\n",
    "create_dir(root, 'dim-mifgsm', adv_examples, adv_names)"
   ]
  },
  {
   "cell_type": "code",
   "execution_count": 20,
   "id": "2278e2fd",
   "metadata": {
    "execution": {
     "iopub.execute_input": "2024-06-15T08:01:05.740813Z",
     "iopub.status.busy": "2024-06-15T08:01:05.740495Z",
     "iopub.status.idle": "2024-06-15T08:01:06.729103Z",
     "shell.execute_reply": "2024-06-15T08:01:06.727910Z"
    },
    "papermill": {
     "duration": 1.003752,
     "end_time": "2024-06-15T08:01:06.731439",
     "exception": false,
     "start_time": "2024-06-15T08:01:05.727687",
     "status": "completed"
    },
    "tags": []
   },
   "outputs": [
    {
     "name": "stdout",
     "output_type": "stream",
     "text": [
      "/kaggle/working/dim-mifgsm\n",
      "/kaggle/working\n"
     ]
    }
   ],
   "source": [
    "%cd dim-mifgsm\n",
    "!tar zcf ../dim-mifgsm.tgz *\n",
    "%cd .."
   ]
  },
  {
   "cell_type": "markdown",
   "id": "d0693877",
   "metadata": {
    "id": "4N6Me0GQECfZ",
    "papermill": {
     "duration": 0.011347,
     "end_time": "2024-06-15T08:01:06.754726",
     "exception": false,
     "start_time": "2024-06-15T08:01:06.743379",
     "status": "completed"
    },
    "tags": []
   },
   "source": [
    "## Visualization"
   ]
  },
  {
   "cell_type": "code",
   "execution_count": 21,
   "id": "e49067ca",
   "metadata": {
    "execution": {
     "iopub.execute_input": "2024-06-15T08:01:06.779241Z",
     "iopub.status.busy": "2024-06-15T08:01:06.778900Z",
     "iopub.status.idle": "2024-06-15T08:01:08.720508Z",
     "shell.execute_reply": "2024-06-15T08:01:08.719590Z"
    },
    "id": "RxNrXHKsEDGx",
    "outputId": "84300977-08c2-4617-8510-c66cd03eafed",
    "papermill": {
     "duration": 1.957965,
     "end_time": "2024-06-15T08:01:08.724222",
     "exception": false,
     "start_time": "2024-06-15T08:01:06.766257",
     "status": "completed"
    },
    "tags": []
   },
   "outputs": [
    {
     "data": {
      "image/png": "[encoded data removed]",
      "text/plain": [
       "<Figure size 1000x2000 with 20 Axes>"
      ]
     },
     "metadata": {},
     "output_type": "display_data"
    }
   ],
   "source": [
    "import matplotlib.pyplot as plt\n",
    "\n",
    "classes = ['airplane', 'automobile', 'bird', 'cat', 'deer', 'dog', 'frog', 'horse', 'ship', 'truck']\n",
    "\n",
    "plt.figure(figsize=(10, 20))\n",
    "cnt = 0\n",
    "for i, cls_name in enumerate(classes):\n",
    "    path = f'{cls_name}/{cls_name}1.png'\n",
    "    # benign image\n",
    "    cnt += 1\n",
    "    plt.subplot(len(classes), 4, cnt)\n",
    "    im = Image.open(f'/kaggle/input/leehw10data/data/{path}')\n",
    "    logit = model(transform(im).unsqueeze(0).to(device))[0]\n",
    "    predict = logit.argmax(-1).item()\n",
    "    prob = logit.softmax(-1)[predict].item()\n",
    "    plt.title(f'benign: {cls_name}1.png\\n{classes[predict]}: {prob:.2%}')\n",
    "    plt.axis('off')\n",
    "    plt.imshow(np.array(im))\n",
    "    # adversarial image\n",
    "    cnt += 1\n",
    "    plt.subplot(len(classes), 4, cnt)\n",
    "    im = Image.open(f'/kaggle/working/dim-mifgsm/{path}')\n",
    "    logit = model(transform(im).unsqueeze(0).to(device))[0]\n",
    "    predict = logit.argmax(-1).item()\n",
    "    prob = logit.softmax(-1)[predict].item()\n",
    "    plt.title(f'adversarial: {cls_name}1.png\\n{classes[predict]}: {prob:.2%}')\n",
    "    plt.axis('off')\n",
    "    plt.imshow(np.array(im))\n",
    "plt.tight_layout()\n",
    "plt.show()"
   ]
  },
  {
   "cell_type": "markdown",
   "id": "d0a3b9a4",
   "metadata": {
    "id": "WDc6QllJEHiC",
    "papermill": {
     "duration": 0.013983,
     "end_time": "2024-06-15T08:01:08.752533",
     "exception": false,
     "start_time": "2024-06-15T08:01:08.738550",
     "status": "completed"
    },
    "tags": []
   },
   "source": [
    "## Report Question\n",
    "* Make sure you follow below setup: the source model is \"resnet110_cifar10\", applying the vanilla fgsm attack on `dog2.png`. You can find the perturbed image in `fgsm/dog2.png`."
   ]
  },
  {
   "cell_type": "code",
   "execution_count": 22,
   "id": "a5b636f8",
   "metadata": {
    "execution": {
     "iopub.execute_input": "2024-06-15T08:01:08.781818Z",
     "iopub.status.busy": "2024-06-15T08:01:08.781507Z",
     "iopub.status.idle": "2024-06-15T08:01:09.197716Z",
     "shell.execute_reply": "2024-06-15T08:01:09.196327Z"
    },
    "id": "XhFVWA6JEH8Z",
    "outputId": "99a7ff78-5166-4ddd-f474-3b599a19a31c",
    "papermill": {
     "duration": 0.434455,
     "end_time": "2024-06-15T08:01:09.201053",
     "exception": false,
     "start_time": "2024-06-15T08:01:08.766598",
     "status": "completed"
    },
    "tags": []
   },
   "outputs": [
    {
     "data": {
      "image/png": "[encoded data removed]",
      "text/plain": [
       "<Figure size 640x480 with 1 Axes>"
      ]
     },
     "metadata": {},
     "output_type": "display_data"
    },
    {
     "data": {
      "image/png": "[encoded data removed]",
      "text/plain": [
       "<Figure size 640x480 with 1 Axes>"
      ]
     },
     "metadata": {},
     "output_type": "display_data"
    }
   ],
   "source": [
    "# original image\n",
    "path = f'dog/dog2.png'\n",
    "im = Image.open(f'/kaggle/input/leehw10data/data/{path}')\n",
    "logit = model(transform(im).unsqueeze(0).to(device))[0]\n",
    "predict = logit.argmax(-1).item()\n",
    "prob = logit.softmax(-1)[predict].item()\n",
    "plt.title(f'benign: dog2.png\\n{classes[predict]}: {prob:.2%}')\n",
    "plt.axis('off')\n",
    "plt.imshow(np.array(im))\n",
    "plt.tight_layout()\n",
    "plt.show()\n",
    "\n",
    "# adversarial image \n",
    "adv_im = Image.open(f'./dim-mifgsm/{path}')\n",
    "logit = model(transform(adv_im).unsqueeze(0).to(device))[0]\n",
    "predict = logit.argmax(-1).item()\n",
    "prob = logit.softmax(-1)[predict].item()\n",
    "plt.title(f'adversarial: dog2.png\\n{classes[predict]}: {prob:.2%}')\n",
    "plt.axis('off')\n",
    "plt.imshow(np.array(adv_im))\n",
    "plt.tight_layout()\n",
    "plt.show()"
   ]
  },
  {
   "cell_type": "markdown",
   "id": "2351a8d7",
   "metadata": {
    "id": "NfwhnywXEMwZ",
    "papermill": {
     "duration": 0.014464,
     "end_time": "2024-06-15T08:01:09.232670",
     "exception": false,
     "start_time": "2024-06-15T08:01:09.218206",
     "status": "completed"
    },
    "tags": []
   },
   "source": [
    "## Passive Defense - JPEG compression\n",
    "JPEG compression by imgaug package, compression rate set to 70\n",
    "\n",
    "Reference: https://imgaug.readthedocs.io/en/latest/source/api_augmenters_arithmetic.html#imgaug.augmenters.arithmetic.JpegCompression\n",
    "\n",
    "Note: If you haven't implemented the JPEG compression, this module will return an error. Don't worry about this."
   ]
  },
  {
   "cell_type": "code",
   "execution_count": 23,
   "id": "9192e4aa",
   "metadata": {
    "execution": {
     "iopub.execute_input": "2024-06-15T08:01:09.263828Z",
     "iopub.status.busy": "2024-06-15T08:01:09.262963Z",
     "iopub.status.idle": "2024-06-15T08:01:10.972453Z",
     "shell.execute_reply": "2024-06-15T08:01:10.971194Z"
    },
    "id": "y2T7-L-BEKYg",
    "outputId": "366430ea-0da5-4112-d1dc-b348ebb1b010",
    "papermill": {
     "duration": 1.728482,
     "end_time": "2024-06-15T08:01:10.975902",
     "exception": false,
     "start_time": "2024-06-15T08:01:09.247420",
     "status": "completed"
    },
    "tags": []
   },
   "outputs": [
    {
     "data": {
      "image/png": "[encoded data removed]",
      "text/plain": [
       "<Figure size 640x480 with 1 Axes>"
      ]
     },
     "metadata": {},
     "output_type": "display_data"
    }
   ],
   "source": [
    "import imgaug.augmenters as iaa\n",
    "\n",
    "# pre-process image\n",
    "x = transforms.ToTensor()(adv_im)*255\n",
    "x = x.permute(1, 2, 0).numpy()\n",
    "x = x.astype(np.uint8)\n",
    "\n",
    "# TODO: use \"imgaug\" package to perform JPEG compression (compression rate = 70)\n",
    "# compressed_x =  ... x .. \n",
    "compressed_x = iaa.JpegCompression(compression=70)(image=x)\n",
    "\n",
    "\n",
    "logit = model(transform(compressed_x).unsqueeze(0).to(device))[0]\n",
    "predict = logit.argmax(-1).item()\n",
    "prob = logit.softmax(-1)[predict].item()\n",
    "plt.title(f'JPEG adversarial: dog2.png\\n{classes[predict]}: {prob:.2%}')\n",
    "plt.axis('off')\n",
    "\n",
    "\n",
    "plt.imshow(compressed_x)\n",
    "plt.tight_layout()\n",
    "plt.show()"
   ]
  }
 ],
 "metadata": {
  "accelerator": "GPU",
  "colab": {
   "provenance": []
  },
  "gpuClass": "standard",
  "kaggle": {
   "accelerator": "gpu",
   "dataSources": [
    {
     "datasetId": 2669783,
     "sourceId": 4576616,
     "sourceType": "datasetVersion"
    }
   ],
   "dockerImageVersionId": 30733,
   "isGpuEnabled": true,
   "isInternetEnabled": true,
   "language": "python",
   "sourceType": "notebook"
  },
  "kernelspec": {
   "display_name": "Python 3",
   "language": "python",
   "name": "python3"
  },
  "language_info": {
   "codemirror_mode": {
    "name": "ipython",
    "version": 3
   },
   "file_extension": ".py",
   "mimetype": "text/x-python",
   "name": "python",
   "nbconvert_exporter": "python",
   "pygments_lexer": "ipython3",
   "version": "3.10.13"
  },
  "papermill": {
   "default_parameters": {},
   "duration": 68.630259,
   "end_time": "2024-06-15T08:01:12.518092",
   "environment_variables": {},
   "exception": null,
   "input_path": "__notebook__.ipynb",
   "output_path": "__notebook__.ipynb",
   "parameters": {},
   "start_time": "2024-06-15T08:00:03.887833",
   "version": "2.5.0"
  }
 },
 "nbformat": 4,
 "nbformat_minor": 5
}
