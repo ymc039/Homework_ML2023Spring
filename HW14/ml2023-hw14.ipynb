{
 "cells": [
  {
   "cell_type": "markdown",
   "id": "9f95d147",
   "metadata": {
    "id": "AsmmE9T_WFbD",
    "papermill": {
     "duration": 0.010738,
     "end_time": "2024-07-02T13:20:19.822457",
     "exception": false,
     "start_time": "2024-07-02T13:20:19.811719",
     "status": "completed"
    },
    "tags": []
   },
   "source": [
    "\n",
    "\n",
    "### LifeLong Machine Learning\n",
    "### TA's Slide\n",
    "[Slide](https://docs.google.com/presentation/d/1SMJLWPTPCIrZdNdAjrS4zQZx1kfB73jCFSb7JRX90gQ/edit?usp=sharing)\n",
    "\n",
    "### Definition\n",
    "The detailed explanations and definitions of LifeLong Learning please refer to [LifeLong learning](https://youtu.be/7qT5P9KJnWo) \n",
    "\n",
    "\n",
    "### Methods\n",
    "Someone proposed a survey paper for LifeLong Learning at the end of 2019 to distinguish 2016-2019 LigeLong Learning methods into three families.\n",
    "\n",
    "We can distinguish LifeLong Learning methods into three families, based on how task\n",
    "specific information is stored and used throughout the sequential learning process:\n",
    "* Replay-based methods\n",
    "* Regularization-based methods\n",
    "* Parameter isolation methods\n",
    "\n",
    "<img src=\"https://i.ibb.co/VDFJkWG/2019-12-29-17-25.png\" width=\"100%\">\n",
    "\n",
    "In this assignment, we have to go through EWC, MAS, SI, Remanian Walk, SCP Methods in the prior-focused methods of the regularization-based methods. \n",
    "\n",
    "Source: [Continual Learning in Neural\n",
    "Networks](https://arxiv.org/pdf/1910.02718.pdf)\n",
    "\n",
    "Please feel free to mail us if you have any questions.\n",
    "\n",
    "mlta-2023-spring@googlegroups.com\n"
   ]
  },
  {
   "cell_type": "markdown",
   "id": "c6f22b1b",
   "metadata": {
    "id": "BK862tXGWFbE",
    "papermill": {
     "duration": 0.010015,
     "end_time": "2024-07-02T13:20:19.842741",
     "exception": false,
     "start_time": "2024-07-02T13:20:19.832726",
     "status": "completed"
    },
    "tags": []
   },
   "source": [
    "# Utilities"
   ]
  },
  {
   "cell_type": "markdown",
   "id": "41ef880b",
   "metadata": {
    "id": "Q3qCa3AyWFbE",
    "papermill": {
     "duration": 0.00987,
     "end_time": "2024-07-02T13:20:19.862669",
     "exception": false,
     "start_time": "2024-07-02T13:20:19.852799",
     "status": "completed"
    },
    "tags": []
   },
   "source": [
    "### Import Libraries"
   ]
  },
  {
   "cell_type": "code",
   "execution_count": 1,
   "id": "2b749d32",
   "metadata": {
    "execution": {
     "iopub.execute_input": "2024-07-02T13:20:19.884562Z",
     "iopub.status.busy": "2024-07-02T13:20:19.884102Z",
     "iopub.status.idle": "2024-07-02T13:20:24.933477Z",
     "shell.execute_reply": "2024-07-02T13:20:24.932492Z"
    },
    "id": "R2TZ4-_yWFbF",
    "papermill": {
     "duration": 5.063177,
     "end_time": "2024-07-02T13:20:24.935878",
     "exception": false,
     "start_time": "2024-07-02T13:20:19.872701",
     "status": "completed"
    },
    "tags": []
   },
   "outputs": [],
   "source": [
    "import argparse\n",
    "import matplotlib.pyplot as plt\n",
    "import numpy as np\n",
    "import os\n",
    "import torch\n",
    "import torch.utils.data as data\n",
    "from torch.utils.data import DataLoader\n",
    "import torch.utils.data.sampler as sampler\n",
    "import torch.nn as nn\n",
    "import torch.nn.functional as F\n",
    "import torchvision\n",
    "from torchvision import datasets, transforms\n",
    "import tqdm\n",
    "from tqdm import trange"
   ]
  },
  {
   "cell_type": "markdown",
   "id": "b1d43132",
   "metadata": {
    "id": "gg3_4IbVWFbF",
    "papermill": {
     "duration": 0.010233,
     "end_time": "2024-07-02T13:20:24.956877",
     "exception": false,
     "start_time": "2024-07-02T13:20:24.946644",
     "status": "completed"
    },
    "tags": []
   },
   "source": [
    "### Check devices"
   ]
  },
  {
   "cell_type": "code",
   "execution_count": 2,
   "id": "cde9a224",
   "metadata": {
    "execution": {
     "iopub.execute_input": "2024-07-02T13:20:24.981069Z",
     "iopub.status.busy": "2024-07-02T13:20:24.978259Z",
     "iopub.status.idle": "2024-07-02T13:20:25.984920Z",
     "shell.execute_reply": "2024-07-02T13:20:25.983960Z"
    },
    "id": "OivaUp0oWFbF",
    "outputId": "b973189c-5bba-4725-84cb-53a4cba40859",
    "papermill": {
     "duration": 1.0203,
     "end_time": "2024-07-02T13:20:25.987307",
     "exception": false,
     "start_time": "2024-07-02T13:20:24.967007",
     "status": "completed"
    },
    "tags": []
   },
   "outputs": [
    {
     "name": "stdout",
     "output_type": "stream",
     "text": [
      "Tue Jul  2 13:20:25 2024       \r\n",
      "+---------------------------------------------------------------------------------------+\r\n",
      "| NVIDIA-SMI 535.129.03             Driver Version: 535.129.03   CUDA Version: 12.2     |\r\n",
      "|-----------------------------------------+----------------------+----------------------+\r\n",
      "| GPU  Name                 Persistence-M | Bus-Id        Disp.A | Volatile Uncorr. ECC |\r\n",
      "| Fan  Temp   Perf          Pwr:Usage/Cap |         Memory-Usage | GPU-Util  Compute M. |\r\n",
      "|                                         |                      |               MIG M. |\r\n",
      "|=========================================+======================+======================|\r\n",
      "|   0  Tesla P100-PCIE-16GB           Off | 00000000:00:04.0 Off |                    0 |\r\n",
      "| N/A   40C    P0              26W / 250W |      0MiB / 16384MiB |      0%      Default |\r\n",
      "|                                         |                      |                  N/A |\r\n",
      "+-----------------------------------------+----------------------+----------------------+\r\n",
      "                                                                                         \r\n",
      "+---------------------------------------------------------------------------------------+\r\n",
      "| Processes:                                                                            |\r\n",
      "|  GPU   GI   CI        PID   Type   Process name                            GPU Memory |\r\n",
      "|        ID   ID                                                             Usage      |\r\n",
      "|=======================================================================================|\r\n",
      "|  No running processes found                                                           |\r\n",
      "+---------------------------------------------------------------------------------------+\r\n"
     ]
    }
   ],
   "source": [
    "!nvidia-smi"
   ]
  },
  {
   "cell_type": "markdown",
   "id": "437f5edc",
   "metadata": {
    "id": "yUJ74uBEWFbG",
    "papermill": {
     "duration": 0.010157,
     "end_time": "2024-07-02T13:20:26.008977",
     "exception": false,
     "start_time": "2024-07-02T13:20:25.998820",
     "status": "completed"
    },
    "tags": []
   },
   "source": [
    "### Fix Random Seeds"
   ]
  },
  {
   "cell_type": "code",
   "execution_count": 3,
   "id": "b3059a6e",
   "metadata": {
    "execution": {
     "iopub.execute_input": "2024-07-02T13:20:26.031524Z",
     "iopub.status.busy": "2024-07-02T13:20:26.030675Z",
     "iopub.status.idle": "2024-07-02T13:20:26.089404Z",
     "shell.execute_reply": "2024-07-02T13:20:26.088651Z"
    },
    "id": "wD5LIZarWFbG",
    "papermill": {
     "duration": 0.072334,
     "end_time": "2024-07-02T13:20:26.091603",
     "exception": false,
     "start_time": "2024-07-02T13:20:26.019269",
     "status": "completed"
    },
    "tags": []
   },
   "outputs": [],
   "source": [
    "def same_seeds(seed):\n",
    "  torch.manual_seed(seed)\n",
    "  if torch.cuda.is_available():\n",
    "    torch.cuda.manual_seed(seed)\n",
    "    torch.cuda.manual_seed_all(seed)  \n",
    "  np.random.seed(seed)  \n",
    "  torch.backends.cudnn.benchmark = False\n",
    "  torch.backends.cudnn.deterministic = True\n",
    "\n",
    "same_seeds(0)"
   ]
  },
  {
   "cell_type": "markdown",
   "id": "92df342a",
   "metadata": {
    "id": "jF1t8-4kWFbG",
    "papermill": {
     "duration": 0.010171,
     "end_time": "2024-07-02T13:20:26.112452",
     "exception": false,
     "start_time": "2024-07-02T13:20:26.102281",
     "status": "completed"
    },
    "tags": []
   },
   "source": [
    "# Prepare Data\n",
    "We utilize rotated MNIST as our training dataset.\n",
    "\n",
    "So, first, we utilize 5 different rotations to generate 10 different rotated MNISTs as different tasks."
   ]
  },
  {
   "cell_type": "markdown",
   "id": "79434e56",
   "metadata": {
    "id": "RQUE7ZCEWFbG",
    "papermill": {
     "duration": 0.010172,
     "end_time": "2024-07-02T13:20:26.133043",
     "exception": false,
     "start_time": "2024-07-02T13:20:26.122871",
     "status": "completed"
    },
    "tags": []
   },
   "source": [
    "### Rotation and Transformation"
   ]
  },
  {
   "cell_type": "code",
   "execution_count": 4,
   "id": "07c0f1fc",
   "metadata": {
    "execution": {
     "iopub.execute_input": "2024-07-02T13:20:26.155136Z",
     "iopub.status.busy": "2024-07-02T13:20:26.154782Z",
     "iopub.status.idle": "2024-07-02T13:20:26.164774Z",
     "shell.execute_reply": "2024-07-02T13:20:26.163891Z"
    },
    "id": "YuG2jkeEWFbG",
    "papermill": {
     "duration": 0.023343,
     "end_time": "2024-07-02T13:20:26.166675",
     "exception": false,
     "start_time": "2024-07-02T13:20:26.143332",
     "status": "completed"
    },
    "tags": []
   },
   "outputs": [],
   "source": [
    "# Rotate MNIST to generate 10 tasks\n",
    "\n",
    "def _rotate_image(image, angle):\n",
    "  if angle is None:\n",
    "    return image\n",
    "\n",
    "  image = transforms.functional.rotate(image, angle=angle)\n",
    "  return image\n",
    "\n",
    "def get_transform(angle=None):\n",
    "  transform = transforms.Compose([transforms.ToTensor(),\n",
    "                   transforms.Lambda(lambda x: _rotate_image(x, angle)),\n",
    "                   Pad(28)\n",
    "                   ])\n",
    "  return transform\n",
    "\n",
    "class Pad(object):\n",
    "  def __init__(self, size, fill=0, padding_mode='constant'):\n",
    "    self.size = size\n",
    "    self.fill = fill\n",
    "    self.padding_mode = padding_mode\n",
    "    \n",
    "  def __call__(self, img):\n",
    "    # If the H and W of img is not equal to desired size,\n",
    "    # then pad the channel of img to desired size.\n",
    "    img_size = img.size()[1]\n",
    "    assert ((self.size - img_size) % 2 == 0)\n",
    "    padding = (self.size - img_size) // 2\n",
    "    padding = (padding, padding, padding, padding)\n",
    "    return F.pad(img, padding, self.padding_mode, self.fill)\n",
    "\n",
    "class Data():\n",
    "  def __init__(self, path, train=True, angle=None):\n",
    "    transform = get_transform(angle)\n",
    "    self.dataset = datasets.MNIST(root=os.path.join(path, \"MNIST\"), transform=transform, train=train, download=True)"
   ]
  },
  {
   "cell_type": "markdown",
   "id": "1ab3fce3",
   "metadata": {
    "id": "KG8GcENLWFbH",
    "papermill": {
     "duration": 0.011206,
     "end_time": "2024-07-02T13:20:26.188153",
     "exception": false,
     "start_time": "2024-07-02T13:20:26.176947",
     "status": "completed"
    },
    "tags": []
   },
   "source": [
    "### Dataloaders and Arguments\n",
    "- Training Arguments\n",
    "- Setup 5 different Rotations\n",
    "- 5 Train DataLoader\n",
    "- 5 Test DataLoader "
   ]
  },
  {
   "cell_type": "code",
   "execution_count": 5,
   "id": "93f30be1",
   "metadata": {
    "execution": {
     "iopub.execute_input": "2024-07-02T13:20:26.210274Z",
     "iopub.status.busy": "2024-07-02T13:20:26.209961Z",
     "iopub.status.idle": "2024-07-02T13:20:30.358864Z",
     "shell.execute_reply": "2024-07-02T13:20:30.357843Z"
    },
    "id": "jDo1m4EIWFbH",
    "outputId": "a93394c3-f62d-4f9c-8824-f7546f1d956a",
    "papermill": {
     "duration": 4.162682,
     "end_time": "2024-07-02T13:20:30.361301",
     "exception": false,
     "start_time": "2024-07-02T13:20:26.198619",
     "status": "completed"
    },
    "tags": []
   },
   "outputs": [
    {
     "name": "stdout",
     "output_type": "stream",
     "text": [
      "Downloading http://yann.lecun.com/exdb/mnist/train-images-idx3-ubyte.gz\n",
      "Failed to download (trying next):\n",
      "HTTP Error 403: Forbidden\n",
      "\n",
      "Downloading https://ossci-datasets.s3.amazonaws.com/mnist/train-images-idx3-ubyte.gz\n",
      "Downloading https://ossci-datasets.s3.amazonaws.com/mnist/train-images-idx3-ubyte.gz to data/MNIST/MNIST/raw/train-images-idx3-ubyte.gz\n"
     ]
    },
    {
     "name": "stderr",
     "output_type": "stream",
     "text": [
      "100%|██████████| 9912422/9912422 [00:00<00:00, 17727866.34it/s]\n"
     ]
    },
    {
     "name": "stdout",
     "output_type": "stream",
     "text": [
      "Extracting data/MNIST/MNIST/raw/train-images-idx3-ubyte.gz to data/MNIST/MNIST/raw\n",
      "\n",
      "Downloading http://yann.lecun.com/exdb/mnist/train-labels-idx1-ubyte.gz\n",
      "Failed to download (trying next):\n",
      "HTTP Error 403: Forbidden\n",
      "\n",
      "Downloading https://ossci-datasets.s3.amazonaws.com/mnist/train-labels-idx1-ubyte.gz\n",
      "Downloading https://ossci-datasets.s3.amazonaws.com/mnist/train-labels-idx1-ubyte.gz to data/MNIST/MNIST/raw/train-labels-idx1-ubyte.gz\n"
     ]
    },
    {
     "name": "stderr",
     "output_type": "stream",
     "text": [
      "100%|██████████| 28881/28881 [00:00<00:00, 468642.67it/s]\n"
     ]
    },
    {
     "name": "stdout",
     "output_type": "stream",
     "text": [
      "Extracting data/MNIST/MNIST/raw/train-labels-idx1-ubyte.gz to data/MNIST/MNIST/raw\n",
      "\n",
      "Downloading http://yann.lecun.com/exdb/mnist/t10k-images-idx3-ubyte.gz\n",
      "Failed to download (trying next):\n",
      "HTTP Error 403: Forbidden\n",
      "\n",
      "Downloading https://ossci-datasets.s3.amazonaws.com/mnist/t10k-images-idx3-ubyte.gz\n",
      "Downloading https://ossci-datasets.s3.amazonaws.com/mnist/t10k-images-idx3-ubyte.gz to data/MNIST/MNIST/raw/t10k-images-idx3-ubyte.gz\n"
     ]
    },
    {
     "name": "stderr",
     "output_type": "stream",
     "text": [
      "100%|██████████| 1648877/1648877 [00:00<00:00, 4387788.23it/s]\n"
     ]
    },
    {
     "name": "stdout",
     "output_type": "stream",
     "text": [
      "Extracting data/MNIST/MNIST/raw/t10k-images-idx3-ubyte.gz to data/MNIST/MNIST/raw\n",
      "\n",
      "Downloading http://yann.lecun.com/exdb/mnist/t10k-labels-idx1-ubyte.gz\n",
      "Failed to download (trying next):\n",
      "HTTP Error 403: Forbidden\n",
      "\n",
      "Downloading https://ossci-datasets.s3.amazonaws.com/mnist/t10k-labels-idx1-ubyte.gz\n",
      "Downloading https://ossci-datasets.s3.amazonaws.com/mnist/t10k-labels-idx1-ubyte.gz to data/MNIST/MNIST/raw/t10k-labels-idx1-ubyte.gz\n"
     ]
    },
    {
     "name": "stderr",
     "output_type": "stream",
     "text": [
      "100%|██████████| 4542/4542 [00:00<00:00, 2834900.11it/s]\n"
     ]
    },
    {
     "name": "stdout",
     "output_type": "stream",
     "text": [
      "Extracting data/MNIST/MNIST/raw/t10k-labels-idx1-ubyte.gz to data/MNIST/MNIST/raw\n",
      "\n"
     ]
    }
   ],
   "source": [
    "class Args:\n",
    "  task_number = 5\n",
    "  epochs_per_task = 10\n",
    "  lr = 1.0e-4\n",
    "  batch_size = 128\n",
    "  test_size=8192\n",
    "\n",
    "args=Args()\n",
    "\n",
    "device = torch.device(\"cuda\" if torch.cuda.is_available() else \"cpu\")\n",
    "# generate rotations for the tasks.\n",
    "\n",
    "# generate rotated MNIST data from 10 different rotations.\n",
    "\n",
    "angle_list = [20 * x for x in range(args.task_number)]\n",
    "\n",
    "# prepare rotated MNIST datasets.\n",
    "\n",
    "train_datasets = [Data('data', angle=angle_list[index]) for index in range(args.task_number)]\n",
    "train_dataloaders = [DataLoader(data.dataset, batch_size=args.batch_size, shuffle=True) for data in train_datasets]\n",
    "\n",
    "test_datasets = [Data('data', train=False, angle=angle_list[index]) for index in range(args.task_number)]\n",
    "test_dataloaders = [DataLoader(data.dataset, batch_size=args.test_size, shuffle=True) for data in test_datasets]"
   ]
  },
  {
   "cell_type": "markdown",
   "id": "eef652ed",
   "metadata": {
    "id": "44eTPTSrWFbH",
    "papermill": {
     "duration": 0.012596,
     "end_time": "2024-07-02T13:20:30.387014",
     "exception": false,
     "start_time": "2024-07-02T13:20:30.374418",
     "status": "completed"
    },
    "tags": []
   },
   "source": [
    "### Visualization"
   ]
  },
  {
   "cell_type": "code",
   "execution_count": 6,
   "id": "fc258e5b",
   "metadata": {
    "execution": {
     "iopub.execute_input": "2024-07-02T13:20:30.413935Z",
     "iopub.status.busy": "2024-07-02T13:20:30.413576Z",
     "iopub.status.idle": "2024-07-02T13:20:33.509749Z",
     "shell.execute_reply": "2024-07-02T13:20:33.508843Z"
    },
    "id": "H_JGabIFWFbH",
    "outputId": "220bf918-12fd-4fee-b1cb-659f660f7a0b",
    "papermill": {
     "duration": 3.112353,
     "end_time": "2024-07-02T13:20:33.512059",
     "exception": false,
     "start_time": "2024-07-02T13:20:30.399706",
     "status": "completed"
    },
    "tags": []
   },
   "outputs": [
    {
     "data": {
      "image/png": "[encoded data removed]",
      "text/plain": [
       "<Figure size 3000x1000 with 50 Axes>"
      ]
     },
     "metadata": {},
     "output_type": "display_data"
    }
   ],
   "source": [
    "# Visualize label 0-9 1 sample MNIST picture in 5 tasks.\n",
    "sample = [Data('data', angle=angle_list[index]) for index in range(args.task_number)]\n",
    "\n",
    "plt.figure(figsize=(30, 10))\n",
    "for task in range(5):\n",
    "  target_list = []\n",
    "  cnt = 0\n",
    "  while (len(target_list) < 10):\n",
    "    img, target = sample[task].dataset[cnt]\n",
    "    cnt += 1\n",
    "    if target in target_list:\n",
    "      continue\n",
    "    else:\n",
    "      target_list.append(target)\n",
    "    plt.subplot(5, 10, (task)*10 + target + 1)\n",
    "    curr_img = np.reshape(img, (28, 28))\n",
    "    plt.matshow(curr_img, cmap=plt.get_cmap('gray'), fignum=False)\n",
    "    ax = plt.gca()\n",
    "    ax.axes.xaxis.set_ticks([])\n",
    "    ax.axes.yaxis.set_ticks([])\n",
    "    plt.title(\"task: \" + str(task+1) + \" \" + \"label: \" + str(target), y=1)"
   ]
  },
  {
   "cell_type": "markdown",
   "id": "2dc30128",
   "metadata": {
    "id": "4yn5L2iuWFbH",
    "papermill": {
     "duration": 0.013842,
     "end_time": "2024-07-02T13:20:33.539990",
     "exception": false,
     "start_time": "2024-07-02T13:20:33.526148",
     "status": "completed"
    },
    "tags": []
   },
   "source": [
    "# Prepare Model"
   ]
  },
  {
   "cell_type": "markdown",
   "id": "c5c48754",
   "metadata": {
    "id": "TyT-BW1zWFbI",
    "papermill": {
     "duration": 0.013656,
     "end_time": "2024-07-02T13:20:33.567715",
     "exception": false,
     "start_time": "2024-07-02T13:20:33.554059",
     "status": "completed"
    },
    "tags": []
   },
   "source": [
    "### Model Architecture\n",
    "To fair comparison, \n",
    "\n",
    "We fix our model architecture to do this homework. \n",
    "\n",
    "The model architecture consists of 4 layers fully-connected network."
   ]
  },
  {
   "cell_type": "code",
   "execution_count": 7,
   "id": "afd98519",
   "metadata": {
    "execution": {
     "iopub.execute_input": "2024-07-02T13:20:33.597152Z",
     "iopub.status.busy": "2024-07-02T13:20:33.596309Z",
     "iopub.status.idle": "2024-07-02T13:20:33.621588Z",
     "shell.execute_reply": "2024-07-02T13:20:33.620488Z"
    },
    "id": "PHK0IJofWFbI",
    "outputId": "11535b18-b1c8-4bf2-a78c-2c09dc37866c",
    "papermill": {
     "duration": 0.042206,
     "end_time": "2024-07-02T13:20:33.623595",
     "exception": false,
     "start_time": "2024-07-02T13:20:33.581389",
     "status": "completed"
    },
    "tags": []
   },
   "outputs": [
    {
     "name": "stdout",
     "output_type": "stream",
     "text": [
      "Model(\n",
      "  (fc1): Linear(in_features=784, out_features=1024, bias=True)\n",
      "  (fc2): Linear(in_features=1024, out_features=512, bias=True)\n",
      "  (fc3): Linear(in_features=512, out_features=256, bias=True)\n",
      "  (fc4): Linear(in_features=256, out_features=10, bias=True)\n",
      "  (relu): ReLU()\n",
      ")\n"
     ]
    }
   ],
   "source": [
    "class Model(nn.Module):\n",
    "  \"\"\"\n",
    "  Model architecture \n",
    "  1*28*28 (input) → 1024 → 512 → 256 → 10\n",
    "  \"\"\"\n",
    "  def __init__(self):\n",
    "    super(Model, self).__init__()\n",
    "    self.fc1 = nn.Linear(1*28*28, 1024)\n",
    "    self.fc2 = nn.Linear(1024, 512)\n",
    "    self.fc3 = nn.Linear(512, 256)\n",
    "    self.fc4 = nn.Linear(256, 10)\n",
    "    self.relu = nn.ReLU()\n",
    "\n",
    "  def forward(self, x):\n",
    "    x = x.view(-1, 1*28*28)\n",
    "    x = self.fc1(x)\n",
    "    x = self.relu(x)\n",
    "    x = self.fc2(x)\n",
    "    x = self.relu(x)\n",
    "    x = self.fc3(x)\n",
    "    x = self.relu(x)\n",
    "    x = self.fc4(x)\n",
    "    return x\n",
    "\n",
    "example = Model()\n",
    "print(example)"
   ]
  },
  {
   "cell_type": "markdown",
   "id": "2f7c860f",
   "metadata": {
    "id": "6tTBIThnWFbI",
    "papermill": {
     "duration": 0.013565,
     "end_time": "2024-07-02T13:20:33.650930",
     "exception": false,
     "start_time": "2024-07-02T13:20:33.637365",
     "status": "completed"
    },
    "tags": []
   },
   "source": [
    "# Train and Evaluate"
   ]
  },
  {
   "cell_type": "markdown",
   "id": "8288b5a9",
   "metadata": {
    "id": "cQI3OGfgWFbI",
    "papermill": {
     "duration": 0.013506,
     "end_time": "2024-07-02T13:20:33.678181",
     "exception": false,
     "start_time": "2024-07-02T13:20:33.664675",
     "status": "completed"
    },
    "tags": []
   },
   "source": [
    "### Train\n",
    "This is our function of training.\n",
    "\n",
    "It can generally be applied in different regularization-based lifelong learning algorithms in this homework."
   ]
  },
  {
   "cell_type": "code",
   "execution_count": 8,
   "id": "81a65178",
   "metadata": {
    "execution": {
     "iopub.execute_input": "2024-07-02T13:20:33.706952Z",
     "iopub.status.busy": "2024-07-02T13:20:33.706658Z",
     "iopub.status.idle": "2024-07-02T13:20:33.716169Z",
     "shell.execute_reply": "2024-07-02T13:20:33.715487Z"
    },
    "id": "MQLGpyqnWFbJ",
    "papermill": {
     "duration": 0.026014,
     "end_time": "2024-07-02T13:20:33.718022",
     "exception": false,
     "start_time": "2024-07-02T13:20:33.692008",
     "status": "completed"
    },
    "tags": []
   },
   "outputs": [],
   "source": [
    "def train(model, optimizer, dataloader, epochs_per_task, lll_object, lll_lambda, test_dataloaders, evaluate, device, log_step=1):\n",
    "  model.train()\n",
    "  model.zero_grad()\n",
    "  objective = nn.CrossEntropyLoss()\n",
    "  acc_per_epoch = []\n",
    "  loss = 1.0\n",
    "  bar = trange(epochs_per_task, leave=False, desc=f\"Epoch 1, Loss: {loss:.7f}\")\n",
    "  for epoch in bar:    \n",
    "    for imgs, labels in dataloader:   \n",
    "      imgs, labels = imgs.to(device), labels.to(device)\n",
    "      outputs = model(imgs)\n",
    "      loss = objective(outputs, labels)\n",
    "      total_loss = loss\n",
    "      lll_loss = lll_object.penalty(model)\n",
    "      total_loss += lll_lambda * lll_loss \n",
    "      lll_object.update(model)\n",
    "      optimizer.zero_grad()\n",
    "      total_loss.backward()\n",
    "      optimizer.step()\n",
    "\n",
    "      loss = total_loss.item()\n",
    "    acc_average  = []\n",
    "    for test_dataloader in test_dataloaders: \n",
    "      acc_test = evaluate(model, test_dataloader, device)\n",
    "      acc_average.append(acc_test)\n",
    "    average=np.mean(np.array(acc_average))\n",
    "    acc_per_epoch.append(average*100.0)\n",
    "                \n",
    "  return model, optimizer, acc_per_epoch"
   ]
  },
  {
   "cell_type": "markdown",
   "id": "e005bfb7",
   "metadata": {
    "id": "UN-V_Rq3WFbJ",
    "papermill": {
     "duration": 0.013843,
     "end_time": "2024-07-02T13:20:33.745573",
     "exception": false,
     "start_time": "2024-07-02T13:20:33.731730",
     "status": "completed"
    },
    "tags": []
   },
   "source": [
    "### Evaluate\n",
    "This is our function of evaluation.\n",
    "\n",
    "It can generally be applied in different regularization-based lifelong learning algorithms in this homework.\n"
   ]
  },
  {
   "cell_type": "code",
   "execution_count": 9,
   "id": "89d23099",
   "metadata": {
    "execution": {
     "iopub.execute_input": "2024-07-02T13:20:33.774002Z",
     "iopub.status.busy": "2024-07-02T13:20:33.773746Z",
     "iopub.status.idle": "2024-07-02T13:20:33.779348Z",
     "shell.execute_reply": "2024-07-02T13:20:33.778533Z"
    },
    "id": "AgUG7ZC3WFbJ",
    "papermill": {
     "duration": 0.021962,
     "end_time": "2024-07-02T13:20:33.781221",
     "exception": false,
     "start_time": "2024-07-02T13:20:33.759259",
     "status": "completed"
    },
    "tags": []
   },
   "outputs": [],
   "source": [
    "def evaluate(model, test_dataloader, device):\n",
    "    model.eval()\n",
    "    correct_cnt = 0\n",
    "    total = 0\n",
    "    for imgs, labels in test_dataloader:\n",
    "        imgs, labels = imgs.to(device), labels.to(device)\n",
    "        outputs = model(imgs)\n",
    "        _, pred_label = torch.max(outputs.data, 1)\n",
    "\n",
    "        correct_cnt += (pred_label == labels.data).sum().item()\n",
    "        total += torch.ones_like(labels.data).sum().item()\n",
    "    return correct_cnt / total"
   ]
  },
  {
   "cell_type": "markdown",
   "id": "13998a01",
   "metadata": {
    "id": "-6MG7AXmWFbJ",
    "papermill": {
     "duration": 0.013402,
     "end_time": "2024-07-02T13:20:33.808333",
     "exception": false,
     "start_time": "2024-07-02T13:20:33.794931",
     "status": "completed"
    },
    "tags": []
   },
   "source": [
    "# Methods\n",
    "- Baseline\n",
    "- EWC\n",
    "- SI\n",
    "- MAS\n",
    "- RWalk\n",
    "- SCP"
   ]
  },
  {
   "cell_type": "markdown",
   "id": "22c8b22a",
   "metadata": {
    "id": "NqEKECBKWFbK",
    "papermill": {
     "duration": 0.013493,
     "end_time": "2024-07-02T13:20:33.835512",
     "exception": false,
     "start_time": "2024-07-02T13:20:33.822019",
     "status": "completed"
    },
    "tags": []
   },
   "source": [
    "### Baseline\n",
    "The baseline class will do nothing in the regularization term."
   ]
  },
  {
   "cell_type": "code",
   "execution_count": 10,
   "id": "681ea58e",
   "metadata": {
    "execution": {
     "iopub.execute_input": "2024-07-02T13:20:33.864376Z",
     "iopub.status.busy": "2024-07-02T13:20:33.864064Z",
     "iopub.status.idle": "2024-07-02T13:20:33.873136Z",
     "shell.execute_reply": "2024-07-02T13:20:33.872245Z"
    },
    "id": "hi0rxYWPWFbK",
    "papermill": {
     "duration": 0.025762,
     "end_time": "2024-07-02T13:20:33.874995",
     "exception": false,
     "start_time": "2024-07-02T13:20:33.849233",
     "status": "completed"
    },
    "tags": []
   },
   "outputs": [],
   "source": [
    "# Baseline\n",
    "class baseline(object):\n",
    "  \"\"\"\n",
    "  baseline technique: do nothing in regularization term [initialize and all weight is zero]\n",
    "  \"\"\"\n",
    "  def __init__(self, model, dataloader, device):\n",
    "    self.model = model\n",
    "    self.dataloader = dataloader\n",
    "    self.device = device\n",
    "    # extract all parameters in models\n",
    "    self.params = {n: p for n, p in self.model.named_parameters() if p.requires_grad} \n",
    "    \n",
    "    # store current parameters\n",
    "    self.p_old = {} \n",
    "\n",
    "    # generate weight matrix\n",
    "    self._precision_matrices = self._calculate_importance()  \n",
    "\n",
    "    for n, p in self.params.items():\n",
    "      # keep the old parameter in self.p_old\n",
    "      self.p_old[n] = p.clone().detach() \n",
    "\n",
    "  def _calculate_importance(self):\n",
    "    precision_matrices = {} \n",
    "    # initialize weight matrix（fill zero）\n",
    "    for n, p in self.params.items(): \n",
    "      precision_matrices[n] = p.clone().detach().fill_(0)\n",
    "\n",
    "    return precision_matrices\n",
    "\n",
    "  def penalty(self, model: nn.Module):\n",
    "    loss = 0\n",
    "    for n, p in model.named_parameters():\n",
    "      _loss = self._precision_matrices[n] * (p - self.p_old[n]) ** 2\n",
    "      loss += _loss.sum()\n",
    "    return loss\n",
    "  \n",
    "  def update(self, model):\n",
    "    # do nothing\n",
    "    return"
   ]
  },
  {
   "cell_type": "code",
   "execution_count": 11,
   "id": "90841b34",
   "metadata": {
    "execution": {
     "iopub.execute_input": "2024-07-02T13:20:33.904553Z",
     "iopub.status.busy": "2024-07-02T13:20:33.904221Z",
     "iopub.status.idle": "2024-07-02T13:50:49.513822Z",
     "shell.execute_reply": "2024-07-02T13:50:49.512962Z"
    },
    "id": "N47ycrp3WFbK",
    "outputId": "0443f83f-19fe-418a-e39c-c3e95ea75bf6",
    "papermill": {
     "duration": 1815.658962,
     "end_time": "2024-07-02T13:50:49.547986",
     "exception": false,
     "start_time": "2024-07-02T13:20:33.889024",
     "status": "completed"
    },
    "tags": []
   },
   "outputs": [
    {
     "name": "stdout",
     "output_type": "stream",
     "text": [
      "RUN BASELINE\n"
     ]
    },
    {
     "name": "stderr",
     "output_type": "stream",
     "text": [
      "Task   1:   0%|          | 0/5 [00:00<?, ?it/s]\n",
      "Epoch 1, Loss: 1.0000000:   0%|          | 0/10 [00:00<?, ?it/s]\u001b[A\n",
      "Epoch 1, Loss: 1.0000000:  10%|█         | 1/10 [00:29<04:26, 29.58s/it]\u001b[A\n",
      "Epoch 1, Loss: 1.0000000:  20%|██        | 2/10 [00:58<03:55, 29.40s/it]\u001b[A\n",
      "Epoch 1, Loss: 1.0000000:  30%|███       | 3/10 [01:28<03:25, 29.29s/it]\u001b[A\n",
      "Epoch 1, Loss: 1.0000000:  40%|████      | 4/10 [01:57<02:55, 29.30s/it]\u001b[A\n",
      "Epoch 1, Loss: 1.0000000:  50%|█████     | 5/10 [02:26<02:25, 29.13s/it]\u001b[A\n",
      "Epoch 1, Loss: 1.0000000:  60%|██████    | 6/10 [02:53<01:54, 28.65s/it]\u001b[A\n",
      "Epoch 1, Loss: 1.0000000:  70%|███████   | 7/10 [03:21<01:24, 28.29s/it]\u001b[A\n",
      "Epoch 1, Loss: 1.0000000:  80%|████████  | 8/10 [03:49<00:56, 28.12s/it]\u001b[A\n",
      "Epoch 1, Loss: 1.0000000:  90%|█████████ | 9/10 [04:17<00:28, 28.08s/it]\u001b[A\n",
      "Epoch 1, Loss: 1.0000000: 100%|██████████| 10/10 [04:45<00:00, 28.08s/it]\u001b[A\n",
      "Task   2:  20%|██        | 1/5 [04:45<19:01, 285.27s/it]\n",
      "Epoch 1, Loss: 1.0000000:   0%|          | 0/10 [00:00<?, ?it/s]\u001b[A\n",
      "Epoch 1, Loss: 1.0000000:  10%|█         | 1/10 [00:31<04:44, 31.60s/it]\u001b[A\n",
      "Epoch 1, Loss: 1.0000000:  20%|██        | 2/10 [01:03<04:14, 31.78s/it]\u001b[A\n",
      "Epoch 1, Loss: 1.0000000:  30%|███       | 3/10 [01:35<03:42, 31.73s/it]\u001b[A\n",
      "Epoch 1, Loss: 1.0000000:  40%|████      | 4/10 [02:07<03:12, 32.15s/it]\u001b[A\n",
      "Epoch 1, Loss: 1.0000000:  50%|█████     | 5/10 [02:41<02:43, 32.62s/it]\u001b[A\n",
      "Epoch 1, Loss: 1.0000000:  60%|██████    | 6/10 [03:14<02:10, 32.72s/it]\u001b[A\n",
      "Epoch 1, Loss: 1.0000000:  70%|███████   | 7/10 [03:47<01:38, 32.86s/it]\u001b[A\n",
      "Epoch 1, Loss: 1.0000000:  80%|████████  | 8/10 [04:21<01:06, 33.07s/it]\u001b[A\n",
      "Epoch 1, Loss: 1.0000000:  90%|█████████ | 9/10 [04:54<00:33, 33.29s/it]\u001b[A\n",
      "Epoch 1, Loss: 1.0000000: 100%|██████████| 10/10 [05:28<00:00, 33.31s/it]\u001b[A\n",
      "Task   3:  40%|████      | 2/5 [10:13<15:31, 310.50s/it]\n",
      "Epoch 1, Loss: 1.0000000:   0%|          | 0/10 [00:00<?, ?it/s]\u001b[A\n",
      "Epoch 1, Loss: 1.0000000:  10%|█         | 1/10 [00:36<05:31, 36.83s/it]\u001b[A\n",
      "Epoch 1, Loss: 1.0000000:  20%|██        | 2/10 [01:13<04:53, 36.65s/it]\u001b[A\n",
      "Epoch 1, Loss: 1.0000000:  30%|███       | 3/10 [01:50<04:18, 36.89s/it]\u001b[A\n",
      "Epoch 1, Loss: 1.0000000:  40%|████      | 4/10 [02:27<03:41, 36.90s/it]\u001b[A\n",
      "Epoch 1, Loss: 1.0000000:  50%|█████     | 5/10 [03:04<03:04, 36.93s/it]\u001b[A\n",
      "Epoch 1, Loss: 1.0000000:  60%|██████    | 6/10 [03:40<02:27, 36.79s/it]\u001b[A\n",
      "Epoch 1, Loss: 1.0000000:  70%|███████   | 7/10 [04:16<01:49, 36.45s/it]\u001b[A\n",
      "Epoch 1, Loss: 1.0000000:  80%|████████  | 8/10 [04:52<01:12, 36.33s/it]\u001b[A\n",
      "Epoch 1, Loss: 1.0000000:  90%|█████████ | 9/10 [05:28<00:36, 36.15s/it]\u001b[A\n",
      "Epoch 1, Loss: 1.0000000: 100%|██████████| 10/10 [06:04<00:00, 36.04s/it]\u001b[A\n",
      "Task   4:  60%|██████    | 3/5 [16:17<11:10, 335.08s/it]\n",
      "Epoch 1, Loss: 1.0000000:   0%|          | 0/10 [00:00<?, ?it/s]\u001b[A\n",
      "Epoch 1, Loss: 1.0000000:  10%|█         | 1/10 [00:39<05:58, 39.86s/it]\u001b[A\n",
      "Epoch 1, Loss: 1.0000000:  20%|██        | 2/10 [01:19<05:17, 39.74s/it]\u001b[A\n",
      "Epoch 1, Loss: 1.0000000:  30%|███       | 3/10 [01:59<04:37, 39.68s/it]\u001b[A\n",
      "Epoch 1, Loss: 1.0000000:  40%|████      | 4/10 [02:38<03:57, 39.65s/it]\u001b[A\n",
      "Epoch 1, Loss: 1.0000000:  50%|█████     | 5/10 [03:18<03:18, 39.77s/it]\u001b[A\n",
      "Epoch 1, Loss: 1.0000000:  60%|██████    | 6/10 [03:58<02:39, 39.76s/it]\u001b[A\n",
      "Epoch 1, Loss: 1.0000000:  70%|███████   | 7/10 [04:38<01:59, 39.96s/it]\u001b[A\n",
      "Epoch 1, Loss: 1.0000000:  80%|████████  | 8/10 [05:17<01:19, 39.63s/it]\u001b[A\n",
      "Epoch 1, Loss: 1.0000000:  90%|█████████ | 9/10 [05:56<00:39, 39.50s/it]\u001b[A\n",
      "Epoch 1, Loss: 1.0000000: 100%|██████████| 10/10 [06:36<00:00, 39.36s/it]\u001b[A\n",
      "Task   5:  80%|████████  | 4/5 [22:53<05:59, 359.13s/it]\n",
      "Epoch 1, Loss: 1.0000000:   0%|          | 0/10 [00:00<?, ?it/s]\u001b[A\n",
      "Epoch 1, Loss: 1.0000000:  10%|█         | 1/10 [00:43<06:32, 43.64s/it]\u001b[A\n",
      "Epoch 1, Loss: 1.0000000:  20%|██        | 2/10 [01:28<05:55, 44.47s/it]\u001b[A\n",
      "Epoch 1, Loss: 1.0000000:  30%|███       | 3/10 [02:12<05:08, 44.14s/it]\u001b[A\n",
      "Epoch 1, Loss: 1.0000000:  40%|████      | 4/10 [02:55<04:23, 43.89s/it]\u001b[A\n",
      "Epoch 1, Loss: 1.0000000:  50%|█████     | 5/10 [03:39<03:38, 43.70s/it]\u001b[A\n",
      "Epoch 1, Loss: 1.0000000:  60%|██████    | 6/10 [04:22<02:54, 43.66s/it]\u001b[A\n",
      "Epoch 1, Loss: 1.0000000:  70%|███████   | 7/10 [05:07<02:11, 43.96s/it]\u001b[A\n",
      "Epoch 1, Loss: 1.0000000:  80%|████████  | 8/10 [05:52<01:28, 44.34s/it]\u001b[A\n",
      "Epoch 1, Loss: 1.0000000:  90%|█████████ | 9/10 [06:38<00:44, 44.72s/it]\u001b[A\n",
      "Epoch 1, Loss: 1.0000000: 100%|██████████| 10/10 [07:21<00:00, 44.33s/it]\u001b[A\n",
      "Task   6: 100%|██████████| 5/5 [30:15<00:00, 363.08s/it]"
     ]
    },
    {
     "name": "stdout",
     "output_type": "stream",
     "text": [
      "[92.64, 94.46, 95.72, 96.45, 96.65, 97.08, 97.54, 97.6, 97.50999999999999, 97.87, 95.675, 95.695, 95.55, 95.67999999999999, 95.59, 94.97500000000001, 94.73, 95.39500000000001, 95.315, 95.245, 91.26333333333334, 90.53, 90.34, 89.48, 89.34666666666668, 86.83999999999999, 88.56666666666668, 87.48333333333332, 87.97666666666667, 87.42999999999999, 82.9225, 80.535, 80.39, 79.735, 79.5, 79.2875, 80.64, 79.5175, 78.935, 78.255, 74.648, 73.038, 73.702, 72.202, 71.956, 71.428, 71.372, 71.20599999999999, 70.67599999999999, 69.46600000000001]\n",
      "==================================================================================================\n"
     ]
    },
    {
     "name": "stderr",
     "output_type": "stream",
     "text": [
      "\n"
     ]
    }
   ],
   "source": [
    "# Baseline\n",
    "print(\"RUN BASELINE\")\n",
    "model = Model()\n",
    "model = model.to(device)\n",
    "optimizer = torch.optim.Adam(model.parameters(), lr=args.lr)\n",
    "\n",
    "# initialize lifelong learning object (baseline class) without adding any regularization term.\n",
    "lll_object=baseline(model=model, dataloader=None, device=device)\n",
    "lll_lambda=0.0\n",
    "baseline_acc=[]\n",
    "task_bar = trange(len(train_dataloaders),desc=\"Task   1\")\n",
    "\n",
    "# iterate training on each task continually.\n",
    "for train_indexes in task_bar:\n",
    "  # Train each task\n",
    "  model, _, acc_list = train(model, optimizer, train_dataloaders[train_indexes], args.epochs_per_task, \n",
    "                  lll_object, lll_lambda, evaluate=evaluate,device=device, test_dataloaders=test_dataloaders[:train_indexes+1])\n",
    "  \n",
    "  # get model weight to baseline class and do nothing!\n",
    "  lll_object=baseline(model=model, dataloader=train_dataloaders[train_indexes],device=device)\n",
    "  \n",
    "  # new a optimizer\n",
    "  optimizer = torch.optim.Adam(model.parameters(), lr=args.lr)\n",
    "  \n",
    "  # Collect average accuracy in each epoch\n",
    "  baseline_acc.extend(acc_list)\n",
    "  \n",
    "  # display the information of the next task.\n",
    "  task_bar.set_description_str(f\"Task  {train_indexes+2:2}\")\n",
    "\n",
    "# average accuracy in each task per epoch! \n",
    "print(baseline_acc)\n",
    "print(\"==================================================================================================\")"
   ]
  },
  {
   "cell_type": "markdown",
   "id": "b3af7786",
   "metadata": {
    "id": "AD1sHoBcWFbK",
    "papermill": {
     "duration": 0.028137,
     "end_time": "2024-07-02T13:50:49.604325",
     "exception": false,
     "start_time": "2024-07-02T13:50:49.576188",
     "status": "completed"
    },
    "tags": []
   },
   "source": [
    "### EWC\n",
    "\n",
    "Elastic Weight Consolidation\n",
    "\n",
    "The ewc class applied EWC algorithm to calculate the regularization term. The central concept is included in Prof.Hung-yi's lectures. Here we will focus on the algorithm of EWC.\n",
    "\n",
    "In this assignment, we want to let our model learn 10 tasks successively. Here we show a simple example that lets the model learn 2 tasks(task A and task B) successively.\n",
    "\n",
    "In the EWC algorithm, the definition of the loss function is shown below:\n",
    " $$\\mathcal{L}_B = \\mathcal{L}(\\theta) + \\sum_{i} \\frac{\\lambda}{2} F_i (\\theta_{i} - \\theta_{A,i}^{*})^2  $$\n",
    "  \n",
    "Assume we have a neural network with more than two parameters.\n",
    "\n",
    "$F_i$ corresponds to the $i^{th}$ guard in Prof. Hung-yi's lecture. Please do not modify this parameter, because it's important to task A.\n",
    "\n",
    "The definition of $F$ is shown below.\n",
    "$$ F = [ \\nabla \\log(p(y_n | x_n, \\theta_{A}^{*})) \\nabla \\log(p(y_n | x_n, \\theta_{A}^{*}))^T ] $$ \n",
    "\n",
    "We only take the diagonal value of the matrix to approximate each parameter's $F_i$.\n",
    "\n",
    "The detail information and derivation are shown in 2.4.1 and 2.4 of [Continual Learning in Neural\n",
    "Networks](https://arxiv.org/pdf/1910.02718.pdf)\n",
    "\n",
    "For You Information: [Elastic Weight Consolidation](https://arxiv.org/pdf/1612.00796.pdf)"
   ]
  },
  {
   "cell_type": "code",
   "execution_count": 12,
   "id": "e3803259",
   "metadata": {
    "execution": {
     "iopub.execute_input": "2024-07-02T13:50:49.662488Z",
     "iopub.status.busy": "2024-07-02T13:50:49.662151Z",
     "iopub.status.idle": "2024-07-02T13:50:49.675896Z",
     "shell.execute_reply": "2024-07-02T13:50:49.675164Z"
    },
    "id": "qy-ZmOFuWFbL",
    "papermill": {
     "duration": 0.045142,
     "end_time": "2024-07-02T13:50:49.677704",
     "exception": false,
     "start_time": "2024-07-02T13:50:49.632562",
     "status": "completed"
    },
    "tags": []
   },
   "outputs": [],
   "source": [
    "# EWC\n",
    "class ewc(object):\n",
    "  \"\"\"\n",
    "  @article{kirkpatrick2017overcoming,\n",
    "      title={Overcoming catastrophic forgetting in neural networks},\n",
    "      author={Kirkpatrick, James and Pascanu, Razvan and Rabinowitz, Neil and Veness, Joel and Desjardins, Guillaume and Rusu, Andrei A and Milan, Kieran and Quan, John and Ramalho, Tiago and Grabska-Barwinska, Agnieszka and others},\n",
    "      journal={Proceedings of the national academy of sciences},\n",
    "      year={2017},\n",
    "      url={https://arxiv.org/abs/1612.00796}\n",
    "  }\n",
    "  \"\"\"\n",
    "  def __init__(self, model, dataloader, device, prev_guards=[None]):\n",
    "    self.model = model\n",
    "    self.dataloader = dataloader\n",
    "    self.device = device\n",
    "    # extract all parameters in models\n",
    "    self.params = {n: p for n, p in self.model.named_parameters() if p.requires_grad} \n",
    "    \n",
    "    # initialize parameters\n",
    "    self.p_old = {}\n",
    "    # save previous guards\n",
    "    self.previous_guards_list = prev_guards\n",
    "\n",
    "    # generate Fisher (F) matrix for EWC\n",
    "    self._precision_matrices = self._calculate_importance()                   \n",
    "\n",
    "    # keep the old parameter in self.p_old\n",
    "    for n, p in self.params.items():\n",
    "      self.p_old[n] = p.clone().detach()       \n",
    "\n",
    "  def _calculate_importance(self):\n",
    "    precision_matrices = {}\n",
    "    # initialize Fisher (F) matrix（all fill zero）and add previous guards\n",
    "    for n, p in self.params.items(): \n",
    "      precision_matrices[n] = p.clone().detach().fill_(0)                 \n",
    "      for i in range(len(self.previous_guards_list)):\n",
    "        if self.previous_guards_list[i]:\n",
    "          precision_matrices[n] += self.previous_guards_list[i][n]\n",
    "\n",
    "    self.model.eval()\n",
    "    if self.dataloader is not None:\n",
    "      number_data = len(self.dataloader)\n",
    "      for data in self.dataloader:\n",
    "        self.model.zero_grad()\n",
    "        # get image data\n",
    "        input = data[0].to(self.device)\n",
    "          \n",
    "        # image data forward model\n",
    "        output = self.model(input)\n",
    "          \n",
    "        # Simply use groud truth label of dataset.  \n",
    "        label = data[1].to(self.device)\n",
    "          \n",
    "        # generate Fisher(F) matrix for EWC     \n",
    "        loss = F.nll_loss(F.log_softmax(output, dim=1), label)\n",
    "        loss.backward()   \n",
    "\n",
    "        for n, p in self.model.named_parameters():\n",
    "          # get the gradient of each parameter and square it, then average it in all validation set.                          \n",
    "          precision_matrices[n].data += p.grad.data ** 2 / number_data   \n",
    "                                                                \n",
    "      precision_matrices = {n: p for n, p in precision_matrices.items()}\n",
    "    return precision_matrices\n",
    "\n",
    "  def penalty(self, model: nn.Module):\n",
    "    loss = 0\n",
    "    for n, p in model.named_parameters():\n",
    "      # generate the final regularization term by the ewc weight (self._precision_matrices[n]) and the square of weight difference ((p - self.p_old[n]) ** 2).  \n",
    "      _loss = self._precision_matrices[n] * (p - self.p_old[n]) ** 2\n",
    "      loss += _loss.sum()\n",
    "    return loss\n",
    "  \n",
    "  def update(self, model):\n",
    "    # do nothing\n",
    "    return "
   ]
  },
  {
   "cell_type": "code",
   "execution_count": 13,
   "id": "59880f8a",
   "metadata": {
    "execution": {
     "iopub.execute_input": "2024-07-02T13:50:49.736793Z",
     "iopub.status.busy": "2024-07-02T13:50:49.736482Z",
     "iopub.status.idle": "2024-07-02T14:22:23.157356Z",
     "shell.execute_reply": "2024-07-02T14:22:23.156438Z"
    },
    "id": "FRIS2se1WFbL",
    "papermill": {
     "duration": 1893.45364,
     "end_time": "2024-07-02T14:22:23.160229",
     "exception": false,
     "start_time": "2024-07-02T13:50:49.706589",
     "status": "completed"
    },
    "tags": []
   },
   "outputs": [
    {
     "name": "stdout",
     "output_type": "stream",
     "text": [
      "RUN EWC\n"
     ]
    },
    {
     "name": "stderr",
     "output_type": "stream",
     "text": [
      "Task   1:   0%|          | 0/5 [00:00<?, ?it/s]\n",
      "Epoch 1, Loss: 1.0000000:   0%|          | 0/10 [00:00<?, ?it/s]\u001b[A\n",
      "Epoch 1, Loss: 1.0000000:  10%|█         | 1/10 [00:27<04:09, 27.71s/it]\u001b[A\n",
      "Epoch 1, Loss: 1.0000000:  20%|██        | 2/10 [00:55<03:42, 27.84s/it]\u001b[A\n",
      "Epoch 1, Loss: 1.0000000:  30%|███       | 3/10 [01:23<03:14, 27.81s/it]\u001b[A\n",
      "Epoch 1, Loss: 1.0000000:  40%|████      | 4/10 [01:51<02:48, 28.08s/it]\u001b[A\n",
      "Epoch 1, Loss: 1.0000000:  50%|█████     | 5/10 [02:20<02:20, 28.16s/it]\u001b[A\n",
      "Epoch 1, Loss: 1.0000000:  60%|██████    | 6/10 [02:48<01:52, 28.13s/it]\u001b[A\n",
      "Epoch 1, Loss: 1.0000000:  70%|███████   | 7/10 [03:16<01:24, 28.10s/it]\u001b[A\n",
      "Epoch 1, Loss: 1.0000000:  80%|████████  | 8/10 [03:43<00:55, 27.96s/it]\u001b[A\n",
      "Epoch 1, Loss: 1.0000000:  90%|█████████ | 9/10 [04:11<00:27, 27.97s/it]\u001b[A\n",
      "Epoch 1, Loss: 1.0000000: 100%|██████████| 10/10 [04:39<00:00, 27.89s/it]\u001b[A\n",
      "Task   2:  20%|██        | 1/5 [05:02<20:10, 302.66s/it]\n",
      "Epoch 1, Loss: 1.0000000:   0%|          | 0/10 [00:00<?, ?it/s]\u001b[A\n",
      "Epoch 1, Loss: 1.0000000:  10%|█         | 1/10 [00:31<04:43, 31.51s/it]\u001b[A\n",
      "Epoch 1, Loss: 1.0000000:  20%|██        | 2/10 [01:03<04:14, 31.79s/it]\u001b[A\n",
      "Epoch 1, Loss: 1.0000000:  30%|███       | 3/10 [01:34<03:41, 31.60s/it]\u001b[A\n",
      "Epoch 1, Loss: 1.0000000:  40%|████      | 4/10 [02:05<03:08, 31.40s/it]\u001b[A\n",
      "Epoch 1, Loss: 1.0000000:  50%|█████     | 5/10 [02:37<02:37, 31.57s/it]\u001b[A\n",
      "Epoch 1, Loss: 1.0000000:  60%|██████    | 6/10 [03:09<02:05, 31.45s/it]\u001b[A\n",
      "Epoch 1, Loss: 1.0000000:  70%|███████   | 7/10 [03:40<01:34, 31.38s/it]\u001b[A\n",
      "Epoch 1, Loss: 1.0000000:  80%|████████  | 8/10 [04:11<01:02, 31.23s/it]\u001b[A\n",
      "Epoch 1, Loss: 1.0000000:  90%|█████████ | 9/10 [04:41<00:31, 31.06s/it]\u001b[A\n",
      "Epoch 1, Loss: 1.0000000: 100%|██████████| 10/10 [05:12<00:00, 31.00s/it]\u001b[A\n",
      "Task   3:  40%|████      | 2/5 [10:38<16:05, 321.97s/it]\n",
      "Epoch 1, Loss: 1.0000000:   0%|          | 0/10 [00:00<?, ?it/s]\u001b[A\n",
      "Epoch 1, Loss: 1.0000000:  10%|█         | 1/10 [00:34<05:10, 34.47s/it]\u001b[A\n",
      "Epoch 1, Loss: 1.0000000:  20%|██        | 2/10 [01:08<04:35, 34.42s/it]\u001b[A\n",
      "Epoch 1, Loss: 1.0000000:  30%|███       | 3/10 [01:43<04:01, 34.46s/it]\u001b[A\n",
      "Epoch 1, Loss: 1.0000000:  40%|████      | 4/10 [02:18<03:27, 34.58s/it]\u001b[A\n",
      "Epoch 1, Loss: 1.0000000:  50%|█████     | 5/10 [02:53<02:53, 34.78s/it]\u001b[A\n",
      "Epoch 1, Loss: 1.0000000:  60%|██████    | 6/10 [03:28<02:19, 34.81s/it]\u001b[A\n",
      "Epoch 1, Loss: 1.0000000:  70%|███████   | 7/10 [04:02<01:44, 34.69s/it]\u001b[A\n",
      "Epoch 1, Loss: 1.0000000:  80%|████████  | 8/10 [04:37<01:09, 34.81s/it]\u001b[A\n",
      "Epoch 1, Loss: 1.0000000:  90%|█████████ | 9/10 [05:12<00:34, 34.77s/it]\u001b[A\n",
      "Epoch 1, Loss: 1.0000000: 100%|██████████| 10/10 [05:46<00:00, 34.71s/it]\u001b[A\n",
      "Task   4:  60%|██████    | 3/5 [16:47<11:27, 343.81s/it]\n",
      "Epoch 1, Loss: 1.0000000:   0%|          | 0/10 [00:00<?, ?it/s]\u001b[A\n",
      "Epoch 1, Loss: 1.0000000:  10%|█         | 1/10 [00:38<05:44, 38.32s/it]\u001b[A\n",
      "Epoch 1, Loss: 1.0000000:  20%|██        | 2/10 [01:16<05:07, 38.38s/it]\u001b[A\n",
      "Epoch 1, Loss: 1.0000000:  30%|███       | 3/10 [01:55<04:29, 38.47s/it]\u001b[A\n",
      "Epoch 1, Loss: 1.0000000:  40%|████      | 4/10 [02:34<03:51, 38.65s/it]\u001b[A\n",
      "Epoch 1, Loss: 1.0000000:  50%|█████     | 5/10 [03:12<03:12, 38.54s/it]\u001b[A\n",
      "Epoch 1, Loss: 1.0000000:  60%|██████    | 6/10 [03:50<02:33, 38.49s/it]\u001b[A\n",
      "Epoch 1, Loss: 1.0000000:  70%|███████   | 7/10 [04:29<01:55, 38.40s/it]\u001b[A\n",
      "Epoch 1, Loss: 1.0000000:  80%|████████  | 8/10 [05:09<01:17, 38.92s/it]\u001b[A\n",
      "Epoch 1, Loss: 1.0000000:  90%|█████████ | 9/10 [05:48<00:39, 39.02s/it]\u001b[A\n",
      "Epoch 1, Loss: 1.0000000: 100%|██████████| 10/10 [06:28<00:00, 39.29s/it]\u001b[A\n",
      "Task   5:  80%|████████  | 4/5 [23:40<06:10, 370.87s/it]\n",
      "Epoch 1, Loss: 1.0000000:   0%|          | 0/10 [00:00<?, ?it/s]\u001b[A\n",
      "Epoch 1, Loss: 1.0000000:  10%|█         | 1/10 [00:44<06:37, 44.21s/it]\u001b[A\n",
      "Epoch 1, Loss: 1.0000000:  20%|██        | 2/10 [01:30<06:05, 45.63s/it]\u001b[A\n",
      "Epoch 1, Loss: 1.0000000:  30%|███       | 3/10 [02:16<05:18, 45.54s/it]\u001b[A\n",
      "Epoch 1, Loss: 1.0000000:  40%|████      | 4/10 [03:01<04:32, 45.44s/it]\u001b[A\n",
      "Epoch 1, Loss: 1.0000000:  50%|█████     | 5/10 [03:46<03:46, 45.34s/it]\u001b[A\n",
      "Epoch 1, Loss: 1.0000000:  60%|██████    | 6/10 [04:32<03:01, 45.35s/it]\u001b[A\n",
      "Epoch 1, Loss: 1.0000000:  70%|███████   | 7/10 [05:16<02:15, 45.08s/it]\u001b[A\n",
      "Epoch 1, Loss: 1.0000000:  80%|████████  | 8/10 [05:59<01:29, 44.54s/it]\u001b[A\n",
      "Epoch 1, Loss: 1.0000000:  90%|█████████ | 9/10 [06:44<00:44, 44.54s/it]\u001b[A\n",
      "Epoch 1, Loss: 1.0000000: 100%|██████████| 10/10 [07:28<00:00, 44.47s/it]\u001b[A\n",
      "Task   6: 100%|██████████| 5/5 [31:33<00:00, 378.68s/it]"
     ]
    },
    {
     "name": "stdout",
     "output_type": "stream",
     "text": [
      "[92.25999999999999, 94.58, 95.86, 96.27, 96.82, 97.11999999999999, 97.38, 97.56, 97.67, 97.81, 96.20500000000001, 95.63, 95.65, 95.855, 95.68, 95.535, 95.705, 95.32000000000001, 95.06, 94.83999999999999, 91.24, 89.52333333333333, 88.79666666666667, 88.25666666666666, 87.61, 87.59333333333333, 87.97333333333333, 87.71666666666667, 87.05999999999999, 87.11000000000001, 82.5725, 80.975, 79.9375, 81.03750000000001, 78.985, 79.5375, 78.745, 78.715, 79.325, 79.36, 74.954, 73.88600000000001, 72.208, 71.57, 72.24600000000001, 71.608, 72.85999999999999, 71.55199999999999, 71.218, 69.748]\n",
      "==================================================================================================\n"
     ]
    },
    {
     "name": "stderr",
     "output_type": "stream",
     "text": [
      "\n"
     ]
    }
   ],
   "source": [
    "# EWC\n",
    "print(\"RUN EWC\")\n",
    "model = Model()\n",
    "model = model.to(device)\n",
    "# initialize optimizer\n",
    "optimizer = torch.optim.Adam(model.parameters(), lr=args.lr)\n",
    "\n",
    "# initialize lifelong learning object for EWC\n",
    "lll_object=ewc(model=model, dataloader=None, device=device)\n",
    "\n",
    "# setup the coefficient value of regularization term.\n",
    "lll_lambda=100\n",
    "ewc_acc= []\n",
    "task_bar = trange(len(train_dataloaders),desc=\"Task   1\")\n",
    "prev_guards = []\n",
    "\n",
    "# iterate training on each task continually.\n",
    "for train_indexes in task_bar:\n",
    "  # Train Each Task\n",
    "  model, _, acc_list = train(model, optimizer, train_dataloaders[train_indexes], args.epochs_per_task, lll_object, lll_lambda, evaluate=evaluate,device=device, test_dataloaders=test_dataloaders[:train_indexes+1])\n",
    "  \n",
    "  # get model weight and calculate guidance for each weight\n",
    "  prev_guards.append(lll_object._precision_matrices)\n",
    "  lll_object=ewc(model=model, dataloader=train_dataloaders[train_indexes], device=device, prev_guards=prev_guards)\n",
    "\n",
    "  # new a Optimizer\n",
    "  optimizer = torch.optim.Adam(model.parameters(), lr=args.lr)\n",
    "\n",
    "  # collect average accuracy in each epoch\n",
    "  ewc_acc.extend(acc_list)\n",
    "\n",
    "  # Update tqdm displayer\n",
    "  task_bar.set_description_str(f\"Task  {train_indexes+2:2}\")\n",
    "\n",
    "# average accuracy in each task per epoch!     \n",
    "print(ewc_acc)\n",
    "print(\"==================================================================================================\")"
   ]
  },
  {
   "cell_type": "markdown",
   "id": "1e7dc8bd",
   "metadata": {
    "id": "7OTZLwxrWFbL",
    "papermill": {
     "duration": 0.043407,
     "end_time": "2024-07-02T14:22:23.247688",
     "exception": false,
     "start_time": "2024-07-02T14:22:23.204281",
     "status": "completed"
    },
    "tags": []
   },
   "source": [
    "### MAS\n",
    "Memory Aware Synapses\n",
    "\n",
    "The mas class applied MAS algorithm to calculate the regularization term.\n",
    "\n",
    "The concept of MAS is similar to EWC, the only difference is the calculation of the important weight. \n",
    "The details are mentioned in the following blocks.\n",
    "\n",
    "MAS:\n",
    "\n",
    "In MAS, the Loss function is shown below, the model learns task A before it learned task B.\n",
    "\n",
    "$$\\mathcal{L}_B = \\mathcal{L}(\\theta) + \\sum_{i} \\frac{\\lambda}{2} \\Omega_i (\\theta_{i} - \\theta_{A,i}^{*})^2$$\n",
    "\n",
    "Compare with EWC, the $F_i$ in the loss function is replaced with $\\Omega_i$ in the following function.\n",
    "\n",
    "$$\\Omega_i = || \\frac{\\partial \\ell_2^2(M(x_k; \\theta))}{\\partial \\theta_i} || $$ \n",
    "\n",
    "$x_k$ is the sample data of the previous task. So the $\\Omega$ is obtained gradients of the squared L2-norm of the learned network output.\n",
    "\n",
    "The method proposed in the paper is the local version by taking squared L2-norm outputs from each layer of the model.\n",
    "\n",
    "Here we only want you to implement the global version by taking outputs from the last layer of the model.\n",
    "\n",
    "For Your Information: \n",
    "[Memory Aware Synapses](https://arxiv.org/pdf/1711.09601.pdf)"
   ]
  },
  {
   "cell_type": "code",
   "execution_count": 14,
   "id": "46af6780",
   "metadata": {
    "execution": {
     "iopub.execute_input": "2024-07-02T14:22:23.337295Z",
     "iopub.status.busy": "2024-07-02T14:22:23.336436Z",
     "iopub.status.idle": "2024-07-02T14:22:23.349996Z",
     "shell.execute_reply": "2024-07-02T14:22:23.349264Z"
    },
    "id": "kg5tuGdDWFbM",
    "papermill": {
     "duration": 0.060719,
     "end_time": "2024-07-02T14:22:23.351830",
     "exception": false,
     "start_time": "2024-07-02T14:22:23.291111",
     "status": "completed"
    },
    "tags": []
   },
   "outputs": [],
   "source": [
    "class mas(object):\n",
    "  \"\"\"\n",
    "  @article{aljundi2017memory,\n",
    "      title={Memory Aware Synapses: Learning what (not) to forget},\n",
    "      author={Aljundi, Rahaf and Babiloni, Francesca and Elhoseiny, Mohamed and Rohrbach, Marcus and Tuytelaars, Tinne},\n",
    "      booktitle={ECCV},\n",
    "      year={2018},\n",
    "      url={https://eccv2018.org/openaccess/content_ECCV_2018/papers/Rahaf_Aljundi_Memory_Aware_Synapses_ECCV_2018_paper.pdf}\n",
    "  }\n",
    "  \"\"\"\n",
    "  def __init__(self, model: nn.Module, dataloader, device, prev_guards=[None]):\n",
    "    self.model = model \n",
    "    self.dataloader = dataloader\n",
    "    # extract all parameters in models\n",
    "    self.params = {n: p for n, p in self.model.named_parameters() if p.requires_grad} \n",
    "    \n",
    "    # initialize parameters\n",
    "    self.p_old = {} \n",
    "    \n",
    "    self.device = device\n",
    "\n",
    "    # save previous guards\n",
    "    self.previous_guards_list = prev_guards\n",
    "    \n",
    "    # generate Omega(Ω) matrix for MAS\n",
    "    self._precision_matrices = self.calculate_importance() \n",
    "\n",
    "    # keep the old parameter in self.p_old\n",
    "    for n, p in self.params.items():\n",
    "      self.p_old[n] = p.clone().detach() \n",
    "  \n",
    "  def calculate_importance(self):\n",
    "    precision_matrices = {}\n",
    "    # initialize Omega(Ω) matrix（all filled zero）\n",
    "    for n, p in self.params.items():\n",
    "      precision_matrices[n] = p.clone().detach().fill_(0) \n",
    "      for i in range(len(self.previous_guards_list)):\n",
    "        if self.previous_guards_list[i]:\n",
    "          precision_matrices[n] += self.previous_guards_list[i][n]\n",
    "\n",
    "    self.model.eval()\n",
    "    if self.dataloader is not None:\n",
    "      num_data = len(self.dataloader)\n",
    "      for data in self.dataloader:\n",
    "        self.model.zero_grad()\n",
    "        output = self.model(data[0].to(self.device))\n",
    "        ################################################################\n",
    "        #####  TODO: generate Omega(Ω) matrix for MAS.  #####   \n",
    "        ################################################################\n",
    "        ################################################################\n",
    "        l2_norm = output.norm(2, dim=1).pow(2).mean()\n",
    "        l2_norm.backward()   \n",
    "        for n, p in self.model.named_parameters():                    \n",
    "              precision_matrices[n].data += p.grad.data ** 2 / num_data\n",
    "    \n",
    "      precision_matrices = {n: p for n, p in precision_matrices.items()}\n",
    "    return precision_matrices\n",
    "\n",
    "  def penalty(self, model: nn.Module):\n",
    "    loss = 0\n",
    "    for n, p in model.named_parameters():\n",
    "      _loss = self._precision_matrices[n] * (p - self.p_old[n]) ** 2\n",
    "      loss += _loss.sum()\n",
    "    return loss\n",
    "\n",
    "  def update(self, model):\n",
    "    # do nothing\n",
    "    return "
   ]
  },
  {
   "cell_type": "code",
   "execution_count": 15,
   "id": "658a9c47",
   "metadata": {
    "execution": {
     "iopub.execute_input": "2024-07-02T14:22:23.442355Z",
     "iopub.status.busy": "2024-07-02T14:22:23.441536Z",
     "iopub.status.idle": "2024-07-02T14:54:31.397515Z",
     "shell.execute_reply": "2024-07-02T14:54:31.396453Z"
    },
    "id": "p0d1DUBqWFbM",
    "papermill": {
     "duration": 1928.004165,
     "end_time": "2024-07-02T14:54:31.401005",
     "exception": false,
     "start_time": "2024-07-02T14:22:23.396840",
     "status": "completed"
    },
    "tags": []
   },
   "outputs": [
    {
     "name": "stdout",
     "output_type": "stream",
     "text": [
      "RUN MAS\n"
     ]
    },
    {
     "name": "stderr",
     "output_type": "stream",
     "text": [
      "Task   1:   0%|          | 0/5 [00:00<?, ?it/s]\n",
      "Epoch 1, Loss: 1.0000000:   0%|          | 0/10 [00:00<?, ?it/s]\u001b[A\n",
      "Epoch 1, Loss: 1.0000000:  10%|█         | 1/10 [00:28<04:14, 28.31s/it]\u001b[A\n",
      "Epoch 1, Loss: 1.0000000:  20%|██        | 2/10 [00:56<03:47, 28.44s/it]\u001b[A\n",
      "Epoch 1, Loss: 1.0000000:  30%|███       | 3/10 [01:25<03:19, 28.48s/it]\u001b[A\n",
      "Epoch 1, Loss: 1.0000000:  40%|████      | 4/10 [01:54<02:51, 28.62s/it]\u001b[A\n",
      "Epoch 1, Loss: 1.0000000:  50%|█████     | 5/10 [02:23<02:23, 28.70s/it]\u001b[A\n",
      "Epoch 1, Loss: 1.0000000:  60%|██████    | 6/10 [02:51<01:54, 28.60s/it]\u001b[A\n",
      "Epoch 1, Loss: 1.0000000:  70%|███████   | 7/10 [03:20<01:25, 28.60s/it]\u001b[A\n",
      "Epoch 1, Loss: 1.0000000:  80%|████████  | 8/10 [03:48<00:57, 28.60s/it]\u001b[A\n",
      "Epoch 1, Loss: 1.0000000:  90%|█████████ | 9/10 [04:17<00:28, 28.67s/it]\u001b[A\n",
      "Epoch 1, Loss: 1.0000000: 100%|██████████| 10/10 [04:46<00:00, 28.66s/it]\u001b[A\n",
      "Task   2:  20%|██        | 1/5 [05:10<20:42, 310.70s/it]\n",
      "Epoch 1, Loss: 1.0000000:   0%|          | 0/10 [00:00<?, ?it/s]\u001b[A\n",
      "Epoch 1, Loss: 1.0000000:  10%|█         | 1/10 [00:32<04:54, 32.77s/it]\u001b[A\n",
      "Epoch 1, Loss: 1.0000000:  20%|██        | 2/10 [01:05<04:23, 32.93s/it]\u001b[A\n",
      "Epoch 1, Loss: 1.0000000:  30%|███       | 3/10 [01:38<03:50, 32.98s/it]\u001b[A\n",
      "Epoch 1, Loss: 1.0000000:  40%|████      | 4/10 [02:11<03:16, 32.67s/it]\u001b[A\n",
      "Epoch 1, Loss: 1.0000000:  50%|█████     | 5/10 [02:43<02:42, 32.54s/it]\u001b[A\n",
      "Epoch 1, Loss: 1.0000000:  60%|██████    | 6/10 [03:14<02:08, 32.22s/it]\u001b[A\n",
      "Epoch 1, Loss: 1.0000000:  70%|███████   | 7/10 [03:46<01:36, 32.09s/it]\u001b[A\n",
      "Epoch 1, Loss: 1.0000000:  80%|████████  | 8/10 [04:18<01:04, 32.04s/it]\u001b[A\n",
      "Epoch 1, Loss: 1.0000000:  90%|█████████ | 9/10 [04:51<00:32, 32.20s/it]\u001b[A\n",
      "Epoch 1, Loss: 1.0000000: 100%|██████████| 10/10 [05:23<00:00, 32.27s/it]\u001b[A\n",
      "Task   3:  40%|████      | 2/5 [10:58<16:37, 332.47s/it]\n",
      "Epoch 1, Loss: 1.0000000:   0%|          | 0/10 [00:00<?, ?it/s]\u001b[A\n",
      "Epoch 1, Loss: 1.0000000:  10%|█         | 1/10 [00:37<05:33, 37.03s/it]\u001b[A\n",
      "Epoch 1, Loss: 1.0000000:  20%|██        | 2/10 [01:13<04:52, 36.53s/it]\u001b[A\n",
      "Epoch 1, Loss: 1.0000000:  30%|███       | 3/10 [01:48<04:11, 35.89s/it]\u001b[A\n",
      "Epoch 1, Loss: 1.0000000:  40%|████      | 4/10 [02:23<03:33, 35.53s/it]\u001b[A\n",
      "Epoch 1, Loss: 1.0000000:  50%|█████     | 5/10 [02:58<02:57, 35.54s/it]\u001b[A\n",
      "Epoch 1, Loss: 1.0000000:  60%|██████    | 6/10 [03:34<02:21, 35.45s/it]\u001b[A\n",
      "Epoch 1, Loss: 1.0000000:  70%|███████   | 7/10 [04:09<01:46, 35.53s/it]\u001b[A\n",
      "Epoch 1, Loss: 1.0000000:  80%|████████  | 8/10 [04:45<01:11, 35.54s/it]\u001b[A\n",
      "Epoch 1, Loss: 1.0000000:  90%|█████████ | 9/10 [05:21<00:35, 35.71s/it]\u001b[A\n",
      "Epoch 1, Loss: 1.0000000: 100%|██████████| 10/10 [05:57<00:00, 35.69s/it]\u001b[A\n",
      "Task   4:  60%|██████    | 3/5 [17:19<11:49, 354.68s/it]\n",
      "Epoch 1, Loss: 1.0000000:   0%|          | 0/10 [00:00<?, ?it/s]\u001b[A\n",
      "Epoch 1, Loss: 1.0000000:  10%|█         | 1/10 [00:39<05:53, 39.29s/it]\u001b[A\n",
      "Epoch 1, Loss: 1.0000000:  20%|██        | 2/10 [01:17<05:11, 38.91s/it]\u001b[A\n",
      "Epoch 1, Loss: 1.0000000:  30%|███       | 3/10 [01:56<04:32, 38.97s/it]\u001b[A\n",
      "Epoch 1, Loss: 1.0000000:  40%|████      | 4/10 [02:36<03:55, 39.24s/it]\u001b[A\n",
      "Epoch 1, Loss: 1.0000000:  50%|█████     | 5/10 [03:16<03:16, 39.39s/it]\u001b[A\n",
      "Epoch 1, Loss: 1.0000000:  60%|██████    | 6/10 [03:55<02:37, 39.46s/it]\u001b[A\n",
      "Epoch 1, Loss: 1.0000000:  70%|███████   | 7/10 [04:36<01:59, 39.78s/it]\u001b[A\n",
      "Epoch 1, Loss: 1.0000000:  80%|████████  | 8/10 [05:17<01:20, 40.10s/it]\u001b[A\n",
      "Epoch 1, Loss: 1.0000000:  90%|█████████ | 9/10 [05:57<00:40, 40.18s/it]\u001b[A\n",
      "Epoch 1, Loss: 1.0000000: 100%|██████████| 10/10 [06:37<00:00, 40.19s/it]\u001b[A\n",
      "Task   5:  80%|████████  | 4/5 [24:21<06:21, 381.27s/it]\n",
      "Epoch 1, Loss: 1.0000000:   0%|          | 0/10 [00:00<?, ?it/s]\u001b[A\n",
      "Epoch 1, Loss: 1.0000000:  10%|█         | 1/10 [00:44<06:42, 44.73s/it]\u001b[A\n",
      "Epoch 1, Loss: 1.0000000:  20%|██        | 2/10 [01:29<05:58, 44.81s/it]\u001b[A\n",
      "Epoch 1, Loss: 1.0000000:  30%|███       | 3/10 [02:14<05:15, 45.02s/it]\u001b[A\n",
      "Epoch 1, Loss: 1.0000000:  40%|████      | 4/10 [02:59<04:29, 44.92s/it]\u001b[A\n",
      "Epoch 1, Loss: 1.0000000:  50%|█████     | 5/10 [03:44<03:44, 44.86s/it]\u001b[A\n",
      "Epoch 1, Loss: 1.0000000:  60%|██████    | 6/10 [04:28<02:58, 44.67s/it]\u001b[A\n",
      "Epoch 1, Loss: 1.0000000:  70%|███████   | 7/10 [05:12<02:13, 44.43s/it]\u001b[A\n",
      "Epoch 1, Loss: 1.0000000:  80%|████████  | 8/10 [05:56<01:28, 44.35s/it]\u001b[A\n",
      "Epoch 1, Loss: 1.0000000:  90%|█████████ | 9/10 [06:39<00:43, 43.97s/it]\u001b[A\n",
      "Epoch 1, Loss: 1.0000000: 100%|██████████| 10/10 [07:22<00:00, 43.66s/it]\u001b[A\n",
      "Task   6: 100%|██████████| 5/5 [32:07<00:00, 385.59s/it]"
     ]
    },
    {
     "name": "stdout",
     "output_type": "stream",
     "text": [
      "[92.36999999999999, 94.57, 95.36, 96.32, 96.93, 97.00999999999999, 97.39, 97.53, 97.76, 97.78999999999999, 95.84, 96.17999999999999, 96.61999999999999, 95.45, 96.07, 96.045, 96.475, 96.28, 96.61, 95.89, 92.02666666666667, 92.31000000000002, 92.48333333333333, 92.11666666666667, 92.22, 92.03333333333332, 91.26333333333334, 92.39666666666668, 91.97999999999999, 92.20666666666665, 87.0525, 86.1925, 86.405, 85.735, 86.8375, 87.395, 86.63749999999999, 86.805, 86.495, 88.39250000000001, 82.73600000000002, 81.35600000000001, 84.01200000000001, 84.11, 83.44, 82.64600000000002, 81.75800000000001, 83.85000000000001, 81.36600000000001, 82.106]\n",
      "==================================================================================================\n"
     ]
    },
    {
     "name": "stderr",
     "output_type": "stream",
     "text": [
      "\n"
     ]
    }
   ],
   "source": [
    "# MAS\n",
    "print(\"RUN MAS\")\n",
    "model = Model()\n",
    "model = model.to(device)\n",
    "optimizer = torch.optim.Adam(model.parameters(), lr=args.lr)\n",
    "\n",
    "lll_object=mas(model=model, dataloader=None, device=device)\n",
    "lll_lambda=0.1\n",
    "mas_acc= []\n",
    "task_bar = trange(len(train_dataloaders),desc=\"Task   1\")\n",
    "prev_guards = []\n",
    "\n",
    "for train_indexes in task_bar:\n",
    "  # Train Each Task\n",
    "  model, _, acc_list = train(model, optimizer, train_dataloaders[train_indexes], args.epochs_per_task, lll_object, lll_lambda, evaluate=evaluate,device=device, test_dataloaders=test_dataloaders[:train_indexes+1])\n",
    "  \n",
    "  # get model weight and calculate guidance for each weight\n",
    "  prev_guards.append(lll_object._precision_matrices)\n",
    "  lll_object=mas(model=model, dataloader=train_dataloaders[train_indexes], device=device, prev_guards=prev_guards)\n",
    "\n",
    "  # New a Optimizer\n",
    "  optimizer = torch.optim.Adam(model.parameters(), lr=args.lr)\n",
    "\n",
    "  # Collect average accuracy in each epoch\n",
    "  mas_acc.extend(acc_list)\n",
    "  task_bar.set_description_str(f\"Task  {train_indexes+2:2}\")\n",
    "\n",
    "# average accuracy in each task per epoch!     \n",
    "print(mas_acc)\n",
    "print(\"==================================================================================================\")"
   ]
  },
  {
   "cell_type": "markdown",
   "id": "34eadca8",
   "metadata": {
    "id": "YXgF4OXtWFbM",
    "papermill": {
     "duration": 0.05821,
     "end_time": "2024-07-02T14:54:31.518770",
     "exception": false,
     "start_time": "2024-07-02T14:54:31.460560",
     "status": "completed"
    },
    "tags": []
   },
   "source": [
    "### SI\n",
    "The si class applied SI (Synaptic Intelligence) algorithm to calculate the regularization term."
   ]
  },
  {
   "cell_type": "code",
   "execution_count": 16,
   "id": "73e3a5f1",
   "metadata": {
    "execution": {
     "iopub.execute_input": "2024-07-02T14:54:31.637849Z",
     "iopub.status.busy": "2024-07-02T14:54:31.637221Z",
     "iopub.status.idle": "2024-07-02T14:54:31.655305Z",
     "shell.execute_reply": "2024-07-02T14:54:31.654476Z"
    },
    "id": "BBb0NwlNWFbM",
    "papermill": {
     "duration": 0.079972,
     "end_time": "2024-07-02T14:54:31.657238",
     "exception": false,
     "start_time": "2024-07-02T14:54:31.577266",
     "status": "completed"
    },
    "tags": []
   },
   "outputs": [],
   "source": [
    "# SI\n",
    "class si(object):\n",
    "  \"\"\"\n",
    "  @article{kirkpatrick2017overcoming,\n",
    "      title={Overcoming catastrophic forgetting in neural networks},\n",
    "      author={Kirkpatrick, James and Pascanu, Razvan and Rabinowitz, Neil and Veness, Joel and Desjardins, Guillaume and Rusu, Andrei A and Milan, Kieran and Quan, John and Ramalho, Tiago and Grabska-Barwinska, Agnieszka and others},\n",
    "      journal={Proceedings of the national academy of sciences},\n",
    "      year={2017},\n",
    "      url={https://arxiv.org/abs/1612.00796}\n",
    "  }\n",
    "  \"\"\"\n",
    "  def __init__(self, model, dataloader, epsilon, device):\n",
    "    self.model = model\n",
    "    self.dataloader = dataloader\n",
    "    self.device = device\n",
    "    self.epsilon = epsilon\n",
    "    # extract all parameters in models\n",
    "    self.params = {n: p for n, p in self.model.named_parameters() if p.requires_grad}\n",
    "    \n",
    "    self._n_p_prev, self._n_omega = self._calculate_importance() \n",
    "    self.W, self.p_old = self._init_()\n",
    "    \n",
    "\n",
    "  def _init_(self):\n",
    "    W = {}\n",
    "    p_old = {}\n",
    "    for n, p in self.model.named_parameters():\n",
    "      n = n.replace('.', '__')\n",
    "      if p.requires_grad:\n",
    "        W[n] = p.data.clone().zero_()\n",
    "        p_old[n] = p.data.clone()\n",
    "    return W, p_old\n",
    "\n",
    "  def _calculate_importance(self):\n",
    "    n_p_prev = {}\n",
    "    n_omega = {}\n",
    "\n",
    "    if self.dataloader != None:\n",
    "      for n, p in self.model.named_parameters():\n",
    "        n = n.replace('.', '__')\n",
    "        if p.requires_grad:\n",
    "          # Find/calculate new values for quadratic penalty on parameters\n",
    "          p_prev = getattr(self.model, '{}_SI_prev_task'.format(n))\n",
    "          W = getattr(self.model, '{}_W'.format(n))\n",
    "          p_current = p.detach().clone()\n",
    "          p_change = p_current - p_prev\n",
    "          omega_add = W/(p_change**2 + self.epsilon)\n",
    "          try:\n",
    "            omega = getattr(self.model, '{}_SI_omega'.format(n))\n",
    "          except AttributeError:\n",
    "            omega = p.detach().clone().zero_()\n",
    "          omega_new = omega + omega_add\n",
    "          n_omega[n] = omega_new\n",
    "          n_p_prev[n] = p_current\n",
    "\n",
    "          # Store these new values in the model\n",
    "          self.model.register_buffer('{}_SI_prev_task'.format(n), p_current)\n",
    "          self.model.register_buffer('{}_SI_omega'.format(n), omega_new)\n",
    "\n",
    "    else:\n",
    "      for n, p in self.model.named_parameters():\n",
    "        n = n.replace('.', '__')\n",
    "        if p.requires_grad:\n",
    "          n_p_prev[n] = p.detach().clone()\n",
    "          n_omega[n] = p.detach().clone().zero_()\n",
    "          self.model.register_buffer('{}_SI_prev_task'.format(n), p.detach().clone())\n",
    "    return n_p_prev, n_omega\n",
    "\n",
    "  def penalty(self, model: nn.Module):\n",
    "    loss = 0.0\n",
    "    for n, p in model.named_parameters():\n",
    "      n = n.replace('.', '__')\n",
    "      if p.requires_grad:\n",
    "        prev_values = self._n_p_prev[n]\n",
    "        omega = self._n_omega[n]\n",
    "        _loss = omega * (p - prev_values) ** 2\n",
    "        loss += _loss.sum()\n",
    "    return loss\n",
    "  \n",
    "  def update(self, model):\n",
    "    for n, p in model.named_parameters():\n",
    "      n = n.replace('.', '__')\n",
    "      if p.requires_grad:\n",
    "        if p.grad is not None:\n",
    "          self.W[n].add_(-p.grad * (p.detach() - self.p_old[n]))\n",
    "          self.model.register_buffer('{}_W'.format(n), self.W[n])\n",
    "        self.p_old[n] = p.detach().clone()\n",
    "    return "
   ]
  },
  {
   "cell_type": "code",
   "execution_count": 17,
   "id": "d3195c44",
   "metadata": {
    "execution": {
     "iopub.execute_input": "2024-07-02T14:54:31.776483Z",
     "iopub.status.busy": "2024-07-02T14:54:31.776185Z",
     "iopub.status.idle": "2024-07-02T15:24:57.434690Z",
     "shell.execute_reply": "2024-07-02T15:24:57.433832Z"
    },
    "id": "cdYo8wuPWFbM",
    "papermill": {
     "duration": 1825.796493,
     "end_time": "2024-07-02T15:24:57.512042",
     "exception": false,
     "start_time": "2024-07-02T14:54:31.715549",
     "status": "completed"
    },
    "tags": []
   },
   "outputs": [
    {
     "name": "stdout",
     "output_type": "stream",
     "text": [
      "RUN SI\n"
     ]
    },
    {
     "name": "stderr",
     "output_type": "stream",
     "text": [
      "Task   1:   0%|          | 0/5 [00:00<?, ?it/s]\n",
      "Epoch 1, Loss: 1.0000000:   0%|          | 0/10 [00:00<?, ?it/s]\u001b[A\n",
      "Epoch 1, Loss: 1.0000000:  10%|█         | 1/10 [00:27<04:10, 27.81s/it]\u001b[A\n",
      "Epoch 1, Loss: 1.0000000:  20%|██        | 2/10 [00:55<03:42, 27.85s/it]\u001b[A\n",
      "Epoch 1, Loss: 1.0000000:  30%|███       | 3/10 [01:24<03:17, 28.25s/it]\u001b[A\n",
      "Epoch 1, Loss: 1.0000000:  40%|████      | 4/10 [01:54<02:53, 28.92s/it]\u001b[A\n",
      "Epoch 1, Loss: 1.0000000:  50%|█████     | 5/10 [02:23<02:24, 28.94s/it]\u001b[A\n",
      "Epoch 1, Loss: 1.0000000:  60%|██████    | 6/10 [02:52<01:56, 29.07s/it]\u001b[A\n",
      "Epoch 1, Loss: 1.0000000:  70%|███████   | 7/10 [03:21<01:27, 29.15s/it]\u001b[A\n",
      "Epoch 1, Loss: 1.0000000:  80%|████████  | 8/10 [03:50<00:57, 28.93s/it]\u001b[A\n",
      "Epoch 1, Loss: 1.0000000:  90%|█████████ | 9/10 [04:18<00:28, 28.75s/it]\u001b[A\n",
      "Epoch 1, Loss: 1.0000000: 100%|██████████| 10/10 [04:47<00:00, 28.69s/it]\u001b[A\n",
      "Task   2:  20%|██        | 1/5 [04:47<19:09, 287.35s/it]\n",
      "Epoch 1, Loss: 1.0000000:   0%|          | 0/10 [00:00<?, ?it/s]\u001b[A\n",
      "Epoch 1, Loss: 1.0000000:  10%|█         | 1/10 [00:32<04:55, 32.82s/it]\u001b[A\n",
      "Epoch 1, Loss: 1.0000000:  20%|██        | 2/10 [01:05<04:23, 32.88s/it]\u001b[A\n",
      "Epoch 1, Loss: 1.0000000:  30%|███       | 3/10 [01:38<03:49, 32.73s/it]\u001b[A\n",
      "Epoch 1, Loss: 1.0000000:  40%|████      | 4/10 [02:10<03:14, 32.39s/it]\u001b[A\n",
      "Epoch 1, Loss: 1.0000000:  50%|█████     | 5/10 [02:42<02:41, 32.34s/it]\u001b[A\n",
      "Epoch 1, Loss: 1.0000000:  60%|██████    | 6/10 [03:13<02:08, 32.07s/it]\u001b[A\n",
      "Epoch 1, Loss: 1.0000000:  70%|███████   | 7/10 [03:46<01:36, 32.11s/it]\u001b[A\n",
      "Epoch 1, Loss: 1.0000000:  80%|████████  | 8/10 [04:19<01:04, 32.38s/it]\u001b[A\n",
      "Epoch 1, Loss: 1.0000000:  90%|█████████ | 9/10 [04:53<00:33, 33.02s/it]\u001b[A\n",
      "Epoch 1, Loss: 1.0000000: 100%|██████████| 10/10 [05:27<00:00, 33.34s/it]\u001b[A\n",
      "Task   3:  40%|████      | 2/5 [10:14<15:33, 311.04s/it]\n",
      "Epoch 1, Loss: 1.0000000:   0%|          | 0/10 [00:00<?, ?it/s]\u001b[A\n",
      "Epoch 1, Loss: 1.0000000:  10%|█         | 1/10 [00:37<05:40, 37.87s/it]\u001b[A\n",
      "Epoch 1, Loss: 1.0000000:  20%|██        | 2/10 [01:14<04:57, 37.22s/it]\u001b[A\n",
      "Epoch 1, Loss: 1.0000000:  30%|███       | 3/10 [01:50<04:17, 36.76s/it]\u001b[A\n",
      "Epoch 1, Loss: 1.0000000:  40%|████      | 4/10 [02:27<03:40, 36.67s/it]\u001b[A\n",
      "Epoch 1, Loss: 1.0000000:  50%|█████     | 5/10 [03:04<03:03, 36.80s/it]\u001b[A\n",
      "Epoch 1, Loss: 1.0000000:  60%|██████    | 6/10 [03:40<02:26, 36.64s/it]\u001b[A\n",
      "Epoch 1, Loss: 1.0000000:  70%|███████   | 7/10 [04:17<01:49, 36.56s/it]\u001b[A\n",
      "Epoch 1, Loss: 1.0000000:  80%|████████  | 8/10 [04:54<01:13, 36.70s/it]\u001b[A\n",
      "Epoch 1, Loss: 1.0000000:  90%|█████████ | 9/10 [05:31<00:36, 36.85s/it]\u001b[A\n",
      "Epoch 1, Loss: 1.0000000: 100%|██████████| 10/10 [06:09<00:00, 37.27s/it]\u001b[A\n",
      "Task   4:  60%|██████    | 3/5 [16:24<11:15, 337.76s/it]\n",
      "Epoch 1, Loss: 1.0000000:   0%|          | 0/10 [00:00<?, ?it/s]\u001b[A\n",
      "Epoch 1, Loss: 1.0000000:  10%|█         | 1/10 [00:41<06:09, 41.03s/it]\u001b[A\n",
      "Epoch 1, Loss: 1.0000000:  20%|██        | 2/10 [01:20<05:20, 40.02s/it]\u001b[A\n",
      "Epoch 1, Loss: 1.0000000:  30%|███       | 3/10 [02:00<04:39, 39.95s/it]\u001b[A\n",
      "Epoch 1, Loss: 1.0000000:  40%|████      | 4/10 [02:40<04:00, 40.13s/it]\u001b[A\n",
      "Epoch 1, Loss: 1.0000000:  50%|█████     | 5/10 [03:20<03:19, 39.95s/it]\u001b[A\n",
      "Epoch 1, Loss: 1.0000000:  60%|██████    | 6/10 [04:00<02:40, 40.01s/it]\u001b[A\n",
      "Epoch 1, Loss: 1.0000000:  70%|███████   | 7/10 [04:40<02:00, 40.08s/it]\u001b[A\n",
      "Epoch 1, Loss: 1.0000000:  80%|████████  | 8/10 [05:21<01:20, 40.26s/it]\u001b[A\n",
      "Epoch 1, Loss: 1.0000000:  90%|█████████ | 9/10 [06:02<00:40, 40.52s/it]\u001b[A\n",
      "Epoch 1, Loss: 1.0000000: 100%|██████████| 10/10 [06:43<00:00, 40.82s/it]\u001b[A\n",
      "Task   5:  80%|████████  | 4/5 [23:08<06:03, 363.85s/it]\n",
      "Epoch 1, Loss: 1.0000000:   0%|          | 0/10 [00:00<?, ?it/s]\u001b[A\n",
      "Epoch 1, Loss: 1.0000000:  10%|█         | 1/10 [00:43<06:29, 43.25s/it]\u001b[A\n",
      "Epoch 1, Loss: 1.0000000:  20%|██        | 2/10 [01:27<05:48, 43.62s/it]\u001b[A\n",
      "Epoch 1, Loss: 1.0000000:  30%|███       | 3/10 [02:11<05:06, 43.86s/it]\u001b[A\n",
      "Epoch 1, Loss: 1.0000000:  40%|████      | 4/10 [02:54<04:22, 43.80s/it]\u001b[A\n",
      "Epoch 1, Loss: 1.0000000:  50%|█████     | 5/10 [03:38<03:38, 43.78s/it]\u001b[A\n",
      "Epoch 1, Loss: 1.0000000:  60%|██████    | 6/10 [04:22<02:54, 43.71s/it]\u001b[A\n",
      "Epoch 1, Loss: 1.0000000:  70%|███████   | 7/10 [05:06<02:11, 43.75s/it]\u001b[A\n",
      "Epoch 1, Loss: 1.0000000:  80%|████████  | 8/10 [05:49<01:27, 43.71s/it]\u001b[A\n",
      "Epoch 1, Loss: 1.0000000:  90%|█████████ | 9/10 [06:33<00:43, 43.72s/it]\u001b[A\n",
      "Epoch 1, Loss: 1.0000000: 100%|██████████| 10/10 [07:17<00:00, 43.73s/it]\u001b[A\n",
      "Task   6: 100%|██████████| 5/5 [30:25<00:00, 365.13s/it]"
     ]
    },
    {
     "name": "stdout",
     "output_type": "stream",
     "text": [
      "[92.72, 94.17, 95.7, 96.27, 96.91, 97.07000000000001, 97.14, 97.61, 97.69, 97.85000000000001, 95.635, 95.52499999999999, 94.815, 95.67, 95.435, 95.125, 95.565, 96.07, 95.255, 95.155, 90.66000000000001, 89.24, 89.23333333333333, 89.45333333333335, 88.98, 89.05, 89.96000000000001, 88.07333333333332, 89.51666666666665, 89.80666666666667, 83.45, 82.27250000000001, 83.1375, 81.6775, 80.915, 82.4075, 81.4375, 82.795, 81.32499999999999, 82.7725, 77.248, 75.058, 74.858, 74.56400000000001, 75.18, 73.296, 72.822, 73.884, 73.786, 74.914]\n",
      "==================================================================================================\n"
     ]
    },
    {
     "name": "stderr",
     "output_type": "stream",
     "text": [
      "\n"
     ]
    }
   ],
   "source": [
    "# SI\n",
    "print(\"RUN SI\")\n",
    "model = Model()\n",
    "model = model.to(device)\n",
    "optimizer = torch.optim.Adam(model.parameters(), lr=args.lr)\n",
    "\n",
    "lll_object=si(model=model, dataloader=None, epsilon=0.1, device=device)\n",
    "lll_lambda=1\n",
    "si_acc = []\n",
    "task_bar = trange(len(train_dataloaders),desc=\"Task   1\")\n",
    "\n",
    "for train_indexes in task_bar:\n",
    "  # Train Each Task\n",
    "  model, _, acc_list = train(model, optimizer, train_dataloaders[train_indexes], args.epochs_per_task, lll_object, lll_lambda, evaluate=evaluate,device=device, test_dataloaders=test_dataloaders[:train_indexes+1])\n",
    "  \n",
    "  # get model weight and calculate guidance for each weight\n",
    "  lll_object=si(model=model, dataloader=train_dataloaders[train_indexes], epsilon=0.1, device=device)\n",
    "\n",
    "  # New a Optimizer\n",
    "  optimizer = torch.optim.Adam(model.parameters(), lr=args.lr)\n",
    "\n",
    "  # Collect average accuracy in each epoch\n",
    "  si_acc.extend(acc_list)\n",
    "  task_bar.set_description_str(f\"Task  {train_indexes+2:2}\")\n",
    "\n",
    "# average accuracy in each task per epoch!     \n",
    "print(si_acc)\n",
    "print(\"==================================================================================================\")"
   ]
  },
  {
   "cell_type": "markdown",
   "id": "ec6c1b81",
   "metadata": {
    "id": "uObzNbO2WFbN",
    "papermill": {
     "duration": 0.07558,
     "end_time": "2024-07-02T15:24:57.661380",
     "exception": false,
     "start_time": "2024-07-02T15:24:57.585800",
     "status": "completed"
    },
    "tags": []
   },
   "source": [
    "### RWalk\n",
    "\n",
    "#### Remanian Walk for Incremental Learning\n",
    "\n",
    "The rwalk class applied Remanian Walk algorithm to calculate the regularization term.\n",
    "\n",
    "The details are mentioned in the following blocks."
   ]
  },
  {
   "cell_type": "code",
   "execution_count": 18,
   "id": "99d6eb0d",
   "metadata": {
    "execution": {
     "iopub.execute_input": "2024-07-02T15:24:57.811374Z",
     "iopub.status.busy": "2024-07-02T15:24:57.810704Z",
     "iopub.status.idle": "2024-07-02T15:24:57.835661Z",
     "shell.execute_reply": "2024-07-02T15:24:57.834772Z"
    },
    "id": "Cbz6IwNpWFbN",
    "papermill": {
     "duration": 0.101484,
     "end_time": "2024-07-02T15:24:57.837530",
     "exception": false,
     "start_time": "2024-07-02T15:24:57.736046",
     "status": "completed"
    },
    "tags": []
   },
   "outputs": [],
   "source": [
    "class rwalk(object):\n",
    "  def __init__(self, model, dataloader, epsilon, device, prev_guards=[None]):\n",
    "    self.model = model\n",
    "    self.dataloader = dataloader\n",
    "    self.device = device\n",
    "    self.epsilon = epsilon\n",
    "    self.update_ewc_parameter = 0.4\n",
    "    # extract model parameters and store in dictionary\n",
    "    self.params = {n: p for n, p in self.model.named_parameters() if p.requires_grad}\n",
    "    \n",
    "    # initialize the guidance matrix\n",
    "    self._means = {} \n",
    "\n",
    "    self.previous_guards_list = prev_guards\n",
    "    \n",
    "    # Generate Fisher (F) Information Matrix\n",
    "    self._precision_matrices = self._calculate_importance_ewc()\n",
    "      \n",
    "    self._n_p_prev, self._n_omega = self._calculate_importance() \n",
    "    self.W, self.p_old = self._init_()\n",
    "\n",
    "  def _init_(self):\n",
    "    W = {}\n",
    "    p_old = {}\n",
    "    for n, p in self.model.named_parameters():\n",
    "      n = n.replace('.', '__')\n",
    "      if p.requires_grad:\n",
    "        W[n] = p.data.clone().zero_()\n",
    "        p_old[n] = p.data.clone()\n",
    "    return W, p_old\n",
    "\n",
    "  def _calculate_importance(self):\n",
    "    n_p_prev = {}\n",
    "    n_omega = {}\n",
    "\n",
    "    if self.dataloader is not None:\n",
    "      for n, p in self.model.named_parameters():\n",
    "        n = n.replace('.', '__')\n",
    "        if p.requires_grad:\n",
    "          # Find/calculate new values for quadratic penalty on parameters\n",
    "          p_prev = getattr(self.model, '{}_SI_prev_task'.format(n))\n",
    "          W = getattr(self.model, '{}_W'.format(n))\n",
    "          p_current = p.detach().clone()\n",
    "          p_change = p_current - p_prev\n",
    "          omega_add = W / (1.0 / 2.0*self._precision_matrices[n] *p_change**2 + self.epsilon)\n",
    "          try:\n",
    "              omega = getattr(self.model, '{}_SI_omega'.format(n))\n",
    "          except AttributeError:\n",
    "              omega = p.detach().clone().zero_()\n",
    "          omega_new = 0.5 * omega + 0.5 *omega_add\n",
    "          n_omega[n] = omega_new\n",
    "          n_p_prev[n] = p_current\n",
    "\n",
    "          # Store these new values in the model\n",
    "          self.model.register_buffer('{}_SI_prev_task'.format(n), p_current)\n",
    "          self.model.register_buffer('{}_SI_omega'.format(n), omega_new)\n",
    "\n",
    "    else:\n",
    "      for n, p in self.model.named_parameters():\n",
    "        n = n.replace('.', '__')\n",
    "        if p.requires_grad:\n",
    "          n_p_prev[n] = p.detach().clone()\n",
    "          n_omega[n] = p.detach().clone().zero_()\n",
    "          self.model.register_buffer('{}_SI_prev_task'.format(n), p.detach().clone())\n",
    "    return n_p_prev, n_omega\n",
    "  \n",
    "  def _calculate_importance_ewc(self):\n",
    "    precision_matrices = {}\n",
    "    for n, p in self.params.items():\n",
    "      # initialize Fisher (F) matrix（all fill zero） \n",
    "      n = n.replace('.', '__') \n",
    "      precision_matrices[n] = p.clone().detach().fill_(0)\n",
    "      for i in range(len(self.previous_guards_list)):\n",
    "        if self.previous_guards_list[i]:\n",
    "          precision_matrices[n] += self.previous_guards_list[i][n]\n",
    "           \n",
    "\n",
    "    self.model.eval()\n",
    "    if self.dataloader is not None:\n",
    "      number_data = len(self.dataloader)\n",
    "      for n, p in self.model.named_parameters():                         \n",
    "        n = n.replace('.', '__')\n",
    "        precision_matrices[n].data *= (1 - self.update_ewc_parameter)\n",
    "      for data in self.dataloader:\n",
    "        self.model.zero_grad()\n",
    "        input = data[0].to(self.device)\n",
    "        output = self.model(input)\n",
    "        label = data[1].to(self.device)\n",
    "\n",
    "        # generate Fisher(F) matrix for RWALK    \n",
    "        loss = F.nll_loss(F.log_softmax(output, dim=1), label) \n",
    "        loss.backward()                                                    \n",
    "                                                                          \n",
    "        for n, p in self.model.named_parameters():                         \n",
    "          n = n.replace('.', '__')\n",
    "          precision_matrices[n].data += self.update_ewc_parameter*p.grad.data ** 2 / number_data  \n",
    "                                                                  \n",
    "      precision_matrices = {n: p for n, p in precision_matrices.items()}\n",
    "    return precision_matrices\n",
    "\n",
    "  def penalty(self, model: nn.Module):\n",
    "    loss = 0.0\n",
    "    for n, p in model.named_parameters():\n",
    "      n = n.replace('.', '__')\n",
    "      if p.requires_grad:\n",
    "        prev_values = self._n_p_prev[n]\n",
    "        omega = self._n_omega[n]\n",
    "        # Generate regularization term  _loss by omega and Fisher Matrix\n",
    "        _loss = (omega + self._precision_matrices[n]) * (p - prev_values) ** 2\n",
    "        loss += _loss.sum()\n",
    "\n",
    "    return loss\n",
    "  \n",
    "  def update(self, model):\n",
    "    for n, p in model.named_parameters():\n",
    "      n = n.replace('.', '__')\n",
    "      if p.requires_grad:\n",
    "        if p.grad is not None:\n",
    "          self.W[n].add_(-p.grad * (p.detach() - self.p_old[n]))\n",
    "          self.model.register_buffer('{}_W'.format(n), self.W[n])\n",
    "        self.p_old[n] = p.detach().clone()\n",
    "    return "
   ]
  },
  {
   "cell_type": "code",
   "execution_count": 19,
   "id": "9ff0227d",
   "metadata": {
    "execution": {
     "iopub.execute_input": "2024-07-02T15:24:57.986062Z",
     "iopub.status.busy": "2024-07-02T15:24:57.985710Z",
     "iopub.status.idle": "2024-07-02T15:57:12.577138Z",
     "shell.execute_reply": "2024-07-02T15:57:12.576206Z"
    },
    "id": "QrsbxyDQWFbN",
    "papermill": {
     "duration": 1934.669615,
     "end_time": "2024-07-02T15:57:12.580452",
     "exception": false,
     "start_time": "2024-07-02T15:24:57.910837",
     "status": "completed"
    },
    "tags": []
   },
   "outputs": [
    {
     "name": "stdout",
     "output_type": "stream",
     "text": [
      "RUN Rwalk\n"
     ]
    },
    {
     "name": "stderr",
     "output_type": "stream",
     "text": [
      "Task   1:   0%|          | 0/5 [00:00<?, ?it/s]\n",
      "Epoch 1, Loss: 1.0000000:   0%|          | 0/10 [00:00<?, ?it/s]\u001b[A\n",
      "Epoch 1, Loss: 1.0000000:  10%|█         | 1/10 [00:28<04:15, 28.39s/it]\u001b[A\n",
      "Epoch 1, Loss: 1.0000000:  20%|██        | 2/10 [00:56<03:47, 28.48s/it]\u001b[A\n",
      "Epoch 1, Loss: 1.0000000:  30%|███       | 3/10 [01:25<03:19, 28.45s/it]\u001b[A\n",
      "Epoch 1, Loss: 1.0000000:  40%|████      | 4/10 [01:53<02:50, 28.49s/it]\u001b[A\n",
      "Epoch 1, Loss: 1.0000000:  50%|█████     | 5/10 [02:21<02:21, 28.34s/it]\u001b[A\n",
      "Epoch 1, Loss: 1.0000000:  60%|██████    | 6/10 [02:50<01:53, 28.32s/it]\u001b[A\n",
      "Epoch 1, Loss: 1.0000000:  70%|███████   | 7/10 [03:19<01:25, 28.57s/it]\u001b[A\n",
      "Epoch 1, Loss: 1.0000000:  80%|████████  | 8/10 [03:48<00:57, 28.88s/it]\u001b[A\n",
      "Epoch 1, Loss: 1.0000000:  90%|█████████ | 9/10 [04:18<00:29, 29.23s/it]\u001b[A\n",
      "Epoch 1, Loss: 1.0000000: 100%|██████████| 10/10 [04:48<00:00, 29.43s/it]\u001b[A\n",
      "Task   2:  20%|██        | 1/5 [05:13<20:54, 313.66s/it]\n",
      "Epoch 1, Loss: 1.0000000:   0%|          | 0/10 [00:00<?, ?it/s]\u001b[A\n",
      "Epoch 1, Loss: 1.0000000:  10%|█         | 1/10 [00:32<04:54, 32.74s/it]\u001b[A\n",
      "Epoch 1, Loss: 1.0000000:  20%|██        | 2/10 [01:05<04:20, 32.61s/it]\u001b[A\n",
      "Epoch 1, Loss: 1.0000000:  30%|███       | 3/10 [01:37<03:48, 32.61s/it]\u001b[A\n",
      "Epoch 1, Loss: 1.0000000:  40%|████      | 4/10 [02:10<03:14, 32.47s/it]\u001b[A\n",
      "Epoch 1, Loss: 1.0000000:  50%|█████     | 5/10 [02:42<02:42, 32.53s/it]\u001b[A\n",
      "Epoch 1, Loss: 1.0000000:  60%|██████    | 6/10 [03:14<02:09, 32.36s/it]\u001b[A\n",
      "Epoch 1, Loss: 1.0000000:  70%|███████   | 7/10 [03:47<01:37, 32.33s/it]\u001b[A\n",
      "Epoch 1, Loss: 1.0000000:  80%|████████  | 8/10 [04:19<01:04, 32.24s/it]\u001b[A\n",
      "Epoch 1, Loss: 1.0000000:  90%|█████████ | 9/10 [04:51<00:32, 32.35s/it]\u001b[A\n",
      "Epoch 1, Loss: 1.0000000: 100%|██████████| 10/10 [05:23<00:00, 32.29s/it]\u001b[A\n",
      "Task   3:  40%|████      | 2/5 [11:00<16:40, 333.47s/it]\n",
      "Epoch 1, Loss: 1.0000000:   0%|          | 0/10 [00:00<?, ?it/s]\u001b[A\n",
      "Epoch 1, Loss: 1.0000000:  10%|█         | 1/10 [00:36<05:30, 36.68s/it]\u001b[A\n",
      "Epoch 1, Loss: 1.0000000:  20%|██        | 2/10 [01:12<04:49, 36.19s/it]\u001b[A\n",
      "Epoch 1, Loss: 1.0000000:  30%|███       | 3/10 [01:48<04:13, 36.20s/it]\u001b[A\n",
      "Epoch 1, Loss: 1.0000000:  40%|████      | 4/10 [02:24<03:36, 36.09s/it]\u001b[A\n",
      "Epoch 1, Loss: 1.0000000:  50%|█████     | 5/10 [03:00<03:00, 36.13s/it]\u001b[A\n",
      "Epoch 1, Loss: 1.0000000:  60%|██████    | 6/10 [03:36<02:24, 36.10s/it]\u001b[A\n",
      "Epoch 1, Loss: 1.0000000:  70%|███████   | 7/10 [04:12<01:47, 35.95s/it]\u001b[A\n",
      "Epoch 1, Loss: 1.0000000:  80%|████████  | 8/10 [04:48<01:12, 36.01s/it]\u001b[A\n",
      "Epoch 1, Loss: 1.0000000:  90%|█████████ | 9/10 [05:24<00:36, 36.07s/it]\u001b[A\n",
      "Epoch 1, Loss: 1.0000000: 100%|██████████| 10/10 [06:01<00:00, 36.16s/it]\u001b[A\n",
      "Task   4:  60%|██████    | 3/5 [17:26<11:54, 357.07s/it]\n",
      "Epoch 1, Loss: 1.0000000:   0%|          | 0/10 [00:00<?, ?it/s]\u001b[A\n",
      "Epoch 1, Loss: 1.0000000:  10%|█         | 1/10 [00:40<06:01, 40.20s/it]\u001b[A\n",
      "Epoch 1, Loss: 1.0000000:  20%|██        | 2/10 [01:20<05:22, 40.35s/it]\u001b[A\n",
      "Epoch 1, Loss: 1.0000000:  30%|███       | 3/10 [02:01<04:42, 40.36s/it]\u001b[A\n",
      "Epoch 1, Loss: 1.0000000:  40%|████      | 4/10 [02:41<04:02, 40.45s/it]\u001b[A\n",
      "Epoch 1, Loss: 1.0000000:  50%|█████     | 5/10 [03:22<03:22, 40.49s/it]\u001b[A\n",
      "Epoch 1, Loss: 1.0000000:  60%|██████    | 6/10 [04:02<02:41, 40.46s/it]\u001b[A\n",
      "Epoch 1, Loss: 1.0000000:  70%|███████   | 7/10 [04:43<02:01, 40.63s/it]\u001b[A\n",
      "Epoch 1, Loss: 1.0000000:  80%|████████  | 8/10 [05:23<01:20, 40.45s/it]\u001b[A\n",
      "Epoch 1, Loss: 1.0000000:  90%|█████████ | 9/10 [06:03<00:40, 40.25s/it]\u001b[A\n",
      "Epoch 1, Loss: 1.0000000: 100%|██████████| 10/10 [06:42<00:00, 39.89s/it]\u001b[A\n",
      "Task   5:  80%|████████  | 4/5 [24:31<06:24, 384.20s/it]\n",
      "Epoch 1, Loss: 1.0000000:   0%|          | 0/10 [00:00<?, ?it/s]\u001b[A\n",
      "Epoch 1, Loss: 1.0000000:  10%|█         | 1/10 [00:43<06:32, 43.56s/it]\u001b[A\n",
      "Epoch 1, Loss: 1.0000000:  20%|██        | 2/10 [01:27<05:47, 43.49s/it]\u001b[A\n",
      "Epoch 1, Loss: 1.0000000:  30%|███       | 3/10 [02:10<05:04, 43.50s/it]\u001b[A\n",
      "Epoch 1, Loss: 1.0000000:  40%|████      | 4/10 [02:53<04:20, 43.47s/it]\u001b[A\n",
      "Epoch 1, Loss: 1.0000000:  50%|█████     | 5/10 [03:38<03:38, 43.75s/it]\u001b[A\n",
      "Epoch 1, Loss: 1.0000000:  60%|██████    | 6/10 [04:23<02:57, 44.33s/it]\u001b[A\n",
      "Epoch 1, Loss: 1.0000000:  70%|███████   | 7/10 [05:08<02:13, 44.65s/it]\u001b[A\n",
      "Epoch 1, Loss: 1.0000000:  80%|████████  | 8/10 [05:52<01:28, 44.40s/it]\u001b[A\n",
      "Epoch 1, Loss: 1.0000000:  90%|█████████ | 9/10 [06:36<00:44, 44.25s/it]\u001b[A\n",
      "Epoch 1, Loss: 1.0000000: 100%|██████████| 10/10 [07:19<00:00, 43.74s/it]\u001b[A\n",
      "Task   6: 100%|██████████| 5/5 [32:14<00:00, 386.91s/it]"
     ]
    },
    {
     "name": "stdout",
     "output_type": "stream",
     "text": [
      "[92.46, 94.64, 95.64, 96.21, 96.88, 97.02, 97.32, 97.48, 97.5, 97.7, 96.10499999999999, 96.35499999999999, 95.97500000000001, 96.41999999999999, 96.085, 96.06, 96.41, 96.66, 96.53500000000001, 96.44, 92.24333333333334, 90.55666666666666, 92.60333333333334, 92.36999999999999, 93.0, 92.84666666666666, 91.90666666666667, 92.74666666666667, 92.17, 92.30666666666667, 85.92, 86.6625, 84.845, 86.51500000000001, 85.64, 85.59, 84.53, 85.6325, 84.0925, 86.555, 79.04199999999999, 80.15599999999999, 79.92799999999998, 80.572, 81.616, 80.212, 81.66399999999999, 81.23400000000001, 79.332, 79.37200000000001]\n",
      "==================================================================================================\n"
     ]
    },
    {
     "name": "stderr",
     "output_type": "stream",
     "text": [
      "\n"
     ]
    }
   ],
   "source": [
    "# RWalk\n",
    "print(\"RUN Rwalk\")\n",
    "model = Model()\n",
    "model = model.to(device)\n",
    "optimizer = torch.optim.Adam(model.parameters(), lr=args.lr)\n",
    "\n",
    "lll_object=rwalk(model=model, dataloader=None, epsilon=0.1, device=device)\n",
    "lll_lambda=100\n",
    "rwalk_acc = []\n",
    "task_bar = trange(len(train_dataloaders),desc=\"Task   1\")\n",
    "prev_guards = []\n",
    "\n",
    "for train_indexes in task_bar:\n",
    "  model, _, acc_list = train(model, optimizer, train_dataloaders[train_indexes], args.epochs_per_task, lll_object, lll_lambda, evaluate=evaluate,device=device, test_dataloaders=test_dataloaders[:train_indexes+1])\n",
    "  prev_guards.append(lll_object._precision_matrices)\n",
    "  lll_object=rwalk(model=model, dataloader=train_dataloaders[train_indexes], epsilon=0.1, device=device, prev_guards=prev_guards)\n",
    "  optimizer = torch.optim.Adam(model.parameters(), lr=args.lr)\n",
    "  rwalk_acc.extend(acc_list)\n",
    "  task_bar.set_description_str(f\"Task  {train_indexes+2:2}\")\n",
    "\n",
    "# average accuracy in each task per epoch!     \n",
    "print(rwalk_acc)\n",
    "print(\"==================================================================================================\")"
   ]
  },
  {
   "cell_type": "markdown",
   "id": "a5321354",
   "metadata": {
    "id": "wcOnWF1lWFbg",
    "papermill": {
     "duration": 0.086664,
     "end_time": "2024-07-02T15:57:12.754901",
     "exception": false,
     "start_time": "2024-07-02T15:57:12.668237",
     "status": "completed"
    },
    "tags": []
   },
   "source": [
    "### SCP\n",
    "Sliced Cramer Preservation\n",
    "\n",
    "Pseudo Code:\n",
    "<img src=\"https://i.ibb.co/QJycmNZ/2021-02-18-21-07.png\" width=\"100%\">"
   ]
  },
  {
   "cell_type": "code",
   "execution_count": 20,
   "id": "9d686fbe",
   "metadata": {
    "execution": {
     "iopub.execute_input": "2024-07-02T15:57:12.932991Z",
     "iopub.status.busy": "2024-07-02T15:57:12.932653Z",
     "iopub.status.idle": "2024-07-02T15:57:12.947570Z",
     "shell.execute_reply": "2024-07-02T15:57:12.946685Z"
    },
    "id": "jg_foxDpWFbg",
    "papermill": {
     "duration": 0.107776,
     "end_time": "2024-07-02T15:57:12.949559",
     "exception": false,
     "start_time": "2024-07-02T15:57:12.841783",
     "status": "completed"
    },
    "tags": []
   },
   "outputs": [],
   "source": [
    "def sample_spherical(npoints, ndim=3):\n",
    "  vec = np.random.randn(ndim, npoints)\n",
    "  vec /= np.linalg.norm(vec, axis=0)\n",
    "  return torch.from_numpy(vec)\n",
    "\n",
    "class scp(object):\n",
    "  \"\"\"\n",
    "  OPEN REVIEW VERSION:\n",
    "  https://openreview.net/forum?id=BJge3TNKwH\n",
    "  \"\"\"\n",
    "  def __init__(self, model: nn.Module, dataloader, L: int, device, prev_guards=[None]):\n",
    "    self.model = model \n",
    "    self.dataloader = dataloader\n",
    "    self.params = {n: p for n, p in self.model.named_parameters() if p.requires_grad}\n",
    "    self._state_parameters = {}\n",
    "    self.L= L\n",
    "    self.device = device\n",
    "    self.previous_guards_list = prev_guards\n",
    "    self._precision_matrices = self.calculate_importance()\n",
    "    for n, p in self.params.items():\n",
    "      self._state_parameters[n] = p.clone().detach()\n",
    "  \n",
    "  def calculate_importance(self):\n",
    "    precision_matrices = {}\n",
    "    for n, p in self.params.items():\n",
    "      precision_matrices[n] = p.clone().detach().fill_(0)\n",
    "      for i in range(len(self.previous_guards_list)):\n",
    "        if self.previous_guards_list[i]:\n",
    "          precision_matrices[n] += self.previous_guards_list[i][n]\n",
    "\n",
    "    self.model.eval()\n",
    "    if self.dataloader is not None:\n",
    "      num_data = len(self.dataloader)\n",
    "      for data in self.dataloader:\n",
    "        self.model.zero_grad()\n",
    "        output = self.model(data[0].to(self.device))\n",
    "          \n",
    "        mean_vec = output.mean(dim=0)\n",
    "\n",
    "        L_vectors = sample_spherical(self.L, output.shape[-1])\n",
    "        L_vectors = L_vectors.transpose(1,0).to(self.device).float()\n",
    "                    \n",
    "        total_scalar = 0\n",
    "        for vec in L_vectors:\n",
    "          scalar=torch.matmul(vec, mean_vec)\n",
    "          total_scalar += scalar\n",
    "        total_scalar /= L_vectors.shape[0] \n",
    "        total_scalar.backward()     \n",
    "\n",
    "        for n, p in self.model.named_parameters():                      \n",
    "          precision_matrices[n].data += p.grad**2 / num_data      \n",
    "              \n",
    "    precision_matrices = {n: p for n, p in precision_matrices.items()}\n",
    "    return precision_matrices\n",
    "\n",
    "  def penalty(self, model: nn.Module):\n",
    "    loss = 0\n",
    "    for n, p in model.named_parameters():\n",
    "      _loss = self._precision_matrices[n] * (p - self._state_parameters[n]) ** 2\n",
    "      loss += _loss.sum()\n",
    "    return loss\n",
    "  \n",
    "  def update(self, model):\n",
    "    # do nothing\n",
    "    return "
   ]
  },
  {
   "cell_type": "code",
   "execution_count": 21,
   "id": "0bd4116e",
   "metadata": {
    "execution": {
     "iopub.execute_input": "2024-07-02T15:57:13.129528Z",
     "iopub.status.busy": "2024-07-02T15:57:13.129166Z",
     "iopub.status.idle": "2024-07-02T16:29:26.093449Z",
     "shell.execute_reply": "2024-07-02T16:29:26.092448Z"
    },
    "id": "3FIQm7F3WFbg",
    "papermill": {
     "duration": 1933.056998,
     "end_time": "2024-07-02T16:29:26.095915",
     "exception": false,
     "start_time": "2024-07-02T15:57:13.038917",
     "status": "completed"
    },
    "tags": []
   },
   "outputs": [
    {
     "name": "stdout",
     "output_type": "stream",
     "text": [
      "RUN SLICE CRAMER PRESERVATION\n"
     ]
    },
    {
     "name": "stderr",
     "output_type": "stream",
     "text": [
      "Task   1:   0%|          | 0/5 [00:00<?, ?it/s]\n",
      "Epoch 1, Loss: 1.0000000:   0%|          | 0/10 [00:00<?, ?it/s]\u001b[A\n",
      "Epoch 1, Loss: 1.0000000:  10%|█         | 1/10 [00:28<04:17, 28.61s/it]\u001b[A\n",
      "Epoch 1, Loss: 1.0000000:  20%|██        | 2/10 [00:57<03:49, 28.70s/it]\u001b[A\n",
      "Epoch 1, Loss: 1.0000000:  30%|███       | 3/10 [01:25<03:20, 28.66s/it]\u001b[A\n",
      "Epoch 1, Loss: 1.0000000:  40%|████      | 4/10 [01:54<02:50, 28.43s/it]\u001b[A\n",
      "Epoch 1, Loss: 1.0000000:  50%|█████     | 5/10 [02:22<02:22, 28.59s/it]\u001b[A\n",
      "Epoch 1, Loss: 1.0000000:  60%|██████    | 6/10 [02:51<01:54, 28.72s/it]\u001b[A\n",
      "Epoch 1, Loss: 1.0000000:  70%|███████   | 7/10 [03:19<01:25, 28.50s/it]\u001b[A\n",
      "Epoch 1, Loss: 1.0000000:  80%|████████  | 8/10 [03:47<00:56, 28.29s/it]\u001b[A\n",
      "Epoch 1, Loss: 1.0000000:  90%|█████████ | 9/10 [04:15<00:28, 28.18s/it]\u001b[A\n",
      "Epoch 1, Loss: 1.0000000: 100%|██████████| 10/10 [04:43<00:00, 28.10s/it]\u001b[A\n",
      "Task   2:  20%|██        | 1/5 [05:09<20:39, 309.77s/it]\n",
      "Epoch 1, Loss: 1.0000000:   0%|          | 0/10 [00:00<?, ?it/s]\u001b[A\n",
      "Epoch 1, Loss: 1.0000000:  10%|█         | 1/10 [00:31<04:44, 31.66s/it]\u001b[A\n",
      "Epoch 1, Loss: 1.0000000:  20%|██        | 2/10 [01:03<04:12, 31.59s/it]\u001b[A\n",
      "Epoch 1, Loss: 1.0000000:  30%|███       | 3/10 [01:34<03:41, 31.64s/it]\u001b[A\n",
      "Epoch 1, Loss: 1.0000000:  40%|████      | 4/10 [02:07<03:11, 31.94s/it]\u001b[A\n",
      "Epoch 1, Loss: 1.0000000:  50%|█████     | 5/10 [02:39<02:40, 32.19s/it]\u001b[A\n",
      "Epoch 1, Loss: 1.0000000:  60%|██████    | 6/10 [03:12<02:09, 32.27s/it]\u001b[A\n",
      "Epoch 1, Loss: 1.0000000:  70%|███████   | 7/10 [03:45<01:37, 32.40s/it]\u001b[A\n",
      "Epoch 1, Loss: 1.0000000:  80%|████████  | 8/10 [04:17<01:04, 32.32s/it]\u001b[A\n",
      "Epoch 1, Loss: 1.0000000:  90%|█████████ | 9/10 [04:48<00:32, 32.06s/it]\u001b[A\n",
      "Epoch 1, Loss: 1.0000000: 100%|██████████| 10/10 [05:21<00:00, 32.20s/it]\u001b[A\n",
      "Task   3:  40%|████      | 2/5 [10:56<16:34, 331.41s/it]\n",
      "Epoch 1, Loss: 1.0000000:   0%|          | 0/10 [00:00<?, ?it/s]\u001b[A\n",
      "Epoch 1, Loss: 1.0000000:  10%|█         | 1/10 [00:34<05:14, 34.96s/it]\u001b[A\n",
      "Epoch 1, Loss: 1.0000000:  20%|██        | 2/10 [01:09<04:39, 34.94s/it]\u001b[A\n",
      "Epoch 1, Loss: 1.0000000:  30%|███       | 3/10 [01:45<04:06, 35.26s/it]\u001b[A\n",
      "Epoch 1, Loss: 1.0000000:  40%|████      | 4/10 [02:22<03:35, 35.85s/it]\u001b[A\n",
      "Epoch 1, Loss: 1.0000000:  50%|█████     | 5/10 [02:59<03:01, 36.25s/it]\u001b[A\n",
      "Epoch 1, Loss: 1.0000000:  60%|██████    | 6/10 [03:36<02:26, 36.54s/it]\u001b[A\n",
      "Epoch 1, Loss: 1.0000000:  70%|███████   | 7/10 [04:12<01:48, 36.30s/it]\u001b[A\n",
      "Epoch 1, Loss: 1.0000000:  80%|████████  | 8/10 [04:47<01:11, 35.96s/it]\u001b[A\n",
      "Epoch 1, Loss: 1.0000000:  90%|█████████ | 9/10 [05:21<00:35, 35.43s/it]\u001b[A\n",
      "Epoch 1, Loss: 1.0000000: 100%|██████████| 10/10 [05:56<00:00, 35.34s/it]\u001b[A\n",
      "Task   4:  60%|██████    | 3/5 [17:19<11:49, 354.97s/it]\n",
      "Epoch 1, Loss: 1.0000000:   0%|          | 0/10 [00:00<?, ?it/s]\u001b[A\n",
      "Epoch 1, Loss: 1.0000000:  10%|█         | 1/10 [00:40<06:01, 40.17s/it]\u001b[A\n",
      "Epoch 1, Loss: 1.0000000:  20%|██        | 2/10 [01:19<05:19, 39.92s/it]\u001b[A\n",
      "Epoch 1, Loss: 1.0000000:  30%|███       | 3/10 [01:59<04:38, 39.86s/it]\u001b[A\n",
      "Epoch 1, Loss: 1.0000000:  40%|████      | 4/10 [02:38<03:56, 39.47s/it]\u001b[A\n",
      "Epoch 1, Loss: 1.0000000:  50%|█████     | 5/10 [03:17<03:16, 39.30s/it]\u001b[A\n",
      "Epoch 1, Loss: 1.0000000:  60%|██████    | 6/10 [03:56<02:36, 39.13s/it]\u001b[A\n",
      "Epoch 1, Loss: 1.0000000:  70%|███████   | 7/10 [04:35<01:57, 39.19s/it]\u001b[A\n",
      "Epoch 1, Loss: 1.0000000:  80%|████████  | 8/10 [05:15<01:18, 39.39s/it]\u001b[A\n",
      "Epoch 1, Loss: 1.0000000:  90%|█████████ | 9/10 [05:55<00:39, 39.46s/it]\u001b[A\n",
      "Epoch 1, Loss: 1.0000000: 100%|██████████| 10/10 [06:34<00:00, 39.44s/it]\u001b[A\n",
      "Task   5:  80%|████████  | 4/5 [24:19<06:20, 380.57s/it]\n",
      "Epoch 1, Loss: 1.0000000:   0%|          | 0/10 [00:00<?, ?it/s]\u001b[A\n",
      "Epoch 1, Loss: 1.0000000:  10%|█         | 1/10 [00:42<06:19, 42.18s/it]\u001b[A\n",
      "Epoch 1, Loss: 1.0000000:  20%|██        | 2/10 [01:24<05:37, 42.25s/it]\u001b[A\n",
      "Epoch 1, Loss: 1.0000000:  30%|███       | 3/10 [02:09<05:03, 43.37s/it]\u001b[A\n",
      "Epoch 1, Loss: 1.0000000:  40%|████      | 4/10 [02:54<04:25, 44.26s/it]\u001b[A\n",
      "Epoch 1, Loss: 1.0000000:  50%|█████     | 5/10 [03:41<03:45, 45.15s/it]\u001b[A\n",
      "Epoch 1, Loss: 1.0000000:  60%|██████    | 6/10 [04:26<03:00, 45.18s/it]\u001b[A\n",
      "Epoch 1, Loss: 1.0000000:  70%|███████   | 7/10 [05:11<02:15, 45.02s/it]\u001b[A\n",
      "Epoch 1, Loss: 1.0000000:  80%|████████  | 8/10 [05:56<01:29, 44.96s/it]\u001b[A\n",
      "Epoch 1, Loss: 1.0000000:  90%|█████████ | 9/10 [06:41<00:45, 45.07s/it]\u001b[A\n",
      "Epoch 1, Loss: 1.0000000: 100%|██████████| 10/10 [07:26<00:00, 45.02s/it]\u001b[A\n",
      "Task   6: 100%|██████████| 5/5 [32:12<00:00, 386.59s/it]"
     ]
    },
    {
     "name": "stdout",
     "output_type": "stream",
     "text": [
      "[92.45, 94.69, 95.67, 96.41, 96.89, 96.89999999999999, 97.45, 97.66, 97.77, 97.98, 95.83, 95.545, 95.71499999999999, 95.6, 95.33500000000001, 95.62, 96.05, 95.74499999999999, 95.06, 96.02, 90.92000000000002, 90.02333333333333, 90.13666666666667, 88.65333333333334, 88.51, 90.06666666666666, 88.66000000000001, 88.43333333333334, 88.61, 88.86666666666669, 82.365, 83.075, 81.5075, 82.28999999999999, 82.1075, 80.65249999999999, 81.80499999999999, 81.865, 81.37, 81.88499999999999, 77.01800000000001, 76.986, 77.61000000000001, 76.62, 76.996, 76.55999999999999, 77.604, 76.128, 76.80399999999999, 75.886]\n",
      "==================================================================================================\n"
     ]
    },
    {
     "name": "stderr",
     "output_type": "stream",
     "text": [
      "\n"
     ]
    }
   ],
   "source": [
    "# SCP\n",
    "print(\"RUN SLICE CRAMER PRESERVATION\")\n",
    "model = Model()\n",
    "model = model.to(device)\n",
    "optimizer = torch.optim.Adam(model.parameters(), lr=args.lr)\n",
    "\n",
    "lll_object=scp(model=model, dataloader=None, L=100, device=device)\n",
    "lll_lambda=100\n",
    "scp_acc= []\n",
    "task_bar = trange(len(train_dataloaders),desc=\"Task   1\")\n",
    "prev_guards = []\n",
    "\n",
    "for train_indexes in task_bar:\n",
    "  model, _, acc_list = train(model, optimizer, train_dataloaders[train_indexes], args.epochs_per_task, lll_object, lll_lambda, evaluate=evaluate,device=device, test_dataloaders=test_dataloaders[:train_indexes+1])\n",
    "  prev_guards.append(lll_object._precision_matrices)\n",
    "  lll_object=scp(model=model, dataloader=train_dataloaders[train_indexes], L=100, device=device, prev_guards=prev_guards)\n",
    "  optimizer = torch.optim.Adam(model.parameters(), lr=args.lr)\n",
    "  scp_acc.extend(acc_list)\n",
    "  task_bar.set_description_str(f\"Task  {train_indexes+2:2}\")\n",
    "\n",
    "# average accuracy in each task per epoch!     \n",
    "print(scp_acc)\n",
    "print(\"==================================================================================================\")"
   ]
  },
  {
   "cell_type": "markdown",
   "id": "2f935832",
   "metadata": {
    "id": "h_BaIfqZWFbg",
    "papermill": {
     "duration": 0.103769,
     "end_time": "2024-07-02T16:29:26.304882",
     "exception": false,
     "start_time": "2024-07-02T16:29:26.201113",
     "status": "completed"
    },
    "tags": []
   },
   "source": [
    "# Plot function"
   ]
  },
  {
   "cell_type": "code",
   "execution_count": 22,
   "id": "7c5f6cf0",
   "metadata": {
    "execution": {
     "iopub.execute_input": "2024-07-02T16:29:26.512182Z",
     "iopub.status.busy": "2024-07-02T16:29:26.511838Z",
     "iopub.status.idle": "2024-07-02T16:29:26.930432Z",
     "shell.execute_reply": "2024-07-02T16:29:26.929607Z"
    },
    "id": "WO0fR_drWFbg",
    "papermill": {
     "duration": 0.524317,
     "end_time": "2024-07-02T16:29:26.932674",
     "exception": false,
     "start_time": "2024-07-02T16:29:26.408357",
     "status": "completed"
    },
    "tags": []
   },
   "outputs": [
    {
     "data": {
      "image/png": "[encoded data removed]",
      "text/plain": [
       "<Figure size 640x480 with 1 Axes>"
      ]
     },
     "metadata": {},
     "output_type": "display_data"
    }
   ],
   "source": [
    "import matplotlib.pyplot as plt\n",
    "def draw_acc(acc_list, label_list):\n",
    "  for acc, label in zip(acc_list, label_list):\n",
    "    plt.plot(acc, marker='o', ls='--', lw=2, markersize=4, label=label)\n",
    "    plt.legend()\n",
    "  plt.savefig('acc_summary.png')\n",
    "  plt.show() \n",
    "\n",
    "acc_list = [baseline_acc, ewc_acc, mas_acc, si_acc, rwalk_acc, scp_acc]\n",
    "label_list = ['baseline', 'EWC', 'MAS', 'SI', 'RWALK', 'SCP']\n",
    "draw_acc(acc_list, label_list)"
   ]
  }
 ],
 "metadata": {
  "colab": {
   "provenance": []
  },
  "kaggle": {
   "accelerator": "gpu",
   "dataSources": [],
   "dockerImageVersionId": 30733,
   "isGpuEnabled": true,
   "isInternetEnabled": true,
   "language": "python",
   "sourceType": "notebook"
  },
  "kernelspec": {
   "display_name": "Python 3",
   "language": "python",
   "name": "python3"
  },
  "language_info": {
   "codemirror_mode": {
    "name": "ipython",
    "version": 3
   },
   "file_extension": ".py",
   "mimetype": "text/x-python",
   "name": "python",
   "nbconvert_exporter": "python",
   "pygments_lexer": "ipython3",
   "version": "3.10.13"
  },
  "papermill": {
   "default_parameters": {},
   "duration": 11352.321249,
   "end_time": "2024-07-02T16:29:29.391175",
   "environment_variables": {},
   "exception": null,
   "input_path": "__notebook__.ipynb",
   "output_path": "__notebook__.ipynb",
   "parameters": {},
   "start_time": "2024-07-02T13:20:17.069926",
   "version": "2.5.0"
  }
 },
 "nbformat": 4,
 "nbformat_minor": 5
}
