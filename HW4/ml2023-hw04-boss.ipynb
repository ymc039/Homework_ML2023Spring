{
 "cells": [
  {
   "cell_type": "markdown",
   "id": "080900b2",
   "metadata": {
    "id": "C_jdZ5vHJ4A9",
    "papermill": {
     "duration": 0.0087,
     "end_time": "2024-05-01T03:06:12.387287",
     "exception": false,
     "start_time": "2024-05-01T03:06:12.378587",
     "status": "completed"
    },
    "tags": []
   },
   "source": [
    "# Task description\n",
    "- Classify the speakers of given features.\n",
    "- Main goal: Learn how to use transformer.\n",
    "- Baselines:\n",
    "  - Easy: Run sample code and know how to use transformer.\n",
    "  - Medium: Know how to adjust parameters of transformer.\n",
    "  - Strong: Construct [conformer](https://arxiv.org/abs/2005.08100) which is a variety of transformer. \n",
    "  - Boss: Implement [Self-Attention Pooling](https://arxiv.org/pdf/2008.01077v1.pdf) & [Additive Margin Softmax](https://arxiv.org/pdf/1801.05599.pdf) to further boost the performance.\n",
    "\n",
    "- Other links\n",
    "  - Competiton: [link](https://www.kaggle.com/t/49ea0c385a974db5919ec67299ba2e6b)\n",
    "  - Slide: [link](https://docs.google.com/presentation/d/1LDAW0GGrC9B6D7dlNdYzQL6D60-iKgFr/edit?usp=sharing&ouid=104280564485377739218&rtpof=true&sd=true)\n",
    "  - Data: [link](https://github.com/googly-mingto/ML2023HW4/releases)\n",
    "\n",
    "# Download dataset\n",
    "- Data is [here](https://drive.google.com/drive/folders/1vI1kuLB-q1VilIftiwnPOCAeOOFfBZge?usp=sharing)"
   ]
  },
  {
   "cell_type": "code",
   "execution_count": 1,
   "id": "e70e968b",
   "metadata": {
    "execution": {
     "iopub.execute_input": "2024-05-01T03:06:12.404585Z",
     "iopub.status.busy": "2024-05-01T03:06:12.404257Z",
     "iopub.status.idle": "2024-05-01T03:06:16.082452Z",
     "shell.execute_reply": "2024-05-01T03:06:16.081546Z"
    },
    "id": "E6burzCXIyuA",
    "papermill": {
     "duration": 3.689488,
     "end_time": "2024-05-01T03:06:16.084688",
     "exception": false,
     "start_time": "2024-05-01T03:06:12.395200",
     "status": "completed"
    },
    "tags": []
   },
   "outputs": [],
   "source": [
    "import numpy as np\n",
    "import torch\n",
    "import random\n",
    "\n",
    "def set_seed(seed):\n",
    "    np.random.seed(seed)\n",
    "    random.seed(seed)\n",
    "    torch.manual_seed(seed)\n",
    "    if torch.cuda.is_available():\n",
    "        torch.cuda.manual_seed(seed)\n",
    "        torch.cuda.manual_seed_all(seed)\n",
    "    torch.backends.cudnn.benchmark = False\n",
    "    torch.backends.cudnn.deterministic = True\n",
    "\n",
    "set_seed(87)"
   ]
  },
  {
   "cell_type": "markdown",
   "id": "a5bc0515",
   "metadata": {
    "id": "k7dVbxW2LASN",
    "papermill": {
     "duration": 0.0078,
     "end_time": "2024-05-01T03:06:16.100630",
     "exception": false,
     "start_time": "2024-05-01T03:06:16.092830",
     "status": "completed"
    },
    "tags": []
   },
   "source": [
    "# Data\n",
    "\n",
    "## Dataset\n",
    "- Original dataset is [Voxceleb2](https://www.robots.ox.ac.uk/~vgg/data/voxceleb/vox2.html).\n",
    "- The [license](https://creativecommons.org/licenses/by/4.0/) and [complete version](https://www.robots.ox.ac.uk/~vgg/data/voxceleb/files/license.txt) of Voxceleb2.\n",
    "- We randomly select 600 speakers from Voxceleb2.\n",
    "- Then preprocess the raw waveforms into mel-spectrograms.\n",
    "\n",
    "- Args:\n",
    "  - data_dir: The path to the data directory.\n",
    "  - metadata_path: The path to the metadata.\n",
    "  - segment_len: The length of audio segment for training. \n",
    "- The architecture of data directory \\\\\n",
    "  - data directory \\\\\n",
    "  |---- metadata.json \\\\\n",
    "  |---- testdata.json \\\\\n",
    "  |---- mapping.json \\\\\n",
    "  |---- uttr-{random string}.pt \\\\\n",
    "\n",
    "- The information in metadata\n",
    "  - \"n_mels\": The dimention of mel-spectrogram.\n",
    "  - \"speakers\": A dictionary. \n",
    "    - Key: speaker ids.\n",
    "    - value: \"feature_path\" and \"mel_len\"\n",
    "\n",
    "\n",
    "For efficiency, we segment the mel-spectrograms into segments in the traing step."
   ]
  },
  {
   "cell_type": "code",
   "execution_count": 2,
   "id": "335e6acc",
   "metadata": {
    "execution": {
     "iopub.execute_input": "2024-05-01T03:06:16.117725Z",
     "iopub.status.busy": "2024-05-01T03:06:16.117340Z",
     "iopub.status.idle": "2024-05-01T03:06:16.128668Z",
     "shell.execute_reply": "2024-05-01T03:06:16.127966Z"
    },
    "id": "KpuGxl4CI2pr",
    "papermill": {
     "duration": 0.022125,
     "end_time": "2024-05-01T03:06:16.130589",
     "exception": false,
     "start_time": "2024-05-01T03:06:16.108464",
     "status": "completed"
    },
    "tags": []
   },
   "outputs": [],
   "source": [
    "import os\n",
    "import json\n",
    "from pathlib import Path\n",
    "from torch.utils.data import Dataset\n",
    "from torch.nn.utils.rnn import pad_sequence\n",
    "\n",
    "\n",
    "class myDataset(Dataset):\n",
    "    def __init__(self, data_dir, segment_len=128):\n",
    "        self.data_dir = data_dir\n",
    "        self.segment_len = segment_len\n",
    "\n",
    "        # Load the mapping from speaker neme to their corresponding id.\n",
    "        mapping_path = Path(data_dir) / \"mapping.json\"\n",
    "        mapping = json.load(mapping_path.open())\n",
    "        self.speaker2id = mapping[\"speaker2id\"]\n",
    "\n",
    "        # Load metadata of training data.\n",
    "        metadata_path = Path(data_dir) / \"metadata.json\"\n",
    "        metadata = json.load(open(metadata_path))[\"speakers\"]\n",
    "\n",
    "        # Get the total number of speaker.\n",
    "        self.speaker_num = len(metadata.keys())\n",
    "        self.data = []\n",
    "        for speaker in metadata.keys():\n",
    "            for utterances in metadata[speaker]:\n",
    "                self.data.append([utterances[\"feature_path\"], self.speaker2id[speaker]])\n",
    "\n",
    "    def __len__(self):\n",
    "        return len(self.data)\n",
    "\n",
    "    def __getitem__(self, index):\n",
    "        feat_path, speaker = self.data[index]\n",
    "        # Load preprocessed mel-spectrogram.\n",
    "        mel = torch.load(os.path.join(self.data_dir, feat_path))\n",
    "\n",
    "        # Segmemt mel-spectrogram into \"segment_len\" frames.\n",
    "        if len(mel) > self.segment_len:\n",
    "            # Randomly get the starting point of the segment.\n",
    "            start = random.randint(0, len(mel) - self.segment_len)\n",
    "            # Get a segment with \"segment_len\" frames.\n",
    "            mel = torch.FloatTensor(mel[start : start + self.segment_len])\n",
    "        else:\n",
    "            mel = torch.FloatTensor(mel)\n",
    "        # Turn the speaker id into long for computing loss later.\n",
    "        speaker = torch.FloatTensor([speaker]).long()\n",
    "        return mel, speaker\n",
    "\n",
    "    def get_speaker_number(self):\n",
    "        return self.speaker_num"
   ]
  },
  {
   "cell_type": "markdown",
   "id": "d5f1093b",
   "metadata": {
    "id": "668hverTMlGN",
    "papermill": {
     "duration": 0.007622,
     "end_time": "2024-05-01T03:06:16.145988",
     "exception": false,
     "start_time": "2024-05-01T03:06:16.138366",
     "status": "completed"
    },
    "tags": []
   },
   "source": [
    "## Dataloader\n",
    "- Split dataset into training dataset(90%) and validation dataset(10%).\n",
    "- Create dataloader to iterate the data."
   ]
  },
  {
   "cell_type": "code",
   "execution_count": 3,
   "id": "89efa37f",
   "metadata": {
    "execution": {
     "iopub.execute_input": "2024-05-01T03:06:16.162673Z",
     "iopub.status.busy": "2024-05-01T03:06:16.162391Z",
     "iopub.status.idle": "2024-05-01T03:06:16.170856Z",
     "shell.execute_reply": "2024-05-01T03:06:16.170080Z"
    },
    "id": "B7c2gZYoJDRS",
    "papermill": {
     "duration": 0.019034,
     "end_time": "2024-05-01T03:06:16.172756",
     "exception": false,
     "start_time": "2024-05-01T03:06:16.153722",
     "status": "completed"
    },
    "tags": []
   },
   "outputs": [],
   "source": [
    "from torch.utils.data import DataLoader, random_split\n",
    "\n",
    "\n",
    "def collate_batch(batch):\n",
    "\t# Process features within a batch.\n",
    "\t\"\"\"Collate a batch of data.\"\"\"\n",
    "\tmel, speaker = zip(*batch)\n",
    "\t# Because we train the model batch by batch, we need to pad the features in the same batch to make their lengths the same.\n",
    "\tmel = pad_sequence(mel, batch_first=True, padding_value=-20)    # pad log 10^(-20) which is very small value.\n",
    "\t# mel: (batch size, length, 40)\n",
    "\treturn mel, torch.FloatTensor(speaker).long()\n",
    "\n",
    "\n",
    "def get_dataloader(data_dir, batch_size, n_workers):\n",
    "\t\"\"\"Generate dataloader\"\"\"\n",
    "\tdataset = myDataset(data_dir)\n",
    "\tspeaker_num = dataset.get_speaker_number()\n",
    "\t# Split dataset into training dataset and validation dataset\n",
    "\ttrainlen = int(0.9 * len(dataset))\n",
    "\tlengths = [trainlen, len(dataset) - trainlen]\n",
    "\ttrainset, validset = random_split(dataset, lengths)\n",
    "\n",
    "\ttrain_loader = DataLoader(\n",
    "\t\ttrainset,\n",
    "\t\tbatch_size=batch_size,\n",
    "\t\tshuffle=True,\n",
    "\t\tdrop_last=True,\n",
    "\t\tnum_workers=n_workers,\n",
    "\t\tpin_memory=True,\n",
    "\t\tcollate_fn=collate_batch,\n",
    "\t)\n",
    "\tvalid_loader = DataLoader(\n",
    "\t\tvalidset,\n",
    "\t\tbatch_size=batch_size,\n",
    "\t\tnum_workers=n_workers,\n",
    "\t\tdrop_last=True,\n",
    "\t\tpin_memory=True,\n",
    "\t\tcollate_fn=collate_batch,\n",
    "\t)\n",
    "\n",
    "\treturn train_loader, valid_loader, speaker_num"
   ]
  },
  {
   "cell_type": "markdown",
   "id": "653ec17c",
   "metadata": {
    "id": "5FOSZYxrMqhc",
    "papermill": {
     "duration": 0.007536,
     "end_time": "2024-05-01T03:06:16.188101",
     "exception": false,
     "start_time": "2024-05-01T03:06:16.180565",
     "status": "completed"
    },
    "tags": []
   },
   "source": [
    "# Model\n",
    "- TransformerEncoderLayer:\n",
    "  - Base transformer encoder layer in [Attention Is All You Need](https://arxiv.org/abs/1706.03762)\n",
    "  - Parameters:\n",
    "    - d_model: the number of expected features of the input (required).\n",
    "\n",
    "    - nhead: the number of heads of the multiheadattention models (required).\n",
    "\n",
    "    - dim_feedforward: the dimension of the feedforward network model (default=2048).\n",
    "\n",
    "    - dropout: the dropout value (default=0.1).\n",
    "\n",
    "    - activation: the activation function of intermediate layer, relu or gelu (default=relu).\n",
    "\n",
    "- TransformerEncoder:\n",
    "  - TransformerEncoder is a stack of N transformer encoder layers\n",
    "  - Parameters:\n",
    "    - encoder_layer: an instance of the TransformerEncoderLayer() class (required).\n",
    "\n",
    "    - num_layers: the number of sub-encoder-layers in the encoder (required).\n",
    "\n",
    "    - norm: the layer normalization component (optional)."
   ]
  },
  {
   "cell_type": "code",
   "execution_count": 4,
   "id": "ef215074",
   "metadata": {
    "execution": {
     "iopub.execute_input": "2024-05-01T03:06:16.205098Z",
     "iopub.status.busy": "2024-05-01T03:06:16.204540Z",
     "iopub.status.idle": "2024-05-01T03:06:16.833254Z",
     "shell.execute_reply": "2024-05-01T03:06:16.832205Z"
    },
    "id": "iXZ5B0EKJGs8",
    "papermill": {
     "duration": 0.63992,
     "end_time": "2024-05-01T03:06:16.835672",
     "exception": false,
     "start_time": "2024-05-01T03:06:16.195752",
     "status": "completed"
    },
    "tags": []
   },
   "outputs": [],
   "source": [
    "import torch.nn as nn\n",
    "import torch.nn.functional as F\n",
    "import torchaudio.models.conformer as conformer\n",
    "\n",
    "class Classifier(nn.Module):\n",
    "\tdef __init__(self, d_model=512, n_spks=600, dropout=0.1):\n",
    "\t\tsuper().__init__()\n",
    "\t\t# Project the dimension of features from that of input into d_model.\n",
    "\t\tself.prenet = nn.Linear(40, d_model)\n",
    "\t\t# TODO:\n",
    "\t\t#   Change Transformer to Conformer.\n",
    "\t\t#   https://arxiv.org/abs/2005.08100\n",
    "# \t\tself.encoder_layer = nn.TransformerEncoderLayer(\n",
    "# \t\t\td_model=d_model, dim_feedforward=256, nhead=16\n",
    "# \t\t)\n",
    "\t\t# self.encoder = nn.TransformerEncoder(self.encoder_layer, num_layers=2)\n",
    "        \n",
    "        # Use Conformer output ((batch size, length, d_model),(length))\n",
    "\t\tself.encoder_layer = conformer.Conformer(\n",
    "\t\t\t\t\t\tinput_dim=d_model,\n",
    "\t\t\t\t\t\tnum_heads=16,\n",
    "\t\t\t\t\t\tffn_dim=2048,\n",
    "\t\t\t\t\t\tnum_layers=1,\n",
    "\t\t\t\t\t\tdepthwise_conv_kernel_size=31,\n",
    "\t\t\t\t\t\tdropout=dropout,\n",
    "\t\t\t\t\t\tuse_group_norm=False,\n",
    "\t\t\t\t\t\tconvolution_first=False,\n",
    "\t\t)\n",
    "\n",
    "\t\t# Project the the dimension of features from d_model into speaker nums.\n",
    "\t\tself.pred_layer = nn.Sequential(\n",
    "# \t\t\tnn.Linear(d_model, 2*d_model),\n",
    "# \t\t\tnn.Sigmoid(),\n",
    "# \t\t\tnn.Dropout(dropout),\n",
    "# \t\t\tnn.Linear(2*d_model, n_spks),\n",
    "\t\t\tnn.Linear(d_model, n_spks)\n",
    "\t\t)\n",
    "\n",
    "\t\t# 使用conformer改写encoder_layer\n",
    "\t\t# self.encoder_layer = ConformerEncoderLayer(\n",
    "\t\t# \td_model=d_model, nhead=2, dim_feedforward=256\n",
    "\t\t# )\n",
    "\tdef forward(self, mels):\n",
    "\t\t\"\"\"\n",
    "\t\targs:\n",
    "\t\t\tmels: (batch size, length, 40)\n",
    "\t\treturn:\n",
    "\t\t\tout: (batch size, n_spks)\n",
    "\t\t\"\"\"\n",
    "\t\t# out: (batch size, length, d_model)\n",
    "\t\tout = self.prenet(mels)\n",
    "# \t\t# out: (length, batch size, d_model)\n",
    "# \t\tout = out.permute(1, 0, 2)\n",
    "# \t\t# The encoder layer expect features in the shape of (length, batch size, d_model).\n",
    "# \t\tout = self.encoder_layer(out)\n",
    "        # Conformer input (batch size, length, d_model), lengths\n",
    "\t\tlength = out.shape[1]\n",
    "\t\tout, _ = self.encoder_layer(out, torch.full((out.shape[0],), length).to('cuda'))\n",
    "# \t\t# out: (batch size, length, d_model)\n",
    "# \t\tout = out.transpose(0, 1)\n",
    "\t\t# mean pooling\n",
    "\t\tstats = out.mean(dim=1)\n",
    "\n",
    "\t\t# out: (batch, n_spks)\n",
    "\t\tout = self.pred_layer(stats)\n",
    "\t\treturn out\n",
    "\t\n"
   ]
  },
  {
   "cell_type": "markdown",
   "id": "0de9c33d",
   "metadata": {
    "id": "W7yX8JinM5Ly",
    "papermill": {
     "duration": 0.007963,
     "end_time": "2024-05-01T03:06:16.854372",
     "exception": false,
     "start_time": "2024-05-01T03:06:16.846409",
     "status": "completed"
    },
    "tags": []
   },
   "source": [
    "# Learning rate schedule\n",
    "- For transformer architecture, the design of learning rate schedule is different from that of CNN.\n",
    "- Previous works show that the warmup of learning rate is useful for training models with transformer architectures.\n",
    "- The warmup schedule\n",
    "  - Set learning rate to 0 in the beginning.\n",
    "  - The learning rate increases linearly from 0 to initial learning rate during warmup period."
   ]
  },
  {
   "cell_type": "code",
   "execution_count": 5,
   "id": "f865eb05",
   "metadata": {
    "execution": {
     "iopub.execute_input": "2024-05-01T03:06:16.875864Z",
     "iopub.status.busy": "2024-05-01T03:06:16.875523Z",
     "iopub.status.idle": "2024-05-01T03:06:16.884220Z",
     "shell.execute_reply": "2024-05-01T03:06:16.883400Z"
    },
    "id": "ykt0N1nVJJi2",
    "papermill": {
     "duration": 0.022133,
     "end_time": "2024-05-01T03:06:16.886183",
     "exception": false,
     "start_time": "2024-05-01T03:06:16.864050",
     "status": "completed"
    },
    "tags": []
   },
   "outputs": [],
   "source": [
    "import math\n",
    "\n",
    "from torch.optim import Optimizer\n",
    "from torch.optim.lr_scheduler import LambdaLR\n",
    "\n",
    "\n",
    "def get_cosine_schedule_with_warmup(\n",
    "\toptimizer: Optimizer,\n",
    "\tnum_warmup_steps: int,\n",
    "\tnum_training_steps: int,\n",
    "\tnum_cycles: float = 0.5,\n",
    "\tlast_epoch: int = -1,\n",
    "):\n",
    "\t\"\"\"\n",
    "\tCreate a schedule with a learning rate that decreases following the values of the cosine function between the\n",
    "\tinitial lr set in the optimizer to 0, after a warmup period during which it increases linearly between 0 and the\n",
    "\tinitial lr set in the optimizer.\n",
    "\n",
    "\tArgs:\n",
    "\t\toptimizer (:class:`~torch.optim.Optimizer`):\n",
    "\t\tThe optimizer for which to schedule the learning rate.\n",
    "\t\tnum_warmup_steps (:obj:`int`):\n",
    "\t\tThe number of steps for the warmup phase.\n",
    "\t\tnum_training_steps (:obj:`int`):\n",
    "\t\tThe total number of training steps.\n",
    "\t\tnum_cycles (:obj:`float`, `optional`, defaults to 0.5):\n",
    "\t\tThe number of waves in the cosine schedule (the defaults is to just decrease from the max value to 0\n",
    "\t\tfollowing a half-cosine).\n",
    "\t\tlast_epoch (:obj:`int`, `optional`, defaults to -1):\n",
    "\t\tThe index of the last epoch when resuming training.\n",
    "\n",
    "\tReturn:\n",
    "\t\t:obj:`torch.optim.lr_scheduler.LambdaLR` with the appropriate schedule.\n",
    "\t\"\"\"\n",
    "\tdef lr_lambda(current_step):\n",
    "\t\t# Warmup\n",
    "\t\tif current_step < num_warmup_steps:\n",
    "\t\t\treturn float(current_step) / float(max(1, num_warmup_steps))\n",
    "\t\t# decadence\n",
    "\t\tprogress = float(current_step - num_warmup_steps) / float(\n",
    "\t\t\tmax(1, num_training_steps - num_warmup_steps)\n",
    "\t\t)\n",
    "\t\treturn max(\n",
    "\t\t\t0.0, 0.5 * (1.0 + math.cos(math.pi * float(num_cycles) * 2.0 * progress))\n",
    "\t\t)\n",
    "\n",
    "\treturn LambdaLR(optimizer, lr_lambda, last_epoch)"
   ]
  },
  {
   "cell_type": "markdown",
   "id": "81cee3f0",
   "metadata": {
    "id": "-LN2XkteM_uH",
    "papermill": {
     "duration": 0.007727,
     "end_time": "2024-05-01T03:06:16.902083",
     "exception": false,
     "start_time": "2024-05-01T03:06:16.894356",
     "status": "completed"
    },
    "tags": []
   },
   "source": [
    "# Model Function\n",
    "- Model forward function."
   ]
  },
  {
   "cell_type": "code",
   "execution_count": 6,
   "id": "86d367c9",
   "metadata": {
    "execution": {
     "iopub.execute_input": "2024-05-01T03:06:16.919296Z",
     "iopub.status.busy": "2024-05-01T03:06:16.918945Z",
     "iopub.status.idle": "2024-05-01T03:06:16.924614Z",
     "shell.execute_reply": "2024-05-01T03:06:16.923671Z"
    },
    "id": "N-rr8529JMz0",
    "papermill": {
     "duration": 0.016553,
     "end_time": "2024-05-01T03:06:16.926651",
     "exception": false,
     "start_time": "2024-05-01T03:06:16.910098",
     "status": "completed"
    },
    "tags": []
   },
   "outputs": [],
   "source": [
    "\n",
    "\n",
    "def model_fn(batch, model, criterion, device):\n",
    "\t\"\"\"Forward a batch through the model.\"\"\"\n",
    "\n",
    "\tmels, labels = batch\n",
    "\tmels = mels.to(device)\n",
    "\tlabels = labels.to(device)\n",
    "\n",
    "\touts = model(mels)\n",
    "\n",
    "\tloss = criterion(outs, labels)\n",
    "\n",
    "\t# Get the speaker id with highest probability.\n",
    "\tpreds = outs.argmax(1)\n",
    "\t# Compute accuracy.\n",
    "\taccuracy = torch.mean((preds == labels).float())\n",
    "\n",
    "\treturn loss, accuracy"
   ]
  },
  {
   "cell_type": "markdown",
   "id": "80f6d4d3",
   "metadata": {
    "id": "cwM_xyOtNCI2",
    "papermill": {
     "duration": 0.007752,
     "end_time": "2024-05-01T03:06:16.943054",
     "exception": false,
     "start_time": "2024-05-01T03:06:16.935302",
     "status": "completed"
    },
    "tags": []
   },
   "source": [
    "# Validate\n",
    "- Calculate accuracy of the validation set."
   ]
  },
  {
   "cell_type": "code",
   "execution_count": 7,
   "id": "d07d711d",
   "metadata": {
    "execution": {
     "iopub.execute_input": "2024-05-01T03:06:16.960081Z",
     "iopub.status.busy": "2024-05-01T03:06:16.959753Z",
     "iopub.status.idle": "2024-05-01T03:06:16.969848Z",
     "shell.execute_reply": "2024-05-01T03:06:16.967554Z"
    },
    "id": "YAiv6kpdJRTJ",
    "papermill": {
     "duration": 0.021778,
     "end_time": "2024-05-01T03:06:16.972650",
     "exception": false,
     "start_time": "2024-05-01T03:06:16.950872",
     "status": "completed"
    },
    "tags": []
   },
   "outputs": [],
   "source": [
    "from tqdm import tqdm\n",
    "\n",
    "\n",
    "def valid(dataloader, model, criterion, device):\n",
    "    \"\"\"Validate on validation set.\"\"\"\n",
    "\n",
    "    model.eval()\n",
    "    running_loss = 0.0\n",
    "    running_accuracy = 0.0\n",
    "    pbar = tqdm(total=len(dataloader.dataset), ncols=0, desc=\"Valid\", unit=\" uttr\", position=0)\n",
    "\n",
    "    for i, batch in enumerate(dataloader):\n",
    "        with torch.no_grad():\n",
    "            loss, accuracy = model_fn(batch, model, criterion, device)\n",
    "            running_loss += loss.item()\n",
    "            running_accuracy += accuracy.item()\n",
    "\n",
    "        pbar.update(dataloader.batch_size)\n",
    "        pbar.set_postfix(\n",
    "            loss=f\"{running_loss / (i+1):.2f}\",\n",
    "            accuracy=f\"{running_accuracy / (i+1):.2f}\",\n",
    "        )\n",
    "\n",
    "    pbar.close()\n",
    "    model.train()\n",
    "\n",
    "    return running_accuracy / len(dataloader)"
   ]
  },
  {
   "cell_type": "markdown",
   "id": "e9a50257",
   "metadata": {
    "id": "g6ne9G-eNEdG",
    "papermill": {
     "duration": 0.010411,
     "end_time": "2024-05-01T03:06:16.991831",
     "exception": false,
     "start_time": "2024-05-01T03:06:16.981420",
     "status": "completed"
    },
    "tags": []
   },
   "source": [
    "# Main function"
   ]
  },
  {
   "cell_type": "code",
   "execution_count": 8,
   "id": "a0083f77",
   "metadata": {
    "execution": {
     "iopub.execute_input": "2024-05-01T03:06:17.016277Z",
     "iopub.status.busy": "2024-05-01T03:06:17.015884Z",
     "iopub.status.idle": "2024-05-01T03:50:55.012662Z",
     "shell.execute_reply": "2024-05-01T03:50:55.011329Z"
    },
    "id": "Usv9s-CuJSG7",
    "outputId": "f4f6a983-3559-4f36-efae-402bbf790473",
    "papermill": {
     "duration": 2678.011524,
     "end_time": "2024-05-01T03:50:55.015093",
     "exception": false,
     "start_time": "2024-05-01T03:06:17.003569",
     "status": "completed"
    },
    "tags": []
   },
   "outputs": [
    {
     "name": "stderr",
     "output_type": "stream",
     "text": [
      "2024-05-01 03:06:19.333211: E external/local_xla/xla/stream_executor/cuda/cuda_dnn.cc:9261] Unable to register cuDNN factory: Attempting to register factory for plugin cuDNN when one has already been registered\n",
      "2024-05-01 03:06:19.333342: E external/local_xla/xla/stream_executor/cuda/cuda_fft.cc:607] Unable to register cuFFT factory: Attempting to register factory for plugin cuFFT when one has already been registered\n",
      "2024-05-01 03:06:19.478618: E external/local_xla/xla/stream_executor/cuda/cuda_blas.cc:1515] Unable to register cuBLAS factory: Attempting to register factory for plugin cuBLAS when one has already been registered\n"
     ]
    },
    {
     "name": "stdout",
     "output_type": "stream",
     "text": [
      "[Info]: Use cuda now!\n"
     ]
    },
    {
     "name": "stderr",
     "output_type": "stream",
     "text": [
      "/opt/conda/lib/python3.10/site-packages/torch/utils/data/dataloader.py:557: UserWarning: This DataLoader will create 8 worker processes in total. Our suggested max number of worker in current system is 4, which is smaller than what this DataLoader is going to create. Please be aware that excessive worker creation might get DataLoader running slow or even freeze, lower the worker number to avoid potential slowness/freeze if necessary.\n",
      "  warnings.warn(_create_warning_msg(\n"
     ]
    },
    {
     "name": "stdout",
     "output_type": "stream",
     "text": [
      "[Info]: Finish loading data!\n",
      "[Info]: Finish creating model!\n"
     ]
    },
    {
     "name": "stderr",
     "output_type": "stream",
     "text": [
      "Train:  80% 1593/2000 [01:37<00:25, 15.89 step/s, accuracy=0.47, loss=2.54, step=1593]/opt/conda/lib/python3.10/site-packages/torch/utils/data/dataloader.py:557: UserWarning: This DataLoader will create 8 worker processes in total. Our suggested max number of worker in current system is 4, which is smaller than what this DataLoader is going to create. Please be aware that excessive worker creation might get DataLoader running slow or even freeze, lower the worker number to avoid potential slowness/freeze if necessary.\n",
      "  warnings.warn(_create_warning_msg(\n",
      "Train: 100% 2000/2000 [01:52<00:00, 17.77 step/s, accuracy=0.28, loss=2.70, step=2000]\n",
      "Valid: 100% 5664/5667 [00:11<00:00, 509.18 uttr/s, accuracy=0.33, loss=3.12]\n",
      "Train: 100% 2000/2000 [01:11<00:00, 27.89 step/s, accuracy=0.34, loss=2.36, step=4000]\n",
      "Valid: 100% 5664/5667 [00:02<00:00, 2107.74 uttr/s, accuracy=0.50, loss=2.24]\n",
      "Train: 100% 2000/2000 [01:11<00:00, 27.87 step/s, accuracy=0.66, loss=1.55, step=6000]\n",
      "Valid: 100% 5664/5667 [00:02<00:00, 2152.75 uttr/s, accuracy=0.56, loss=1.92]\n",
      "Train: 100% 2000/2000 [01:12<00:00, 27.61 step/s, accuracy=0.78, loss=0.91, step=8000]\n",
      "Valid: 100% 5664/5667 [00:02<00:00, 1967.82 uttr/s, accuracy=0.62, loss=1.67]\n",
      "Train: 100% 2000/2000 [01:12<00:00, 27.76 step/s, accuracy=0.81, loss=0.81, step=1e+4]\n",
      "Valid: 100% 5664/5667 [00:02<00:00, 2166.00 uttr/s, accuracy=0.66, loss=1.47]\n",
      "Train:   0% 6/2000 [00:00<01:17, 25.84 step/s, accuracy=0.66, loss=1.24, step=1e+4]"
     ]
    },
    {
     "name": "stdout",
     "output_type": "stream",
     "text": [
      "Step 10000, best model saved. (accuracy=0.6624)\n"
     ]
    },
    {
     "name": "stderr",
     "output_type": "stream",
     "text": [
      "Train: 100% 2000/2000 [01:11<00:00, 27.82 step/s, accuracy=0.72, loss=1.02, step=12000]\n",
      "Valid: 100% 5664/5667 [00:02<00:00, 2084.93 uttr/s, accuracy=0.67, loss=1.43]\n",
      "Train: 100% 2000/2000 [01:11<00:00, 27.85 step/s, accuracy=0.88, loss=0.43, step=14000]\n",
      "Valid: 100% 5664/5667 [00:02<00:00, 2131.84 uttr/s, accuracy=0.71, loss=1.27]\n",
      "Train: 100% 2000/2000 [01:12<00:00, 27.71 step/s, accuracy=0.78, loss=0.80, step=16000]\n",
      "Valid: 100% 5664/5667 [00:02<00:00, 2154.62 uttr/s, accuracy=0.74, loss=1.19]\n",
      "Train: 100% 2000/2000 [01:11<00:00, 27.85 step/s, accuracy=0.84, loss=0.46, step=18000]\n",
      "Valid: 100% 5664/5667 [00:02<00:00, 2175.62 uttr/s, accuracy=0.75, loss=1.11]\n",
      "Train: 100% 2000/2000 [01:11<00:00, 27.86 step/s, accuracy=0.91, loss=0.31, step=2e+4]\n",
      "Valid: 100% 5664/5667 [00:02<00:00, 2130.72 uttr/s, accuracy=0.75, loss=1.14]\n",
      "Train:   0% 6/2000 [00:00<01:24, 23.62 step/s, accuracy=0.94, loss=0.37, step=2e+4]"
     ]
    },
    {
     "name": "stdout",
     "output_type": "stream",
     "text": [
      "Step 20000, best model saved. (accuracy=0.7544)\n"
     ]
    },
    {
     "name": "stderr",
     "output_type": "stream",
     "text": [
      "Train: 100% 2000/2000 [01:11<00:00, 27.82 step/s, accuracy=0.91, loss=0.56, step=22000]\n",
      "Valid: 100% 5664/5667 [00:02<00:00, 2034.62 uttr/s, accuracy=0.77, loss=1.04]\n",
      "Train: 100% 2000/2000 [01:12<00:00, 27.71 step/s, accuracy=0.97, loss=0.10, step=24000]\n",
      "Valid: 100% 5664/5667 [00:02<00:00, 2139.20 uttr/s, accuracy=0.79, loss=0.99]\n",
      "Train: 100% 2000/2000 [01:11<00:00, 27.84 step/s, accuracy=0.97, loss=0.12, step=26000]\n",
      "Valid: 100% 5664/5667 [00:02<00:00, 2166.44 uttr/s, accuracy=0.80, loss=0.93]\n",
      "Train: 100% 2000/2000 [01:11<00:00, 27.82 step/s, accuracy=0.94, loss=0.32, step=28000]\n",
      "Valid: 100% 5664/5667 [00:02<00:00, 2108.75 uttr/s, accuracy=0.81, loss=0.93]\n",
      "Train: 100% 2000/2000 [01:11<00:00, 27.83 step/s, accuracy=0.81, loss=0.64, step=3e+4]\n",
      "Valid: 100% 5664/5667 [00:02<00:00, 2138.92 uttr/s, accuracy=0.81, loss=0.93]\n",
      "Train:   0% 6/2000 [00:00<01:24, 23.56 step/s, accuracy=0.88, loss=0.31, step=3e+4]"
     ]
    },
    {
     "name": "stdout",
     "output_type": "stream",
     "text": [
      "Step 30000, best model saved. (accuracy=0.8067)\n"
     ]
    },
    {
     "name": "stderr",
     "output_type": "stream",
     "text": [
      "Train: 100% 2000/2000 [01:12<00:00, 27.66 step/s, accuracy=0.97, loss=0.16, step=32000]\n",
      "Valid: 100% 5664/5667 [00:02<00:00, 2034.05 uttr/s, accuracy=0.82, loss=0.85]\n",
      "Train: 100% 2000/2000 [01:11<00:00, 27.80 step/s, accuracy=0.97, loss=0.14, step=34000]\n",
      "Valid: 100% 5664/5667 [00:02<00:00, 2140.17 uttr/s, accuracy=0.82, loss=0.88]\n",
      "Train: 100% 2000/2000 [01:11<00:00, 27.81 step/s, accuracy=0.94, loss=0.13, step=36000]\n",
      "Valid: 100% 5664/5667 [00:02<00:00, 2161.86 uttr/s, accuracy=0.83, loss=0.87]\n",
      "Train: 100% 2000/2000 [01:12<00:00, 27.78 step/s, accuracy=0.97, loss=0.09, step=38000]\n",
      "Valid: 100% 5664/5667 [00:02<00:00, 2107.43 uttr/s, accuracy=0.84, loss=0.80]\n",
      "Train: 100% 2000/2000 [01:12<00:00, 27.65 step/s, accuracy=0.97, loss=0.16, step=4e+4]\n",
      "Valid: 100% 5664/5667 [00:02<00:00, 2161.48 uttr/s, accuracy=0.84, loss=0.80]\n",
      "Train:   0% 6/2000 [00:00<01:26, 23.07 step/s, accuracy=0.94, loss=0.10, step=4e+4]"
     ]
    },
    {
     "name": "stdout",
     "output_type": "stream",
     "text": [
      "Step 40000, best model saved. (accuracy=0.8372)\n"
     ]
    },
    {
     "name": "stderr",
     "output_type": "stream",
     "text": [
      "Train: 100% 2000/2000 [01:12<00:00, 27.76 step/s, accuracy=0.94, loss=0.40, step=42000]\n",
      "Valid: 100% 5664/5667 [00:02<00:00, 2127.53 uttr/s, accuracy=0.84, loss=0.78]\n",
      "Train: 100% 2000/2000 [01:11<00:00, 27.80 step/s, accuracy=0.97, loss=0.20, step=44000]\n",
      "Valid: 100% 5664/5667 [00:02<00:00, 2030.02 uttr/s, accuracy=0.85, loss=0.77]\n",
      "Train: 100% 2000/2000 [01:11<00:00, 27.80 step/s, accuracy=1.00, loss=0.04, step=46000]\n",
      "Valid: 100% 5664/5667 [00:02<00:00, 2137.84 uttr/s, accuracy=0.86, loss=0.74]\n",
      "Train: 100% 2000/2000 [01:12<00:00, 27.68 step/s, accuracy=1.00, loss=0.03, step=48000]\n",
      "Valid: 100% 5664/5667 [00:02<00:00, 2155.11 uttr/s, accuracy=0.86, loss=0.74]\n",
      "Train: 100% 2000/2000 [01:11<00:00, 27.78 step/s, accuracy=0.97, loss=0.18, step=5e+4]\n",
      "Valid: 100% 5664/5667 [00:02<00:00, 2117.62 uttr/s, accuracy=0.87, loss=0.69]\n",
      "Train:   0% 6/2000 [00:00<01:24, 23.48 step/s, accuracy=0.94, loss=0.12, step=5e+4]"
     ]
    },
    {
     "name": "stdout",
     "output_type": "stream",
     "text": [
      "Step 50000, best model saved. (accuracy=0.8727)\n"
     ]
    },
    {
     "name": "stderr",
     "output_type": "stream",
     "text": [
      "Train: 100% 2000/2000 [01:12<00:00, 27.77 step/s, accuracy=1.00, loss=0.01, step=52000]\n",
      "Valid: 100% 5664/5667 [00:02<00:00, 2152.13 uttr/s, accuracy=0.87, loss=0.66]\n",
      "Train: 100% 2000/2000 [01:11<00:00, 27.81 step/s, accuracy=1.00, loss=0.05, step=54000]\n",
      "Valid: 100% 5664/5667 [00:02<00:00, 2168.14 uttr/s, accuracy=0.88, loss=0.66]\n",
      "Train: 100% 2000/2000 [01:12<00:00, 27.66 step/s, accuracy=1.00, loss=0.04, step=56000]\n",
      "Valid: 100% 5664/5667 [00:02<00:00, 2051.98 uttr/s, accuracy=0.88, loss=0.66]\n",
      "Train: 100% 2000/2000 [01:11<00:00, 27.78 step/s, accuracy=1.00, loss=0.03, step=58000]\n",
      "Valid: 100% 5664/5667 [00:02<00:00, 2136.20 uttr/s, accuracy=0.88, loss=0.65]\n",
      "Train: 100% 2000/2000 [01:11<00:00, 27.80 step/s, accuracy=1.00, loss=0.01, step=6e+4]\n",
      "Valid: 100% 5664/5667 [00:02<00:00, 2078.45 uttr/s, accuracy=0.88, loss=0.62]\n",
      "Train:   0% 6/2000 [00:00<01:25, 23.38 step/s, accuracy=1.00, loss=0.03, step=6e+4]"
     ]
    },
    {
     "name": "stdout",
     "output_type": "stream",
     "text": [
      "Step 60000, best model saved. (accuracy=0.8829)\n"
     ]
    },
    {
     "name": "stderr",
     "output_type": "stream",
     "text": [
      "Train: 100% 2000/2000 [01:12<00:00, 27.75 step/s, accuracy=0.97, loss=0.04, step=62000]\n",
      "Valid: 100% 5664/5667 [00:02<00:00, 2162.36 uttr/s, accuracy=0.88, loss=0.63]\n",
      "Train: 100% 2000/2000 [01:12<00:00, 27.66 step/s, accuracy=0.97, loss=0.05, step=64000]\n",
      "Valid: 100% 5664/5667 [00:02<00:00, 2151.61 uttr/s, accuracy=0.89, loss=0.61]\n",
      "Train: 100% 2000/2000 [01:12<00:00, 27.76 step/s, accuracy=0.97, loss=0.11, step=66000]\n",
      "Valid: 100% 5664/5667 [00:02<00:00, 2144.89 uttr/s, accuracy=0.88, loss=0.60]\n",
      "Train: 100% 2000/2000 [01:12<00:00, 27.75 step/s, accuracy=0.97, loss=0.08, step=68000]\n",
      "Valid: 100% 5664/5667 [00:02<00:00, 2139.92 uttr/s, accuracy=0.88, loss=0.63]\n",
      "Train: 100% 2000/2000 [01:12<00:00, 27.75 step/s, accuracy=1.00, loss=0.00, step=7e+4]\n",
      "Valid: 100% 5664/5667 [00:02<00:00, 2058.01 uttr/s, accuracy=0.88, loss=0.63]\n",
      "Train:   0% 0/2000 [00:00<?, ? step/s]\n"
     ]
    },
    {
     "name": "stdout",
     "output_type": "stream",
     "text": [
      "Step 70000, best model saved. (accuracy=0.8889)\n"
     ]
    }
   ],
   "source": [
    "import torch.nn as nn\n",
    "from torch.optim import AdamW\n",
    "from torch.utils.data import DataLoader, random_split\n",
    "from torch.utils.tensorboard import SummaryWriter\n",
    "\n",
    "global exp_name\n",
    "exp_name = \"Conformer_SinglePredLayer\"  \n",
    "\n",
    "writer = SummaryWriter(\"./runs/\"+exp_name)\n",
    "\n",
    "def parse_args():\n",
    "\t\"\"\"arguments\"\"\"\n",
    "\tconfig = {\n",
    "\t\t\"data_dir\": \"/kaggle/input/ml2023springhw4/Dataset\",\n",
    "\t\t\"save_path\": exp_name+\".ckpt\",\n",
    "\t\t\"batch_size\": 32,\n",
    "\t\t\"n_workers\": 8,\n",
    "\t\t\"valid_steps\": 2000,\n",
    "\t\t\"warmup_steps\": 1000,\n",
    "\t\t\"save_steps\": 10000,\n",
    "\t\t\"total_steps\": 70000,\n",
    "\t}\n",
    "\n",
    "\treturn config\n",
    "\n",
    "\n",
    "def main(\n",
    "\tdata_dir,\n",
    "\tsave_path,\n",
    "\tbatch_size,\n",
    "\tn_workers,\n",
    "\tvalid_steps,\n",
    "\twarmup_steps,\n",
    "\ttotal_steps,\n",
    "\tsave_steps,\n",
    "):\n",
    "\t\"\"\"Main function.\"\"\"\n",
    "\tdevice = torch.device(\"cuda\" if torch.cuda.is_available() else \"cpu\")# Use GPU if available\n",
    "\tprint(f\"[Info]: Use {device} now!\")# Print device used\n",
    "\n",
    "\ttrain_loader, valid_loader, speaker_num = get_dataloader(data_dir, batch_size, n_workers)# Get data\n",
    "\ttrain_iterator = iter(train_loader)# Get data iterator\n",
    "\tprint(f\"[Info]: Finish loading data!\",flush = True)# Print finish loading data\n",
    "\n",
    "\tmodel = Classifier(n_spks=speaker_num).to(device)# Create model\n",
    "\tcriterion = nn.CrossEntropyLoss()# Define loss function\n",
    "\toptimizer = AdamW(model.parameters(), lr=1e-3)# Define optimizer\n",
    "\tscheduler = get_cosine_schedule_with_warmup(optimizer, warmup_steps, total_steps)\n",
    "\tprint(f\"[Info]: Finish creating model!\",flush = True)\n",
    "\n",
    "\tbest_accuracy = -1.0\n",
    "\tbest_state_dict = None\n",
    "\n",
    "\tpbar = tqdm(total=valid_steps, ncols=0, desc=\"Train\", unit=\" step\", position=0)# Create progress bar\n",
    "\n",
    "\tfor step in range(total_steps):\n",
    "\t\t# Get data\n",
    "\t\ttry:\n",
    "\t\t\tbatch = next(train_iterator)\n",
    "\t\texcept StopIteration:\n",
    "\t\t\ttrain_iterator = iter(train_loader)\n",
    "\t\t\tbatch = next(train_iterator)\n",
    "\n",
    "\t\tloss, accuracy = model_fn(batch, model, criterion, device)\n",
    "\t\tbatch_loss = loss.item()\n",
    "\t\tbatch_accuracy = accuracy.item()\n",
    "\n",
    "\t\t# Updata model\n",
    "\t\tloss.backward()\n",
    "\t\toptimizer.step()\n",
    "\t\tscheduler.step()\n",
    "\t\toptimizer.zero_grad()\n",
    "\n",
    "\t\t# Log\n",
    "\t\tpbar.update()\n",
    "\t\tpbar.set_postfix(\n",
    "\t\t\tloss=f\"{batch_loss:.2f}\",\n",
    "\t\t\taccuracy=f\"{batch_accuracy:.2f}\",\n",
    "\t\t\tstep=step + 1,\n",
    "\t\t)\n",
    "\n",
    "\t\t# Do validation\n",
    "\t\tif (step + 1) % valid_steps == 0:\n",
    "\t\t\tpbar.close()\n",
    "\n",
    "\t\t\tvalid_accuracy = valid(valid_loader, model, criterion, device)\n",
    "\n",
    "\t\t\t# keep the best model\n",
    "\t\t\tif valid_accuracy > best_accuracy:\n",
    "\t\t\t\tbest_accuracy = valid_accuracy\n",
    "\t\t\t\tbest_state_dict = model.state_dict()\n",
    "\n",
    "\t\t\tpbar = tqdm(total=valid_steps, ncols=0, desc=\"Train\", unit=\" step\", position=0)\n",
    "\t\t\twriter.add_scalar(\"Acc/valid\", valid_accuracy, step+1)\n",
    "\t\t\t\n",
    "\t\twriter.add_scalar(\"Acc/train\", batch_accuracy, step+1)\n",
    "\t\t\n",
    "\n",
    "\t\t# Save the best model so far.\n",
    "\t\tif (step + 1) % save_steps == 0 and best_state_dict is not None:\n",
    "\t\t\ttorch.save(best_state_dict, save_path)\n",
    "\t\t\tpbar.write(f\"Step {step + 1}, best model saved. (accuracy={best_accuracy:.4f})\")\n",
    "\n",
    "\tpbar.close()\n",
    "\n",
    "\n",
    "if __name__ == \"__main__\":\n",
    "\tmain(**parse_args())"
   ]
  },
  {
   "cell_type": "markdown",
   "id": "e24c8cac",
   "metadata": {
    "id": "NLatBYAhNNMx",
    "papermill": {
     "duration": 8.621094,
     "end_time": "2024-05-01T03:51:11.858564",
     "exception": false,
     "start_time": "2024-05-01T03:51:03.237470",
     "status": "completed"
    },
    "tags": []
   },
   "source": [
    "# Inference\n",
    "\n",
    "## Dataset of inference"
   ]
  },
  {
   "cell_type": "code",
   "execution_count": 9,
   "id": "00d62a7c",
   "metadata": {
    "execution": {
     "iopub.execute_input": "2024-05-01T03:51:28.914897Z",
     "iopub.status.busy": "2024-05-01T03:51:28.913893Z",
     "iopub.status.idle": "2024-05-01T03:51:28.922961Z",
     "shell.execute_reply": "2024-05-01T03:51:28.922046Z"
    },
    "id": "efS4pCmAJXJH",
    "papermill": {
     "duration": 8.573572,
     "end_time": "2024-05-01T03:51:28.924991",
     "exception": false,
     "start_time": "2024-05-01T03:51:20.351419",
     "status": "completed"
    },
    "tags": []
   },
   "outputs": [],
   "source": [
    "from torch.utils.data import Dataset\n",
    "\n",
    "\n",
    "class InferenceDataset(Dataset):\n",
    "\tdef __init__(self, data_dir):\n",
    "\t\ttestdata_path = Path(data_dir) / \"testdata.json\"\n",
    "\t\tmetadata = json.load(testdata_path.open())\n",
    "\t\tself.data_dir = data_dir\n",
    "\t\tself.data = metadata[\"utterances\"]\n",
    "\n",
    "\tdef __len__(self):\n",
    "\t\treturn len(self.data)\n",
    "\n",
    "\tdef __getitem__(self, index):\n",
    "\t\tutterance = self.data[index]\n",
    "\t\tfeat_path = utterance[\"feature_path\"]\n",
    "\t\tmel = torch.load(os.path.join(self.data_dir, feat_path))\n",
    "\n",
    "\t\treturn feat_path, mel\n",
    "\n",
    "\n",
    "def inference_collate_batch(batch):\n",
    "\t\"\"\"Collate a batch of data.\"\"\"\n",
    "\tfeat_paths, mels = zip(*batch)\n",
    "\n",
    "\treturn feat_paths, torch.stack(mels)"
   ]
  },
  {
   "cell_type": "markdown",
   "id": "0c0ee166",
   "metadata": {
    "id": "tl0WnYwxNK_S",
    "papermill": {
     "duration": 8.227593,
     "end_time": "2024-05-01T03:51:45.700819",
     "exception": false,
     "start_time": "2024-05-01T03:51:37.473226",
     "status": "completed"
    },
    "tags": []
   },
   "source": [
    "## Main funcrion of Inference"
   ]
  },
  {
   "cell_type": "code",
   "execution_count": 10,
   "id": "54ceee90",
   "metadata": {
    "execution": {
     "iopub.execute_input": "2024-05-01T03:52:02.532486Z",
     "iopub.status.busy": "2024-05-01T03:52:02.531794Z",
     "iopub.status.idle": "2024-05-01T03:52:38.269273Z",
     "shell.execute_reply": "2024-05-01T03:52:38.268336Z"
    },
    "id": "i8SAbuXEJb2A",
    "outputId": "3808f409-19c9-426c-dc15-1b88b0c21645",
    "papermill": {
     "duration": 44.133681,
     "end_time": "2024-05-01T03:52:38.271453",
     "exception": false,
     "start_time": "2024-05-01T03:51:54.137772",
     "status": "completed"
    },
    "tags": []
   },
   "outputs": [
    {
     "name": "stdout",
     "output_type": "stream",
     "text": [
      "[Info]: Use cuda now!\n",
      "[Info]: Finish loading data!\n",
      "[Info]: Finish creating model!\n"
     ]
    },
    {
     "data": {
      "application/vnd.jupyter.widget-view+json": {
       "model_id": "8fefdff5eac94b10a58fcf64daa7133a",
       "version_major": 2,
       "version_minor": 0
      },
      "text/plain": [
       "  0%|          | 0/8000 [00:00<?, ?it/s]"
      ]
     },
     "metadata": {},
     "output_type": "display_data"
    }
   ],
   "source": [
    "import csv\n",
    "from tqdm.notebook import tqdm\n",
    "\n",
    "\n",
    "def parse_args():\n",
    "\t\"\"\"arguments\"\"\"\n",
    "\tconfig = {\n",
    "\t\t\"data_dir\": \"/kaggle/input/ml2023springhw4/Dataset\",\n",
    "\t\t\"model_path\": \"./\"+exp_name+\".ckpt\",\n",
    "\t\t\"output_path\": \"./\"+exp_name+\".csv\",\n",
    "\t}\n",
    "\n",
    "\treturn config\n",
    "\n",
    "\n",
    "def main(\n",
    "\tdata_dir,\n",
    "\tmodel_path,\n",
    "\toutput_path,\n",
    "):\n",
    "\t\"\"\"Main function.\"\"\"\n",
    "\tdevice = torch.device(\"cuda\" if torch.cuda.is_available() else \"cpu\")\n",
    "\tprint(f\"[Info]: Use {device} now!\")\n",
    "\n",
    "\tmapping_path = Path(data_dir) / \"mapping.json\"\n",
    "\tmapping = json.load(mapping_path.open())\n",
    "\n",
    "\tdataset = InferenceDataset(data_dir)\n",
    "\tdataloader = DataLoader(\n",
    "\t\tdataset,\n",
    "\t\tbatch_size=1,\n",
    "\t\tshuffle=False,\n",
    "\t\tdrop_last=False,\n",
    "\t\tnum_workers=8,\n",
    "\t\tcollate_fn=inference_collate_batch,\n",
    "\t)\n",
    "\tprint(f\"[Info]: Finish loading data!\",flush = True)\n",
    "\n",
    "\tspeaker_num = len(mapping[\"id2speaker\"])\n",
    "\tmodel = Classifier(n_spks=speaker_num).to(device)\n",
    "\tmodel.load_state_dict(torch.load(model_path))\n",
    "\tmodel.eval()\n",
    "\tprint(f\"[Info]: Finish creating model!\",flush = True)\n",
    "\n",
    "\tresults = [[\"Id\", \"Category\"]]\n",
    "\tfor feat_paths, mels in tqdm(dataloader):\n",
    "\t\twith torch.no_grad():\n",
    "\t\t\tmels = mels.to(device)\n",
    "\t\t\touts = model(mels)\n",
    "\t\t\tpreds = outs.argmax(1).cpu().numpy()\n",
    "\t\t\tfor feat_path, pred in zip(feat_paths, preds):\n",
    "\t\t\t\tresults.append([feat_path, mapping[\"id2speaker\"][str(pred)]])\n",
    "\n",
    "\twith open(output_path, 'w', newline='') as csvfile:\n",
    "\t\twriter = csv.writer(csvfile)\n",
    "\t\twriter.writerows(results)\n",
    "\n",
    "\n",
    "if __name__ == \"__main__\":\n",
    "\tmain(**parse_args())"
   ]
  }
 ],
 "metadata": {
  "accelerator": "GPU",
  "colab": {
   "provenance": []
  },
  "gpuClass": "standard",
  "kaggle": {
   "accelerator": "gpu",
   "dataSources": [
    {
     "databundleVersionId": 5149531,
     "sourceId": 48666,
     "sourceType": "competition"
    }
   ],
   "dockerImageVersionId": 30699,
   "isGpuEnabled": true,
   "isInternetEnabled": false,
   "language": "python",
   "sourceType": "notebook"
  },
  "kernelspec": {
   "display_name": "Python 3",
   "language": "python",
   "name": "python3"
  },
  "language_info": {
   "codemirror_mode": {
    "name": "ipython",
    "version": 3
   },
   "file_extension": ".py",
   "mimetype": "text/x-python",
   "name": "python",
   "nbconvert_exporter": "python",
   "pygments_lexer": "ipython3",
   "version": "3.10.13"
  },
  "papermill": {
   "default_parameters": {},
   "duration": 2800.525377,
   "end_time": "2024-05-01T03:52:50.120807",
   "environment_variables": {},
   "exception": null,
   "input_path": "__notebook__.ipynb",
   "output_path": "__notebook__.ipynb",
   "parameters": {},
   "start_time": "2024-05-01T03:06:09.595430",
   "version": "2.5.0"
  },
  "widgets": {
   "application/vnd.jupyter.widget-state+json": {
    "state": {
     "1de431e3ee324168ad11660b61d7fa1b": {
      "model_module": "@jupyter-widgets/base",
      "model_module_version": "1.2.0",
      "model_name": "LayoutModel",
      "state": {
       "_model_module": "@jupyter-widgets/base",
       "_model_module_version": "1.2.0",
       "_model_name": "LayoutModel",
       "_view_count": null,
       "_view_module": "@jupyter-widgets/base",
       "_view_module_version": "1.2.0",
       "_view_name": "LayoutView",
       "align_content": null,
       "align_items": null,
       "align_self": null,
       "border": null,
       "bottom": null,
       "display": null,
       "flex": null,
       "flex_flow": null,
       "grid_area": null,
       "grid_auto_columns": null,
       "grid_auto_flow": null,
       "grid_auto_rows": null,
       "grid_column": null,
       "grid_gap": null,
       "grid_row": null,
       "grid_template_areas": null,
       "grid_template_columns": null,
       "grid_template_rows": null,
       "height": null,
       "justify_content": null,
       "justify_items": null,
       "left": null,
       "margin": null,
       "max_height": null,
       "max_width": null,
       "min_height": null,
       "min_width": null,
       "object_fit": null,
       "object_position": null,
       "order": null,
       "overflow": null,
       "overflow_x": null,
       "overflow_y": null,
       "padding": null,
       "right": null,
       "top": null,
       "visibility": null,
       "width": null
      }
     },
     "229de9d170634f34976729c3d1fa96de": {
      "model_module": "@jupyter-widgets/base",
      "model_module_version": "1.2.0",
      "model_name": "LayoutModel",
      "state": {
       "_model_module": "@jupyter-widgets/base",
       "_model_module_version": "1.2.0",
       "_model_name": "LayoutModel",
       "_view_count": null,
       "_view_module": "@jupyter-widgets/base",
       "_view_module_version": "1.2.0",
       "_view_name": "LayoutView",
       "align_content": null,
       "align_items": null,
       "align_self": null,
       "border": null,
       "bottom": null,
       "display": null,
       "flex": null,
       "flex_flow": null,
       "grid_area": null,
       "grid_auto_columns": null,
       "grid_auto_flow": null,
       "grid_auto_rows": null,
       "grid_column": null,
       "grid_gap": null,
       "grid_row": null,
       "grid_template_areas": null,
       "grid_template_columns": null,
       "grid_template_rows": null,
       "height": null,
       "justify_content": null,
       "justify_items": null,
       "left": null,
       "margin": null,
       "max_height": null,
       "max_width": null,
       "min_height": null,
       "min_width": null,
       "object_fit": null,
       "object_position": null,
       "order": null,
       "overflow": null,
       "overflow_x": null,
       "overflow_y": null,
       "padding": null,
       "right": null,
       "top": null,
       "visibility": null,
       "width": null
      }
     },
     "4afbbce763fb4f99882acf7be00358b6": {
      "model_module": "@jupyter-widgets/controls",
      "model_module_version": "1.5.0",
      "model_name": "DescriptionStyleModel",
      "state": {
       "_model_module": "@jupyter-widgets/controls",
       "_model_module_version": "1.5.0",
       "_model_name": "DescriptionStyleModel",
       "_view_count": null,
       "_view_module": "@jupyter-widgets/base",
       "_view_module_version": "1.2.0",
       "_view_name": "StyleView",
       "description_width": ""
      }
     },
     "7cd87719210846bca3f6d22ed200386a": {
      "model_module": "@jupyter-widgets/base",
      "model_module_version": "1.2.0",
      "model_name": "LayoutModel",
      "state": {
       "_model_module": "@jupyter-widgets/base",
       "_model_module_version": "1.2.0",
       "_model_name": "LayoutModel",
       "_view_count": null,
       "_view_module": "@jupyter-widgets/base",
       "_view_module_version": "1.2.0",
       "_view_name": "LayoutView",
       "align_content": null,
       "align_items": null,
       "align_self": null,
       "border": null,
       "bottom": null,
       "display": null,
       "flex": null,
       "flex_flow": null,
       "grid_area": null,
       "grid_auto_columns": null,
       "grid_auto_flow": null,
       "grid_auto_rows": null,
       "grid_column": null,
       "grid_gap": null,
       "grid_row": null,
       "grid_template_areas": null,
       "grid_template_columns": null,
       "grid_template_rows": null,
       "height": null,
       "justify_content": null,
       "justify_items": null,
       "left": null,
       "margin": null,
       "max_height": null,
       "max_width": null,
       "min_height": null,
       "min_width": null,
       "object_fit": null,
       "object_position": null,
       "order": null,
       "overflow": null,
       "overflow_x": null,
       "overflow_y": null,
       "padding": null,
       "right": null,
       "top": null,
       "visibility": null,
       "width": null
      }
     },
     "7e1afd928d014cd3bda3817d63c35f46": {
      "model_module": "@jupyter-widgets/controls",
      "model_module_version": "1.5.0",
      "model_name": "HTMLModel",
      "state": {
       "_dom_classes": [],
       "_model_module": "@jupyter-widgets/controls",
       "_model_module_version": "1.5.0",
       "_model_name": "HTMLModel",
       "_view_count": null,
       "_view_module": "@jupyter-widgets/controls",
       "_view_module_version": "1.5.0",
       "_view_name": "HTMLView",
       "description": "",
       "description_tooltip": null,
       "layout": "IPY_MODEL_c2340d90305d45c1b1c2f96abc6e7d3a",
       "placeholder": "​",
       "style": "IPY_MODEL_e3471193d6c741a0bd5de6007ed4e761",
       "value": "100%"
      }
     },
     "8fefdff5eac94b10a58fcf64daa7133a": {
      "model_module": "@jupyter-widgets/controls",
      "model_module_version": "1.5.0",
      "model_name": "HBoxModel",
      "state": {
       "_dom_classes": [],
       "_model_module": "@jupyter-widgets/controls",
       "_model_module_version": "1.5.0",
       "_model_name": "HBoxModel",
       "_view_count": null,
       "_view_module": "@jupyter-widgets/controls",
       "_view_module_version": "1.5.0",
       "_view_name": "HBoxView",
       "box_style": "",
       "children": [
        "IPY_MODEL_7e1afd928d014cd3bda3817d63c35f46",
        "IPY_MODEL_97f19a7f07014d7daa223d77e6a3c9f8",
        "IPY_MODEL_e39bb8c0eadd4448b94fa4f44a178f75"
       ],
       "layout": "IPY_MODEL_1de431e3ee324168ad11660b61d7fa1b"
      }
     },
     "97f19a7f07014d7daa223d77e6a3c9f8": {
      "model_module": "@jupyter-widgets/controls",
      "model_module_version": "1.5.0",
      "model_name": "FloatProgressModel",
      "state": {
       "_dom_classes": [],
       "_model_module": "@jupyter-widgets/controls",
       "_model_module_version": "1.5.0",
       "_model_name": "FloatProgressModel",
       "_view_count": null,
       "_view_module": "@jupyter-widgets/controls",
       "_view_module_version": "1.5.0",
       "_view_name": "ProgressView",
       "bar_style": "success",
       "description": "",
       "description_tooltip": null,
       "layout": "IPY_MODEL_7cd87719210846bca3f6d22ed200386a",
       "max": 8000.0,
       "min": 0.0,
       "orientation": "horizontal",
       "style": "IPY_MODEL_f533ce444e0e4990b937b964abe98311",
       "value": 8000.0
      }
     },
     "c2340d90305d45c1b1c2f96abc6e7d3a": {
      "model_module": "@jupyter-widgets/base",
      "model_module_version": "1.2.0",
      "model_name": "LayoutModel",
      "state": {
       "_model_module": "@jupyter-widgets/base",
       "_model_module_version": "1.2.0",
       "_model_name": "LayoutModel",
       "_view_count": null,
       "_view_module": "@jupyter-widgets/base",
       "_view_module_version": "1.2.0",
       "_view_name": "LayoutView",
       "align_content": null,
       "align_items": null,
       "align_self": null,
       "border": null,
       "bottom": null,
       "display": null,
       "flex": null,
       "flex_flow": null,
       "grid_area": null,
       "grid_auto_columns": null,
       "grid_auto_flow": null,
       "grid_auto_rows": null,
       "grid_column": null,
       "grid_gap": null,
       "grid_row": null,
       "grid_template_areas": null,
       "grid_template_columns": null,
       "grid_template_rows": null,
       "height": null,
       "justify_content": null,
       "justify_items": null,
       "left": null,
       "margin": null,
       "max_height": null,
       "max_width": null,
       "min_height": null,
       "min_width": null,
       "object_fit": null,
       "object_position": null,
       "order": null,
       "overflow": null,
       "overflow_x": null,
       "overflow_y": null,
       "padding": null,
       "right": null,
       "top": null,
       "visibility": null,
       "width": null
      }
     },
     "e3471193d6c741a0bd5de6007ed4e761": {
      "model_module": "@jupyter-widgets/controls",
      "model_module_version": "1.5.0",
      "model_name": "DescriptionStyleModel",
      "state": {
       "_model_module": "@jupyter-widgets/controls",
       "_model_module_version": "1.5.0",
       "_model_name": "DescriptionStyleModel",
       "_view_count": null,
       "_view_module": "@jupyter-widgets/base",
       "_view_module_version": "1.2.0",
       "_view_name": "StyleView",
       "description_width": ""
      }
     },
     "e39bb8c0eadd4448b94fa4f44a178f75": {
      "model_module": "@jupyter-widgets/controls",
      "model_module_version": "1.5.0",
      "model_name": "HTMLModel",
      "state": {
       "_dom_classes": [],
       "_model_module": "@jupyter-widgets/controls",
       "_model_module_version": "1.5.0",
       "_model_name": "HTMLModel",
       "_view_count": null,
       "_view_module": "@jupyter-widgets/controls",
       "_view_module_version": "1.5.0",
       "_view_name": "HTMLView",
       "description": "",
       "description_tooltip": null,
       "layout": "IPY_MODEL_229de9d170634f34976729c3d1fa96de",
       "placeholder": "​",
       "style": "IPY_MODEL_4afbbce763fb4f99882acf7be00358b6",
       "value": " 8000/8000 [00:35&lt;00:00, 224.79it/s]"
      }
     },
     "f533ce444e0e4990b937b964abe98311": {
      "model_module": "@jupyter-widgets/controls",
      "model_module_version": "1.5.0",
      "model_name": "ProgressStyleModel",
      "state": {
       "_model_module": "@jupyter-widgets/controls",
       "_model_module_version": "1.5.0",
       "_model_name": "ProgressStyleModel",
       "_view_count": null,
       "_view_module": "@jupyter-widgets/base",
       "_view_module_version": "1.2.0",
       "_view_name": "StyleView",
       "bar_color": null,
       "description_width": ""
      }
     }
    },
    "version_major": 2,
    "version_minor": 0
   }
  }
 },
 "nbformat": 4,
 "nbformat_minor": 5
}
